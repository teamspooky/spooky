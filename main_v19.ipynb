{
 "cells": [
  {
   "cell_type": "markdown",
   "metadata": {},
   "source": [
    "<h1>Pre-work</h1>\n",
    "\n",
    "On my laptop I can't run the code for the entire dataframe, so it's going to be on the half and we'll have to run it at the library over more powerful laptop. Unless one of us has a powerful enough laptop.\n",
    "Other options:\n",
    "- run on Google Cloud\n",
    "- use Columbia's Cluster"
   ]
  },
  {
   "cell_type": "code",
   "execution_count": 1,
   "metadata": {
    "collapsed": true
   },
   "outputs": [],
   "source": [
    "import nltk\n",
    "import numpy as np\n",
    "import pandas as pd\n",
    "import requests\n",
    "import seaborn as sns\n",
    "import matplotlib.pyplot as plt\n",
    "import os\n",
    "import itertools\n",
    "\n",
    "from nltk import sent_tokenize, word_tokenize, FreqDist\n",
    "from nltk.data import load\n",
    "\n",
    "#!pip install langdetect\n",
    "from langdetect import detect\n",
    "\n",
    "from math import ceil\n",
    "\n",
    "from pandas import read_csv\n",
    "\n",
    "from wordcloud import WordCloud, STOPWORDS\n",
    "\n",
    "from datetime import datetime\n",
    "\n",
    "from collections import Counter\n",
    "\n",
    "from vaderSentiment.vaderSentiment import SentimentIntensityAnalyzer\n",
    "\n",
    "from sklearn import metrics, model_selection, svm\n",
    "from sklearn.model_selection import train_test_split\n",
    "from sklearn.feature_extraction.text import CountVectorizer, TfidfTransformer, TfidfVectorizer\n",
    "from sklearn.feature_selection import SelectKBest, chi2, RFE, SelectFromModel\n",
    "from sklearn.decomposition import PCA\n",
    "from sklearn.svm import LinearSVC\n",
    "from sklearn.pipeline import Pipeline\n",
    "from sklearn.linear_model import SGDClassifier, LogisticRegression\n",
    "from sklearn.tree import DecisionTreeClassifier\n",
    "from sklearn.neighbors import KNeighborsClassifier\n",
    "from sklearn.discriminant_analysis import LinearDiscriminantAnalysis\n",
    "from sklearn.naive_bayes import GaussianNB, BernoulliNB, MultinomialNB\n",
    "from sklearn.svm import SVC\n",
    "from sklearn.ensemble import (RandomTreesEmbedding, RandomForestClassifier,\n",
    "                              GradientBoostingClassifier, AdaBoostClassifier, ExtraTreesClassifier, VotingClassifier)\n",
    "from sklearn.metrics import log_loss, fbeta_score, make_scorer, confusion_matrix, roc_curve\n",
    "from sklearn.calibration import CalibratedClassifierCV\n",
    "\n",
    "from os import path\n",
    "from PIL import Image\n",
    "from multiprocessing.dummy import Pool as ThreadPool \n",
    "\n",
    "from sklearn import datasets # toy datasets\n",
    "\n",
    "start_time = datetime.now()"
   ]
  },
  {
   "cell_type": "markdown",
   "metadata": {},
   "source": [
    "<h2>Processing functions</h2>"
   ]
  },
  {
   "cell_type": "markdown",
   "metadata": {},
   "source": [
    "<h3>Normalization Function</h3>"
   ]
  },
  {
   "cell_type": "markdown",
   "metadata": {},
   "source": [
    "<h4>Normalization over number of words"
   ]
  },
  {
   "cell_type": "code",
   "execution_count": 2,
   "metadata": {
    "collapsed": true
   },
   "outputs": [],
   "source": [
    "def normalization_word(var):\n",
    "    \"\"\"Returns number of words.\"\"\"\n",
    "    words = nltk.Text(word_tokenize(((var))))\n",
    "    return len(words)"
   ]
  },
  {
   "cell_type": "markdown",
   "metadata": {},
   "source": [
    "<h4>Normalization by number of Sentences</h4>"
   ]
  },
  {
   "cell_type": "code",
   "execution_count": 3,
   "metadata": {
    "collapsed": true
   },
   "outputs": [],
   "source": [
    "def normalization_sentence(var):\n",
    "    \"\"\"Returns number of sentences.\"\"\"\n",
    "    sentences = nltk.Text(sent_tokenize(var))\n",
    "    return len(sentences)"
   ]
  },
  {
   "cell_type": "markdown",
   "metadata": {},
   "source": [
    "<h4>Normalization by number of Characters</h4>\n"
   ]
  },
  {
   "cell_type": "code",
   "execution_count": 4,
   "metadata": {
    "collapsed": true
   },
   "outputs": [],
   "source": [
    "def normalization_character(var):\n",
    "    \"\"\"Returns number of characters.\"\"\"\n",
    "    return len(var)"
   ]
  },
  {
   "cell_type": "markdown",
   "metadata": {},
   "source": [
    "<h3>Cleaning Function</h3>"
   ]
  },
  {
   "cell_type": "code",
   "execution_count": 5,
   "metadata": {
    "collapsed": true
   },
   "outputs": [],
   "source": [
    "def cleaning(var):\n",
    "    \"\"\"Take a string. Returns a string with only lowercase letters and the space between words.\"\"\"\n",
    "    plain_string = \"\"\n",
    "    for x in var:\n",
    "        x = x.lower()\n",
    "        if (('a' <= x and x <= 'z') or x == ' '):\n",
    "            plain_string += x\n",
    "        elif x == '\\'': # any apostrophes(') are replaced by a space \n",
    "            plain_string += ' '\n",
    "    while '  ' in plain_string: # any multiple spaces are replaced by a single space\n",
    "        plain_string = plain_string.replace('  ', ' ')\n",
    "    return plain_string"
   ]
  },
  {
   "cell_type": "markdown",
   "metadata": {},
   "source": [
    "<h3>Creation of the dataframes</h3>"
   ]
  },
  {
   "cell_type": "code",
   "execution_count": 6,
   "metadata": {
    "collapsed": true
   },
   "outputs": [],
   "source": [
    "train = pd.read_csv(\"train.csv\")\n",
    "# data must be in same folder\n",
    "\n",
    "author_list = ['EAP', 'HPL', 'MWS']\n",
    "train.text= train.text.astype(str) # casts the type of the text column to str\n",
    "train.author = pd.Categorical(train.author)\n",
    "\n",
    "train = train[0:300]  # size reduction for coding\n",
    "\n",
    "train_back_up = train.copy() # back-up used to define future dataframes"
   ]
  },
  {
   "cell_type": "code",
   "execution_count": 7,
   "metadata": {},
   "outputs": [
    {
     "data": {
      "text/plain": [
       "'This process, however, afforded me no means of ascertaining the dimensions of my dungeon; as I might make its circuit, and return to the point whence I set out, without being aware of the fact; so perfectly uniform seemed the wall.'"
      ]
     },
     "execution_count": 7,
     "metadata": {},
     "output_type": "execute_result"
    }
   ],
   "source": [
    "# just a test cell\n",
    "test = train['text'][0]\n",
    "test"
   ]
  },
  {
   "cell_type": "markdown",
   "metadata": {},
   "source": [
    "<h1>Word Clouds</h1>"
   ]
  },
  {
   "cell_type": "code",
   "execution_count": 8,
   "metadata": {
    "collapsed": true
   },
   "outputs": [],
   "source": [
    "# full text from the authors as an array\n",
    "eap = train[train.author==\"EAP\"][\"text\"].values\n",
    "hpl = train[train.author==\"HPL\"][\"text\"].values\n",
    "mws = train[train.author==\"MWS\"][\"text\"].values\n",
    "\n",
    "# full text from the authors as a string\n",
    "eap_s = \" \".join(eap)\n",
    "hpl_s = \" \".join(hpl)\n",
    "mws_s = \" \".join(mws)\n",
    "\n",
    "# full PLAIN text (i.e. no capital and punctuation) from the authors as a string\n",
    "eap_s_c = cleaning(eap_s)\n",
    "hpl_s_c = cleaning(hpl_s)\n",
    "mws_s_c = cleaning(mws_s)"
   ]
  },
  {
   "cell_type": "code",
   "execution_count": 9,
   "metadata": {},
   "outputs": [
    {
     "data": {
      "image/png": "[encoded data removed]",
      "text/plain": [
       "<matplotlib.figure.Figure at 0x12ccbc9f28>"
      ]
     },
     "metadata": {},
     "output_type": "display_data"
    },
    {
     "data": {
      "image/png": "[encoded data removed]",
      "text/plain": [
       "<matplotlib.figure.Figure at 0x12d24119e8>"
      ]
     },
     "metadata": {},
     "output_type": "display_data"
    },
    {
     "data": {
      "image/png": "[encoded data removed]",
      "text/plain": [
       "<matplotlib.figure.Figure at 0x12d249d908>"
      ]
     },
     "metadata": {},
     "output_type": "display_data"
    },
    {
     "data": {
      "text/plain": [
       "<matplotlib.figure.Figure at 0x12d240a400>"
      ]
     },
     "metadata": {},
     "output_type": "display_data"
    }
   ],
   "source": [
    "# Read the whole text\n",
    "list_text = [eap_s_c, hpl_s_c, mws_s_c]\n",
    "\n",
    "# read the mask image\n",
    "# taken from http://www.stencilry.org/\n",
    "eap_mask = np.array(Image.open(\"eap_mask.jpg\"))\n",
    "hpl_mask = np.array(Image.open(\"hpl_mask.jpg\"))\n",
    "mws_mask = np.array(Image.open(\"mws_mask.jpg\"))\n",
    "list_mask = [eap_mask, hpl_mask, mws_mask]\n",
    "\n",
    "stopwords = set(STOPWORDS)\n",
    "\n",
    "for i in range(3):\n",
    "    wc = WordCloud(background_color=\"white\", max_words=2000, mask=list_mask[i],\n",
    "                   stopwords=stopwords)\n",
    "    # generate word cloud\n",
    "    wc.generate(list_text[i])\n",
    "    # show\n",
    "    plt.imshow(wc, interpolation='bilinear')\n",
    "    plt.title('Wordcloud of author ' + author_list[i])\n",
    "    plt.axis(\"off\")\n",
    "    plt.figure()\n",
    "    # store to file\n",
    "    wc.to_file(\"{}_wordcloud.png\".format(author_list[i]))\n",
    "    \n",
    "plt.show()"
   ]
  },
  {
   "cell_type": "markdown",
   "metadata": {},
   "source": [
    "<h1>Splitting the training set.</h1>\n",
    "<br>\n",
    "Because we have only two dataset, one for training and the other for the Kaggle test. We need to split our 'Kaggle training' set (called t0) into training (called tr1) (in the sense of the training of our predictive model) and testing set (called ts1) (in the sense of testing our models, and not be tested by Kaggle !).<br>\n",
    "<br>\n",
    "We shall notice we will choose the best classifier only with the tr1 DataSet. Then, we will test this classifier with ts1 to see if we over-fitted over tr1.<br>\n",
    "<br>\n",
    "\n",
    "Once we havechosen the classifier and checked for over-fitting, we will train the chosen classifier over tr1 and ts1. We will use this to predict over the \"Kaggle Test Dataset\" and create our submission. "
   ]
  },
  {
   "cell_type": "code",
   "execution_count": 10,
   "metadata": {
    "collapsed": true
   },
   "outputs": [],
   "source": [
    "t0 = train.copy()"
   ]
  },
  {
   "cell_type": "code",
   "execution_count": 11,
   "metadata": {},
   "outputs": [
    {
     "name": "stdout",
     "output_type": "stream",
     "text": [
      "300\n",
      "225\n",
      "75\n",
      "0.75\n",
      "0.25\n",
      "1.0\n"
     ]
    }
   ],
   "source": [
    "tr1, ts1 = train_test_split(t0, test_size=20/80)\n",
    "# 20% to tr1 and 80% to ts1\n",
    "\n",
    "print(len(t0))\n",
    "print(len(tr1))\n",
    "print(len(ts1))\n",
    "print(len(tr1) / len(t0))\n",
    "print(len(ts1) / len(t0))\n",
    "print((len(tr1) / len(t0)) + (len(ts1) / len(t0)))"
   ]
  },
  {
   "cell_type": "code",
   "execution_count": 12,
   "metadata": {},
   "outputs": [
    {
     "data": {
      "text/html": [
       "<div>\n",
       "<style>\n",
       "    .dataframe thead tr:only-child th {\n",
       "        text-align: right;\n",
       "    }\n",
       "\n",
       "    .dataframe thead th {\n",
       "        text-align: left;\n",
       "    }\n",
       "\n",
       "    .dataframe tbody tr th {\n",
       "        vertical-align: top;\n",
       "    }\n",
       "</style>\n",
       "<table border=\"1\" class=\"dataframe\">\n",
       "  <thead>\n",
       "    <tr style=\"text-align: right;\">\n",
       "      <th></th>\n",
       "      <th>id</th>\n",
       "      <th>text</th>\n",
       "      <th>author</th>\n",
       "    </tr>\n",
       "  </thead>\n",
       "  <tbody>\n",
       "    <tr>\n",
       "      <th>66</th>\n",
       "      <td>id06312</td>\n",
       "      <td>I dared, I conquered them all, till now I have...</td>\n",
       "      <td>MWS</td>\n",
       "    </tr>\n",
       "    <tr>\n",
       "      <th>77</th>\n",
       "      <td>id06377</td>\n",
       "      <td>The stranger learned about twenty words at the...</td>\n",
       "      <td>MWS</td>\n",
       "    </tr>\n",
       "    <tr>\n",
       "      <th>18</th>\n",
       "      <td>id14862</td>\n",
       "      <td>I even went so far as to speak of a slightly h...</td>\n",
       "      <td>EAP</td>\n",
       "    </tr>\n",
       "    <tr>\n",
       "      <th>253</th>\n",
       "      <td>id08978</td>\n",
       "      <td>Xh, pxh, pxh, Jxhn, dxn't dx sx Yxu've gxt tx ...</td>\n",
       "      <td>EAP</td>\n",
       "    </tr>\n",
       "    <tr>\n",
       "      <th>267</th>\n",
       "      <td>id08711</td>\n",
       "      <td>The remains of the half finished creature, who...</td>\n",
       "      <td>MWS</td>\n",
       "    </tr>\n",
       "  </tbody>\n",
       "</table>\n",
       "</div>"
      ],
      "text/plain": [
       "          id                                               text author\n",
       "66   id06312  I dared, I conquered them all, till now I have...    MWS\n",
       "77   id06377  The stranger learned about twenty words at the...    MWS\n",
       "18   id14862  I even went so far as to speak of a slightly h...    EAP\n",
       "253  id08978  Xh, pxh, pxh, Jxhn, dxn't dx sx Yxu've gxt tx ...    EAP\n",
       "267  id08711  The remains of the half finished creature, who...    MWS"
      ]
     },
     "execution_count": 12,
     "metadata": {},
     "output_type": "execute_result"
    }
   ],
   "source": [
    "tr1.head()"
   ]
  },
  {
   "cell_type": "code",
   "execution_count": 13,
   "metadata": {},
   "outputs": [
    {
     "data": {
      "text/html": [
       "<div>\n",
       "<style>\n",
       "    .dataframe thead tr:only-child th {\n",
       "        text-align: right;\n",
       "    }\n",
       "\n",
       "    .dataframe thead th {\n",
       "        text-align: left;\n",
       "    }\n",
       "\n",
       "    .dataframe tbody tr th {\n",
       "        vertical-align: top;\n",
       "    }\n",
       "</style>\n",
       "<table border=\"1\" class=\"dataframe\">\n",
       "  <thead>\n",
       "    <tr style=\"text-align: right;\">\n",
       "      <th></th>\n",
       "      <th>id</th>\n",
       "      <th>text</th>\n",
       "      <th>author</th>\n",
       "    </tr>\n",
       "  </thead>\n",
       "  <tbody>\n",
       "    <tr>\n",
       "      <th>140</th>\n",
       "      <td>id12353</td>\n",
       "      <td>As I fled from that accursed castle along the ...</td>\n",
       "      <td>HPL</td>\n",
       "    </tr>\n",
       "    <tr>\n",
       "      <th>89</th>\n",
       "      <td>id10676</td>\n",
       "      <td>All that he said threw greatly into the shade ...</td>\n",
       "      <td>MWS</td>\n",
       "    </tr>\n",
       "    <tr>\n",
       "      <th>247</th>\n",
       "      <td>id12312</td>\n",
       "      <td>He made a vow against love and its train of st...</td>\n",
       "      <td>MWS</td>\n",
       "    </tr>\n",
       "    <tr>\n",
       "      <th>6</th>\n",
       "      <td>id09674</td>\n",
       "      <td>The astronomer, perhaps, at this point, took r...</td>\n",
       "      <td>EAP</td>\n",
       "    </tr>\n",
       "    <tr>\n",
       "      <th>51</th>\n",
       "      <td>id22197</td>\n",
       "      <td>I still continued in the plane of the elipse, ...</td>\n",
       "      <td>EAP</td>\n",
       "    </tr>\n",
       "  </tbody>\n",
       "</table>\n",
       "</div>"
      ],
      "text/plain": [
       "          id                                               text author\n",
       "140  id12353  As I fled from that accursed castle along the ...    HPL\n",
       "89   id10676  All that he said threw greatly into the shade ...    MWS\n",
       "247  id12312  He made a vow against love and its train of st...    MWS\n",
       "6    id09674  The astronomer, perhaps, at this point, took r...    EAP\n",
       "51   id22197  I still continued in the plane of the elipse, ...    EAP"
      ]
     },
     "execution_count": 13,
     "metadata": {},
     "output_type": "execute_result"
    }
   ],
   "source": [
    "ts1.head()"
   ]
  },
  {
   "cell_type": "markdown",
   "metadata": {},
   "source": [
    "<h1>Feature Engineering</h1>"
   ]
  },
  {
   "cell_type": "markdown",
   "metadata": {},
   "source": [
    "<h2>Meta Features</h2>"
   ]
  },
  {
   "cell_type": "markdown",
   "metadata": {},
   "source": [
    "<h3>Average sentence length (in characters)</h3>"
   ]
  },
  {
   "cell_type": "code",
   "execution_count": 14,
   "metadata": {
    "collapsed": true
   },
   "outputs": [],
   "source": [
    "def length_character(var):\n",
    "    \"\"\"Takes a string returns an int (average sentence length in characters).\"\"\"\n",
    "    return len(var) / normalization_sentence(var)"
   ]
  },
  {
   "cell_type": "markdown",
   "metadata": {},
   "source": [
    "<h3>Average sentence length (in words)</h3>"
   ]
  },
  {
   "cell_type": "code",
   "execution_count": 15,
   "metadata": {
    "collapsed": true
   },
   "outputs": [],
   "source": [
    "def length_sentence(var):\n",
    "    \"\"\"Takes a string and returns an int (average sentence length in words).\"\"\"\n",
    "    return len(var.split()) / normalization_sentence(var)"
   ]
  },
  {
   "cell_type": "markdown",
   "metadata": {
    "collapsed": true
   },
   "source": [
    "<h3>Average characters per word</h3>"
   ]
  },
  {
   "cell_type": "code",
   "execution_count": 16,
   "metadata": {
    "collapsed": true
   },
   "outputs": [],
   "source": [
    "def length_word(var):\n",
    "    \"\"\"Takes a string and returns an int (average characters per word). Excludes punctuations.\"\"\"\n",
    "    return len(var.split()) / normalization_word(var)"
   ]
  },
  {
   "cell_type": "markdown",
   "metadata": {
    "collapsed": true
   },
   "source": [
    "<h3>Punctuation density</h3>\n",
    "Now we take into consideration differences in punctuation."
   ]
  },
  {
   "cell_type": "code",
   "execution_count": 17,
   "metadata": {
    "collapsed": true
   },
   "outputs": [],
   "source": [
    "def density_coma(var):\n",
    "    \"\"\"Takes a string and returns the ratio of punctuations to characters.\"\"\"\n",
    "    cpunc = 0\n",
    "    for x in var:\n",
    "        if x == ',':\n",
    "            cpunc += 1\n",
    "    return cpunc / normalization_character(var)"
   ]
  },
  {
   "cell_type": "code",
   "execution_count": 18,
   "metadata": {
    "collapsed": true
   },
   "outputs": [],
   "source": [
    "def density_point(var):\n",
    "    \"\"\"Takes a string and returns the ratio of periods(.) to characters.\"\"\"\n",
    "    cpunc = 0\n",
    "    for x in var:\n",
    "        if x == '.':\n",
    "            cpunc += 1\n",
    "    return cpunc / normalization_character(var)"
   ]
  },
  {
   "cell_type": "code",
   "execution_count": 19,
   "metadata": {
    "collapsed": true
   },
   "outputs": [],
   "source": [
    "def density_colon(var):\n",
    "    \"\"\"Takes a string and returns the ratio of colons(:) to characters.\"\"\"\n",
    "    cpunc = 0\n",
    "    for x in var:\n",
    "        if x == ':':\n",
    "            cpunc += 1\n",
    "    return cpunc / normalization_character(var)"
   ]
  },
  {
   "cell_type": "code",
   "execution_count": 20,
   "metadata": {
    "collapsed": true
   },
   "outputs": [],
   "source": [
    "def density_semicolon(var):\n",
    "    \"\"\"Takes a string and returns the ratio of semicolons(;) to characters.\"\"\"\n",
    "    cpunc = 0\n",
    "    for x in var:\n",
    "        if x == ';':\n",
    "            cpunc += 1\n",
    "    return cpunc / normalization_character(var)"
   ]
  },
  {
   "cell_type": "code",
   "execution_count": 21,
   "metadata": {
    "collapsed": true
   },
   "outputs": [],
   "source": [
    "def density_interro(var):\n",
    "    \"\"\"Takes a string and returns the ratio of question marks(?) to characters.\"\"\"\n",
    "    cpunc = 0\n",
    "    for x in var:\n",
    "        if x == '?':\n",
    "            cpunc += 1\n",
    "    return cpunc / normalization_character(var)"
   ]
  },
  {
   "cell_type": "code",
   "execution_count": 22,
   "metadata": {
    "collapsed": true
   },
   "outputs": [],
   "source": [
    "def density_expl(var):\n",
    "    \"\"\"Takes a string and returns the ratio of exclamation points(!) to characters.\"\"\"\n",
    "    cpunc = 0\n",
    "    for x in var:\n",
    "        if x == '!':\n",
    "            cpunc += 1\n",
    "    return cpunc / normalization_character(var)"
   ]
  },
  {
   "cell_type": "markdown",
   "metadata": {
    "collapsed": true
   },
   "source": [
    "<h3>Percentage of unique words per sentence</h3>"
   ]
  },
  {
   "cell_type": "code",
   "execution_count": 23,
   "metadata": {
    "collapsed": true
   },
   "outputs": [],
   "source": [
    "def vocabulary_sentence(var):\n",
    "    \"\"\"Takes a string and returns the ratio of different words to all words.\"\"\"\n",
    "    var = nltk.Text(sent_tokenize(var))\n",
    "    vocabulary_list = []\n",
    "    for c in var:\n",
    "        if normalization_word(c) != 0:\n",
    "            vacabulary_count_sentence = len({x.lower() for x in word_tokenize(cleaning(c))})\n",
    "            vocabulary_list.append(vacabulary_count_sentence / normalization_word(c))\n",
    "    return np.mean(vocabulary_list)"
   ]
  },
  {
   "cell_type": "code",
   "execution_count": 24,
   "metadata": {},
   "outputs": [
    {
     "data": {
      "text/plain": [
       "0.79527972027972038"
      ]
     },
     "execution_count": 24,
     "metadata": {},
     "output_type": "execute_result"
    }
   ],
   "source": [
    "# just a test cell\n",
    "\n",
    "vocabulary_sentence(\"Wow, this is a bad one. On Macs running the latest version of High Sierra (10.13.1 (17B48)), it appears that anyone can log in just by putting “root” in the user name field in a certain place. This is a huge, huge problem. Apple will fix it probably within hours but holy moly. Do not leave your Mac unattended\")"
   ]
  },
  {
   "cell_type": "markdown",
   "metadata": {
    "collapsed": true
   },
   "source": [
    "<h3>Stopword percentage</h3>"
   ]
  },
  {
   "cell_type": "code",
   "execution_count": 25,
   "metadata": {
    "collapsed": true
   },
   "outputs": [],
   "source": [
    "def density_stopword(var):\n",
    "    \"\"\"Takes a string and returns the ratio of stopwords to all words.\"\"\"\n",
    "    cs = 0\n",
    "    for x in nltk.Text(word_tokenize(var)):\n",
    "        if x in STOPWORDS:\n",
    "            cs += 1\n",
    "    return cs/normalization_word(var)"
   ]
  },
  {
   "cell_type": "markdown",
   "metadata": {
    "collapsed": true
   },
   "source": [
    "<h3>Noun Density</h3>"
   ]
  },
  {
   "cell_type": "code",
   "execution_count": 26,
   "metadata": {
    "collapsed": true
   },
   "outputs": [],
   "source": [
    "def density_noun(var):\n",
    "    \"\"\"Takes a string and returns the ratio of nouns to all words.\"\"\"\n",
    "    l = []\n",
    "    for x in nltk.pos_tag(word_tokenize(var)):\n",
    "        if x[1][0:2] == 'NN': # all noun tags start with NN\n",
    "            l.append(x)\n",
    "    return len(l)/normalization_word(var)"
   ]
  },
  {
   "cell_type": "markdown",
   "metadata": {
    "collapsed": true
   },
   "source": [
    "<h3>Verb Density</h3>"
   ]
  },
  {
   "cell_type": "code",
   "execution_count": 27,
   "metadata": {
    "collapsed": true
   },
   "outputs": [],
   "source": [
    "def density_verb(var):\n",
    "    \"\"\"Takes a string and returns the ratio of verbs to all words.\"\"\"\n",
    "    l = []\n",
    "    for x in nltk.pos_tag(word_tokenize(var)):\n",
    "        if x[1][0:2] == 'VB': # all verb tags start with VB\n",
    "            l.append(x)\n",
    "    return len(l)/normalization_word(var)"
   ]
  },
  {
   "cell_type": "markdown",
   "metadata": {
    "collapsed": true
   },
   "source": [
    "<h3>Adjective Density</h3>"
   ]
  },
  {
   "cell_type": "code",
   "execution_count": 28,
   "metadata": {
    "collapsed": true
   },
   "outputs": [],
   "source": [
    "def density_adjective(var):\n",
    "    \"\"\"Takes a string and returns the ratio of adjectives to all words.\"\"\"\n",
    "    l = []\n",
    "    for x in nltk.pos_tag(word_tokenize(var)):\n",
    "        if x[1][0:2] == 'JJ': # all adjective tags start with JJ\n",
    "            l.append(x)\n",
    "    return len(l) / normalization_word(var)"
   ]
  },
  {
   "cell_type": "markdown",
   "metadata": {
    "collapsed": true
   },
   "source": [
    "<h3>Adjective to noun ratio</h3>"
   ]
  },
  {
   "cell_type": "code",
   "execution_count": 29,
   "metadata": {
    "collapsed": true
   },
   "outputs": [],
   "source": [
    "def adjective_to_noun(var):\n",
    "    \"\"\"Takes a string and returns the ratio of adjectives to nouns.\"\"\"\n",
    "    return density_adjective(var) / (density_noun(var) + 0.5) # add 0.5 to avoid division by 0 error"
   ]
  },
  {
   "cell_type": "markdown",
   "metadata": {},
   "source": [
    "<h3>Emphases on Words or Phrases</h3>"
   ]
  },
  {
   "cell_type": "code",
   "execution_count": 30,
   "metadata": {
    "collapsed": true
   },
   "outputs": [],
   "source": [
    "def count_emph(var):\n",
    "    \"\"\"Takes a string and returns the usage count of emphases using double quotes.\"\"\"\n",
    "    emph_trig_words = 'word called the a their my his her for that those like of words'.split() \n",
    "    emph_count = 0\n",
    "    var = var.lower()\n",
    "    for word in emph_trig_words:\n",
    "        emph_count += var.count('{} \"'.format(word))\n",
    "    return emph_count"
   ]
  },
  {
   "cell_type": "markdown",
   "metadata": {},
   "source": [
    "<h3>Dialogues Breaks</h3>"
   ]
  },
  {
   "cell_type": "code",
   "execution_count": 31,
   "metadata": {
    "collapsed": true
   },
   "outputs": [],
   "source": [
    "def count_dial_break(var):\n",
    "    \"\"\"\n",
    "    Takes a string and returns the count of dialogue breaks used.\n",
    "    Example of a dialogue break: (\"D ,\" replied Dupin, \"is a desperate man, and a man of nerve.)\n",
    "    \"\"\"\n",
    "    return var.count(\", \\\"\")"
   ]
  },
  {
   "cell_type": "markdown",
   "metadata": {},
   "source": [
    "<h3>Dialogues</h3>"
   ]
  },
  {
   "cell_type": "code",
   "execution_count": 32,
   "metadata": {
    "collapsed": true
   },
   "outputs": [],
   "source": [
    "def count_dblqt(var):\n",
    "    \"\"\"Takes a string and returns the count of sets of double quotes\"\"\"\n",
    "    return ceil(var.count('\"')/2) # ceil function rounds up"
   ]
  },
  {
   "cell_type": "code",
   "execution_count": 33,
   "metadata": {
    "collapsed": true
   },
   "outputs": [],
   "source": [
    "def count_dial(var):\n",
    "    \"\"\"\n",
    "    Takes a string and returns the count of dialogues used. Assumption is that if in double quotes but not an\n",
    "    emphasis, then it is a dialogue.\n",
    "    \"\"\"\n",
    "    return count_dblqt(var) - count_emph(var) - count_dial_break(var)"
   ]
  },
  {
   "cell_type": "code",
   "execution_count": 34,
   "metadata": {
    "collapsed": true
   },
   "outputs": [],
   "source": [
    "def break_to_dial_ratio(var):\n",
    "    \"\"\"Take sa string and returns the ratio of dialogue breaks to dialogues.\"\"\"\n",
    "    if not count_dial(var):\n",
    "        return 0\n",
    "    return count_dial_break(var) / count_dial(var)"
   ]
  },
  {
   "cell_type": "markdown",
   "metadata": {},
   "source": [
    "<h3>Feminine and Masculine Words</h3>"
   ]
  },
  {
   "cell_type": "code",
   "execution_count": 35,
   "metadata": {
    "collapsed": true
   },
   "outputs": [],
   "source": [
    "def count_fem(var):\n",
    "    \"\"\"Takes a string and returns the count of feminine words.\"\"\"\n",
    "    fem_words = 'she her woman herself girl women lady queen princess daughter madam madame wife'.split()\n",
    "    fem_count = 0\n",
    "    var = cleaning(var)\n",
    "    for word in var.split():\n",
    "        if word in fem_words:\n",
    "            fem_count += 1\n",
    "    return fem_count"
   ]
  },
  {
   "cell_type": "code",
   "execution_count": 36,
   "metadata": {
    "collapsed": true
   },
   "outputs": [],
   "source": [
    "def count_mas(var):\n",
    "    \"\"\"Takes a string and returns the count of masculine words.\"\"\"\n",
    "    mas_words = 'he his man mr himself boy men gentleman gentlemen king prince son sir husband'.split()\n",
    "    mas_count = 0\n",
    "    var = cleaning(var)\n",
    "    for word in var.split():\n",
    "        if word in mas_words:\n",
    "            mas_count += 1\n",
    "    return mas_count"
   ]
  },
  {
   "cell_type": "code",
   "execution_count": 37,
   "metadata": {
    "collapsed": true
   },
   "outputs": [],
   "source": [
    "def fem_to_mas_ratio(var):\n",
    "    \"\"\"Takes a string and returns the ratio of feminine words to masculine words.\"\"\"\n",
    "    fem_count = count_fem(var)\n",
    "    mas_count = count_mas(var)\n",
    "    if fem_count and not mas_count:\n",
    "        fem_mas_ratio = 1\n",
    "    elif not fem_count and not mas_count:\n",
    "        fem_mas_ratio = 0\n",
    "    else:\n",
    "        fem_mas_ratio = fem_count / mas_count\n",
    "    return fem_mas_ratio"
   ]
  },
  {
   "cell_type": "code",
   "execution_count": 38,
   "metadata": {},
   "outputs": [
    {
     "data": {
      "text/html": [
       "<div>\n",
       "<style>\n",
       "    .dataframe thead tr:only-child th {\n",
       "        text-align: right;\n",
       "    }\n",
       "\n",
       "    .dataframe thead th {\n",
       "        text-align: left;\n",
       "    }\n",
       "\n",
       "    .dataframe tbody tr th {\n",
       "        vertical-align: top;\n",
       "    }\n",
       "</style>\n",
       "<table border=\"1\" class=\"dataframe\">\n",
       "  <thead>\n",
       "    <tr style=\"text-align: right;\">\n",
       "      <th></th>\n",
       "      <th>author</th>\n",
       "      <th>text</th>\n",
       "      <th>norm_count_emph</th>\n",
       "      <th>norm_count_dial</th>\n",
       "      <th>norm_count_dial_break</th>\n",
       "      <th>norm_break_to_dial_ratio</th>\n",
       "      <th>norm_count_fem</th>\n",
       "      <th>norm_count_mas</th>\n",
       "      <th>norm_fem_to_mas_ratio</th>\n",
       "    </tr>\n",
       "  </thead>\n",
       "  <tbody>\n",
       "    <tr>\n",
       "      <th>0</th>\n",
       "      <td>EAP</td>\n",
       "      <td>This process, however, afforded me no means of...</td>\n",
       "      <td>0.026549</td>\n",
       "      <td>0.176991</td>\n",
       "      <td>0.035398</td>\n",
       "      <td>0.200000</td>\n",
       "      <td>0.079646</td>\n",
       "      <td>0.362832</td>\n",
       "      <td>0.219512</td>\n",
       "    </tr>\n",
       "    <tr>\n",
       "      <th>1</th>\n",
       "      <td>HPL</td>\n",
       "      <td>It never once occurred to me that the fumbling...</td>\n",
       "      <td>0.010309</td>\n",
       "      <td>0.041237</td>\n",
       "      <td>0.000000</td>\n",
       "      <td>0.000000</td>\n",
       "      <td>0.041237</td>\n",
       "      <td>0.783505</td>\n",
       "      <td>0.052632</td>\n",
       "    </tr>\n",
       "    <tr>\n",
       "      <th>2</th>\n",
       "      <td>MWS</td>\n",
       "      <td>How lovely is spring As we looked from Windsor...</td>\n",
       "      <td>0.000000</td>\n",
       "      <td>0.066667</td>\n",
       "      <td>0.055556</td>\n",
       "      <td>0.833333</td>\n",
       "      <td>0.488889</td>\n",
       "      <td>0.833333</td>\n",
       "      <td>0.586667</td>\n",
       "    </tr>\n",
       "  </tbody>\n",
       "</table>\n",
       "</div>"
      ],
      "text/plain": [
       "  author                                               text  norm_count_emph  \\\n",
       "0    EAP  This process, however, afforded me no means of...         0.026549   \n",
       "1    HPL  It never once occurred to me that the fumbling...         0.010309   \n",
       "2    MWS  How lovely is spring As we looked from Windsor...         0.000000   \n",
       "\n",
       "   norm_count_dial  norm_count_dial_break  norm_break_to_dial_ratio  \\\n",
       "0         0.176991               0.035398                  0.200000   \n",
       "1         0.041237               0.000000                  0.000000   \n",
       "2         0.066667               0.055556                  0.833333   \n",
       "\n",
       "   norm_count_fem  norm_count_mas  norm_fem_to_mas_ratio  \n",
       "0        0.079646        0.362832               0.219512  \n",
       "1        0.041237        0.783505               0.052632  \n",
       "2        0.488889        0.833333               0.586667  "
      ]
     },
     "execution_count": 38,
     "metadata": {},
     "output_type": "execute_result"
    }
   ],
   "source": [
    "df = pd.DataFrame([['EAP', eap_s], ['HPL', hpl_s], ['MWS', mws_s]])\n",
    "df.columns = ['author', 'text']\n",
    "\n",
    "for f in [count_emph, count_dial, count_dial_break, break_to_dial_ratio, count_fem, count_mas, fem_to_mas_ratio]:\n",
    "    df['norm_' + f.__name__] = df.text.apply(f)\n",
    "    \n",
    "for f in [count_emph, count_dial, count_dial_break, count_fem, count_mas]: # normalization of count_emph, count_dial, and count_dial_break\n",
    "    df['norm_' + f.__name__] = df['norm_' + f.__name__] / df.author.apply(lambda x: len(train[train.author == x]))\n",
    "    \n",
    "df"
   ]
  },
  {
   "cell_type": "code",
   "execution_count": 39,
   "metadata": {},
   "outputs": [
    {
     "data": {
      "image/png": "[encoded data removed]",
      "text/plain": [
       "<matplotlib.figure.Figure at 0x12ccc09828>"
      ]
     },
     "metadata": {},
     "output_type": "display_data"
    },
    {
     "data": {
      "image/png": "[encoded data removed]",
      "text/plain": [
       "<matplotlib.figure.Figure at 0x12ccc0d390>"
      ]
     },
     "metadata": {},
     "output_type": "display_data"
    },
    {
     "data": {
      "image/png": "[encoded data removed]",
      "text/plain": [
       "<matplotlib.figure.Figure at 0x12d53e2c50>"
      ]
     },
     "metadata": {},
     "output_type": "display_data"
    },
    {
     "data": {
      "image/png": "[encoded data removed]",
      "text/plain": [
       "<matplotlib.figure.Figure at 0x12d2411a20>"
      ]
     },
     "metadata": {},
     "output_type": "display_data"
    },
    {
     "data": {
      "image/png": "[encoded data removed]",
      "text/plain": [
       "<matplotlib.figure.Figure at 0x12ccbdb2b0>"
      ]
     },
     "metadata": {},
     "output_type": "display_data"
    },
    {
     "data": {
      "image/png": "[encoded data removed]",
      "text/plain": [
       "<matplotlib.figure.Figure at 0x12d240e0b8>"
      ]
     },
     "metadata": {},
     "output_type": "display_data"
    },
    {
     "data": {
      "image/png": "[encoded data removed]",
      "text/plain": [
       "<matplotlib.figure.Figure at 0x12d2492eb8>"
      ]
     },
     "metadata": {},
     "output_type": "display_data"
    }
   ],
   "source": [
    "for c in df.columns[2:]:\n",
    "    plt.style.use('seaborn')\n",
    "    sns.barplot(x='author', y=c, data=df)\n",
    "    plt.title('Meta {}'.format(c))\n",
    "    plt.savefig('Meta {}'.format(c))\n",
    "    plt.show()"
   ]
  },
  {
   "cell_type": "code",
   "execution_count": 40,
   "metadata": {},
   "outputs": [
    {
     "data": {
      "image/png": "[encoded data removed]",
      "text/plain": [
       "<matplotlib.figure.Figure at 0x12d24174e0>"
      ]
     },
     "metadata": {},
     "output_type": "display_data"
    }
   ],
   "source": [
    "fig, (ax1, ax2, ax3) = plt.subplots(1, 3, sharey=True)\n",
    "fem_words = 'her she herself girl woman lady queen daughter madam madame wife women princess'.split()\n",
    "\n",
    "plt.suptitle('Normalized Feminine Word Count', y=1.02)\n",
    "\n",
    "xlmt = 0\n",
    "for auth in [(eap_s_c, 'EAP'), (hpl_s_c, 'HPL'), (mws_s_c, 'MWS')]:\n",
    "    for word in fem_words:\n",
    "        norm_count = auth[0].count(word) / len(train[train.author == auth[1]])\n",
    "        if norm_count > xlmt:\n",
    "            xlmt = norm_count\n",
    "\n",
    "for ax in ((ax1, eap_s_c, 'darkblue', 'EAP'), (ax2, hpl_s_c, 'darkgreen', 'HPL'), (ax3, mws_s_c, 'darkred', 'MWS')):\n",
    "    y = np.arange(len(fem_words))\n",
    "    x = [ax[1].count(word) / len(train[train.author == ax[3]]) for word in fem_words]\n",
    "    ax[0].barh(y, x, align='center',\n",
    "            color=ax[2], ecolor='black')\n",
    "    ax[0].set_yticks(y)\n",
    "    ax[0].set_yticklabels(fem_words)\n",
    "    ax[0].invert_yaxis()\n",
    "    ax[0].set_title(ax[3])\n",
    "    ax[0].set_xlim([0, xlmt])\n",
    "    \n",
    "plt.tight_layout()\n",
    "plt.savefig('Meta feminine word count')\n",
    "plt.show()"
   ]
  },
  {
   "cell_type": "code",
   "execution_count": 41,
   "metadata": {},
   "outputs": [
    {
     "data": {
      "image/png": "[encoded data removed]",
      "text/plain": [
       "<matplotlib.figure.Figure at 0x12d5374e10>"
      ]
     },
     "metadata": {},
     "output_type": "display_data"
    }
   ],
   "source": [
    "fig, (ax1, ax2, ax3) = plt.subplots(1, 3, sharey=True)\n",
    "mas_words = 'he his men man king son himself mr boy gentleman prince sir gentlemen husband mister'.split()\n",
    "\n",
    "plt.suptitle('Normalized Masculine Word Count', y=1.02)\n",
    "\n",
    "xlmt = 0\n",
    "for auth in [(eap_s_c, 'EAP'), (hpl_s_c, 'HPL'), (mws_s_c, 'MWS')]:\n",
    "    for word in mas_words:\n",
    "        norm_count = auth[0].count(word) / len(train[train.author == auth[1]])\n",
    "        if norm_count > xlmt:\n",
    "            xlmt = norm_count\n",
    "            \n",
    "for ax in ((ax1, eap_s_c, 'darkblue', 'EAP'), (ax2, hpl_s_c, 'darkgreen', 'HPL'), (ax3, mws_s_c, 'darkred', 'MWS')):\n",
    "    y = np.arange(len(mas_words))\n",
    "    x = [ax[1].count(word) / len(train[train.author == ax[3]]) for word in mas_words]\n",
    "    ax[0].barh(y, x, align='center',\n",
    "            color=ax[2], ecolor='black')\n",
    "    ax[0].set_yticks(y)\n",
    "    ax[0].set_yticklabels(mas_words)\n",
    "    ax[0].invert_yaxis()\n",
    "    ax[0].set_title(ax[3])\n",
    "    ax[0].set_xlim([0, xlmt])\n",
    "    \n",
    "plt.tight_layout()\n",
    "plt.savefig('Meta masculine word count')\n",
    "plt.show()"
   ]
  },
  {
   "cell_type": "markdown",
   "metadata": {
    "collapsed": true
   },
   "source": [
    "<h3>Building of the Dataframe of Metadata</h3>\n",
    "\n",
    "This is the list of all the meta data we are going to use to train our classifiers. We are also going to use bag of words. This could be modified if we add meta data."
   ]
  },
  {
   "cell_type": "code",
   "execution_count": 42,
   "metadata": {
    "collapsed": true
   },
   "outputs": [],
   "source": [
    "def build_meta1(dataframe):\n",
    "    \"\"\"Builds a dataframe that shows the author and the first set of meta-data related to the sentence.\"\"\"\n",
    "    df_meta = dataframe.copy()\n",
    "    for f in [count_emph, count_dial, count_dial_break, break_to_dial_ratio, count_fem, count_mas, fem_to_mas_ratio]:\n",
    "        df_meta[f.__name__] = df_meta.text.apply(f)\n",
    "    \n",
    "    del df_meta['text']\n",
    "    if 'author' in df_meta.columns:\n",
    "        del df_meta['author']\n",
    "    \n",
    "    return df_meta"
   ]
  },
  {
   "cell_type": "code",
   "execution_count": 43,
   "metadata": {},
   "outputs": [
    {
     "data": {
      "text/html": [
       "<div>\n",
       "<style>\n",
       "    .dataframe thead tr:only-child th {\n",
       "        text-align: right;\n",
       "    }\n",
       "\n",
       "    .dataframe thead th {\n",
       "        text-align: left;\n",
       "    }\n",
       "\n",
       "    .dataframe tbody tr th {\n",
       "        vertical-align: top;\n",
       "    }\n",
       "</style>\n",
       "<table border=\"1\" class=\"dataframe\">\n",
       "  <thead>\n",
       "    <tr style=\"text-align: right;\">\n",
       "      <th></th>\n",
       "      <th>id</th>\n",
       "      <th>count_emph</th>\n",
       "      <th>count_dial</th>\n",
       "      <th>count_dial_break</th>\n",
       "      <th>break_to_dial_ratio</th>\n",
       "      <th>count_fem</th>\n",
       "      <th>count_mas</th>\n",
       "      <th>fem_to_mas_ratio</th>\n",
       "    </tr>\n",
       "  </thead>\n",
       "  <tbody>\n",
       "    <tr>\n",
       "      <th>66</th>\n",
       "      <td>id06312</td>\n",
       "      <td>0</td>\n",
       "      <td>1</td>\n",
       "      <td>0</td>\n",
       "      <td>0.0</td>\n",
       "      <td>5</td>\n",
       "      <td>0</td>\n",
       "      <td>1.0</td>\n",
       "    </tr>\n",
       "    <tr>\n",
       "      <th>77</th>\n",
       "      <td>id06377</td>\n",
       "      <td>0</td>\n",
       "      <td>0</td>\n",
       "      <td>0</td>\n",
       "      <td>0.0</td>\n",
       "      <td>0</td>\n",
       "      <td>0</td>\n",
       "      <td>0.0</td>\n",
       "    </tr>\n",
       "    <tr>\n",
       "      <th>18</th>\n",
       "      <td>id14862</td>\n",
       "      <td>0</td>\n",
       "      <td>0</td>\n",
       "      <td>0</td>\n",
       "      <td>0.0</td>\n",
       "      <td>0</td>\n",
       "      <td>0</td>\n",
       "      <td>0.0</td>\n",
       "    </tr>\n",
       "    <tr>\n",
       "      <th>253</th>\n",
       "      <td>id08978</td>\n",
       "      <td>0</td>\n",
       "      <td>0</td>\n",
       "      <td>0</td>\n",
       "      <td>0.0</td>\n",
       "      <td>0</td>\n",
       "      <td>0</td>\n",
       "      <td>0.0</td>\n",
       "    </tr>\n",
       "    <tr>\n",
       "      <th>267</th>\n",
       "      <td>id08711</td>\n",
       "      <td>0</td>\n",
       "      <td>0</td>\n",
       "      <td>0</td>\n",
       "      <td>0.0</td>\n",
       "      <td>0</td>\n",
       "      <td>0</td>\n",
       "      <td>0.0</td>\n",
       "    </tr>\n",
       "    <tr>\n",
       "      <th>96</th>\n",
       "      <td>id06172</td>\n",
       "      <td>0</td>\n",
       "      <td>0</td>\n",
       "      <td>0</td>\n",
       "      <td>0.0</td>\n",
       "      <td>1</td>\n",
       "      <td>0</td>\n",
       "      <td>1.0</td>\n",
       "    </tr>\n",
       "    <tr>\n",
       "      <th>261</th>\n",
       "      <td>id04561</td>\n",
       "      <td>0</td>\n",
       "      <td>1</td>\n",
       "      <td>0</td>\n",
       "      <td>0.0</td>\n",
       "      <td>0</td>\n",
       "      <td>0</td>\n",
       "      <td>0.0</td>\n",
       "    </tr>\n",
       "    <tr>\n",
       "      <th>211</th>\n",
       "      <td>id22514</td>\n",
       "      <td>0</td>\n",
       "      <td>0</td>\n",
       "      <td>0</td>\n",
       "      <td>0.0</td>\n",
       "      <td>1</td>\n",
       "      <td>2</td>\n",
       "      <td>0.5</td>\n",
       "    </tr>\n",
       "    <tr>\n",
       "      <th>158</th>\n",
       "      <td>id03570</td>\n",
       "      <td>0</td>\n",
       "      <td>0</td>\n",
       "      <td>0</td>\n",
       "      <td>0.0</td>\n",
       "      <td>0</td>\n",
       "      <td>0</td>\n",
       "      <td>0.0</td>\n",
       "    </tr>\n",
       "    <tr>\n",
       "      <th>84</th>\n",
       "      <td>id02647</td>\n",
       "      <td>0</td>\n",
       "      <td>1</td>\n",
       "      <td>0</td>\n",
       "      <td>0.0</td>\n",
       "      <td>0</td>\n",
       "      <td>0</td>\n",
       "      <td>0.0</td>\n",
       "    </tr>\n",
       "    <tr>\n",
       "      <th>277</th>\n",
       "      <td>id09682</td>\n",
       "      <td>0</td>\n",
       "      <td>0</td>\n",
       "      <td>0</td>\n",
       "      <td>0.0</td>\n",
       "      <td>0</td>\n",
       "      <td>0</td>\n",
       "      <td>0.0</td>\n",
       "    </tr>\n",
       "    <tr>\n",
       "      <th>8</th>\n",
       "      <td>id19322</td>\n",
       "      <td>0</td>\n",
       "      <td>0</td>\n",
       "      <td>0</td>\n",
       "      <td>0.0</td>\n",
       "      <td>0</td>\n",
       "      <td>0</td>\n",
       "      <td>0.0</td>\n",
       "    </tr>\n",
       "    <tr>\n",
       "      <th>282</th>\n",
       "      <td>id10265</td>\n",
       "      <td>0</td>\n",
       "      <td>0</td>\n",
       "      <td>0</td>\n",
       "      <td>0.0</td>\n",
       "      <td>0</td>\n",
       "      <td>0</td>\n",
       "      <td>0.0</td>\n",
       "    </tr>\n",
       "    <tr>\n",
       "      <th>153</th>\n",
       "      <td>id08447</td>\n",
       "      <td>1</td>\n",
       "      <td>1</td>\n",
       "      <td>0</td>\n",
       "      <td>0.0</td>\n",
       "      <td>0</td>\n",
       "      <td>1</td>\n",
       "      <td>0.0</td>\n",
       "    </tr>\n",
       "    <tr>\n",
       "      <th>263</th>\n",
       "      <td>id18908</td>\n",
       "      <td>0</td>\n",
       "      <td>0</td>\n",
       "      <td>0</td>\n",
       "      <td>0.0</td>\n",
       "      <td>4</td>\n",
       "      <td>0</td>\n",
       "      <td>1.0</td>\n",
       "    </tr>\n",
       "    <tr>\n",
       "      <th>159</th>\n",
       "      <td>id09713</td>\n",
       "      <td>0</td>\n",
       "      <td>0</td>\n",
       "      <td>0</td>\n",
       "      <td>0.0</td>\n",
       "      <td>0</td>\n",
       "      <td>1</td>\n",
       "      <td>0.0</td>\n",
       "    </tr>\n",
       "    <tr>\n",
       "      <th>131</th>\n",
       "      <td>id24267</td>\n",
       "      <td>0</td>\n",
       "      <td>0</td>\n",
       "      <td>0</td>\n",
       "      <td>0.0</td>\n",
       "      <td>0</td>\n",
       "      <td>2</td>\n",
       "      <td>0.0</td>\n",
       "    </tr>\n",
       "    <tr>\n",
       "      <th>16</th>\n",
       "      <td>id08441</td>\n",
       "      <td>0</td>\n",
       "      <td>0</td>\n",
       "      <td>0</td>\n",
       "      <td>0.0</td>\n",
       "      <td>0</td>\n",
       "      <td>0</td>\n",
       "      <td>0.0</td>\n",
       "    </tr>\n",
       "    <tr>\n",
       "      <th>143</th>\n",
       "      <td>id14312</td>\n",
       "      <td>0</td>\n",
       "      <td>0</td>\n",
       "      <td>0</td>\n",
       "      <td>0.0</td>\n",
       "      <td>1</td>\n",
       "      <td>1</td>\n",
       "      <td>1.0</td>\n",
       "    </tr>\n",
       "    <tr>\n",
       "      <th>38</th>\n",
       "      <td>id00144</td>\n",
       "      <td>0</td>\n",
       "      <td>0</td>\n",
       "      <td>0</td>\n",
       "      <td>0.0</td>\n",
       "      <td>0</td>\n",
       "      <td>1</td>\n",
       "      <td>0.0</td>\n",
       "    </tr>\n",
       "    <tr>\n",
       "      <th>289</th>\n",
       "      <td>id25430</td>\n",
       "      <td>0</td>\n",
       "      <td>0</td>\n",
       "      <td>0</td>\n",
       "      <td>0.0</td>\n",
       "      <td>0</td>\n",
       "      <td>6</td>\n",
       "      <td>0.0</td>\n",
       "    </tr>\n",
       "    <tr>\n",
       "      <th>37</th>\n",
       "      <td>id05258</td>\n",
       "      <td>0</td>\n",
       "      <td>0</td>\n",
       "      <td>0</td>\n",
       "      <td>0.0</td>\n",
       "      <td>0</td>\n",
       "      <td>2</td>\n",
       "      <td>0.0</td>\n",
       "    </tr>\n",
       "    <tr>\n",
       "      <th>150</th>\n",
       "      <td>id24399</td>\n",
       "      <td>0</td>\n",
       "      <td>1</td>\n",
       "      <td>0</td>\n",
       "      <td>0.0</td>\n",
       "      <td>1</td>\n",
       "      <td>1</td>\n",
       "      <td>1.0</td>\n",
       "    </tr>\n",
       "    <tr>\n",
       "      <th>1</th>\n",
       "      <td>id17569</td>\n",
       "      <td>0</td>\n",
       "      <td>0</td>\n",
       "      <td>0</td>\n",
       "      <td>0.0</td>\n",
       "      <td>0</td>\n",
       "      <td>0</td>\n",
       "      <td>0.0</td>\n",
       "    </tr>\n",
       "    <tr>\n",
       "      <th>142</th>\n",
       "      <td>id21404</td>\n",
       "      <td>0</td>\n",
       "      <td>0</td>\n",
       "      <td>0</td>\n",
       "      <td>0.0</td>\n",
       "      <td>0</td>\n",
       "      <td>1</td>\n",
       "      <td>0.0</td>\n",
       "    </tr>\n",
       "    <tr>\n",
       "      <th>250</th>\n",
       "      <td>id07585</td>\n",
       "      <td>0</td>\n",
       "      <td>0</td>\n",
       "      <td>0</td>\n",
       "      <td>0.0</td>\n",
       "      <td>0</td>\n",
       "      <td>0</td>\n",
       "      <td>0.0</td>\n",
       "    </tr>\n",
       "    <tr>\n",
       "      <th>10</th>\n",
       "      <td>id16737</td>\n",
       "      <td>0</td>\n",
       "      <td>1</td>\n",
       "      <td>0</td>\n",
       "      <td>0.0</td>\n",
       "      <td>0</td>\n",
       "      <td>3</td>\n",
       "      <td>0.0</td>\n",
       "    </tr>\n",
       "    <tr>\n",
       "      <th>14</th>\n",
       "      <td>id17189</td>\n",
       "      <td>0</td>\n",
       "      <td>0</td>\n",
       "      <td>0</td>\n",
       "      <td>0.0</td>\n",
       "      <td>0</td>\n",
       "      <td>0</td>\n",
       "      <td>0.0</td>\n",
       "    </tr>\n",
       "    <tr>\n",
       "      <th>199</th>\n",
       "      <td>id17453</td>\n",
       "      <td>1</td>\n",
       "      <td>0</td>\n",
       "      <td>0</td>\n",
       "      <td>0.0</td>\n",
       "      <td>1</td>\n",
       "      <td>0</td>\n",
       "      <td>1.0</td>\n",
       "    </tr>\n",
       "    <tr>\n",
       "      <th>243</th>\n",
       "      <td>id27949</td>\n",
       "      <td>0</td>\n",
       "      <td>0</td>\n",
       "      <td>0</td>\n",
       "      <td>0.0</td>\n",
       "      <td>2</td>\n",
       "      <td>0</td>\n",
       "      <td>1.0</td>\n",
       "    </tr>\n",
       "    <tr>\n",
       "      <th>...</th>\n",
       "      <td>...</td>\n",
       "      <td>...</td>\n",
       "      <td>...</td>\n",
       "      <td>...</td>\n",
       "      <td>...</td>\n",
       "      <td>...</td>\n",
       "      <td>...</td>\n",
       "      <td>...</td>\n",
       "    </tr>\n",
       "    <tr>\n",
       "      <th>120</th>\n",
       "      <td>id13881</td>\n",
       "      <td>0</td>\n",
       "      <td>0</td>\n",
       "      <td>0</td>\n",
       "      <td>0.0</td>\n",
       "      <td>0</td>\n",
       "      <td>2</td>\n",
       "      <td>0.0</td>\n",
       "    </tr>\n",
       "    <tr>\n",
       "      <th>117</th>\n",
       "      <td>id06500</td>\n",
       "      <td>0</td>\n",
       "      <td>1</td>\n",
       "      <td>0</td>\n",
       "      <td>0.0</td>\n",
       "      <td>0</td>\n",
       "      <td>1</td>\n",
       "      <td>0.0</td>\n",
       "    </tr>\n",
       "    <tr>\n",
       "      <th>62</th>\n",
       "      <td>id14749</td>\n",
       "      <td>0</td>\n",
       "      <td>0</td>\n",
       "      <td>0</td>\n",
       "      <td>0.0</td>\n",
       "      <td>0</td>\n",
       "      <td>0</td>\n",
       "      <td>0.0</td>\n",
       "    </tr>\n",
       "    <tr>\n",
       "      <th>124</th>\n",
       "      <td>id13315</td>\n",
       "      <td>0</td>\n",
       "      <td>0</td>\n",
       "      <td>0</td>\n",
       "      <td>0.0</td>\n",
       "      <td>1</td>\n",
       "      <td>2</td>\n",
       "      <td>0.5</td>\n",
       "    </tr>\n",
       "    <tr>\n",
       "      <th>205</th>\n",
       "      <td>id27761</td>\n",
       "      <td>0</td>\n",
       "      <td>0</td>\n",
       "      <td>0</td>\n",
       "      <td>0.0</td>\n",
       "      <td>0</td>\n",
       "      <td>0</td>\n",
       "      <td>0.0</td>\n",
       "    </tr>\n",
       "    <tr>\n",
       "      <th>86</th>\n",
       "      <td>id22605</td>\n",
       "      <td>0</td>\n",
       "      <td>0</td>\n",
       "      <td>0</td>\n",
       "      <td>0.0</td>\n",
       "      <td>2</td>\n",
       "      <td>0</td>\n",
       "      <td>1.0</td>\n",
       "    </tr>\n",
       "    <tr>\n",
       "      <th>94</th>\n",
       "      <td>id18067</td>\n",
       "      <td>0</td>\n",
       "      <td>0</td>\n",
       "      <td>0</td>\n",
       "      <td>0.0</td>\n",
       "      <td>2</td>\n",
       "      <td>0</td>\n",
       "      <td>1.0</td>\n",
       "    </tr>\n",
       "    <tr>\n",
       "      <th>95</th>\n",
       "      <td>id23088</td>\n",
       "      <td>0</td>\n",
       "      <td>0</td>\n",
       "      <td>0</td>\n",
       "      <td>0.0</td>\n",
       "      <td>4</td>\n",
       "      <td>4</td>\n",
       "      <td>1.0</td>\n",
       "    </tr>\n",
       "    <tr>\n",
       "      <th>254</th>\n",
       "      <td>id27809</td>\n",
       "      <td>0</td>\n",
       "      <td>0</td>\n",
       "      <td>0</td>\n",
       "      <td>0.0</td>\n",
       "      <td>0</td>\n",
       "      <td>0</td>\n",
       "      <td>0.0</td>\n",
       "    </tr>\n",
       "    <tr>\n",
       "      <th>119</th>\n",
       "      <td>id23958</td>\n",
       "      <td>0</td>\n",
       "      <td>0</td>\n",
       "      <td>0</td>\n",
       "      <td>0.0</td>\n",
       "      <td>0</td>\n",
       "      <td>1</td>\n",
       "      <td>0.0</td>\n",
       "    </tr>\n",
       "    <tr>\n",
       "      <th>207</th>\n",
       "      <td>id08936</td>\n",
       "      <td>0</td>\n",
       "      <td>0</td>\n",
       "      <td>0</td>\n",
       "      <td>0.0</td>\n",
       "      <td>0</td>\n",
       "      <td>1</td>\n",
       "      <td>0.0</td>\n",
       "    </tr>\n",
       "    <tr>\n",
       "      <th>189</th>\n",
       "      <td>id25281</td>\n",
       "      <td>0</td>\n",
       "      <td>0</td>\n",
       "      <td>0</td>\n",
       "      <td>0.0</td>\n",
       "      <td>0</td>\n",
       "      <td>0</td>\n",
       "      <td>0.0</td>\n",
       "    </tr>\n",
       "    <tr>\n",
       "      <th>116</th>\n",
       "      <td>id20087</td>\n",
       "      <td>0</td>\n",
       "      <td>0</td>\n",
       "      <td>0</td>\n",
       "      <td>0.0</td>\n",
       "      <td>0</td>\n",
       "      <td>0</td>\n",
       "      <td>0.0</td>\n",
       "    </tr>\n",
       "    <tr>\n",
       "      <th>266</th>\n",
       "      <td>id26919</td>\n",
       "      <td>0</td>\n",
       "      <td>1</td>\n",
       "      <td>0</td>\n",
       "      <td>0.0</td>\n",
       "      <td>0</td>\n",
       "      <td>1</td>\n",
       "      <td>0.0</td>\n",
       "    </tr>\n",
       "    <tr>\n",
       "      <th>201</th>\n",
       "      <td>id14132</td>\n",
       "      <td>0</td>\n",
       "      <td>0</td>\n",
       "      <td>0</td>\n",
       "      <td>0.0</td>\n",
       "      <td>0</td>\n",
       "      <td>0</td>\n",
       "      <td>0.0</td>\n",
       "    </tr>\n",
       "    <tr>\n",
       "      <th>27</th>\n",
       "      <td>id23451</td>\n",
       "      <td>0</td>\n",
       "      <td>0</td>\n",
       "      <td>0</td>\n",
       "      <td>0.0</td>\n",
       "      <td>0</td>\n",
       "      <td>1</td>\n",
       "      <td>0.0</td>\n",
       "    </tr>\n",
       "    <tr>\n",
       "      <th>242</th>\n",
       "      <td>id16597</td>\n",
       "      <td>0</td>\n",
       "      <td>0</td>\n",
       "      <td>0</td>\n",
       "      <td>0.0</td>\n",
       "      <td>0</td>\n",
       "      <td>0</td>\n",
       "      <td>0.0</td>\n",
       "    </tr>\n",
       "    <tr>\n",
       "      <th>185</th>\n",
       "      <td>id20597</td>\n",
       "      <td>0</td>\n",
       "      <td>0</td>\n",
       "      <td>0</td>\n",
       "      <td>0.0</td>\n",
       "      <td>0</td>\n",
       "      <td>0</td>\n",
       "      <td>0.0</td>\n",
       "    </tr>\n",
       "    <tr>\n",
       "      <th>255</th>\n",
       "      <td>id14246</td>\n",
       "      <td>0</td>\n",
       "      <td>1</td>\n",
       "      <td>0</td>\n",
       "      <td>0.0</td>\n",
       "      <td>0</td>\n",
       "      <td>0</td>\n",
       "      <td>0.0</td>\n",
       "    </tr>\n",
       "    <tr>\n",
       "      <th>198</th>\n",
       "      <td>id22366</td>\n",
       "      <td>0</td>\n",
       "      <td>0</td>\n",
       "      <td>0</td>\n",
       "      <td>0.0</td>\n",
       "      <td>0</td>\n",
       "      <td>0</td>\n",
       "      <td>0.0</td>\n",
       "    </tr>\n",
       "    <tr>\n",
       "      <th>226</th>\n",
       "      <td>id17205</td>\n",
       "      <td>0</td>\n",
       "      <td>0</td>\n",
       "      <td>0</td>\n",
       "      <td>0.0</td>\n",
       "      <td>0</td>\n",
       "      <td>0</td>\n",
       "      <td>0.0</td>\n",
       "    </tr>\n",
       "    <tr>\n",
       "      <th>85</th>\n",
       "      <td>id10154</td>\n",
       "      <td>0</td>\n",
       "      <td>0</td>\n",
       "      <td>0</td>\n",
       "      <td>0.0</td>\n",
       "      <td>0</td>\n",
       "      <td>0</td>\n",
       "      <td>0.0</td>\n",
       "    </tr>\n",
       "    <tr>\n",
       "      <th>293</th>\n",
       "      <td>id16418</td>\n",
       "      <td>0</td>\n",
       "      <td>0</td>\n",
       "      <td>0</td>\n",
       "      <td>0.0</td>\n",
       "      <td>0</td>\n",
       "      <td>1</td>\n",
       "      <td>0.0</td>\n",
       "    </tr>\n",
       "    <tr>\n",
       "      <th>233</th>\n",
       "      <td>id06141</td>\n",
       "      <td>0</td>\n",
       "      <td>0</td>\n",
       "      <td>0</td>\n",
       "      <td>0.0</td>\n",
       "      <td>0</td>\n",
       "      <td>0</td>\n",
       "      <td>0.0</td>\n",
       "    </tr>\n",
       "    <tr>\n",
       "      <th>25</th>\n",
       "      <td>id10125</td>\n",
       "      <td>0</td>\n",
       "      <td>0</td>\n",
       "      <td>0</td>\n",
       "      <td>0.0</td>\n",
       "      <td>0</td>\n",
       "      <td>0</td>\n",
       "      <td>0.0</td>\n",
       "    </tr>\n",
       "    <tr>\n",
       "      <th>78</th>\n",
       "      <td>id01222</td>\n",
       "      <td>0</td>\n",
       "      <td>0</td>\n",
       "      <td>0</td>\n",
       "      <td>0.0</td>\n",
       "      <td>0</td>\n",
       "      <td>0</td>\n",
       "      <td>0.0</td>\n",
       "    </tr>\n",
       "    <tr>\n",
       "      <th>225</th>\n",
       "      <td>id17577</td>\n",
       "      <td>0</td>\n",
       "      <td>2</td>\n",
       "      <td>1</td>\n",
       "      <td>0.5</td>\n",
       "      <td>0</td>\n",
       "      <td>0</td>\n",
       "      <td>0.0</td>\n",
       "    </tr>\n",
       "    <tr>\n",
       "      <th>192</th>\n",
       "      <td>id04949</td>\n",
       "      <td>0</td>\n",
       "      <td>0</td>\n",
       "      <td>0</td>\n",
       "      <td>0.0</td>\n",
       "      <td>0</td>\n",
       "      <td>0</td>\n",
       "      <td>0.0</td>\n",
       "    </tr>\n",
       "    <tr>\n",
       "      <th>56</th>\n",
       "      <td>id20824</td>\n",
       "      <td>0</td>\n",
       "      <td>0</td>\n",
       "      <td>0</td>\n",
       "      <td>0.0</td>\n",
       "      <td>0</td>\n",
       "      <td>0</td>\n",
       "      <td>0.0</td>\n",
       "    </tr>\n",
       "    <tr>\n",
       "      <th>182</th>\n",
       "      <td>id04666</td>\n",
       "      <td>0</td>\n",
       "      <td>0</td>\n",
       "      <td>0</td>\n",
       "      <td>0.0</td>\n",
       "      <td>0</td>\n",
       "      <td>3</td>\n",
       "      <td>0.0</td>\n",
       "    </tr>\n",
       "  </tbody>\n",
       "</table>\n",
       "<p>225 rows × 8 columns</p>\n",
       "</div>"
      ],
      "text/plain": [
       "          id  count_emph  count_dial  count_dial_break  break_to_dial_ratio  \\\n",
       "66   id06312           0           1                 0                  0.0   \n",
       "77   id06377           0           0                 0                  0.0   \n",
       "18   id14862           0           0                 0                  0.0   \n",
       "253  id08978           0           0                 0                  0.0   \n",
       "267  id08711           0           0                 0                  0.0   \n",
       "96   id06172           0           0                 0                  0.0   \n",
       "261  id04561           0           1                 0                  0.0   \n",
       "211  id22514           0           0                 0                  0.0   \n",
       "158  id03570           0           0                 0                  0.0   \n",
       "84   id02647           0           1                 0                  0.0   \n",
       "277  id09682           0           0                 0                  0.0   \n",
       "8    id19322           0           0                 0                  0.0   \n",
       "282  id10265           0           0                 0                  0.0   \n",
       "153  id08447           1           1                 0                  0.0   \n",
       "263  id18908           0           0                 0                  0.0   \n",
       "159  id09713           0           0                 0                  0.0   \n",
       "131  id24267           0           0                 0                  0.0   \n",
       "16   id08441           0           0                 0                  0.0   \n",
       "143  id14312           0           0                 0                  0.0   \n",
       "38   id00144           0           0                 0                  0.0   \n",
       "289  id25430           0           0                 0                  0.0   \n",
       "37   id05258           0           0                 0                  0.0   \n",
       "150  id24399           0           1                 0                  0.0   \n",
       "1    id17569           0           0                 0                  0.0   \n",
       "142  id21404           0           0                 0                  0.0   \n",
       "250  id07585           0           0                 0                  0.0   \n",
       "10   id16737           0           1                 0                  0.0   \n",
       "14   id17189           0           0                 0                  0.0   \n",
       "199  id17453           1           0                 0                  0.0   \n",
       "243  id27949           0           0                 0                  0.0   \n",
       "..       ...         ...         ...               ...                  ...   \n",
       "120  id13881           0           0                 0                  0.0   \n",
       "117  id06500           0           1                 0                  0.0   \n",
       "62   id14749           0           0                 0                  0.0   \n",
       "124  id13315           0           0                 0                  0.0   \n",
       "205  id27761           0           0                 0                  0.0   \n",
       "86   id22605           0           0                 0                  0.0   \n",
       "94   id18067           0           0                 0                  0.0   \n",
       "95   id23088           0           0                 0                  0.0   \n",
       "254  id27809           0           0                 0                  0.0   \n",
       "119  id23958           0           0                 0                  0.0   \n",
       "207  id08936           0           0                 0                  0.0   \n",
       "189  id25281           0           0                 0                  0.0   \n",
       "116  id20087           0           0                 0                  0.0   \n",
       "266  id26919           0           1                 0                  0.0   \n",
       "201  id14132           0           0                 0                  0.0   \n",
       "27   id23451           0           0                 0                  0.0   \n",
       "242  id16597           0           0                 0                  0.0   \n",
       "185  id20597           0           0                 0                  0.0   \n",
       "255  id14246           0           1                 0                  0.0   \n",
       "198  id22366           0           0                 0                  0.0   \n",
       "226  id17205           0           0                 0                  0.0   \n",
       "85   id10154           0           0                 0                  0.0   \n",
       "293  id16418           0           0                 0                  0.0   \n",
       "233  id06141           0           0                 0                  0.0   \n",
       "25   id10125           0           0                 0                  0.0   \n",
       "78   id01222           0           0                 0                  0.0   \n",
       "225  id17577           0           2                 1                  0.5   \n",
       "192  id04949           0           0                 0                  0.0   \n",
       "56   id20824           0           0                 0                  0.0   \n",
       "182  id04666           0           0                 0                  0.0   \n",
       "\n",
       "     count_fem  count_mas  fem_to_mas_ratio  \n",
       "66           5          0               1.0  \n",
       "77           0          0               0.0  \n",
       "18           0          0               0.0  \n",
       "253          0          0               0.0  \n",
       "267          0          0               0.0  \n",
       "96           1          0               1.0  \n",
       "261          0          0               0.0  \n",
       "211          1          2               0.5  \n",
       "158          0          0               0.0  \n",
       "84           0          0               0.0  \n",
       "277          0          0               0.0  \n",
       "8            0          0               0.0  \n",
       "282          0          0               0.0  \n",
       "153          0          1               0.0  \n",
       "263          4          0               1.0  \n",
       "159          0          1               0.0  \n",
       "131          0          2               0.0  \n",
       "16           0          0               0.0  \n",
       "143          1          1               1.0  \n",
       "38           0          1               0.0  \n",
       "289          0          6               0.0  \n",
       "37           0          2               0.0  \n",
       "150          1          1               1.0  \n",
       "1            0          0               0.0  \n",
       "142          0          1               0.0  \n",
       "250          0          0               0.0  \n",
       "10           0          3               0.0  \n",
       "14           0          0               0.0  \n",
       "199          1          0               1.0  \n",
       "243          2          0               1.0  \n",
       "..         ...        ...               ...  \n",
       "120          0          2               0.0  \n",
       "117          0          1               0.0  \n",
       "62           0          0               0.0  \n",
       "124          1          2               0.5  \n",
       "205          0          0               0.0  \n",
       "86           2          0               1.0  \n",
       "94           2          0               1.0  \n",
       "95           4          4               1.0  \n",
       "254          0          0               0.0  \n",
       "119          0          1               0.0  \n",
       "207          0          1               0.0  \n",
       "189          0          0               0.0  \n",
       "116          0          0               0.0  \n",
       "266          0          1               0.0  \n",
       "201          0          0               0.0  \n",
       "27           0          1               0.0  \n",
       "242          0          0               0.0  \n",
       "185          0          0               0.0  \n",
       "255          0          0               0.0  \n",
       "198          0          0               0.0  \n",
       "226          0          0               0.0  \n",
       "85           0          0               0.0  \n",
       "293          0          1               0.0  \n",
       "233          0          0               0.0  \n",
       "25           0          0               0.0  \n",
       "78           0          0               0.0  \n",
       "225          0          0               0.0  \n",
       "192          0          0               0.0  \n",
       "56           0          0               0.0  \n",
       "182          0          3               0.0  \n",
       "\n",
       "[225 rows x 8 columns]"
      ]
     },
     "execution_count": 43,
     "metadata": {},
     "output_type": "execute_result"
    }
   ],
   "source": [
    "datameta1 = build_meta1(tr1)\n",
    "datameta1"
   ]
  },
  {
   "cell_type": "code",
   "execution_count": 44,
   "metadata": {
    "collapsed": true
   },
   "outputs": [],
   "source": [
    "def build_meta2(dataframe):\n",
    "    \"\"\"Builds a dataframe that shows the author and the other meta-data related to the sentence.\"\"\"\n",
    "    df_meta = dataframe.copy()\n",
    "    list_meta = [length_character,\n",
    "             length_sentence,\n",
    "             length_word,  \n",
    "             vocabulary_sentence,\n",
    "             density_stopword,\n",
    "             density_noun,\n",
    "             density_verb,\n",
    "             density_adjective,\n",
    "             adjective_to_noun,\n",
    "             density_coma,\n",
    "             density_point,\n",
    "             density_colon,\n",
    "             density_semicolon,\n",
    "             density_interro,\n",
    "             density_expl\n",
    "            ]\n",
    "    for f in list_meta:\n",
    "        df_meta[f.__name__] = df_meta.text.apply(f)\n",
    "    return df_meta "
   ]
  },
  {
   "cell_type": "code",
   "execution_count": 45,
   "metadata": {},
   "outputs": [
    {
     "data": {
      "text/html": [
       "<div>\n",
       "<style>\n",
       "    .dataframe thead tr:only-child th {\n",
       "        text-align: right;\n",
       "    }\n",
       "\n",
       "    .dataframe thead th {\n",
       "        text-align: left;\n",
       "    }\n",
       "\n",
       "    .dataframe tbody tr th {\n",
       "        vertical-align: top;\n",
       "    }\n",
       "</style>\n",
       "<table border=\"1\" class=\"dataframe\">\n",
       "  <thead>\n",
       "    <tr style=\"text-align: right;\">\n",
       "      <th></th>\n",
       "      <th>id</th>\n",
       "      <th>text</th>\n",
       "      <th>author</th>\n",
       "      <th>length_character</th>\n",
       "      <th>length_sentence</th>\n",
       "      <th>length_word</th>\n",
       "      <th>vocabulary_sentence</th>\n",
       "      <th>density_stopword</th>\n",
       "      <th>density_noun</th>\n",
       "      <th>density_verb</th>\n",
       "      <th>density_adjective</th>\n",
       "      <th>adjective_to_noun</th>\n",
       "      <th>density_coma</th>\n",
       "      <th>density_point</th>\n",
       "      <th>density_colon</th>\n",
       "      <th>density_semicolon</th>\n",
       "      <th>density_interro</th>\n",
       "      <th>density_expl</th>\n",
       "    </tr>\n",
       "  </thead>\n",
       "  <tbody>\n",
       "    <tr>\n",
       "      <th>66</th>\n",
       "      <td>id06312</td>\n",
       "      <td>I dared, I conquered them all, till now I have...</td>\n",
       "      <td>MWS</td>\n",
       "      <td>454.0</td>\n",
       "      <td>88.0</td>\n",
       "      <td>0.880000</td>\n",
       "      <td>0.620000</td>\n",
       "      <td>0.390000</td>\n",
       "      <td>0.270000</td>\n",
       "      <td>0.120000</td>\n",
       "      <td>0.040000</td>\n",
       "      <td>0.051948</td>\n",
       "      <td>0.017621</td>\n",
       "      <td>0.002203</td>\n",
       "      <td>0.0</td>\n",
       "      <td>0.004405</td>\n",
       "      <td>0.0</td>\n",
       "      <td>0.0</td>\n",
       "    </tr>\n",
       "    <tr>\n",
       "      <th>77</th>\n",
       "      <td>id06377</td>\n",
       "      <td>The stranger learned about twenty words at the...</td>\n",
       "      <td>MWS</td>\n",
       "      <td>154.0</td>\n",
       "      <td>27.0</td>\n",
       "      <td>0.843750</td>\n",
       "      <td>0.750000</td>\n",
       "      <td>0.437500</td>\n",
       "      <td>0.187500</td>\n",
       "      <td>0.125000</td>\n",
       "      <td>0.062500</td>\n",
       "      <td>0.090909</td>\n",
       "      <td>0.019481</td>\n",
       "      <td>0.006494</td>\n",
       "      <td>0.0</td>\n",
       "      <td>0.006494</td>\n",
       "      <td>0.0</td>\n",
       "      <td>0.0</td>\n",
       "    </tr>\n",
       "    <tr>\n",
       "      <th>18</th>\n",
       "      <td>id14862</td>\n",
       "      <td>I even went so far as to speak of a slightly h...</td>\n",
       "      <td>EAP</td>\n",
       "      <td>270.0</td>\n",
       "      <td>48.0</td>\n",
       "      <td>0.872727</td>\n",
       "      <td>0.709091</td>\n",
       "      <td>0.418182</td>\n",
       "      <td>0.145455</td>\n",
       "      <td>0.127273</td>\n",
       "      <td>0.090909</td>\n",
       "      <td>0.140845</td>\n",
       "      <td>0.022222</td>\n",
       "      <td>0.003704</td>\n",
       "      <td>0.0</td>\n",
       "      <td>0.000000</td>\n",
       "      <td>0.0</td>\n",
       "      <td>0.0</td>\n",
       "    </tr>\n",
       "    <tr>\n",
       "      <th>253</th>\n",
       "      <td>id08978</td>\n",
       "      <td>Xh, pxh, pxh, Jxhn, dxn't dx sx Yxu've gxt tx ...</td>\n",
       "      <td>EAP</td>\n",
       "      <td>129.0</td>\n",
       "      <td>28.0</td>\n",
       "      <td>0.682927</td>\n",
       "      <td>0.512195</td>\n",
       "      <td>0.073171</td>\n",
       "      <td>0.341463</td>\n",
       "      <td>0.121951</td>\n",
       "      <td>0.121951</td>\n",
       "      <td>0.144928</td>\n",
       "      <td>0.062016</td>\n",
       "      <td>0.007752</td>\n",
       "      <td>0.0</td>\n",
       "      <td>0.007752</td>\n",
       "      <td>0.0</td>\n",
       "      <td>0.0</td>\n",
       "    </tr>\n",
       "    <tr>\n",
       "      <th>267</th>\n",
       "      <td>id08711</td>\n",
       "      <td>The remains of the half finished creature, who...</td>\n",
       "      <td>MWS</td>\n",
       "      <td>165.0</td>\n",
       "      <td>32.0</td>\n",
       "      <td>0.888889</td>\n",
       "      <td>0.694444</td>\n",
       "      <td>0.388889</td>\n",
       "      <td>0.166667</td>\n",
       "      <td>0.222222</td>\n",
       "      <td>0.055556</td>\n",
       "      <td>0.083333</td>\n",
       "      <td>0.018182</td>\n",
       "      <td>0.006061</td>\n",
       "      <td>0.0</td>\n",
       "      <td>0.000000</td>\n",
       "      <td>0.0</td>\n",
       "      <td>0.0</td>\n",
       "    </tr>\n",
       "    <tr>\n",
       "      <th>96</th>\n",
       "      <td>id06172</td>\n",
       "      <td>I had expected some extravagant proposition, a...</td>\n",
       "      <td>MWS</td>\n",
       "      <td>147.0</td>\n",
       "      <td>22.0</td>\n",
       "      <td>0.880000</td>\n",
       "      <td>0.840000</td>\n",
       "      <td>0.280000</td>\n",
       "      <td>0.200000</td>\n",
       "      <td>0.160000</td>\n",
       "      <td>0.160000</td>\n",
       "      <td>0.228571</td>\n",
       "      <td>0.013605</td>\n",
       "      <td>0.006803</td>\n",
       "      <td>0.0</td>\n",
       "      <td>0.000000</td>\n",
       "      <td>0.0</td>\n",
       "      <td>0.0</td>\n",
       "    </tr>\n",
       "    <tr>\n",
       "      <th>261</th>\n",
       "      <td>id04561</td>\n",
       "      <td>\"Then up with you as soon as possible, for it ...</td>\n",
       "      <td>EAP</td>\n",
       "      <td>94.0</td>\n",
       "      <td>21.0</td>\n",
       "      <td>0.840000</td>\n",
       "      <td>0.760000</td>\n",
       "      <td>0.560000</td>\n",
       "      <td>0.000000</td>\n",
       "      <td>0.120000</td>\n",
       "      <td>0.080000</td>\n",
       "      <td>0.160000</td>\n",
       "      <td>0.010638</td>\n",
       "      <td>0.010638</td>\n",
       "      <td>0.0</td>\n",
       "      <td>0.000000</td>\n",
       "      <td>0.0</td>\n",
       "      <td>0.0</td>\n",
       "    </tr>\n",
       "    <tr>\n",
       "      <th>211</th>\n",
       "      <td>id22514</td>\n",
       "      <td>For a long time I dared not hope; but when his...</td>\n",
       "      <td>MWS</td>\n",
       "      <td>303.0</td>\n",
       "      <td>55.0</td>\n",
       "      <td>0.916667</td>\n",
       "      <td>0.716667</td>\n",
       "      <td>0.433333</td>\n",
       "      <td>0.183333</td>\n",
       "      <td>0.200000</td>\n",
       "      <td>0.066667</td>\n",
       "      <td>0.097561</td>\n",
       "      <td>0.009901</td>\n",
       "      <td>0.003300</td>\n",
       "      <td>0.0</td>\n",
       "      <td>0.003300</td>\n",
       "      <td>0.0</td>\n",
       "      <td>0.0</td>\n",
       "    </tr>\n",
       "    <tr>\n",
       "      <th>158</th>\n",
       "      <td>id03570</td>\n",
       "      <td>It is even possible that the train of my ideas...</td>\n",
       "      <td>MWS</td>\n",
       "      <td>111.0</td>\n",
       "      <td>22.0</td>\n",
       "      <td>0.956522</td>\n",
       "      <td>0.826087</td>\n",
       "      <td>0.478261</td>\n",
       "      <td>0.173913</td>\n",
       "      <td>0.173913</td>\n",
       "      <td>0.086957</td>\n",
       "      <td>0.129032</td>\n",
       "      <td>0.000000</td>\n",
       "      <td>0.009009</td>\n",
       "      <td>0.0</td>\n",
       "      <td>0.000000</td>\n",
       "      <td>0.0</td>\n",
       "      <td>0.0</td>\n",
       "    </tr>\n",
       "    <tr>\n",
       "      <th>84</th>\n",
       "      <td>id02647</td>\n",
       "      <td>\"That is absolutely needless,\" replied G .</td>\n",
       "      <td>EAP</td>\n",
       "      <td>42.0</td>\n",
       "      <td>7.0</td>\n",
       "      <td>0.700000</td>\n",
       "      <td>0.600000</td>\n",
       "      <td>0.100000</td>\n",
       "      <td>0.100000</td>\n",
       "      <td>0.200000</td>\n",
       "      <td>0.100000</td>\n",
       "      <td>0.166667</td>\n",
       "      <td>0.023810</td>\n",
       "      <td>0.023810</td>\n",
       "      <td>0.0</td>\n",
       "      <td>0.000000</td>\n",
       "      <td>0.0</td>\n",
       "      <td>0.0</td>\n",
       "    </tr>\n",
       "    <tr>\n",
       "      <th>277</th>\n",
       "      <td>id09682</td>\n",
       "      <td>At length, one escaping through a sewer, gave ...</td>\n",
       "      <td>EAP</td>\n",
       "      <td>70.0</td>\n",
       "      <td>13.0</td>\n",
       "      <td>0.812500</td>\n",
       "      <td>0.812500</td>\n",
       "      <td>0.312500</td>\n",
       "      <td>0.312500</td>\n",
       "      <td>0.062500</td>\n",
       "      <td>0.000000</td>\n",
       "      <td>0.000000</td>\n",
       "      <td>0.028571</td>\n",
       "      <td>0.014286</td>\n",
       "      <td>0.0</td>\n",
       "      <td>0.000000</td>\n",
       "      <td>0.0</td>\n",
       "      <td>0.0</td>\n",
       "    </tr>\n",
       "    <tr>\n",
       "      <th>8</th>\n",
       "      <td>id19322</td>\n",
       "      <td>I knew that you could not say to yourself 'ste...</td>\n",
       "      <td>EAP</td>\n",
       "      <td>488.0</td>\n",
       "      <td>88.0</td>\n",
       "      <td>0.897959</td>\n",
       "      <td>0.632653</td>\n",
       "      <td>0.459184</td>\n",
       "      <td>0.122449</td>\n",
       "      <td>0.142857</td>\n",
       "      <td>0.061224</td>\n",
       "      <td>0.098361</td>\n",
       "      <td>0.014344</td>\n",
       "      <td>0.002049</td>\n",
       "      <td>0.0</td>\n",
       "      <td>0.002049</td>\n",
       "      <td>0.0</td>\n",
       "      <td>0.0</td>\n",
       "    </tr>\n",
       "    <tr>\n",
       "      <th>282</th>\n",
       "      <td>id10265</td>\n",
       "      <td>Time, place, and circumstances rendered it a m...</td>\n",
       "      <td>EAP</td>\n",
       "      <td>68.0</td>\n",
       "      <td>10.0</td>\n",
       "      <td>0.769231</td>\n",
       "      <td>0.769231</td>\n",
       "      <td>0.230769</td>\n",
       "      <td>0.384615</td>\n",
       "      <td>0.076923</td>\n",
       "      <td>0.000000</td>\n",
       "      <td>0.000000</td>\n",
       "      <td>0.029412</td>\n",
       "      <td>0.014706</td>\n",
       "      <td>0.0</td>\n",
       "      <td>0.000000</td>\n",
       "      <td>0.0</td>\n",
       "      <td>0.0</td>\n",
       "    </tr>\n",
       "    <tr>\n",
       "      <th>153</th>\n",
       "      <td>id08447</td>\n",
       "      <td>It was in the spirit of this wisdom that, amon...</td>\n",
       "      <td>EAP</td>\n",
       "      <td>266.0</td>\n",
       "      <td>46.5</td>\n",
       "      <td>0.830357</td>\n",
       "      <td>0.626911</td>\n",
       "      <td>0.419643</td>\n",
       "      <td>0.250000</td>\n",
       "      <td>0.116071</td>\n",
       "      <td>0.053571</td>\n",
       "      <td>0.071429</td>\n",
       "      <td>0.024436</td>\n",
       "      <td>0.003759</td>\n",
       "      <td>0.0</td>\n",
       "      <td>0.000000</td>\n",
       "      <td>0.0</td>\n",
       "      <td>0.0</td>\n",
       "    </tr>\n",
       "    <tr>\n",
       "      <th>263</th>\n",
       "      <td>id18908</td>\n",
       "      <td>I shewed her the dangers which her children in...</td>\n",
       "      <td>MWS</td>\n",
       "      <td>143.0</td>\n",
       "      <td>26.0</td>\n",
       "      <td>0.928571</td>\n",
       "      <td>0.785714</td>\n",
       "      <td>0.500000</td>\n",
       "      <td>0.214286</td>\n",
       "      <td>0.142857</td>\n",
       "      <td>0.000000</td>\n",
       "      <td>0.000000</td>\n",
       "      <td>0.000000</td>\n",
       "      <td>0.006993</td>\n",
       "      <td>0.0</td>\n",
       "      <td>0.006993</td>\n",
       "      <td>0.0</td>\n",
       "      <td>0.0</td>\n",
       "    </tr>\n",
       "    <tr>\n",
       "      <th>159</th>\n",
       "      <td>id09713</td>\n",
       "      <td>I had not entered the army on my own initiativ...</td>\n",
       "      <td>HPL</td>\n",
       "      <td>205.0</td>\n",
       "      <td>35.0</td>\n",
       "      <td>0.921053</td>\n",
       "      <td>0.789474</td>\n",
       "      <td>0.394737</td>\n",
       "      <td>0.289474</td>\n",
       "      <td>0.078947</td>\n",
       "      <td>0.131579</td>\n",
       "      <td>0.166667</td>\n",
       "      <td>0.009756</td>\n",
       "      <td>0.009756</td>\n",
       "      <td>0.0</td>\n",
       "      <td>0.000000</td>\n",
       "      <td>0.0</td>\n",
       "      <td>0.0</td>\n",
       "    </tr>\n",
       "    <tr>\n",
       "      <th>131</th>\n",
       "      <td>id24267</td>\n",
       "      <td>He did not himself understand these words, or ...</td>\n",
       "      <td>HPL</td>\n",
       "      <td>163.0</td>\n",
       "      <td>26.0</td>\n",
       "      <td>0.896552</td>\n",
       "      <td>0.862069</td>\n",
       "      <td>0.379310</td>\n",
       "      <td>0.137931</td>\n",
       "      <td>0.241379</td>\n",
       "      <td>0.137931</td>\n",
       "      <td>0.216216</td>\n",
       "      <td>0.006135</td>\n",
       "      <td>0.006135</td>\n",
       "      <td>0.0</td>\n",
       "      <td>0.006135</td>\n",
       "      <td>0.0</td>\n",
       "      <td>0.0</td>\n",
       "    </tr>\n",
       "    <tr>\n",
       "      <th>16</th>\n",
       "      <td>id08441</td>\n",
       "      <td>To these speeches they gave, of course, their ...</td>\n",
       "      <td>EAP</td>\n",
       "      <td>340.0</td>\n",
       "      <td>61.0</td>\n",
       "      <td>0.859155</td>\n",
       "      <td>0.690141</td>\n",
       "      <td>0.408451</td>\n",
       "      <td>0.183099</td>\n",
       "      <td>0.126761</td>\n",
       "      <td>0.056338</td>\n",
       "      <td>0.082474</td>\n",
       "      <td>0.020588</td>\n",
       "      <td>0.002941</td>\n",
       "      <td>0.0</td>\n",
       "      <td>0.005882</td>\n",
       "      <td>0.0</td>\n",
       "      <td>0.0</td>\n",
       "    </tr>\n",
       "    <tr>\n",
       "      <th>143</th>\n",
       "      <td>id14312</td>\n",
       "      <td>He obeyed her injunctions, and passed a year i...</td>\n",
       "      <td>MWS</td>\n",
       "      <td>68.0</td>\n",
       "      <td>12.0</td>\n",
       "      <td>0.857143</td>\n",
       "      <td>0.785714</td>\n",
       "      <td>0.357143</td>\n",
       "      <td>0.285714</td>\n",
       "      <td>0.142857</td>\n",
       "      <td>0.000000</td>\n",
       "      <td>0.000000</td>\n",
       "      <td>0.014706</td>\n",
       "      <td>0.014706</td>\n",
       "      <td>0.0</td>\n",
       "      <td>0.000000</td>\n",
       "      <td>0.0</td>\n",
       "      <td>0.0</td>\n",
       "    </tr>\n",
       "    <tr>\n",
       "      <th>38</th>\n",
       "      <td>id00144</td>\n",
       "      <td>After the first start, he replaced the tissue ...</td>\n",
       "      <td>HPL</td>\n",
       "      <td>128.0</td>\n",
       "      <td>23.0</td>\n",
       "      <td>0.884615</td>\n",
       "      <td>0.730769</td>\n",
       "      <td>0.461538</td>\n",
       "      <td>0.192308</td>\n",
       "      <td>0.115385</td>\n",
       "      <td>0.038462</td>\n",
       "      <td>0.055556</td>\n",
       "      <td>0.015625</td>\n",
       "      <td>0.007812</td>\n",
       "      <td>0.0</td>\n",
       "      <td>0.000000</td>\n",
       "      <td>0.0</td>\n",
       "      <td>0.0</td>\n",
       "    </tr>\n",
       "    <tr>\n",
       "      <th>289</th>\n",
       "      <td>id25430</td>\n",
       "      <td>I will win him to me; he shall not deny his gr...</td>\n",
       "      <td>MWS</td>\n",
       "      <td>289.0</td>\n",
       "      <td>59.0</td>\n",
       "      <td>0.951613</td>\n",
       "      <td>0.661290</td>\n",
       "      <td>0.516129</td>\n",
       "      <td>0.161290</td>\n",
       "      <td>0.129032</td>\n",
       "      <td>0.048387</td>\n",
       "      <td>0.073171</td>\n",
       "      <td>0.003460</td>\n",
       "      <td>0.003460</td>\n",
       "      <td>0.0</td>\n",
       "      <td>0.003460</td>\n",
       "      <td>0.0</td>\n",
       "      <td>0.0</td>\n",
       "    </tr>\n",
       "    <tr>\n",
       "      <th>37</th>\n",
       "      <td>id05258</td>\n",
       "      <td>His soul overflowed with ardent affections, an...</td>\n",
       "      <td>MWS</td>\n",
       "      <td>170.0</td>\n",
       "      <td>29.0</td>\n",
       "      <td>0.935484</td>\n",
       "      <td>0.806452</td>\n",
       "      <td>0.451613</td>\n",
       "      <td>0.193548</td>\n",
       "      <td>0.193548</td>\n",
       "      <td>0.064516</td>\n",
       "      <td>0.093023</td>\n",
       "      <td>0.005882</td>\n",
       "      <td>0.005882</td>\n",
       "      <td>0.0</td>\n",
       "      <td>0.000000</td>\n",
       "      <td>0.0</td>\n",
       "      <td>0.0</td>\n",
       "    </tr>\n",
       "    <tr>\n",
       "      <th>150</th>\n",
       "      <td>id24399</td>\n",
       "      <td>\"Pierre Moreau, tobacconist, deposes that he h...</td>\n",
       "      <td>EAP</td>\n",
       "      <td>159.0</td>\n",
       "      <td>26.0</td>\n",
       "      <td>0.866667</td>\n",
       "      <td>0.866667</td>\n",
       "      <td>0.366667</td>\n",
       "      <td>0.333333</td>\n",
       "      <td>0.133333</td>\n",
       "      <td>0.033333</td>\n",
       "      <td>0.040000</td>\n",
       "      <td>0.012579</td>\n",
       "      <td>0.006289</td>\n",
       "      <td>0.0</td>\n",
       "      <td>0.000000</td>\n",
       "      <td>0.0</td>\n",
       "      <td>0.0</td>\n",
       "    </tr>\n",
       "    <tr>\n",
       "      <th>1</th>\n",
       "      <td>id17569</td>\n",
       "      <td>It never once occurred to me that the fumbling...</td>\n",
       "      <td>HPL</td>\n",
       "      <td>71.0</td>\n",
       "      <td>14.0</td>\n",
       "      <td>0.933333</td>\n",
       "      <td>0.933333</td>\n",
       "      <td>0.466667</td>\n",
       "      <td>0.133333</td>\n",
       "      <td>0.133333</td>\n",
       "      <td>0.066667</td>\n",
       "      <td>0.105263</td>\n",
       "      <td>0.000000</td>\n",
       "      <td>0.014085</td>\n",
       "      <td>0.0</td>\n",
       "      <td>0.000000</td>\n",
       "      <td>0.0</td>\n",
       "      <td>0.0</td>\n",
       "    </tr>\n",
       "    <tr>\n",
       "      <th>142</th>\n",
       "      <td>id21404</td>\n",
       "      <td>A bear once, attempting to swim from Lofoden t...</td>\n",
       "      <td>EAP</td>\n",
       "      <td>150.0</td>\n",
       "      <td>29.0</td>\n",
       "      <td>0.852941</td>\n",
       "      <td>0.794118</td>\n",
       "      <td>0.470588</td>\n",
       "      <td>0.147059</td>\n",
       "      <td>0.235294</td>\n",
       "      <td>0.000000</td>\n",
       "      <td>0.000000</td>\n",
       "      <td>0.026667</td>\n",
       "      <td>0.006667</td>\n",
       "      <td>0.0</td>\n",
       "      <td>0.000000</td>\n",
       "      <td>0.0</td>\n",
       "      <td>0.0</td>\n",
       "    </tr>\n",
       "    <tr>\n",
       "      <th>250</th>\n",
       "      <td>id07585</td>\n",
       "      <td>I retired early and full of dread, and for a l...</td>\n",
       "      <td>HPL</td>\n",
       "      <td>107.0</td>\n",
       "      <td>22.0</td>\n",
       "      <td>0.916667</td>\n",
       "      <td>0.791667</td>\n",
       "      <td>0.458333</td>\n",
       "      <td>0.166667</td>\n",
       "      <td>0.083333</td>\n",
       "      <td>0.166667</td>\n",
       "      <td>0.250000</td>\n",
       "      <td>0.009346</td>\n",
       "      <td>0.009346</td>\n",
       "      <td>0.0</td>\n",
       "      <td>0.000000</td>\n",
       "      <td>0.0</td>\n",
       "      <td>0.0</td>\n",
       "    </tr>\n",
       "    <tr>\n",
       "      <th>10</th>\n",
       "      <td>id16737</td>\n",
       "      <td>He shall find that I can feel my injuries; he ...</td>\n",
       "      <td>MWS</td>\n",
       "      <td>107.0</td>\n",
       "      <td>22.0</td>\n",
       "      <td>0.880000</td>\n",
       "      <td>0.720000</td>\n",
       "      <td>0.440000</td>\n",
       "      <td>0.160000</td>\n",
       "      <td>0.200000</td>\n",
       "      <td>0.040000</td>\n",
       "      <td>0.060606</td>\n",
       "      <td>0.000000</td>\n",
       "      <td>0.009346</td>\n",
       "      <td>0.0</td>\n",
       "      <td>0.009346</td>\n",
       "      <td>0.0</td>\n",
       "      <td>0.0</td>\n",
       "    </tr>\n",
       "    <tr>\n",
       "      <th>14</th>\n",
       "      <td>id17189</td>\n",
       "      <td>But a glance will show the fallacy of this idea.</td>\n",
       "      <td>EAP</td>\n",
       "      <td>48.0</td>\n",
       "      <td>10.0</td>\n",
       "      <td>0.909091</td>\n",
       "      <td>0.909091</td>\n",
       "      <td>0.363636</td>\n",
       "      <td>0.272727</td>\n",
       "      <td>0.090909</td>\n",
       "      <td>0.000000</td>\n",
       "      <td>0.000000</td>\n",
       "      <td>0.000000</td>\n",
       "      <td>0.020833</td>\n",
       "      <td>0.0</td>\n",
       "      <td>0.000000</td>\n",
       "      <td>0.0</td>\n",
       "      <td>0.0</td>\n",
       "    </tr>\n",
       "    <tr>\n",
       "      <th>199</th>\n",
       "      <td>id17453</td>\n",
       "      <td>I repeat that in landscape arrangements, or co...</td>\n",
       "      <td>EAP</td>\n",
       "      <td>246.0</td>\n",
       "      <td>38.0</td>\n",
       "      <td>0.808511</td>\n",
       "      <td>0.744681</td>\n",
       "      <td>0.382979</td>\n",
       "      <td>0.234043</td>\n",
       "      <td>0.127660</td>\n",
       "      <td>0.042553</td>\n",
       "      <td>0.057971</td>\n",
       "      <td>0.024390</td>\n",
       "      <td>0.004065</td>\n",
       "      <td>0.0</td>\n",
       "      <td>0.000000</td>\n",
       "      <td>0.0</td>\n",
       "      <td>0.0</td>\n",
       "    </tr>\n",
       "    <tr>\n",
       "      <th>243</th>\n",
       "      <td>id27949</td>\n",
       "      <td>In this particular instance, it will be unders...</td>\n",
       "      <td>EAP</td>\n",
       "      <td>157.0</td>\n",
       "      <td>26.0</td>\n",
       "      <td>0.896552</td>\n",
       "      <td>0.896552</td>\n",
       "      <td>0.448276</td>\n",
       "      <td>0.137931</td>\n",
       "      <td>0.103448</td>\n",
       "      <td>0.206897</td>\n",
       "      <td>0.324324</td>\n",
       "      <td>0.012739</td>\n",
       "      <td>0.006369</td>\n",
       "      <td>0.0</td>\n",
       "      <td>0.000000</td>\n",
       "      <td>0.0</td>\n",
       "      <td>0.0</td>\n",
       "    </tr>\n",
       "    <tr>\n",
       "      <th>...</th>\n",
       "      <td>...</td>\n",
       "      <td>...</td>\n",
       "      <td>...</td>\n",
       "      <td>...</td>\n",
       "      <td>...</td>\n",
       "      <td>...</td>\n",
       "      <td>...</td>\n",
       "      <td>...</td>\n",
       "      <td>...</td>\n",
       "      <td>...</td>\n",
       "      <td>...</td>\n",
       "      <td>...</td>\n",
       "      <td>...</td>\n",
       "      <td>...</td>\n",
       "      <td>...</td>\n",
       "      <td>...</td>\n",
       "      <td>...</td>\n",
       "      <td>...</td>\n",
       "    </tr>\n",
       "    <tr>\n",
       "      <th>120</th>\n",
       "      <td>id13881</td>\n",
       "      <td>He determined to extract and condense all of g...</td>\n",
       "      <td>MWS</td>\n",
       "      <td>162.0</td>\n",
       "      <td>27.0</td>\n",
       "      <td>0.843750</td>\n",
       "      <td>0.781250</td>\n",
       "      <td>0.406250</td>\n",
       "      <td>0.187500</td>\n",
       "      <td>0.156250</td>\n",
       "      <td>0.031250</td>\n",
       "      <td>0.045455</td>\n",
       "      <td>0.024691</td>\n",
       "      <td>0.006173</td>\n",
       "      <td>0.0</td>\n",
       "      <td>0.000000</td>\n",
       "      <td>0.0</td>\n",
       "      <td>0.0</td>\n",
       "    </tr>\n",
       "    <tr>\n",
       "      <th>117</th>\n",
       "      <td>id06500</td>\n",
       "      <td>\"I believe, sir, you have forgotten to pay for...</td>\n",
       "      <td>EAP</td>\n",
       "      <td>70.0</td>\n",
       "      <td>13.0</td>\n",
       "      <td>0.722222</td>\n",
       "      <td>0.722222</td>\n",
       "      <td>0.333333</td>\n",
       "      <td>0.111111</td>\n",
       "      <td>0.222222</td>\n",
       "      <td>0.000000</td>\n",
       "      <td>0.000000</td>\n",
       "      <td>0.028571</td>\n",
       "      <td>0.014286</td>\n",
       "      <td>0.0</td>\n",
       "      <td>0.000000</td>\n",
       "      <td>0.0</td>\n",
       "      <td>0.0</td>\n",
       "    </tr>\n",
       "    <tr>\n",
       "      <th>62</th>\n",
       "      <td>id14749</td>\n",
       "      <td>The state rooms were sufficiently roomy, and e...</td>\n",
       "      <td>EAP</td>\n",
       "      <td>86.0</td>\n",
       "      <td>15.0</td>\n",
       "      <td>0.833333</td>\n",
       "      <td>0.777778</td>\n",
       "      <td>0.388889</td>\n",
       "      <td>0.166667</td>\n",
       "      <td>0.166667</td>\n",
       "      <td>0.055556</td>\n",
       "      <td>0.083333</td>\n",
       "      <td>0.023256</td>\n",
       "      <td>0.011628</td>\n",
       "      <td>0.0</td>\n",
       "      <td>0.000000</td>\n",
       "      <td>0.0</td>\n",
       "      <td>0.0</td>\n",
       "    </tr>\n",
       "    <tr>\n",
       "      <th>124</th>\n",
       "      <td>id13315</td>\n",
       "      <td>Then the lean Nith remarked that no one had se...</td>\n",
       "      <td>HPL</td>\n",
       "      <td>108.0</td>\n",
       "      <td>23.0</td>\n",
       "      <td>0.958333</td>\n",
       "      <td>0.833333</td>\n",
       "      <td>0.416667</td>\n",
       "      <td>0.250000</td>\n",
       "      <td>0.166667</td>\n",
       "      <td>0.083333</td>\n",
       "      <td>0.111111</td>\n",
       "      <td>0.000000</td>\n",
       "      <td>0.009259</td>\n",
       "      <td>0.0</td>\n",
       "      <td>0.000000</td>\n",
       "      <td>0.0</td>\n",
       "      <td>0.0</td>\n",
       "    </tr>\n",
       "    <tr>\n",
       "      <th>205</th>\n",
       "      <td>id27761</td>\n",
       "      <td>It was perhaps an effect of such surroundings ...</td>\n",
       "      <td>HPL</td>\n",
       "      <td>96.0</td>\n",
       "      <td>17.0</td>\n",
       "      <td>0.944444</td>\n",
       "      <td>0.888889</td>\n",
       "      <td>0.444444</td>\n",
       "      <td>0.277778</td>\n",
       "      <td>0.111111</td>\n",
       "      <td>0.055556</td>\n",
       "      <td>0.071429</td>\n",
       "      <td>0.000000</td>\n",
       "      <td>0.010417</td>\n",
       "      <td>0.0</td>\n",
       "      <td>0.000000</td>\n",
       "      <td>0.0</td>\n",
       "      <td>0.0</td>\n",
       "    </tr>\n",
       "    <tr>\n",
       "      <th>86</th>\n",
       "      <td>id22605</td>\n",
       "      <td>To be near him, to be loved by him, to feel hi...</td>\n",
       "      <td>MWS</td>\n",
       "      <td>92.0</td>\n",
       "      <td>21.0</td>\n",
       "      <td>0.840000</td>\n",
       "      <td>0.600000</td>\n",
       "      <td>0.600000</td>\n",
       "      <td>0.080000</td>\n",
       "      <td>0.200000</td>\n",
       "      <td>0.040000</td>\n",
       "      <td>0.068966</td>\n",
       "      <td>0.032609</td>\n",
       "      <td>0.010870</td>\n",
       "      <td>0.0</td>\n",
       "      <td>0.000000</td>\n",
       "      <td>0.0</td>\n",
       "      <td>0.0</td>\n",
       "    </tr>\n",
       "    <tr>\n",
       "      <th>94</th>\n",
       "      <td>id18067</td>\n",
       "      <td>Maternal affection had not rendered Idris self...</td>\n",
       "      <td>MWS</td>\n",
       "      <td>175.0</td>\n",
       "      <td>28.0</td>\n",
       "      <td>0.875000</td>\n",
       "      <td>0.750000</td>\n",
       "      <td>0.468750</td>\n",
       "      <td>0.218750</td>\n",
       "      <td>0.125000</td>\n",
       "      <td>0.125000</td>\n",
       "      <td>0.173913</td>\n",
       "      <td>0.011429</td>\n",
       "      <td>0.005714</td>\n",
       "      <td>0.0</td>\n",
       "      <td>0.005714</td>\n",
       "      <td>0.0</td>\n",
       "      <td>0.0</td>\n",
       "    </tr>\n",
       "    <tr>\n",
       "      <th>95</th>\n",
       "      <td>id23088</td>\n",
       "      <td>He came like a protecting spirit to the poor g...</td>\n",
       "      <td>MWS</td>\n",
       "      <td>201.0</td>\n",
       "      <td>37.0</td>\n",
       "      <td>0.925000</td>\n",
       "      <td>0.675000</td>\n",
       "      <td>0.550000</td>\n",
       "      <td>0.200000</td>\n",
       "      <td>0.125000</td>\n",
       "      <td>0.025000</td>\n",
       "      <td>0.035714</td>\n",
       "      <td>0.004975</td>\n",
       "      <td>0.004975</td>\n",
       "      <td>0.0</td>\n",
       "      <td>0.004975</td>\n",
       "      <td>0.0</td>\n",
       "      <td>0.0</td>\n",
       "    </tr>\n",
       "    <tr>\n",
       "      <th>254</th>\n",
       "      <td>id27809</td>\n",
       "      <td>You would have sworn that the writer had been ...</td>\n",
       "      <td>EAP</td>\n",
       "      <td>78.0</td>\n",
       "      <td>16.0</td>\n",
       "      <td>0.941176</td>\n",
       "      <td>0.941176</td>\n",
       "      <td>0.588235</td>\n",
       "      <td>0.117647</td>\n",
       "      <td>0.352941</td>\n",
       "      <td>0.000000</td>\n",
       "      <td>0.000000</td>\n",
       "      <td>0.000000</td>\n",
       "      <td>0.012821</td>\n",
       "      <td>0.0</td>\n",
       "      <td>0.000000</td>\n",
       "      <td>0.0</td>\n",
       "      <td>0.0</td>\n",
       "    </tr>\n",
       "    <tr>\n",
       "      <th>119</th>\n",
       "      <td>id23958</td>\n",
       "      <td>Only his eyes stayed whole, and they glared wi...</td>\n",
       "      <td>HPL</td>\n",
       "      <td>141.0</td>\n",
       "      <td>23.0</td>\n",
       "      <td>0.884615</td>\n",
       "      <td>0.846154</td>\n",
       "      <td>0.384615</td>\n",
       "      <td>0.115385</td>\n",
       "      <td>0.230769</td>\n",
       "      <td>0.076923</td>\n",
       "      <td>0.125000</td>\n",
       "      <td>0.014184</td>\n",
       "      <td>0.007092</td>\n",
       "      <td>0.0</td>\n",
       "      <td>0.000000</td>\n",
       "      <td>0.0</td>\n",
       "      <td>0.0</td>\n",
       "    </tr>\n",
       "    <tr>\n",
       "      <th>207</th>\n",
       "      <td>id08936</td>\n",
       "      <td>The prince had provided all the appliances of ...</td>\n",
       "      <td>EAP</td>\n",
       "      <td>55.0</td>\n",
       "      <td>9.0</td>\n",
       "      <td>0.900000</td>\n",
       "      <td>0.800000</td>\n",
       "      <td>0.400000</td>\n",
       "      <td>0.300000</td>\n",
       "      <td>0.200000</td>\n",
       "      <td>0.000000</td>\n",
       "      <td>0.000000</td>\n",
       "      <td>0.000000</td>\n",
       "      <td>0.018182</td>\n",
       "      <td>0.0</td>\n",
       "      <td>0.000000</td>\n",
       "      <td>0.0</td>\n",
       "      <td>0.0</td>\n",
       "    </tr>\n",
       "    <tr>\n",
       "      <th>189</th>\n",
       "      <td>id25281</td>\n",
       "      <td>But these absurdities I must not pause to detail.</td>\n",
       "      <td>EAP</td>\n",
       "      <td>49.0</td>\n",
       "      <td>9.0</td>\n",
       "      <td>0.900000</td>\n",
       "      <td>0.900000</td>\n",
       "      <td>0.300000</td>\n",
       "      <td>0.100000</td>\n",
       "      <td>0.200000</td>\n",
       "      <td>0.000000</td>\n",
       "      <td>0.000000</td>\n",
       "      <td>0.000000</td>\n",
       "      <td>0.020408</td>\n",
       "      <td>0.0</td>\n",
       "      <td>0.000000</td>\n",
       "      <td>0.0</td>\n",
       "      <td>0.0</td>\n",
       "    </tr>\n",
       "    <tr>\n",
       "      <th>116</th>\n",
       "      <td>id20087</td>\n",
       "      <td>It was in these slums along Main Street that I...</td>\n",
       "      <td>HPL</td>\n",
       "      <td>118.0</td>\n",
       "      <td>22.0</td>\n",
       "      <td>0.916667</td>\n",
       "      <td>0.916667</td>\n",
       "      <td>0.416667</td>\n",
       "      <td>0.166667</td>\n",
       "      <td>0.166667</td>\n",
       "      <td>0.125000</td>\n",
       "      <td>0.187500</td>\n",
       "      <td>0.008475</td>\n",
       "      <td>0.008475</td>\n",
       "      <td>0.0</td>\n",
       "      <td>0.000000</td>\n",
       "      <td>0.0</td>\n",
       "      <td>0.0</td>\n",
       "    </tr>\n",
       "    <tr>\n",
       "      <th>266</th>\n",
       "      <td>id26919</td>\n",
       "      <td>\"Mille tonnerres\" ejaculated the Prince de Gre...</td>\n",
       "      <td>EAP</td>\n",
       "      <td>54.0</td>\n",
       "      <td>7.0</td>\n",
       "      <td>0.700000</td>\n",
       "      <td>0.700000</td>\n",
       "      <td>0.100000</td>\n",
       "      <td>0.400000</td>\n",
       "      <td>0.100000</td>\n",
       "      <td>0.000000</td>\n",
       "      <td>0.000000</td>\n",
       "      <td>0.000000</td>\n",
       "      <td>0.018519</td>\n",
       "      <td>0.0</td>\n",
       "      <td>0.000000</td>\n",
       "      <td>0.0</td>\n",
       "      <td>0.0</td>\n",
       "    </tr>\n",
       "    <tr>\n",
       "      <th>201</th>\n",
       "      <td>id14132</td>\n",
       "      <td>In the meantime it was folly to grieve, or to ...</td>\n",
       "      <td>EAP</td>\n",
       "      <td>52.0</td>\n",
       "      <td>11.0</td>\n",
       "      <td>0.846154</td>\n",
       "      <td>0.769231</td>\n",
       "      <td>0.461538</td>\n",
       "      <td>0.076923</td>\n",
       "      <td>0.230769</td>\n",
       "      <td>0.000000</td>\n",
       "      <td>0.000000</td>\n",
       "      <td>0.019231</td>\n",
       "      <td>0.019231</td>\n",
       "      <td>0.0</td>\n",
       "      <td>0.000000</td>\n",
       "      <td>0.0</td>\n",
       "      <td>0.0</td>\n",
       "    </tr>\n",
       "    <tr>\n",
       "      <th>27</th>\n",
       "      <td>id23451</td>\n",
       "      <td>I seemed to be upon the verge of comprehension...</td>\n",
       "      <td>EAP</td>\n",
       "      <td>180.0</td>\n",
       "      <td>31.0</td>\n",
       "      <td>0.861111</td>\n",
       "      <td>0.666667</td>\n",
       "      <td>0.361111</td>\n",
       "      <td>0.222222</td>\n",
       "      <td>0.166667</td>\n",
       "      <td>0.027778</td>\n",
       "      <td>0.038462</td>\n",
       "      <td>0.022222</td>\n",
       "      <td>0.005556</td>\n",
       "      <td>0.0</td>\n",
       "      <td>0.000000</td>\n",
       "      <td>0.0</td>\n",
       "      <td>0.0</td>\n",
       "    </tr>\n",
       "    <tr>\n",
       "      <th>242</th>\n",
       "      <td>id16597</td>\n",
       "      <td>It would be useless to describe the playing of...</td>\n",
       "      <td>HPL</td>\n",
       "      <td>81.0</td>\n",
       "      <td>15.0</td>\n",
       "      <td>0.937500</td>\n",
       "      <td>0.937500</td>\n",
       "      <td>0.437500</td>\n",
       "      <td>0.250000</td>\n",
       "      <td>0.125000</td>\n",
       "      <td>0.125000</td>\n",
       "      <td>0.166667</td>\n",
       "      <td>0.000000</td>\n",
       "      <td>0.012346</td>\n",
       "      <td>0.0</td>\n",
       "      <td>0.000000</td>\n",
       "      <td>0.0</td>\n",
       "      <td>0.0</td>\n",
       "    </tr>\n",
       "    <tr>\n",
       "      <th>185</th>\n",
       "      <td>id20597</td>\n",
       "      <td>Interspersed about the room, crossing and recr...</td>\n",
       "      <td>EAP</td>\n",
       "      <td>418.0</td>\n",
       "      <td>64.0</td>\n",
       "      <td>0.842105</td>\n",
       "      <td>0.723684</td>\n",
       "      <td>0.328947</td>\n",
       "      <td>0.236842</td>\n",
       "      <td>0.131579</td>\n",
       "      <td>0.157895</td>\n",
       "      <td>0.214286</td>\n",
       "      <td>0.026316</td>\n",
       "      <td>0.002392</td>\n",
       "      <td>0.0</td>\n",
       "      <td>0.000000</td>\n",
       "      <td>0.0</td>\n",
       "      <td>0.0</td>\n",
       "    </tr>\n",
       "    <tr>\n",
       "      <th>255</th>\n",
       "      <td>id14246</td>\n",
       "      <td>\"There are a prodigious number of stately pala...</td>\n",
       "      <td>EAP</td>\n",
       "      <td>51.0</td>\n",
       "      <td>8.0</td>\n",
       "      <td>0.727273</td>\n",
       "      <td>0.727273</td>\n",
       "      <td>0.272727</td>\n",
       "      <td>0.181818</td>\n",
       "      <td>0.090909</td>\n",
       "      <td>0.181818</td>\n",
       "      <td>0.266667</td>\n",
       "      <td>0.000000</td>\n",
       "      <td>0.019608</td>\n",
       "      <td>0.0</td>\n",
       "      <td>0.000000</td>\n",
       "      <td>0.0</td>\n",
       "      <td>0.0</td>\n",
       "    </tr>\n",
       "    <tr>\n",
       "      <th>198</th>\n",
       "      <td>id22366</td>\n",
       "      <td>It is true that I may not find an opportunity ...</td>\n",
       "      <td>EAP</td>\n",
       "      <td>121.0</td>\n",
       "      <td>25.0</td>\n",
       "      <td>0.925926</td>\n",
       "      <td>0.740741</td>\n",
       "      <td>0.444444</td>\n",
       "      <td>0.111111</td>\n",
       "      <td>0.185185</td>\n",
       "      <td>0.037037</td>\n",
       "      <td>0.060606</td>\n",
       "      <td>0.008264</td>\n",
       "      <td>0.008264</td>\n",
       "      <td>0.0</td>\n",
       "      <td>0.000000</td>\n",
       "      <td>0.0</td>\n",
       "      <td>0.0</td>\n",
       "    </tr>\n",
       "    <tr>\n",
       "      <th>226</th>\n",
       "      <td>id17205</td>\n",
       "      <td>It is no cause for wonder, surely, that even a...</td>\n",
       "      <td>EAP</td>\n",
       "      <td>195.0</td>\n",
       "      <td>37.0</td>\n",
       "      <td>0.860465</td>\n",
       "      <td>0.744186</td>\n",
       "      <td>0.418605</td>\n",
       "      <td>0.255814</td>\n",
       "      <td>0.162791</td>\n",
       "      <td>0.046512</td>\n",
       "      <td>0.061538</td>\n",
       "      <td>0.025641</td>\n",
       "      <td>0.005128</td>\n",
       "      <td>0.0</td>\n",
       "      <td>0.000000</td>\n",
       "      <td>0.0</td>\n",
       "      <td>0.0</td>\n",
       "    </tr>\n",
       "    <tr>\n",
       "      <th>85</th>\n",
       "      <td>id10154</td>\n",
       "      <td>Ahead lay sparse grass and scrub blueberry bus...</td>\n",
       "      <td>HPL</td>\n",
       "      <td>140.0</td>\n",
       "      <td>26.0</td>\n",
       "      <td>0.928571</td>\n",
       "      <td>0.714286</td>\n",
       "      <td>0.357143</td>\n",
       "      <td>0.357143</td>\n",
       "      <td>0.035714</td>\n",
       "      <td>0.142857</td>\n",
       "      <td>0.166667</td>\n",
       "      <td>0.007143</td>\n",
       "      <td>0.007143</td>\n",
       "      <td>0.0</td>\n",
       "      <td>0.000000</td>\n",
       "      <td>0.0</td>\n",
       "      <td>0.0</td>\n",
       "    </tr>\n",
       "    <tr>\n",
       "      <th>293</th>\n",
       "      <td>id16418</td>\n",
       "      <td>It is curious that although he differed so wid...</td>\n",
       "      <td>HPL</td>\n",
       "      <td>156.0</td>\n",
       "      <td>26.0</td>\n",
       "      <td>0.928571</td>\n",
       "      <td>0.857143</td>\n",
       "      <td>0.392857</td>\n",
       "      <td>0.178571</td>\n",
       "      <td>0.142857</td>\n",
       "      <td>0.142857</td>\n",
       "      <td>0.210526</td>\n",
       "      <td>0.006410</td>\n",
       "      <td>0.006410</td>\n",
       "      <td>0.0</td>\n",
       "      <td>0.000000</td>\n",
       "      <td>0.0</td>\n",
       "      <td>0.0</td>\n",
       "    </tr>\n",
       "    <tr>\n",
       "      <th>233</th>\n",
       "      <td>id06141</td>\n",
       "      <td>I assured my patron that, if this was all, I w...</td>\n",
       "      <td>EAP</td>\n",
       "      <td>103.0</td>\n",
       "      <td>20.0</td>\n",
       "      <td>0.869565</td>\n",
       "      <td>0.782609</td>\n",
       "      <td>0.434783</td>\n",
       "      <td>0.173913</td>\n",
       "      <td>0.217391</td>\n",
       "      <td>0.000000</td>\n",
       "      <td>0.000000</td>\n",
       "      <td>0.019417</td>\n",
       "      <td>0.009709</td>\n",
       "      <td>0.0</td>\n",
       "      <td>0.000000</td>\n",
       "      <td>0.0</td>\n",
       "      <td>0.0</td>\n",
       "    </tr>\n",
       "    <tr>\n",
       "      <th>25</th>\n",
       "      <td>id10125</td>\n",
       "      <td>For many prodigies and signs had taken place, ...</td>\n",
       "      <td>EAP</td>\n",
       "      <td>136.0</td>\n",
       "      <td>25.0</td>\n",
       "      <td>0.862069</td>\n",
       "      <td>0.724138</td>\n",
       "      <td>0.344828</td>\n",
       "      <td>0.241379</td>\n",
       "      <td>0.137931</td>\n",
       "      <td>0.103448</td>\n",
       "      <td>0.139535</td>\n",
       "      <td>0.022059</td>\n",
       "      <td>0.007353</td>\n",
       "      <td>0.0</td>\n",
       "      <td>0.000000</td>\n",
       "      <td>0.0</td>\n",
       "      <td>0.0</td>\n",
       "    </tr>\n",
       "    <tr>\n",
       "      <th>78</th>\n",
       "      <td>id01222</td>\n",
       "      <td>Each people looked on the coming struggle as t...</td>\n",
       "      <td>MWS</td>\n",
       "      <td>182.0</td>\n",
       "      <td>34.0</td>\n",
       "      <td>0.894737</td>\n",
       "      <td>0.710526</td>\n",
       "      <td>0.500000</td>\n",
       "      <td>0.236842</td>\n",
       "      <td>0.105263</td>\n",
       "      <td>0.078947</td>\n",
       "      <td>0.107143</td>\n",
       "      <td>0.010989</td>\n",
       "      <td>0.005495</td>\n",
       "      <td>0.0</td>\n",
       "      <td>0.005495</td>\n",
       "      <td>0.0</td>\n",
       "      <td>0.0</td>\n",
       "    </tr>\n",
       "    <tr>\n",
       "      <th>225</th>\n",
       "      <td>id17577</td>\n",
       "      <td>A closer scrutiny, however, satisfied me that ...</td>\n",
       "      <td>EAP</td>\n",
       "      <td>211.5</td>\n",
       "      <td>41.5</td>\n",
       "      <td>0.864583</td>\n",
       "      <td>0.682055</td>\n",
       "      <td>0.468750</td>\n",
       "      <td>0.187500</td>\n",
       "      <td>0.166667</td>\n",
       "      <td>0.052083</td>\n",
       "      <td>0.075758</td>\n",
       "      <td>0.011820</td>\n",
       "      <td>0.004728</td>\n",
       "      <td>0.0</td>\n",
       "      <td>0.002364</td>\n",
       "      <td>0.0</td>\n",
       "      <td>0.0</td>\n",
       "    </tr>\n",
       "    <tr>\n",
       "      <th>192</th>\n",
       "      <td>id04949</td>\n",
       "      <td>The lower portion of the other is hidden from ...</td>\n",
       "      <td>EAP</td>\n",
       "      <td>124.0</td>\n",
       "      <td>24.0</td>\n",
       "      <td>0.960000</td>\n",
       "      <td>0.760000</td>\n",
       "      <td>0.560000</td>\n",
       "      <td>0.160000</td>\n",
       "      <td>0.120000</td>\n",
       "      <td>0.160000</td>\n",
       "      <td>0.242424</td>\n",
       "      <td>0.000000</td>\n",
       "      <td>0.008065</td>\n",
       "      <td>0.0</td>\n",
       "      <td>0.000000</td>\n",
       "      <td>0.0</td>\n",
       "      <td>0.0</td>\n",
       "    </tr>\n",
       "    <tr>\n",
       "      <th>56</th>\n",
       "      <td>id20824</td>\n",
       "      <td>There had seemed to be no one in the courtyard...</td>\n",
       "      <td>HPL</td>\n",
       "      <td>142.0</td>\n",
       "      <td>29.0</td>\n",
       "      <td>0.935484</td>\n",
       "      <td>0.774194</td>\n",
       "      <td>0.580645</td>\n",
       "      <td>0.161290</td>\n",
       "      <td>0.193548</td>\n",
       "      <td>0.032258</td>\n",
       "      <td>0.048780</td>\n",
       "      <td>0.007042</td>\n",
       "      <td>0.007042</td>\n",
       "      <td>0.0</td>\n",
       "      <td>0.000000</td>\n",
       "      <td>0.0</td>\n",
       "      <td>0.0</td>\n",
       "    </tr>\n",
       "    <tr>\n",
       "      <th>182</th>\n",
       "      <td>id04666</td>\n",
       "      <td>These are my enticements, and they are suffici...</td>\n",
       "      <td>MWS</td>\n",
       "      <td>275.0</td>\n",
       "      <td>51.0</td>\n",
       "      <td>0.927273</td>\n",
       "      <td>0.781818</td>\n",
       "      <td>0.509091</td>\n",
       "      <td>0.254545</td>\n",
       "      <td>0.109091</td>\n",
       "      <td>0.072727</td>\n",
       "      <td>0.096386</td>\n",
       "      <td>0.010909</td>\n",
       "      <td>0.003636</td>\n",
       "      <td>0.0</td>\n",
       "      <td>0.000000</td>\n",
       "      <td>0.0</td>\n",
       "      <td>0.0</td>\n",
       "    </tr>\n",
       "  </tbody>\n",
       "</table>\n",
       "<p>225 rows × 18 columns</p>\n",
       "</div>"
      ],
      "text/plain": [
       "          id                                               text author  \\\n",
       "66   id06312  I dared, I conquered them all, till now I have...    MWS   \n",
       "77   id06377  The stranger learned about twenty words at the...    MWS   \n",
       "18   id14862  I even went so far as to speak of a slightly h...    EAP   \n",
       "253  id08978  Xh, pxh, pxh, Jxhn, dxn't dx sx Yxu've gxt tx ...    EAP   \n",
       "267  id08711  The remains of the half finished creature, who...    MWS   \n",
       "96   id06172  I had expected some extravagant proposition, a...    MWS   \n",
       "261  id04561  \"Then up with you as soon as possible, for it ...    EAP   \n",
       "211  id22514  For a long time I dared not hope; but when his...    MWS   \n",
       "158  id03570  It is even possible that the train of my ideas...    MWS   \n",
       "84   id02647         \"That is absolutely needless,\" replied G .    EAP   \n",
       "277  id09682  At length, one escaping through a sewer, gave ...    EAP   \n",
       "8    id19322  I knew that you could not say to yourself 'ste...    EAP   \n",
       "282  id10265  Time, place, and circumstances rendered it a m...    EAP   \n",
       "153  id08447  It was in the spirit of this wisdom that, amon...    EAP   \n",
       "263  id18908  I shewed her the dangers which her children in...    MWS   \n",
       "159  id09713  I had not entered the army on my own initiativ...    HPL   \n",
       "131  id24267  He did not himself understand these words, or ...    HPL   \n",
       "16   id08441  To these speeches they gave, of course, their ...    EAP   \n",
       "143  id14312  He obeyed her injunctions, and passed a year i...    MWS   \n",
       "38   id00144  After the first start, he replaced the tissue ...    HPL   \n",
       "289  id25430  I will win him to me; he shall not deny his gr...    MWS   \n",
       "37   id05258  His soul overflowed with ardent affections, an...    MWS   \n",
       "150  id24399  \"Pierre Moreau, tobacconist, deposes that he h...    EAP   \n",
       "1    id17569  It never once occurred to me that the fumbling...    HPL   \n",
       "142  id21404  A bear once, attempting to swim from Lofoden t...    EAP   \n",
       "250  id07585  I retired early and full of dread, and for a l...    HPL   \n",
       "10   id16737  He shall find that I can feel my injuries; he ...    MWS   \n",
       "14   id17189   But a glance will show the fallacy of this idea.    EAP   \n",
       "199  id17453  I repeat that in landscape arrangements, or co...    EAP   \n",
       "243  id27949  In this particular instance, it will be unders...    EAP   \n",
       "..       ...                                                ...    ...   \n",
       "120  id13881  He determined to extract and condense all of g...    MWS   \n",
       "117  id06500  \"I believe, sir, you have forgotten to pay for...    EAP   \n",
       "62   id14749  The state rooms were sufficiently roomy, and e...    EAP   \n",
       "124  id13315  Then the lean Nith remarked that no one had se...    HPL   \n",
       "205  id27761  It was perhaps an effect of such surroundings ...    HPL   \n",
       "86   id22605  To be near him, to be loved by him, to feel hi...    MWS   \n",
       "94   id18067  Maternal affection had not rendered Idris self...    MWS   \n",
       "95   id23088  He came like a protecting spirit to the poor g...    MWS   \n",
       "254  id27809  You would have sworn that the writer had been ...    EAP   \n",
       "119  id23958  Only his eyes stayed whole, and they glared wi...    HPL   \n",
       "207  id08936  The prince had provided all the appliances of ...    EAP   \n",
       "189  id25281  But these absurdities I must not pause to detail.    EAP   \n",
       "116  id20087  It was in these slums along Main Street that I...    HPL   \n",
       "266  id26919  \"Mille tonnerres\" ejaculated the Prince de Gre...    EAP   \n",
       "201  id14132  In the meantime it was folly to grieve, or to ...    EAP   \n",
       "27   id23451  I seemed to be upon the verge of comprehension...    EAP   \n",
       "242  id16597  It would be useless to describe the playing of...    HPL   \n",
       "185  id20597  Interspersed about the room, crossing and recr...    EAP   \n",
       "255  id14246  \"There are a prodigious number of stately pala...    EAP   \n",
       "198  id22366  It is true that I may not find an opportunity ...    EAP   \n",
       "226  id17205  It is no cause for wonder, surely, that even a...    EAP   \n",
       "85   id10154  Ahead lay sparse grass and scrub blueberry bus...    HPL   \n",
       "293  id16418  It is curious that although he differed so wid...    HPL   \n",
       "233  id06141  I assured my patron that, if this was all, I w...    EAP   \n",
       "25   id10125  For many prodigies and signs had taken place, ...    EAP   \n",
       "78   id01222  Each people looked on the coming struggle as t...    MWS   \n",
       "225  id17577  A closer scrutiny, however, satisfied me that ...    EAP   \n",
       "192  id04949  The lower portion of the other is hidden from ...    EAP   \n",
       "56   id20824  There had seemed to be no one in the courtyard...    HPL   \n",
       "182  id04666  These are my enticements, and they are suffici...    MWS   \n",
       "\n",
       "     length_character  length_sentence  length_word  vocabulary_sentence  \\\n",
       "66              454.0             88.0     0.880000             0.620000   \n",
       "77              154.0             27.0     0.843750             0.750000   \n",
       "18              270.0             48.0     0.872727             0.709091   \n",
       "253             129.0             28.0     0.682927             0.512195   \n",
       "267             165.0             32.0     0.888889             0.694444   \n",
       "96              147.0             22.0     0.880000             0.840000   \n",
       "261              94.0             21.0     0.840000             0.760000   \n",
       "211             303.0             55.0     0.916667             0.716667   \n",
       "158             111.0             22.0     0.956522             0.826087   \n",
       "84               42.0              7.0     0.700000             0.600000   \n",
       "277              70.0             13.0     0.812500             0.812500   \n",
       "8               488.0             88.0     0.897959             0.632653   \n",
       "282              68.0             10.0     0.769231             0.769231   \n",
       "153             266.0             46.5     0.830357             0.626911   \n",
       "263             143.0             26.0     0.928571             0.785714   \n",
       "159             205.0             35.0     0.921053             0.789474   \n",
       "131             163.0             26.0     0.896552             0.862069   \n",
       "16              340.0             61.0     0.859155             0.690141   \n",
       "143              68.0             12.0     0.857143             0.785714   \n",
       "38              128.0             23.0     0.884615             0.730769   \n",
       "289             289.0             59.0     0.951613             0.661290   \n",
       "37              170.0             29.0     0.935484             0.806452   \n",
       "150             159.0             26.0     0.866667             0.866667   \n",
       "1                71.0             14.0     0.933333             0.933333   \n",
       "142             150.0             29.0     0.852941             0.794118   \n",
       "250             107.0             22.0     0.916667             0.791667   \n",
       "10              107.0             22.0     0.880000             0.720000   \n",
       "14               48.0             10.0     0.909091             0.909091   \n",
       "199             246.0             38.0     0.808511             0.744681   \n",
       "243             157.0             26.0     0.896552             0.896552   \n",
       "..                ...              ...          ...                  ...   \n",
       "120             162.0             27.0     0.843750             0.781250   \n",
       "117              70.0             13.0     0.722222             0.722222   \n",
       "62               86.0             15.0     0.833333             0.777778   \n",
       "124             108.0             23.0     0.958333             0.833333   \n",
       "205              96.0             17.0     0.944444             0.888889   \n",
       "86               92.0             21.0     0.840000             0.600000   \n",
       "94              175.0             28.0     0.875000             0.750000   \n",
       "95              201.0             37.0     0.925000             0.675000   \n",
       "254              78.0             16.0     0.941176             0.941176   \n",
       "119             141.0             23.0     0.884615             0.846154   \n",
       "207              55.0              9.0     0.900000             0.800000   \n",
       "189              49.0              9.0     0.900000             0.900000   \n",
       "116             118.0             22.0     0.916667             0.916667   \n",
       "266              54.0              7.0     0.700000             0.700000   \n",
       "201              52.0             11.0     0.846154             0.769231   \n",
       "27              180.0             31.0     0.861111             0.666667   \n",
       "242              81.0             15.0     0.937500             0.937500   \n",
       "185             418.0             64.0     0.842105             0.723684   \n",
       "255              51.0              8.0     0.727273             0.727273   \n",
       "198             121.0             25.0     0.925926             0.740741   \n",
       "226             195.0             37.0     0.860465             0.744186   \n",
       "85              140.0             26.0     0.928571             0.714286   \n",
       "293             156.0             26.0     0.928571             0.857143   \n",
       "233             103.0             20.0     0.869565             0.782609   \n",
       "25              136.0             25.0     0.862069             0.724138   \n",
       "78              182.0             34.0     0.894737             0.710526   \n",
       "225             211.5             41.5     0.864583             0.682055   \n",
       "192             124.0             24.0     0.960000             0.760000   \n",
       "56              142.0             29.0     0.935484             0.774194   \n",
       "182             275.0             51.0     0.927273             0.781818   \n",
       "\n",
       "     density_stopword  density_noun  density_verb  density_adjective  \\\n",
       "66           0.390000      0.270000      0.120000           0.040000   \n",
       "77           0.437500      0.187500      0.125000           0.062500   \n",
       "18           0.418182      0.145455      0.127273           0.090909   \n",
       "253          0.073171      0.341463      0.121951           0.121951   \n",
       "267          0.388889      0.166667      0.222222           0.055556   \n",
       "96           0.280000      0.200000      0.160000           0.160000   \n",
       "261          0.560000      0.000000      0.120000           0.080000   \n",
       "211          0.433333      0.183333      0.200000           0.066667   \n",
       "158          0.478261      0.173913      0.173913           0.086957   \n",
       "84           0.100000      0.100000      0.200000           0.100000   \n",
       "277          0.312500      0.312500      0.062500           0.000000   \n",
       "8            0.459184      0.122449      0.142857           0.061224   \n",
       "282          0.230769      0.384615      0.076923           0.000000   \n",
       "153          0.419643      0.250000      0.116071           0.053571   \n",
       "263          0.500000      0.214286      0.142857           0.000000   \n",
       "159          0.394737      0.289474      0.078947           0.131579   \n",
       "131          0.379310      0.137931      0.241379           0.137931   \n",
       "16           0.408451      0.183099      0.126761           0.056338   \n",
       "143          0.357143      0.285714      0.142857           0.000000   \n",
       "38           0.461538      0.192308      0.115385           0.038462   \n",
       "289          0.516129      0.161290      0.129032           0.048387   \n",
       "37           0.451613      0.193548      0.193548           0.064516   \n",
       "150          0.366667      0.333333      0.133333           0.033333   \n",
       "1            0.466667      0.133333      0.133333           0.066667   \n",
       "142          0.470588      0.147059      0.235294           0.000000   \n",
       "250          0.458333      0.166667      0.083333           0.166667   \n",
       "10           0.440000      0.160000      0.200000           0.040000   \n",
       "14           0.363636      0.272727      0.090909           0.000000   \n",
       "199          0.382979      0.234043      0.127660           0.042553   \n",
       "243          0.448276      0.137931      0.103448           0.206897   \n",
       "..                ...           ...           ...                ...   \n",
       "120          0.406250      0.187500      0.156250           0.031250   \n",
       "117          0.333333      0.111111      0.222222           0.000000   \n",
       "62           0.388889      0.166667      0.166667           0.055556   \n",
       "124          0.416667      0.250000      0.166667           0.083333   \n",
       "205          0.444444      0.277778      0.111111           0.055556   \n",
       "86           0.600000      0.080000      0.200000           0.040000   \n",
       "94           0.468750      0.218750      0.125000           0.125000   \n",
       "95           0.550000      0.200000      0.125000           0.025000   \n",
       "254          0.588235      0.117647      0.352941           0.000000   \n",
       "119          0.384615      0.115385      0.230769           0.076923   \n",
       "207          0.400000      0.300000      0.200000           0.000000   \n",
       "189          0.300000      0.100000      0.200000           0.000000   \n",
       "116          0.416667      0.166667      0.166667           0.125000   \n",
       "266          0.100000      0.400000      0.100000           0.000000   \n",
       "201          0.461538      0.076923      0.230769           0.000000   \n",
       "27           0.361111      0.222222      0.166667           0.027778   \n",
       "242          0.437500      0.250000      0.125000           0.125000   \n",
       "185          0.328947      0.236842      0.131579           0.157895   \n",
       "255          0.272727      0.181818      0.090909           0.181818   \n",
       "198          0.444444      0.111111      0.185185           0.037037   \n",
       "226          0.418605      0.255814      0.162791           0.046512   \n",
       "85           0.357143      0.357143      0.035714           0.142857   \n",
       "293          0.392857      0.178571      0.142857           0.142857   \n",
       "233          0.434783      0.173913      0.217391           0.000000   \n",
       "25           0.344828      0.241379      0.137931           0.103448   \n",
       "78           0.500000      0.236842      0.105263           0.078947   \n",
       "225          0.468750      0.187500      0.166667           0.052083   \n",
       "192          0.560000      0.160000      0.120000           0.160000   \n",
       "56           0.580645      0.161290      0.193548           0.032258   \n",
       "182          0.509091      0.254545      0.109091           0.072727   \n",
       "\n",
       "     adjective_to_noun  density_coma  density_point  density_colon  \\\n",
       "66            0.051948      0.017621       0.002203            0.0   \n",
       "77            0.090909      0.019481       0.006494            0.0   \n",
       "18            0.140845      0.022222       0.003704            0.0   \n",
       "253           0.144928      0.062016       0.007752            0.0   \n",
       "267           0.083333      0.018182       0.006061            0.0   \n",
       "96            0.228571      0.013605       0.006803            0.0   \n",
       "261           0.160000      0.010638       0.010638            0.0   \n",
       "211           0.097561      0.009901       0.003300            0.0   \n",
       "158           0.129032      0.000000       0.009009            0.0   \n",
       "84            0.166667      0.023810       0.023810            0.0   \n",
       "277           0.000000      0.028571       0.014286            0.0   \n",
       "8             0.098361      0.014344       0.002049            0.0   \n",
       "282           0.000000      0.029412       0.014706            0.0   \n",
       "153           0.071429      0.024436       0.003759            0.0   \n",
       "263           0.000000      0.000000       0.006993            0.0   \n",
       "159           0.166667      0.009756       0.009756            0.0   \n",
       "131           0.216216      0.006135       0.006135            0.0   \n",
       "16            0.082474      0.020588       0.002941            0.0   \n",
       "143           0.000000      0.014706       0.014706            0.0   \n",
       "38            0.055556      0.015625       0.007812            0.0   \n",
       "289           0.073171      0.003460       0.003460            0.0   \n",
       "37            0.093023      0.005882       0.005882            0.0   \n",
       "150           0.040000      0.012579       0.006289            0.0   \n",
       "1             0.105263      0.000000       0.014085            0.0   \n",
       "142           0.000000      0.026667       0.006667            0.0   \n",
       "250           0.250000      0.009346       0.009346            0.0   \n",
       "10            0.060606      0.000000       0.009346            0.0   \n",
       "14            0.000000      0.000000       0.020833            0.0   \n",
       "199           0.057971      0.024390       0.004065            0.0   \n",
       "243           0.324324      0.012739       0.006369            0.0   \n",
       "..                 ...           ...            ...            ...   \n",
       "120           0.045455      0.024691       0.006173            0.0   \n",
       "117           0.000000      0.028571       0.014286            0.0   \n",
       "62            0.083333      0.023256       0.011628            0.0   \n",
       "124           0.111111      0.000000       0.009259            0.0   \n",
       "205           0.071429      0.000000       0.010417            0.0   \n",
       "86            0.068966      0.032609       0.010870            0.0   \n",
       "94            0.173913      0.011429       0.005714            0.0   \n",
       "95            0.035714      0.004975       0.004975            0.0   \n",
       "254           0.000000      0.000000       0.012821            0.0   \n",
       "119           0.125000      0.014184       0.007092            0.0   \n",
       "207           0.000000      0.000000       0.018182            0.0   \n",
       "189           0.000000      0.000000       0.020408            0.0   \n",
       "116           0.187500      0.008475       0.008475            0.0   \n",
       "266           0.000000      0.000000       0.018519            0.0   \n",
       "201           0.000000      0.019231       0.019231            0.0   \n",
       "27            0.038462      0.022222       0.005556            0.0   \n",
       "242           0.166667      0.000000       0.012346            0.0   \n",
       "185           0.214286      0.026316       0.002392            0.0   \n",
       "255           0.266667      0.000000       0.019608            0.0   \n",
       "198           0.060606      0.008264       0.008264            0.0   \n",
       "226           0.061538      0.025641       0.005128            0.0   \n",
       "85            0.166667      0.007143       0.007143            0.0   \n",
       "293           0.210526      0.006410       0.006410            0.0   \n",
       "233           0.000000      0.019417       0.009709            0.0   \n",
       "25            0.139535      0.022059       0.007353            0.0   \n",
       "78            0.107143      0.010989       0.005495            0.0   \n",
       "225           0.075758      0.011820       0.004728            0.0   \n",
       "192           0.242424      0.000000       0.008065            0.0   \n",
       "56            0.048780      0.007042       0.007042            0.0   \n",
       "182           0.096386      0.010909       0.003636            0.0   \n",
       "\n",
       "     density_semicolon  density_interro  density_expl  \n",
       "66            0.004405              0.0           0.0  \n",
       "77            0.006494              0.0           0.0  \n",
       "18            0.000000              0.0           0.0  \n",
       "253           0.007752              0.0           0.0  \n",
       "267           0.000000              0.0           0.0  \n",
       "96            0.000000              0.0           0.0  \n",
       "261           0.000000              0.0           0.0  \n",
       "211           0.003300              0.0           0.0  \n",
       "158           0.000000              0.0           0.0  \n",
       "84            0.000000              0.0           0.0  \n",
       "277           0.000000              0.0           0.0  \n",
       "8             0.002049              0.0           0.0  \n",
       "282           0.000000              0.0           0.0  \n",
       "153           0.000000              0.0           0.0  \n",
       "263           0.006993              0.0           0.0  \n",
       "159           0.000000              0.0           0.0  \n",
       "131           0.006135              0.0           0.0  \n",
       "16            0.005882              0.0           0.0  \n",
       "143           0.000000              0.0           0.0  \n",
       "38            0.000000              0.0           0.0  \n",
       "289           0.003460              0.0           0.0  \n",
       "37            0.000000              0.0           0.0  \n",
       "150           0.000000              0.0           0.0  \n",
       "1             0.000000              0.0           0.0  \n",
       "142           0.000000              0.0           0.0  \n",
       "250           0.000000              0.0           0.0  \n",
       "10            0.009346              0.0           0.0  \n",
       "14            0.000000              0.0           0.0  \n",
       "199           0.000000              0.0           0.0  \n",
       "243           0.000000              0.0           0.0  \n",
       "..                 ...              ...           ...  \n",
       "120           0.000000              0.0           0.0  \n",
       "117           0.000000              0.0           0.0  \n",
       "62            0.000000              0.0           0.0  \n",
       "124           0.000000              0.0           0.0  \n",
       "205           0.000000              0.0           0.0  \n",
       "86            0.000000              0.0           0.0  \n",
       "94            0.005714              0.0           0.0  \n",
       "95            0.004975              0.0           0.0  \n",
       "254           0.000000              0.0           0.0  \n",
       "119           0.000000              0.0           0.0  \n",
       "207           0.000000              0.0           0.0  \n",
       "189           0.000000              0.0           0.0  \n",
       "116           0.000000              0.0           0.0  \n",
       "266           0.000000              0.0           0.0  \n",
       "201           0.000000              0.0           0.0  \n",
       "27            0.000000              0.0           0.0  \n",
       "242           0.000000              0.0           0.0  \n",
       "185           0.000000              0.0           0.0  \n",
       "255           0.000000              0.0           0.0  \n",
       "198           0.000000              0.0           0.0  \n",
       "226           0.000000              0.0           0.0  \n",
       "85            0.000000              0.0           0.0  \n",
       "293           0.000000              0.0           0.0  \n",
       "233           0.000000              0.0           0.0  \n",
       "25            0.000000              0.0           0.0  \n",
       "78            0.005495              0.0           0.0  \n",
       "225           0.002364              0.0           0.0  \n",
       "192           0.000000              0.0           0.0  \n",
       "56            0.000000              0.0           0.0  \n",
       "182           0.000000              0.0           0.0  \n",
       "\n",
       "[225 rows x 18 columns]"
      ]
     },
     "execution_count": 45,
     "metadata": {},
     "output_type": "execute_result"
    }
   ],
   "source": [
    "datameta2 = build_meta2(tr1)\n",
    "datameta2"
   ]
  },
  {
   "cell_type": "code",
   "execution_count": 46,
   "metadata": {},
   "outputs": [
    {
     "data": {
      "image/png": "[encoded data removed]",
      "text/plain": [
       "<matplotlib.figure.Figure at 0x12d242ec88>"
      ]
     },
     "metadata": {},
     "output_type": "display_data"
    },
    {
     "data": {
      "image/png": "[encoded data removed]",
      "text/plain": [
       "<matplotlib.figure.Figure at 0x12d6c93ef0>"
      ]
     },
     "metadata": {},
     "output_type": "display_data"
    },
    {
     "data": {
      "image/png": "[encoded data removed]",
      "text/plain": [
       "<matplotlib.figure.Figure at 0x12d6d052e8>"
      ]
     },
     "metadata": {},
     "output_type": "display_data"
    },
    {
     "data": {
      "image/png": "[encoded data removed]",
      "text/plain": [
       "<matplotlib.figure.Figure at 0x12d6ce4400>"
      ]
     },
     "metadata": {},
     "output_type": "display_data"
    },
    {
     "data": {
      "image/png": "[encoded data removed]",
      "text/plain": [
       "<matplotlib.figure.Figure at 0x12d6e0fcc0>"
      ]
     },
     "metadata": {},
     "output_type": "display_data"
    },
    {
     "data": {
      "image/png": "[encoded data removed]",
      "text/plain": [
       "<matplotlib.figure.Figure at 0x12d393af60>"
      ]
     },
     "metadata": {},
     "output_type": "display_data"
    },
    {
     "data": {
      "image/png": "[encoded data removed]",
      "text/plain": [
       "<matplotlib.figure.Figure at 0x12d6d62c18>"
      ]
     },
     "metadata": {},
     "output_type": "display_data"
    },
    {
     "data": {
      "image/png": "[encoded data removed]",
      "text/plain": [
       "<matplotlib.figure.Figure at 0x12d6cbb710>"
      ]
     },
     "metadata": {},
     "output_type": "display_data"
    },
    {
     "data": {
      "image/png": "[encoded data removed]",
      "text/plain": [
       "<matplotlib.figure.Figure at 0x12d2475e10>"
      ]
     },
     "metadata": {},
     "output_type": "display_data"
    },
    {
     "data": {
      "image/png": "[encoded data removed]",
      "text/plain": [
       "<matplotlib.figure.Figure at 0x12d3704160>"
      ]
     },
     "metadata": {},
     "output_type": "display_data"
    },
    {
     "data": {
      "image/png": "[encoded data removed]",
      "text/plain": [
       "<matplotlib.figure.Figure at 0x12d53e7240>"
      ]
     },
     "metadata": {},
     "output_type": "display_data"
    },
    {
     "data": {
      "image/png": "[encoded data removed]",
      "text/plain": [
       "<matplotlib.figure.Figure at 0x12d36d7c18>"
      ]
     },
     "metadata": {},
     "output_type": "display_data"
    },
    {
     "data": {
      "image/png": "[encoded data removed]",
      "text/plain": [
       "<matplotlib.figure.Figure at 0x12d6e3ef98>"
      ]
     },
     "metadata": {},
     "output_type": "display_data"
    },
    {
     "data": {
      "image/png": "[encoded data removed]",
      "text/plain": [
       "<matplotlib.figure.Figure at 0x12d6e30048>"
      ]
     },
     "metadata": {},
     "output_type": "display_data"
    },
    {
     "data": {
      "image/png": "[encoded data removed]",
      "text/plain": [
       "<matplotlib.figure.Figure at 0x12d6cd7a58>"
      ]
     },
     "metadata": {},
     "output_type": "display_data"
    }
   ],
   "source": [
    "for c in datameta2.columns[3:]:\n",
    "    plt.style.use('seaborn')\n",
    "    sns.boxplot(x='author', y=c, data=datameta2)\n",
    "    plt.title('Meta {}'.format(c))\n",
    "    plt.savefig('Meta {}'.format(c))\n",
    "    plt.show()"
   ]
  },
  {
   "cell_type": "markdown",
   "metadata": {},
   "source": [
    "<h2>Text Features</h2>"
   ]
  },
  {
   "cell_type": "markdown",
   "metadata": {},
   "source": [
    "<h3>First Word</h3>"
   ]
  },
  {
   "cell_type": "code",
   "execution_count": 47,
   "metadata": {
    "collapsed": true
   },
   "outputs": [],
   "source": [
    "def first_word_type(sents):\n",
    "    \"\"\"Takes a list of sentences and returns a list of the word type used to start each element.\"\"\"\n",
    "    res = list()\n",
    "    for sent in sents:\n",
    "        typ = nltk.pos_tag(sent.split())\n",
    "        i = 0\n",
    "        j = 0\n",
    "        word = typ[i][0].lower()\n",
    "        while i < len(sent.split()):\n",
    "            if j < len(word) and word[j] >= 'a' and word[j] <= 'z':\n",
    "                res.append(typ[i][1])\n",
    "                break\n",
    "            i += 1\n",
    "    return res"
   ]
  },
  {
   "cell_type": "code",
   "execution_count": null,
   "metadata": {
    "collapsed": true
   },
   "outputs": [],
   "source": [
    "def first_word(dataframe):\n",
    "    \"\"\"Takes a dataframe and creates a column per word type with a value of 1 on the word type used.\"\"\"\n",
    "    df = dataframe.copy()\n",
    "    elements = ['CC','CD','DT','EX','IN','JJ','JJR','JJS','LS','MD','NN','NNP','NNS','PDT','PRP','PRP$','RB','RBR','TO','UH','VB','VBD','VBG','VBN','VBP','VBZ','WDT','WP','WRB']\n",
    "    for element in elements:\n",
    "        column='first_word_'+element\n",
    "        df[column]=0\n",
    "        \n",
    "    for i in range(len(df)):\n",
    "        sents = nltk.Text(sent_tokenize(df['text'].iloc[i]))\n",
    "        first_words = first_word_type(sents)\n",
    "        for word in first_words:\n",
    "            column = 'first_word_' + str(word)\n",
    "            try:\n",
    "                df[column].iloc[i] += 1\n",
    "            except:\n",
    "                pass\n",
    "            \n",
    "    del df['text']\n",
    "    if 'author' in df.columns:\n",
    "        del df['author']\n",
    "        \n",
    "    return df"
   ]
  },
  {
   "cell_type": "code",
   "execution_count": null,
   "metadata": {},
   "outputs": [
    {
     "name": "stderr",
     "output_type": "stream",
     "text": [
      "D:\\Anaconda\\lib\\site-packages\\pandas\\core\\indexing.py:179: SettingWithCopyWarning: \n",
      "A value is trying to be set on a copy of a slice from a DataFrame\n",
      "\n",
      "See the caveats in the documentation: http://pandas.pydata.org/pandas-docs/stable/indexing.html#indexing-view-versus-copy\n",
      "  self._setitem_with_indexer(indexer, value)\n"
     ]
    }
   ],
   "source": [
    "datatext1 = first_word(tr1)\n",
    "datatext1"
   ]
  },
  {
   "cell_type": "markdown",
   "metadata": {},
   "source": [
    "<h3>First Two Words</h3>"
   ]
  },
  {
   "cell_type": "code",
   "execution_count": null,
   "metadata": {
    "collapsed": true
   },
   "outputs": [],
   "source": [
    "def twofirst_words_type(sents):\n",
    "    \"\"\"Takes a list of sentences and returns a list of the 2 word types used to start each element.\"\"\"\n",
    "    res = list()\n",
    "    for sent in sents:\n",
    "        if len(sent.split()) > 1:\n",
    "            typ = nltk.pos_tag(sent.split())\n",
    "            res.append([typ[0][1],typ[1][1]])\n",
    "    return res"
   ]
  },
  {
   "cell_type": "code",
   "execution_count": null,
   "metadata": {},
   "outputs": [],
   "source": [
    "'''\n",
    "\n",
    "def twofirst_word(dataframe):\n",
    "    \"\"\"Takes a dataframe and creates a column per word type pair with a value of 1 on the word type pair used.\"\"\"\n",
    "    df = dataframe.copy()\n",
    "    for i in range(len(df)):\n",
    "        sents = nltk.Text(sent_tokenize(df['text'].iloc[i]))\n",
    "        twofirst_words = twofirst_words_type(sents)\n",
    "        for twoword in twofirst_words:\n",
    "            column = 'first_two_' + str(twoword)\n",
    "            try:\n",
    "                df[column].iloc[i] += 1\n",
    "            except:\n",
    "                df[column] = 0\n",
    "                df[column].iloc[i] = 1\n",
    "                \n",
    "    del df['text']\n",
    "    if 'author' in df.columns:\n",
    "        del df['author']\n",
    "        \n",
    "    return df\n",
    "\n",
    "'''\n"
   ]
  },
  {
   "cell_type": "code",
   "execution_count": null,
   "metadata": {
    "collapsed": true
   },
   "outputs": [],
   "source": [
    "#datatext2 = twofirst_word(tr1)\n",
    "#datatext2"
   ]
  },
  {
   "cell_type": "markdown",
   "metadata": {},
   "source": [
    "<h3>Last Word</h3>"
   ]
  },
  {
   "cell_type": "code",
   "execution_count": null,
   "metadata": {
    "collapsed": true
   },
   "outputs": [],
   "source": [
    "def last_word_type(sents):\n",
    "    \"\"\"Takes a list of sentences and returns a list of the word type used to end each element.\"\"\"\n",
    "    res= list()\n",
    "    for sent in sents:\n",
    "        typ = nltk.pos_tag(sent.split())\n",
    "        i = 0\n",
    "        j = 0\n",
    "        word = typ[-i][0].lower()\n",
    "        while i < len(sent.split()):\n",
    "            if j < len(word) and word[j] >= 'a' and word[j] <= 'z':\n",
    "                res.append(typ[-i][1])\n",
    "                break\n",
    "            i += 1\n",
    "    return res"
   ]
  },
  {
   "cell_type": "code",
   "execution_count": null,
   "metadata": {
    "collapsed": true
   },
   "outputs": [],
   "source": [
    "def last_word(dataframe):\n",
    "    \"\"\"Takes a dataframe and creates a column per word type with a value of 1 on the word type used.\"\"\"\n",
    "    df = dataframe.copy()\n",
    "    elements = ['FW','IN','JJ','NN','NNP','NNS','RB','RBS','RP','VB','VBD','VBN','VBP','VBZ']\n",
    "    for element in elements:\n",
    "        column='last_word_'+element\n",
    "        df[column]=0\n",
    "        \n",
    "    for i in range(len(df)):\n",
    "        sents = nltk.Text(sent_tokenize(df['text'].iloc[i]))\n",
    "        last_words = last_word_type(sents)\n",
    "        for word in last_words:\n",
    "            column = 'last_word_' + str(word)\n",
    "            try:\n",
    "                df[column].iloc[i] += 1\n",
    "            except:\n",
    "                pass\n",
    "            \n",
    "    del df['text']\n",
    "    if 'author' in df.columns:\n",
    "        del df['author']\n",
    "        \n",
    "    return df"
   ]
  },
  {
   "cell_type": "code",
   "execution_count": null,
   "metadata": {},
   "outputs": [],
   "source": [
    "datatext3 = last_word(tr1)\n",
    "datatext3"
   ]
  },
  {
   "cell_type": "markdown",
   "metadata": {},
   "source": [
    "<h3>Last Two Words</h3>"
   ]
  },
  {
   "cell_type": "code",
   "execution_count": null,
   "metadata": {
    "collapsed": true
   },
   "outputs": [],
   "source": [
    "def twolast_words_type(sents):\n",
    "    \"\"\"Takes a list of sentences and returns a list of the word types used to end each element.\"\"\"\n",
    "    res = list()\n",
    "    for sent in sents:\n",
    "        if len(sent.split()) > 1:\n",
    "            typ = nltk.pos_tag(sent.split())\n",
    "            res.append([typ[-2][1], typ[-1][1]])\n",
    "    return res"
   ]
  },
  {
   "cell_type": "code",
   "execution_count": null,
   "metadata": {},
   "outputs": [],
   "source": [
    "'''\n",
    "def twolast_word(dataframe):\n",
    "    \"\"\"Takes a dataframe and creates a column per word type pair with a value of 1 on the word type pairs used.\"\"\"\n",
    "    df=dataframe.copy()\n",
    "    for i in range(len(df)):\n",
    "        sents=nltk.Text(sent_tokenize(df['text'].iloc[i]))\n",
    "        twolast_words = twolast_words_type(sents)\n",
    "        for twoword in twolast_words:\n",
    "            column='last_two_' + str(twoword)\n",
    "            try:\n",
    "                df[column].iloc[i]=df[column].iloc[i]+1\n",
    "            except:\n",
    "                df[column]=0\n",
    "                df[column].iloc[i]=1\n",
    "                \n",
    "    del df['text']\n",
    "    if 'author' in df.columns:\n",
    "        del df['author']\n",
    "        \n",
    "    return df\n",
    "'''\n"
   ]
  },
  {
   "cell_type": "code",
   "execution_count": null,
   "metadata": {
    "collapsed": true
   },
   "outputs": [],
   "source": [
    "#datatext4 = twolast_word(tr1)\n",
    "#datatext4"
   ]
  },
  {
   "cell_type": "markdown",
   "metadata": {},
   "source": [
    "<h1> Foreign Languages </h1>"
   ]
  },
  {
   "cell_type": "code",
   "execution_count": null,
   "metadata": {
    "collapsed": true
   },
   "outputs": [],
   "source": [
    "def language_sent(sents):\n",
    "    \"\"\"Takes a list of sentences and returns a list of the languages detected for each sentence.\"\"\"\n",
    "    res = list()\n",
    "    for sent in sents:\n",
    "        try:\n",
    "            res.append(detect(sent))\n",
    "        except:\n",
    "            pass        \n",
    "    return res"
   ]
  },
  {
   "cell_type": "code",
   "execution_count": null,
   "metadata": {
    "collapsed": true
   },
   "outputs": [],
   "source": [
    "def language(dataframe):\n",
    "    \"\"\"Takes a dataframe and creates a column per language with a value of 1 on the languages used.\"\"\"\n",
    "    df = dataframe.copy()\n",
    "    languages=['af','ca','cy','da','de','es','et','fi','fr','hu','ind','it','nl','no','pl','pt','ro','sk','sl','so','sv','tl','tr','vi']\n",
    "    for language in languages:\n",
    "        df[language]=0\n",
    "        \n",
    "    for i in range(len(df)):\n",
    "        sents = nltk.Text(sent_tokenize(df['text'].iloc[i]))\n",
    "        n = len(sents)\n",
    "        languages = language_sent(sents)\n",
    "        for language in languages:\n",
    "            if language != 'id':\n",
    "                column = language\n",
    "                try:\n",
    "                    df[column].iloc[i] = df[column].iloc[i] + 1 / n\n",
    "                except:\n",
    "                    pass\n",
    "            else:\n",
    "                column='ind'\n",
    "                try:\n",
    "                    df[column].iloc[i] = df[column].iloc[i] + 1 / n\n",
    "                except:\n",
    "                    pass\n",
    "                \n",
    "    del df['text']\n",
    "    if 'author' in df.columns:\n",
    "        del df['author']\n",
    "        \n",
    "    return df"
   ]
  },
  {
   "cell_type": "code",
   "execution_count": null,
   "metadata": {},
   "outputs": [],
   "source": [
    "datatext5 = language(tr1)\n",
    "datatext5"
   ]
  },
  {
   "cell_type": "markdown",
   "metadata": {},
   "source": [
    "<h1> Emotions </h1>"
   ]
  },
  {
   "cell_type": "markdown",
   "metadata": {},
   "source": [
    "The following function needs to have the file \"NRC-emotion-lexicon-wordlevel-alphabetized-v0.92.txt\" in the same folder.\n",
    "Based on NRC data: 8 emotions"
   ]
  },
  {
   "cell_type": "code",
   "execution_count": null,
   "metadata": {
    "collapsed": true
   },
   "outputs": [],
   "source": [
    "def get_nrc_data():\n",
    "    \"\"\"Builds an emotion dictionary from the NRC emotion lexicon.\"\"\"\n",
    "    nrc = \"NRC-emotion-lexicon-wordlevel-alphabetized-v0.92.txt\"\n",
    "    count = 0\n",
    "    emotion_dict = dict()\n",
    "    with open(nrc,'r') as f:\n",
    "        all_lines = list()\n",
    "        for line in f:\n",
    "            if count < 46:\n",
    "                count += 1\n",
    "                continue\n",
    "            line = line.strip().split('\\t')\n",
    "            if int(line[2]) == 1:\n",
    "                if emotion_dict.get(line[0]):\n",
    "                    emotion_dict[line[0]].append(line[1])\n",
    "                else:\n",
    "                    emotion_dict[line[0]] = [line[1]]\n",
    "    return emotion_dict"
   ]
  },
  {
   "cell_type": "code",
   "execution_count": null,
   "metadata": {
    "collapsed": true
   },
   "outputs": [],
   "source": [
    "def emotions(dataframe):\n",
    "    \"\"\"Takes a dataframe and creates a column per emotion with a count on the emotions used.\"\"\"\n",
    "    df = dataframe.copy()\n",
    "    emotions=['positive','anger','disgust','fear','negative','sadness','anticipation','joy','surprise','trust']\n",
    "    for emotion in emotions:\n",
    "        df[emotion]=0\n",
    "    \n",
    "    \n",
    "    emotion_dic = get_nrc_data()\n",
    "    for i in range(len(df)):\n",
    "        words = df['text'].iloc[i].split()\n",
    "        n = len(words)\n",
    "        for word in words:\n",
    "            if word in emotion_dic:\n",
    "                for emotion in emotion_dic[word]:\n",
    "                    column = emotion\n",
    "                    try:\n",
    "                        df[column].iloc[i] = df[column].iloc[i] + 1 / n\n",
    "                    except:\n",
    "                        pass\n",
    "                    \n",
    "    del df['text']\n",
    "    if 'author' in df.columns:\n",
    "        del df['author']\n",
    "    \n",
    "    return df"
   ]
  },
  {
   "cell_type": "code",
   "execution_count": null,
   "metadata": {},
   "outputs": [],
   "source": [
    "datatext6 = emotions(tr1)\n",
    "datatext6"
   ]
  },
  {
   "cell_type": "markdown",
   "metadata": {},
   "source": [
    "<h3>Counting of words (a.k.a bag of words)</h3>\n",
    "\n",
    "Instead of word/ n-grams frequencies, we are going to use tf_idf.\n",
    "\n",
    "Some information about tf_idf: https://buhrmann.github.io/tfidf-analysis.html\n",
    "\n",
    "Here, we don't detail for each N. Instead, we'll run the tf_idf for all the n-grams possible and the we'll take the best features. Our aim is to reduce the size/dimensions of our dataset's features."
   ]
  },
  {
   "cell_type": "code",
   "execution_count": null,
   "metadata": {
    "collapsed": true
   },
   "outputs": [],
   "source": [
    "def transform_tag(var):\n",
    "    \"\"\"Transforms a string to a string of pos_tag\"\"\"\n",
    "    inpt = nltk.pos_tag(word_tokenize(var))\n",
    "    unzipped = zip(*inpt )\n",
    "    return ' '.join([*list(unzipped)[1]])"
   ]
  },
  {
   "cell_type": "markdown",
   "metadata": {},
   "source": [
    "<h4>Generation of the tf_idf counting dataFrame</h4>"
   ]
  },
  {
   "cell_type": "code",
   "execution_count": null,
   "metadata": {
    "collapsed": true
   },
   "outputs": [],
   "source": [
    "def counting_a(a, analysis):\n",
    "    \"\"\"\n",
    "    Generates the tf-idf counting dataframe. First argument is the n of n-gram. Analysis type is 'word', 'char',\n",
    "    token_pos', etc.\n",
    "    \"\"\"\n",
    "    df_train = tr1.copy()\n",
    "    df_test  = ts1.copy()\n",
    "    \n",
    "    #if we are counting words:\n",
    "    if analysis == \"word\" or analysis == \"char\": \n",
    "        \n",
    "        #check the CountVectorizer doc\n",
    "        #we create a Countvectorizer, called bow_transformer\n",
    "        bow_transformer = CountVectorizer(analyzer = analysis,\n",
    "                                      lowercase = True, #we don't care about place in sentence\n",
    "                                      ngram_range = (a, a),\n",
    "                                      stop_words='english')\n",
    "\n",
    "        #we use bow_transformer to fit and transform our training set\n",
    "        messages_bow = bow_transformer.fit_transform(df_train['text'])\n",
    "        \n",
    "        #we use bow_transformer to transform our test set. \n",
    "        #We do not need to train if first because the fitting would recompute the idf, we don't want that\n",
    "        messages_bow_test = bow_transformer.transform(df_test['text'])\n",
    "    \n",
    "    #if we are counting POS:    \n",
    "    elif analysis == \"token_pos\":\n",
    "        \n",
    "        #this is the punctuation we want to keep\n",
    "        punctuation = r\"(?u)\\b\\w\\w+\\b|!|\\?|\\\"|\\'|\\.|\\,|\\;|\\:|\\$|\\(|\\)|\\--|\\&|\\``|\\'' + PRP$ + WP$\"\n",
    "        #we create a Countvectorizer, called bow_transformer\n",
    "        bow_transformer = CountVectorizer(analyzer = 'word',\n",
    "                                          lowercase = False, #we DO care about place in sentence\n",
    "                                          ngram_range = (a, a),\n",
    "                                          token_pattern =  punctuation, #we DO care about punctuation\n",
    "                                          stop_words='english')\n",
    "        \n",
    "        #we use the transform_tag function to transform the sentence in a sentence of pos tag        \n",
    "        #we use bow_transformer to fit and transform our training set\n",
    "        messages_bow = bow_transformer.fit_transform(df_train['text'].apply(transform_tag))\n",
    "        #we use bow_transformer to transform our test set\n",
    "        #We do not need to train if first because the fitting would recompute the idf, we don't want that\n",
    "        messages_bow_test = bow_transformer.transform(df_test['text'].apply(transform_tag))\n",
    "\n",
    "        \n",
    "    #this is the DataFrame Concerning the regular counting of words\n",
    "    \n",
    "    ##from regular counting to tf idf transformation coefficient\n",
    "\n",
    "    tfidf_transformer = TfidfTransformer().fit(messages_bow)\n",
    "    messages_tfidf = tfidf_transformer.transform(messages_bow)\n",
    "    messages_tfidf_test = tfidf_transformer.transform(messages_bow_test)\n",
    "    \n",
    "    names = bow_transformer.get_feature_names()\n",
    "    \n",
    "    return (messages_tfidf, names, messages_tfidf_test)"
   ]
  },
  {
   "cell_type": "code",
   "execution_count": null,
   "metadata": {},
   "outputs": [],
   "source": [
    "#mat_word, name_word, mat_word_test = counting_a(2,'word')\n",
    "mat_word, name_word, mat_word_test = counting_a(2,'word')\n",
    "\n",
    "print ('Shape of Sparse Matrix: ', mat_word.shape)\n",
    "print ('Amount of Non-Zero occurences: ', mat_word.nnz)\n",
    "print ('sparsity: %.2f%%' % (100.0 * mat_word.nnz /\n",
    "                             (mat_word.shape[0] * mat_word.shape[1])))\n",
    "       \n",
    "print(' ')\n",
    "print ('Shape of Sparse Matrix Test: ', mat_word_test.shape)\n",
    "print ('Amount of Non-Zero occurences: ', mat_word_test.nnz)\n",
    "print ('sparsity: %.2f%%' % (100.0 * mat_word_test.nnz /\n",
    "                             (mat_word_test.shape[0] * mat_word_test.shape[1])))\n",
    "                             "
   ]
  },
  {
   "cell_type": "markdown",
   "metadata": {},
   "source": [
    "As we can see, we get a matrix with <u>roughly a thousand </u>of  features. It's really heavy and we get a sparse matrix. Our goal is now to reduce the size of this matrix by getting the TOP-N features issued from the tf_idf.<br>\n",
    "<br>\n",
    "And we can create so both the matrix of training set. On which the TF_IDF is trained. <br>\n",
    "And the matrix test, which is created with no-fit on it."
   ]
  },
  {
   "cell_type": "markdown",
   "metadata": {},
   "source": [
    "<h4>Reduction of the number of features to N</h4>\n",
    "\n",
    "The next cell will be called in all the bag of words parts."
   ]
  },
  {
   "cell_type": "code",
   "execution_count": null,
   "metadata": {
    "collapsed": true
   },
   "outputs": [],
   "source": [
    "def top_tfidf_feats(row, features, top_n=25):\n",
    "    \"\"\"Gets top n tf-idf values in row and return them with their corresponding feature names.\"\"\"\n",
    "    topn_ids = np.argsort(row)[::-1][:top_n]\n",
    "    top_feats = [(features[i], row[i]) for i in topn_ids]\n",
    "    df = pd.DataFrame(top_feats)\n",
    "    df.columns = ['feature', 'tfidf']\n",
    "    return df"
   ]
  },
  {
   "cell_type": "code",
   "execution_count": null,
   "metadata": {
    "collapsed": true
   },
   "outputs": [],
   "source": [
    "def top_feats_in_doc(Xtr, features, row_id, top_n=25):\n",
    "    \"\"\"Returns the top n tf-df features in a specific document (i.e. matrix row)\"\"\"\n",
    "    row = np.squeeze(Xtr[row_id].toarray())\n",
    "    return top_tfidf_feats(row, features, top_n)"
   ]
  },
  {
   "cell_type": "code",
   "execution_count": null,
   "metadata": {
    "collapsed": true
   },
   "outputs": [],
   "source": [
    "def top_mean_feats(Xtr, features, grp_ids=None, min_tfidf=0.1, top_n=25):\n",
    "    \"\"\"\n",
    "    Returns the top n features that on average are most important amongst documents in rows.\n",
    "    Indentified by indices in grp_ids.\n",
    "    \"\"\"\n",
    "    if grp_ids:\n",
    "        D = Xtr[grp_ids].toarray()\n",
    "    else:\n",
    "        D = Xtr.toarray()\n",
    "\n",
    "    D[D < min_tfidf] = 0\n",
    "    tfidf_means = np.mean(D, axis=0)\n",
    "    return top_tfidf_feats(tfidf_means, features, top_n)"
   ]
  },
  {
   "cell_type": "code",
   "execution_count": null,
   "metadata": {
    "collapsed": true
   },
   "outputs": [],
   "source": [
    "def top_feats_by_class(Xtr, y, features, min_tfidf=0.1, top_n=25):\n",
    "    \"\"\"\n",
    "    Return a list of dfs, where each df holds top_n features and their mean tfidf value.\n",
    "    Calculated across documents with the same class label.\n",
    "    \"\"\"\n",
    "    dfs = []\n",
    "    labels = np.unique(y)\n",
    "    for label in labels:\n",
    "        ids = np.where(y==label)\n",
    "        feats_df = top_mean_feats(Xtr, features, ids, min_tfidf=min_tfidf, top_n=top_n)\n",
    "        feats_df.label = label\n",
    "        dfs.append(feats_df)\n",
    "    return dfs"
   ]
  },
  {
   "cell_type": "code",
   "execution_count": null,
   "metadata": {
    "collapsed": true
   },
   "outputs": [],
   "source": [
    "def plot_tfidf_classfeats_h(dfs, name = 'default'):\n",
    "    \"\"\"Plot the data frames returned by the function plot_tfidf_classfeats().\"\"\"\n",
    "    fig = plt.figure(figsize=(12, 9), facecolor=\"w\")\n",
    "    x = np.arange(len(dfs[0]))\n",
    "    for i, df in enumerate(dfs):\n",
    "        ax = fig.add_subplot(1, len(dfs), i+1)\n",
    "        ax.spines[\"top\"].set_visible(False)\n",
    "        ax.spines[\"right\"].set_visible(False)\n",
    "        ax.set_frame_on(False)\n",
    "        ax.get_xaxis().tick_bottom()\n",
    "        ax.get_yaxis().tick_left()\n",
    "        ax.set_xlabel(\"Mean Tf-Idf Score\", labelpad=16, fontsize=14)\n",
    "        ax.set_title(\"label = \" + str(df.label), fontsize=16)\n",
    "        ax.ticklabel_format(axis='x', style='sci', scilimits=(-2,2))\n",
    "        ax.barh(x, df.tfidf, align='center', color='#3F5D7D')\n",
    "        ax.set_yticks(x)\n",
    "        ax.set_ylim([-1, x[-1]+1])\n",
    "        yticks = ax.set_yticklabels(df.feature)\n",
    "        plt.subplots_adjust(bottom=0.09, right=0.97, left=0.15, top=0.95, wspace=0.52)\n",
    "    #this line is for saving as picture\n",
    "    plt.savefig(name)\n",
    "    #this line is for showing\n",
    "    plt.show()"
   ]
  },
  {
   "cell_type": "markdown",
   "metadata": {},
   "source": [
    "<h4>Dimensionality reduction for bag of words (example for 2-grams)</h4>\n",
    "We reduce by taking the TOP-N per author"
   ]
  },
  {
   "cell_type": "code",
   "execution_count": null,
   "metadata": {
    "collapsed": true
   },
   "outputs": [],
   "source": [
    "alpha_word = top_feats_by_class(mat_word, tr1.author, name_word)"
   ]
  },
  {
   "cell_type": "code",
   "execution_count": null,
   "metadata": {},
   "outputs": [],
   "source": [
    "plot_tfidf_classfeats_h(alpha_word, 'bi_gram_word')"
   ]
  },
  {
   "cell_type": "markdown",
   "metadata": {},
   "source": [
    "<h3>Building of bag of word and feature vectors</h3>"
   ]
  },
  {
   "cell_type": "code",
   "execution_count": null,
   "metadata": {
    "collapsed": true
   },
   "outputs": [],
   "source": [
    "# counting_a(1,'word')"
   ]
  },
  {
   "cell_type": "code",
   "execution_count": null,
   "metadata": {
    "collapsed": true
   },
   "outputs": [],
   "source": [
    "def build_bag_a(a, analysis, top_n = 50):\n",
    "    df_bag = tr1.copy()\n",
    "    df_bag_test = ts1.copy()\n",
    "    \n",
    "    build = counting_a(a, analysis)\n",
    "    \n",
    "    alpha = top_feats_by_class(build[0], df_bag.author, build[1], top_n = top_n)\n",
    "\n",
    "    a = list(alpha[0].feature.values)\n",
    "    b = list(alpha[1].feature.values)\n",
    "    c = list(alpha[2].feature.values)\n",
    "    bag = set(a + b + c)\n",
    "\n",
    "\n",
    "    for w in bag:\n",
    "        vec = build[0][:, build[1].index(w)].toarray()\n",
    "        df_bag[w] = vec\n",
    "\n",
    "        vec_test = build[2][:, build[1].index(w)].toarray()\n",
    "        df_bag_test[w] = vec_test\n",
    "        \n",
    "    df_bag = df_bag.drop(labels = ['text','author'], axis = 1)\n",
    "    df_bag_test = df_bag_test.drop(labels = ['text','author'], axis = 1)\n",
    "\n",
    "        \n",
    "    return df_bag, df_bag_test"
   ]
  },
  {
   "cell_type": "code",
   "execution_count": null,
   "metadata": {
    "collapsed": true
   },
   "outputs": [],
   "source": [
    "#build_bag_a(4, 'token_pos')[0].shape"
   ]
  },
  {
   "cell_type": "code",
   "execution_count": null,
   "metadata": {
    "collapsed": true
   },
   "outputs": [],
   "source": [
    "#build_bag_a(2, 'word')[0].head()"
   ]
  },
  {
   "cell_type": "code",
   "execution_count": null,
   "metadata": {
    "collapsed": true
   },
   "outputs": [],
   "source": [
    "#build_bag_a(2, 'token_pos')[0]"
   ]
  },
  {
   "cell_type": "code",
   "execution_count": null,
   "metadata": {
    "collapsed": true
   },
   "outputs": [],
   "source": [
    "#print(set(list(build_bag_a(2, 'word')[1]))-set(list(build_bag_a(2, 'word')[0])))"
   ]
  },
  {
   "cell_type": "markdown",
   "metadata": {},
   "source": [
    "So, we get the top N-grams of words. Our problem is the depedency on the topic. We need to produce other features which are less dependant on the topic. There are sereveral possibility. Let's detail: <br>\n",
    "- Stemming<br>\n",
    "- Character Counting<br>\n",
    "- Pos_tagging"
   ]
  },
  {
   "cell_type": "markdown",
   "metadata": {},
   "source": [
    "<h2>Counting of Character (a.k.a bag of character)</h2>\n",
    "\n",
    "Here, we count the use of some caracter, and n-grams of caracter."
   ]
  },
  {
   "cell_type": "markdown",
   "metadata": {
    "collapsed": true
   },
   "source": [
    "<h3>Generation of the tf-idf counting dataFrame</h3>"
   ]
  },
  {
   "cell_type": "code",
   "execution_count": null,
   "metadata": {},
   "outputs": [],
   "source": [
    "mat_char, name_char, mat_char_test = counting_a(3, 'char')\n",
    "\n",
    "print ('Shape of Sparse Matrix: ', mat_char.shape)\n",
    "print ('Amount of Non-Zero occurences: ', mat_char.nnz)\n",
    "print ('sparsity: %.2f%%' % (100.0 * mat_char.nnz /\n",
    "                             (mat_char.shape[0] * mat_char.shape[1])))\n",
    "print(' ')\n",
    "print ('Shape of Sparse Matrix Test: ', mat_char_test.shape)\n",
    "print ('Amount of Non-Zero occurences: ', mat_char_test.nnz)\n",
    "print ('sparsity: %.2f%%' % (100.0 * mat_char_test.nnz /\n",
    "                             (mat_char_test.shape[0] * mat_char_test.shape[1])))"
   ]
  },
  {
   "cell_type": "markdown",
   "metadata": {
    "collapsed": true
   },
   "source": [
    "<h3>Dimensionnality reduction for bag of characters example for 3 gram</h3>\n",
    "We reduce by taking the TOP-N per author"
   ]
  },
  {
   "cell_type": "code",
   "execution_count": null,
   "metadata": {
    "collapsed": true
   },
   "outputs": [],
   "source": [
    "alpha_char = top_feats_by_class( mat_char, tr1.author, name_char)"
   ]
  },
  {
   "cell_type": "code",
   "execution_count": null,
   "metadata": {
    "scrolled": true
   },
   "outputs": [],
   "source": [
    "plot_tfidf_classfeats_h(alpha_char, 'tr_gram_char')"
   ]
  },
  {
   "cell_type": "markdown",
   "metadata": {},
   "source": [
    "<h3>Building of bag of character and feature vectors</h3>"
   ]
  },
  {
   "cell_type": "code",
   "execution_count": null,
   "metadata": {
    "collapsed": true
   },
   "outputs": [],
   "source": [
    "#build_bag_a(3, 'char')[0].shape"
   ]
  },
  {
   "cell_type": "markdown",
   "metadata": {
    "collapsed": true
   },
   "source": [
    "<h2>Counting of POS Tag (a.k.a bag of Tag)</h2>\n",
    "\n",
    "Here, we count the use of some caracter, and n-grams of caracter.<br>\n",
    "So we have, some non-topic sensitive features.<br>\n",
    "But we can produce an other type of feature based on the POS_tagging.\n",
    "\n",
    "POS tag features. \n",
    "\n",
    "We will check the occurence of the elements from the Upenn Tagset. <br>"
   ]
  },
  {
   "cell_type": "code",
   "execution_count": null,
   "metadata": {},
   "outputs": [],
   "source": [
    "tagdict = load('help/tagsets/upenn_tagset.pickle')\n",
    "#list of all the possible tag names\n",
    "print(\"|\\\\\".join(list(tagdict)))\n",
    "\n",
    "#this is the list of the different tokens we will use.\n",
    "len(tagdict)"
   ]
  },
  {
   "cell_type": "markdown",
   "metadata": {
    "collapsed": true
   },
   "source": [
    "<h3>Generation of the tf-idf counting dataFrame</h3>\n",
    "We had to adapt the arguments passed in the CountVectorizer."
   ]
  },
  {
   "cell_type": "code",
   "execution_count": null,
   "metadata": {},
   "outputs": [],
   "source": [
    "mat_pos, name_pos, mat_pos_test = counting_a(4, 'token_pos')\n",
    "\n",
    "print ('Shape of Sparse Matrix: ', mat_pos.shape)\n",
    "print ('Amount of Non-Zero occurences: ', mat_pos.nnz)\n",
    "print ('sparsity: %.2f%%' % (100.0 * mat_pos.nnz /\n",
    "                             (mat_pos.shape[0] * mat_pos.shape[1])))\n",
    "\n",
    "print ('Shape of Sparse Test Matrix: ', mat_pos_test.shape)\n",
    "print ('Amount of Non-Zero occurences: ', mat_pos_test.nnz)\n",
    "print ('sparsity: %.2f%%' % (100.0 * mat_pos_test.nnz /\n",
    "                             (mat_pos_test.shape[0] * mat_pos_test.shape[1])))"
   ]
  },
  {
   "cell_type": "markdown",
   "metadata": {},
   "source": [
    "<h3>Dimensionnality reduction for bag of tags Example for 2 grams</h3>\n",
    "We reduce by taking the TOP-N per author"
   ]
  },
  {
   "cell_type": "code",
   "execution_count": null,
   "metadata": {
    "collapsed": true
   },
   "outputs": [],
   "source": [
    "alpha_pos = top_feats_by_class(mat_pos, tr1.author, name_pos, top_n = 10)"
   ]
  },
  {
   "cell_type": "code",
   "execution_count": null,
   "metadata": {},
   "outputs": [],
   "source": [
    "plot_tfidf_classfeats_h(alpha_pos, \"four_gram_tag_pos\")"
   ]
  },
  {
   "cell_type": "markdown",
   "metadata": {},
   "source": [
    "<h3>Building of bag of tag and feature vectors</h3>"
   ]
  },
  {
   "cell_type": "code",
   "execution_count": null,
   "metadata": {
    "collapsed": true
   },
   "outputs": [],
   "source": [
    "#build_bag_a(2,'token_pos')[0].head()"
   ]
  },
  {
   "cell_type": "markdown",
   "metadata": {},
   "source": [
    "<h2>Positivity/Negativity</h2>"
   ]
  },
  {
   "cell_type": "markdown",
   "metadata": {},
   "source": [
    "<h4>Weighted sentiment analysis using Vader</h4>\n",
    "Vader contains a list of 7500 features weighted by how positive or negative they are</h4>\n",
    "<br>It uses these features to calculate stats on how positive, negative and neutral a passage is<br>\n",
    "<br>And combines these results to give a compound sentiment (higher = more positive) for the passage<br>\n",
    "<br>Human trained on twitter data and generally considered good for informal communication<br>\n",
    "<br>10 humans rated each feature in each tweet in context from -4 to +4</h4>\n",
    "<br>Calculates the sentiment in a sentence using word order analysis</h4>\n",
    "<br>\"marginally good\" will get a lower positive score than \"extremely good\"\n",
    "<br>Computes a \"compound\" score based on heuristics (between -1 and +1)</h4>\n",
    "<br>Includes sentiment of emoticons, punctuation, and other 'social media' lexicon elements<br>"
   ]
  },
  {
   "cell_type": "code",
   "execution_count": null,
   "metadata": {
    "collapsed": true
   },
   "outputs": [],
   "source": [
    "def vader_comparison(texts):\n",
    "    headers = ['pos','neg','neu','compound']\n",
    "    analyzer = SentimentIntensityAnalyzer()\n",
    "    sentences = sent_tokenize(texts)\n",
    "    pos = compound = neu = neg = 0\n",
    "    num_sentences = len(sentences)\n",
    "    for sentence in sentences:\n",
    "        vs = analyzer.polarity_scores(sentence)\n",
    "        pos += vs['pos'] / num_sentences\n",
    "        compound += vs['compound'] / num_sentences\n",
    "        neu += vs['neu'] / num_sentences\n",
    "        neg += vs['neg'] / num_sentences\n",
    "    return pos, neg, neu, compound\n",
    "\n",
    "def density_positive(var):\n",
    "    return vader_comparison(var)[0]\n",
    "\n",
    "def density_negative(var):\n",
    "    return vader_comparison(var)[1]\n",
    "\n",
    "def density_neutral(var):\n",
    "    return vader_comparison(var)[2]\n",
    "\n",
    "def density_compound(var):\n",
    "    return vader_comparison(var)[3]"
   ]
  },
  {
   "cell_type": "code",
   "execution_count": null,
   "metadata": {
    "collapsed": true
   },
   "outputs": [],
   "source": [
    "def build_sensi(dataframe):\n",
    "    df_sen = dataframe.copy() #change here to make sense\n",
    "    \n",
    "    df_sen[density_positive.__name__] = df_sen.text.apply(density_positive)\n",
    "    df_sen[density_negative.__name__] = df_sen.text.apply(density_negative)\n",
    "    df_sen[density_neutral.__name__] = df_sen.text.apply(density_neutral)\n",
    "    df_sen[density_compound.__name__] = df_sen.text.apply(density_compound)\n",
    "    \n",
    "    del df_sen['text']\n",
    "    if 'author' in df_sen.columns:\n",
    "        del df_sen['author']\n",
    "    return df_sen\n",
    "\n",
    "#build_sensi(ts1).shape"
   ]
  },
  {
   "cell_type": "code",
   "execution_count": null,
   "metadata": {},
   "outputs": [],
   "source": [
    "datatext7 = build_sensi(tr1)\n",
    "datatext7"
   ]
  },
  {
   "cell_type": "code",
   "execution_count": null,
   "metadata": {
    "collapsed": true
   },
   "outputs": [],
   "source": [
    "#see returns an error because referenced function used by datatext7 dropped the 'author' column\n",
    "\n",
    "# for c in datatext7.columns[3:]:\n",
    "#     plt.style.use('seaborn')\n",
    "#     sns.boxplot(x = 'author', y = c, data = datatext7)\n",
    "#     plt.title('Sensi {}'.format(c))\n",
    "#     plt.savefig('Sensi {}'.format(c))\n",
    "#     plt.show()"
   ]
  },
  {
   "cell_type": "markdown",
   "metadata": {
    "collapsed": true
   },
   "source": [
    "<h2>Fusion of the bunch of features.</h2>"
   ]
  },
  {
   "cell_type": "code",
   "execution_count": null,
   "metadata": {
    "collapsed": true,
    "scrolled": false
   },
   "outputs": [],
   "source": [
    "#we build here the 2 feature datasets (one for TR1, one for TS1)\n",
    "#should be adapted when we'll add features\n",
    "\n",
    "def build_bunch_tr1(dataframe):\n",
    "    list_df_tr = [build_meta2(dataframe),\n",
    "                  build_meta1(dataframe),\n",
    "                  build_sensi(dataframe),\n",
    "                  build_bag_a(1, 'word')[0],\n",
    "                  build_bag_a(2, 'word')[0],\n",
    "                  build_bag_a(3, 'word')[0],\n",
    "                  build_bag_a(1, 'char')[0],\n",
    "                  build_bag_a(2, 'char')[0],\n",
    "                  build_bag_a(3, 'char')[0],\n",
    "                  build_bag_a(4, 'char')[0],\n",
    "                  build_bag_a(5, 'char')[0],\n",
    "                  build_bag_a(6, 'char')[0],\n",
    "                  build_bag_a(7, 'char')[0],\n",
    "                  build_bag_a(1, 'token_pos')[0],\n",
    "                  build_bag_a(2, 'token_pos')[0],\n",
    "                  build_bag_a(3, 'token_pos')[0],\n",
    "                  build_bag_a(4, 'token_pos')[0],\n",
    "                  build_bag_a(5, 'token_pos')[0],\n",
    "                  build_bag_a(6, 'token_pos')[0],\n",
    "                  first_word(dataframe),\n",
    "#                   twofirst_word(dataframe),\n",
    "                  last_word(dataframe),\n",
    "#                   twolast_word(dataframe),\n",
    "                  language(dataframe),\n",
    "                  emotions(dataframe)\n",
    "              ]\n",
    "    bunch = pd.merge(list_df_tr[0], list_df_tr[1])\n",
    "    \n",
    "    for i in range(2, len(list_df_tr)):\n",
    "        alpha = bunch\n",
    "        bunch = pd.merge(alpha, list_df_tr[i], on = 'id')\n",
    "    \n",
    "    return bunch\n",
    "\n",
    "#df_feat_tr1 = build_bunch_tr1(tr1)"
   ]
  },
  {
   "cell_type": "code",
   "execution_count": null,
   "metadata": {},
   "outputs": [],
   "source": [
    "def build_bunch_ts1(dataframe):\n",
    "    list_df_ts = [build_meta2(dataframe),\n",
    "                  build_meta1(dataframe),\n",
    "                  build_sensi(dataframe),\n",
    "                  build_bag_a(1,'word')[1],\n",
    "                  build_bag_a(2,'word')[1],\n",
    "                  build_bag_a(3,'word')[1],\n",
    "               \n",
    "                  build_bag_a(1,'char')[1],\n",
    "                  build_bag_a(2,'char')[1],\n",
    "                  build_bag_a(3,'char')[1],\n",
    "                  build_bag_a(4,'char')[1],\n",
    "                  build_bag_a(5,'char')[1],\n",
    "                  build_bag_a(6,'char')[1],\n",
    "                  build_bag_a(7,'char')[1],\n",
    "               \n",
    "                  build_bag_a(1, 'token_pos')[1],\n",
    "                  build_bag_a(2, 'token_pos')[1],\n",
    "                  build_bag_a(3, 'token_pos')[1],\n",
    "                  build_bag_a(4, 'token_pos')[1],\n",
    "                  build_bag_a(5, 'token_pos')[1],\n",
    "                  build_bag_a(6, 'token_pos')[1],\n",
    "                  first_word(dataframe),\n",
    "#                   twofirst_word(dataframe),\n",
    "                  last_word(dataframe),\n",
    "#                   twolast_word(dataframe),\n",
    "                  language(dataframe),\n",
    "                  emotions(dataframe)\n",
    "                 ]\n",
    "\n",
    "    bunch = pd.merge(list_df_ts[0], list_df_ts[1])\n",
    "    \n",
    "    for i in range(2, len(list_df_ts)):\n",
    "        print(bunch.shape)\n",
    "        bunch = pd.merge(bunch, list_df_ts[i], on = 'id')\n",
    "    \n",
    "    return bunch\n",
    "df_feat_ts1 = build_bunch_ts1(ts1)"
   ]
  },
  {
   "cell_type": "code",
   "execution_count": null,
   "metadata": {
    "collapsed": true
   },
   "outputs": [],
   "source": [
    "# print ('Shape of df_feat_tr1 Matrix: ', df_feat_tr1.shape)\n",
    "# print ('Amount of Non-Zero occurences: ', np.count_nonzero(df_feat_tr1.values))\n",
    "# print ('sparsity: %.2f%%' % (100.0 * np.count_nonzero(df_feat_tr1.values) /\n",
    "#                                  (df_feat_tr1.shape[0] * df_feat_tr1.shape[1])))\n",
    "# print('')\n",
    "\n",
    "# print ('Shape of df_feat_ts1 Matrix: ', df_feat_ts1.shape)\n",
    "# print ('Amount of Non-Zero occurences: ', np.count_nonzero(df_feat_ts1.values))\n",
    "# print ('sparsity: %.2f%%' % (100.0 * np.count_nonzero(df_feat_ts1.values) /\n",
    "#                                  (df_feat_ts1.shape[0] * df_feat_ts1.shape[1])))"
   ]
  },
  {
   "cell_type": "markdown",
   "metadata": {},
   "source": [
    "<h2>Quantitative parameters transformation</h2>\n",
    "Quantitative parameters were transferred into a numerical vector with min-max normalization\n",
    "from 0 to 1. <br>\n",
    "<br>\n",
    "It is necessary to have normalized vectors before training our dataset to avoid a disequilibrium among the coefficients.\n",
    "\n",
    "http://blog.josephmisiti.com/help-commands-for-doing-machine-learning-in-python"
   ]
  },
  {
   "cell_type": "code",
   "execution_count": null,
   "metadata": {
    "collapsed": true
   },
   "outputs": [],
   "source": [
    "def build_normalization(df):\n",
    "    result = df.copy()\n",
    "    for feature_name in list(df)[3:]:\n",
    "        max_value = df[feature_name].max()\n",
    "        min_value = df[feature_name].min()\n",
    "        if max_value != min_value:\n",
    "            result[feature_name] = (df[feature_name] - min_value) / (max_value - min_value)\n",
    "    return result\n",
    "#build_normalization(df_feat_ts1).head()\n",
    "\n",
    "#df_feat_ts1"
   ]
  },
  {
   "cell_type": "markdown",
   "metadata": {},
   "source": [
    "So now, we have the normalized features matrix. "
   ]
  },
  {
   "cell_type": "markdown",
   "metadata": {},
   "source": [
    "<h1>Prediction: Selection of best set of feature selection technique and prediction model </h1>"
   ]
  },
  {
   "cell_type": "markdown",
   "metadata": {},
   "source": [
    "<h2>Load and prepare data</h2>"
   ]
  },
  {
   "cell_type": "code",
   "execution_count": null,
   "metadata": {},
   "outputs": [],
   "source": [
    "# load dataset\n",
    "\n",
    "names = author_list\n",
    "dataframe_train = build_normalization(build_bunch_tr1(tr1))\n",
    "dataframe_train.to_csv('dataframe_train')\n",
    "array = dataframe_train.values\n",
    "X_train = array[:,3:]\n",
    "Y_train = array[:,2]\n",
    "\n",
    "names = author_list\n",
    "dataframe_test = build_normalization(build_bunch_ts1(ts1))\n",
    "dataframe_test.to_csv('dataframe_test')\n",
    "array = dataframe_test.values\n",
    "X_test = array[:,3:]\n",
    "Y_test = array[:,2]"
   ]
  },
  {
   "cell_type": "code",
   "execution_count": null,
   "metadata": {},
   "outputs": [],
   "source": [
    "print(np.shape(X_train))\n",
    "print(np.shape(X_test))"
   ]
  },
  {
   "cell_type": "markdown",
   "metadata": {},
   "source": [
    "<h2>Feature Selection</h2><br>\n",
    "See:http://scikit-learn.org/stable/modules/feature_selection.html <br><br>\n",
    "Feature selection is a process where you automatically select those features in your data that contribute most to the prediction variable or output in which you are interested.<br>\n",
    "<br>\n",
    "Having irrelevant features in your data can decrease the accuracy of many models, especially linear algorithms like linear and logistic regression.<br>\n",
    "<br>\n",
    "Three benefits of performing feature selection before modeling your data are:<br>\n",
    "<br>\n",
    "- <b>Reduces Overfitting:</b> Less redundant data means less opportunity to make decisions based on noise.<br>\n",
    "    <br>\n",
    "- <b>Improves Accuracy:</b> Less misleading data means modeling accuracy improves.<br>\n",
    "    <br>\n",
    "- <b>Reduces Training Time:</b> Less data means that algorithms train faster.\n",
    "<br><br>I will not follow the paper here but rather I'll follow the following website: <br>\n",
    "\n",
    "https://machinelearningmastery.com/feature-selection-machine-learning-python/ <br>\n",
    "see also: https://www.analyticsvidhya.com/blog/2016/12/introduction-to-feature-selection-methods-with-an-example-or-how-to-select-the-right-variables/"
   ]
  },
  {
   "cell_type": "markdown",
   "metadata": {},
   "source": [
    "So, here we will try a bunch of different methods:<br>\n",
    "- Univariate feature selection\n",
    "- Recursive feature elimination\n",
    "- L1-based feature selection\n",
    "- Tree-based feature selection\n"
   ]
  },
  {
   "cell_type": "markdown",
   "metadata": {},
   "source": [
    "<h3>Number of selected features</h3>"
   ]
  },
  {
   "cell_type": "markdown",
   "metadata": {},
   "source": [
    "<h4>Current number of features</h4>"
   ]
  },
  {
   "cell_type": "code",
   "execution_count": null,
   "metadata": {},
   "outputs": [],
   "source": [
    "print('We have ' + str(np.shape(X_train)[1]) + ' features in total.')"
   ]
  },
  {
   "cell_type": "markdown",
   "metadata": {},
   "source": [
    "<h4>Reduction of  number of feaures</h4>\n",
    "The common possibilities are 10,20, quarter and half of total number of samples. <br>\n",
    "<br>\n",
    "For now, we only explore with quarter, tbd for the others."
   ]
  },
  {
   "cell_type": "code",
   "execution_count": null,
   "metadata": {},
   "outputs": [],
   "source": [
    "list_N = [10, 20, int(np.shape(X_train)[1]/4), int(np.shape(X_train)[1]/2)]\n",
    "\n",
    "print('We want to test our models with ' + str(list_N) + ' features extracted from the ' + str(np.shape(X_train)[1]) + ' previous features')"
   ]
  },
  {
   "cell_type": "markdown",
   "metadata": {},
   "source": [
    "<h3>Univariate feature selection</h3>"
   ]
  },
  {
   "cell_type": "code",
   "execution_count": null,
   "metadata": {
    "collapsed": true
   },
   "outputs": [],
   "source": [
    "def sel_univ(N):\n",
    "    return SelectKBest(chi2, k=N)"
   ]
  },
  {
   "cell_type": "markdown",
   "metadata": {},
   "source": [
    "<h3>Recursive feature elimination</h3>"
   ]
  },
  {
   "cell_type": "code",
   "execution_count": null,
   "metadata": {
    "collapsed": true
   },
   "outputs": [],
   "source": [
    "def sel_rec(N):\n",
    "    model_rec = LogisticRegression()\n",
    "    return RFE(model_rec, N)"
   ]
  },
  {
   "cell_type": "markdown",
   "metadata": {},
   "source": [
    "<h3>Principal Component Analysis</h3>\n"
   ]
  },
  {
   "cell_type": "code",
   "execution_count": null,
   "metadata": {
    "collapsed": true
   },
   "outputs": [],
   "source": [
    "def sel_pca(N):\n",
    "    return PCA(n_components=N)"
   ]
  },
  {
   "cell_type": "markdown",
   "metadata": {},
   "source": [
    "<h3>Summary</h3>"
   ]
  },
  {
   "cell_type": "code",
   "execution_count": null,
   "metadata": {
    "collapsed": true
   },
   "outputs": [],
   "source": [
    "def build_selec(N):\n",
    "    selectioners = []  \n",
    "    selectioners.append(('S_UNIV_{}'.format(N), sel_univ(N)))\n",
    "    selectioners.append(('S_REC_{}'.format(N), sel_rec(N)))\n",
    "    selectioners.append(('S_PCA_{}'.format(N), sel_pca(N)))\n",
    "    return selectioners"
   ]
  },
  {
   "cell_type": "markdown",
   "metadata": {},
   "source": [
    "<h2>Predictive Models</h2><br>\n",
    "So here we will try this bunch of feature models:\n",
    "\n",
    "- LogisticRegression\n",
    "- LinearDiscriminantAnalysis\n",
    "- KNeighborsClassifier\n",
    "- DecisionTreeClassifier\n",
    "- GaussianNB\n",
    "- SVC\n",
    "- GradientBoostingClassifier\n",
    "- AdaBoostClassifier\n",
    "- ExtraTreesClassifier\n",
    "- RandomForestClassifier\n"
   ]
  },
  {
   "cell_type": "code",
   "execution_count": null,
   "metadata": {
    "collapsed": true
   },
   "outputs": [],
   "source": [
    "def build_models(N):\n",
    "    models = []\n",
    "    models.append(('LR', LogisticRegression()))\n",
    "    models.append(('LDA', LinearDiscriminantAnalysis()))\n",
    "    models.append(('KNN', KNeighborsClassifier()))\n",
    "    models.append(('CART', DecisionTreeClassifier()))\n",
    "    models.append(('NB', GaussianNB()))\n",
    "    #models.append(('SVM', SVC()))\n",
    "    models.append(('GBC', GradientBoostingClassifier()))\n",
    "    models.append(('ABC', AdaBoostClassifier()))\n",
    "    models.append(('ETC', ExtraTreesClassifier()))\n",
    "    models.append(('RFC', RandomForestClassifier()))\n",
    "    models.append(('MultiNB', MultinomialNB(alpha=0.03)))\n",
    "    models.append(('Calibrated MultiNB', CalibratedClassifierCV( MultinomialNB(alpha=0.03), method='isotonic')))\n",
    "    models.append(('Calibrated BernoulliNB', CalibratedClassifierCV( BernoulliNB(alpha=0.03), method='isotonic')))\n",
    "    models.append(('Calibrated Huber', CalibratedClassifierCV(SGDClassifier(loss='modified_huber', alpha=1e-4, max_iter=10000, tol=1e-4), method='sigmoid')))\n",
    "    return models"
   ]
  },
  {
   "cell_type": "markdown",
   "metadata": {},
   "source": [
    "<h2>Pipeline</h2><br>"
   ]
  },
  {
   "cell_type": "markdown",
   "metadata": {},
   "source": [
    "Pipeline can be used to chain multiple estimators into one. This is useful as there is often a fixed sequence of steps in processing the data, for example feature selection, normalization and classification. Pipeline serves two purposes here:<br>\n",
    "- Convenience and Encapsulation<br>\n",
    "        You only have to call fit and predict once on your data to fit a whole sequence of estimators.\n",
    "- Joint parameter selection<br>\n",
    "        You can grid search over parameters of all estimators in the pipeline at once.\n",
    "- Safety<br>\n",
    "        Pipelines help avoid leaking statistics from your test data into the trained model in cross-validation, by ensuring that the same samples are used to train the transformers and predictors.\n",
    "All estimators in a pipeline, except the last one, must be transformers (i.e. must have a transform method). The last estimator may be any type (transformer, classifier, etc.)."
   ]
  },
  {
   "cell_type": "code",
   "execution_count": null,
   "metadata": {
    "collapsed": true
   },
   "outputs": [],
   "source": [
    "def build_pipes(N):\n",
    "    pipes = []\n",
    "    for sel in build_selec(N):\n",
    "        for mod in build_models(N):\n",
    "            pipes.append([sel, mod])\n",
    "    return pipes"
   ]
  },
  {
   "cell_type": "markdown",
   "metadata": {},
   "source": [
    "<h2>Compare set of selection and predictive models</h2>\n",
    "<br>\n"
   ]
  },
  {
   "cell_type": "markdown",
   "metadata": {
    "collapsed": true
   },
   "source": [
    "Here, we do ten times :<br>\n",
    "- First we train over 9/10 of the training set (TR1)\n",
    "- We test over the 1/10 remaining of the training set (TR1)<br>\n",
    "<br>\n",
    "But here we have a problem. Actually, the metric we need to mesure the models is 'neg_log_loss', because it is the one used by Kaggle. But it doesn't work and we don't know why. So, the metric used is accuracy. <br>\n",
    "<br>\n",
    "Then, we will take the 10 best models:<br>\n",
    "- We train over the whole train set(TR1)\n",
    "- We test over the whole test set (TS1)\n",
    "- we mesure the best with the neg_log_loss metric (here it's working)<br>\n",
    "Here the goal is to select the best with the Kaggle metric, but also we want to check if there is or not overfitting. "
   ]
  },
  {
   "cell_type": "code",
   "execution_count": null,
   "metadata": {
    "collapsed": true
   },
   "outputs": [],
   "source": [
    "def eval_N(n):\n",
    "    print('Go N')\n",
    "    \n",
    "    pipes = build_pipes(n)\n",
    "    \n",
    "    # evaluate each model in turn\n",
    "    results = []\n",
    "    names_model = []\n",
    "    results_mean_var = []\n",
    "    results_plot = []\n",
    "    seed = 7\n",
    "    count = 0\n",
    "\n",
    "    for feat, model in pipes:\n",
    "        intermediate_time = datetime.now()\n",
    "        count +=1\n",
    "        kfold = model_selection.KFold(n_splits=10, random_state=seed)\n",
    "        pipeline = Pipeline([feat, model])\n",
    "        #scorer = make_scorer((metrics.log_loss), labels = [0, 1 , 2])\n",
    "        scorer = 'neg_log_loss'\n",
    "        cv_results = model_selection.cross_val_score(pipeline,\n",
    "                                                     X_train,\n",
    "                                                     Y_train,\n",
    "                                                     cv=kfold,\n",
    "                                                     scoring = scorer)\n",
    "        results.append(cv_results)\n",
    "        results_mean_var.append((feat[0] + ' ' + model[0], cv_results.mean(), cv_results.var()))\n",
    "        results_plot.append(cv_results)\n",
    "        names_model.append(feat[0] + ' ' + model[0])\n",
    "        msg = \"%s: Mean=%f Stand Dev=(%f)\" % ('Selector: ' + feat[0] + ' Predictive model: ' + model[0], cv_results.mean(), cv_results.std())\n",
    "        print(msg)\n",
    "        print('Running time: {}'.format(datetime.now() - start_time()))\n",
    "        print('Intermediate time: {}'.format(datetime.now() - intermediate_time))\n",
    "\n",
    "\n",
    "    # boxplot algorithm comparison\n",
    "    fig = plt.figure()\n",
    "    fig.suptitle('Algorithm Comparison when N = {}'.format(n))\n",
    "    ax = fig.add_subplot(111)\n",
    "    plt.boxplot(results_plot)\n",
    "    ax.set_xticklabels(names_model, rotation='vertical')\n",
    "    plt.show()\n",
    "    results_plot = []\n",
    "        \n",
    "    return (results, results_mean_var)"
   ]
  },
  {
   "cell_type": "code",
   "execution_count": null,
   "metadata": {},
   "outputs": [],
   "source": [
    "eval_N(10)"
   ]
  },
  {
   "cell_type": "code",
   "execution_count": null,
   "metadata": {},
   "outputs": [],
   "source": [
    "pool = ThreadPool() \n",
    "training_results = pool.map(eval_N, list_N)\n",
    "# x = pool.map_async( eval_N, list_N[0:2] )\n",
    "pool.close()\n",
    "pool.join()"
   ]
  },
  {
   "cell_type": "markdown",
   "metadata": {},
   "source": [
    "<h2>Selection of selection and predictive models</h2>\n",
    "<br> We take the three best estimators in mean. These will be tested other the 'TS1' test dataset. <br>\n",
    "Really not sure about me for the criterion. Because, the variance is important too. We should think about it. "
   ]
  },
  {
   "cell_type": "code",
   "execution_count": null,
   "metadata": {},
   "outputs": [],
   "source": [
    "def get_and_select_results_mean_var():\n",
    "    list_res = [] #total list of results\n",
    "    selection = [] #top ten in term of average \n",
    "                   #subject to be in the criterion in term of mean\n",
    "    criterion = 0.05 #we reject if the mean is greater than 5%\n",
    "    \n",
    "    \n",
    "    for i in range(len(training_results)):\n",
    "        list_res.extend(training_results[i][1])\n",
    "        \n",
    "    list_res.sort(key=lambda tup: tup[1], reverse = True)\n",
    "    \n",
    "    count = 0\n",
    "    \n",
    "    while len(selection)< min(10, len(list_res)):\n",
    "        if list_res[count][2] <= criterion:\n",
    "            selection.append(list_res[count][0])\n",
    "            count +=1\n",
    "    \n",
    "    return selection\n",
    "\n",
    "selected_feat_model = get_and_select_results_mean_var()\n",
    "\n",
    "selected_feat_model    "
   ]
  },
  {
   "cell_type": "markdown",
   "metadata": {},
   "source": [
    "<h1>Testing over the Testing dataset</h1> <br>\n",
    "Now, we have to test the top-10 models over the remaining training set. Our aim is to see how are they are behaviouring over an un-known dataset and select the best. We will also, and it's the most import ensure there is no overfitting. "
   ]
  },
  {
   "cell_type": "markdown",
   "metadata": {},
   "source": [
    "<h2>List of selected</h2>"
   ]
  },
  {
   "cell_type": "code",
   "execution_count": null,
   "metadata": {
    "collapsed": true
   },
   "outputs": [],
   "source": [
    "best_pipes = []\n",
    "\n",
    "for j in range(len(selected_feat_model)):\n",
    "    for n in list_N:    \n",
    "        for i in range(len(build_pipes(n))):\n",
    "            f = build_pipes(n)[i][0][0] + ' ' + build_pipes(n)[i][1][0]\n",
    "            if f == selected_feat_model[j]:\n",
    "                best_pipes.append((f, build_pipes(n)[i]))\n",
    "print(len(best_pipes))         "
   ]
  },
  {
   "cell_type": "markdown",
   "metadata": {},
   "source": [
    "<h2>Confusion Matrix</h2>"
   ]
  },
  {
   "cell_type": "code",
   "execution_count": null,
   "metadata": {
    "collapsed": true
   },
   "outputs": [],
   "source": [
    "# import some data to play with\n",
    "\n",
    "class_names = author_list\n",
    "\n",
    "\n",
    "\n",
    "\n",
    "def plot_confusion_matrix(cm, classes,\n",
    "                          normalize=False,\n",
    "                          title='Confusion matrix',\n",
    "                          cmap=plt.cm.Blues):\n",
    "    \"\"\"\n",
    "    This function prints and plots the confusion matrix.\n",
    "    Normalization can be applied by setting `normalize=True`.\n",
    "    \"\"\"\n",
    "    if normalize:\n",
    "        cm = cm.astype('float') / cm.sum(axis=1)[:, np.newaxis]\n",
    "        print(\"Normalized confusion matrix\")\n",
    "    else:\n",
    "        print('Confusion matrix, without normalization')\n",
    "\n",
    "    print(cm)\n",
    "\n",
    "    plt.imshow(cm, interpolation='nearest', cmap=cmap)\n",
    "    plt.title(title)\n",
    "    plt.colorbar()\n",
    "    tick_marks = np.arange(len(classes))\n",
    "    plt.xticks(tick_marks, classes, rotation=45)\n",
    "    plt.yticks(tick_marks, classes)\n",
    "\n",
    "    fmt = '.2f' if normalize else 'd'\n",
    "    thresh = cm.max() / 2.\n",
    "    for i, j in itertools.product(range(cm.shape[0]), range(cm.shape[1])):\n",
    "        plt.text(j, i, format(cm[i, j], fmt),\n",
    "                 horizontalalignment=\"center\",\n",
    "                 color=\"white\" if cm[i, j] > thresh else \"black\")\n",
    "\n",
    "    plt.tight_layout()\n",
    "    plt.ylabel('True label')\n",
    "    plt.xlabel('Predicted label')\n",
    "\n"
   ]
  },
  {
   "cell_type": "code",
   "execution_count": null,
   "metadata": {
    "collapsed": true
   },
   "outputs": [],
   "source": [
    "\n",
    "def final_plot_confusion(Y_test, Y_pred):\n",
    "\n",
    "    cm = confusion_matrix(Y_test, Y_pred)\n",
    "\n",
    "    # Plot non-normalized confusion matrix\n",
    "    plt.figure()\n",
    "    plot_confusion_matrix(cm, classes=class_names,\n",
    "                          title='Confusion matrix, without normalization')\n",
    "\n",
    "    # Plot normalized confusion matrix\n",
    "    plt.figure()\n",
    "    plot_confusion_matrix(cm, classes=class_names, normalize=True,\n",
    "                          title='Normalized confusion matrix')\n",
    "\n",
    "    plt.show()"
   ]
  },
  {
   "cell_type": "markdown",
   "metadata": {},
   "source": [
    "<h2>Test over Top Pipeline</h2>"
   ]
  },
  {
   "cell_type": "code",
   "execution_count": null,
   "metadata": {
    "collapsed": true
   },
   "outputs": [],
   "source": [
    "log_loss_list = []\n",
    "for i in range(len(best_pipes)):\n",
    "    name = best_pipes[i][0]\n",
    "    pipeline = Pipeline([best_pipes[i][1][0], best_pipes[i][1][1]])\n",
    "    pipeline.fit(X_train, Y_train)\n",
    "    Y_pred = pipeline.predict(X_test)\n",
    "    y_prob_output = pipeline.predict_proba(X_test) #this is what we send to kaggle.\n",
    "    result = log_loss(Y_test, y_prob_output)\n",
    "    log_loss_list.append((name, result, pipeline))\n",
    "\n",
    "    \n",
    "log_loss_list.sort(key=lambda tup: tup[1], reverse = False)\n",
    "log_loss_list"
   ]
  },
  {
   "cell_type": "code",
   "execution_count": null,
   "metadata": {
    "collapsed": true,
    "scrolled": true
   },
   "outputs": [],
   "source": [
    "winner = log_loss_list[0]\n",
    "print('The best combination Number, Processing, Model is ' \n",
    "      + winner[0]\n",
    "     + ' with a log_loss score of '\n",
    "     + str(winner[1]))"
   ]
  },
  {
   "cell_type": "markdown",
   "metadata": {},
   "source": [
    "<h2>Confusion Matrix</h2>"
   ]
  },
  {
   "cell_type": "code",
   "execution_count": null,
   "metadata": {
    "collapsed": true
   },
   "outputs": [],
   "source": [
    "pipeline = winner[2]\n",
    "pipeline.fit(X_train, Y_train)\n",
    "Y_pred = pipeline.predict(X_test)\n",
    "y_prob_output = pipeline.predict_proba(X_test)  \n",
    "final_plot_confusion(Y_test, Y_pred)  "
   ]
  },
  {
   "cell_type": "markdown",
   "metadata": {},
   "source": [
    "<h2>Submission to Kaggle</h2>\n",
    "First, we must adapt the features building functions."
   ]
  },
  {
   "cell_type": "markdown",
   "metadata": {},
   "source": [
    "<h3>Loading Test Set</h3>"
   ]
  },
  {
   "cell_type": "code",
   "execution_count": null,
   "metadata": {
    "collapsed": true
   },
   "outputs": [],
   "source": [
    "#loading of test dataset\n",
    "test = pd.read_csv(\"test.csv\")\n",
    "\n",
    "test.text= test.text.astype(str)\n",
    "\n",
    "test = test[0:30] #for coding \n",
    "#construction of the feature vectors"
   ]
  },
  {
   "cell_type": "code",
   "execution_count": null,
   "metadata": {
    "collapsed": true
   },
   "outputs": [],
   "source": [
    "test.info()"
   ]
  },
  {
   "cell_type": "markdown",
   "metadata": {},
   "source": [
    "<h3>Adapting building functions</h3>"
   ]
  },
  {
   "cell_type": "code",
   "execution_count": null,
   "metadata": {
    "collapsed": true
   },
   "outputs": [],
   "source": [
    "#this function works for n-grams of characters, pos tokens or words\n",
    "\n",
    "#first argument is the n in n-gram\n",
    "#analysis type is 'word', 'char', token_pos', ...\n",
    "\n",
    "def counting_a_final(a, analysis):\n",
    "    \n",
    "    df_train = train.copy()\n",
    "    df_test  = test.copy()\n",
    "    \n",
    "    #if we are counting words:\n",
    "    if analysis == \"word\" or analysis == \"char\": \n",
    "        \n",
    "        #check the CountVectorizer doc\n",
    "        #we create a Countvectorizer, called bow_transformer\n",
    "        bow_transformer = CountVectorizer(analyzer = analysis,\n",
    "                                      lowercase = True, #we don't care about place in sentence\n",
    "                                      ngram_range = (a, a),\n",
    "                                      stop_words='english')\n",
    "\n",
    "        #we use bow_transformer to fit and transform our training set\n",
    "        messages_bow = bow_transformer.fit_transform(df_train['text'])\n",
    "        \n",
    "        #we use bow_transformer to transform our test set. \n",
    "        #We do not need to train if first because the fitting would recompute the idf, we don't want that\n",
    "        messages_bow_test = bow_transformer.transform(df_test['text'])\n",
    "    \n",
    "    #if we are counting POS:    \n",
    "    elif analysis == \"token_pos\":\n",
    "        \n",
    "        #this is the punctuation we want to keep\n",
    "        punctuation = r\"(?u)\\b\\w\\w+\\b|!|\\?|\\\"|\\'|\\.|\\,|\\;|\\:|\\$|\\(|\\)|\\--|\\&|\\``|\\'' + PRP$ + WP$\"\n",
    "        #we create a Countvectorizer, called bow_transformer\n",
    "        bow_transformer = CountVectorizer(analyzer = 'word',\n",
    "                                          lowercase = False, #we DO care about place in sentence\n",
    "                                          ngram_range = (a, a),\n",
    "                                          token_pattern =  punctuation, #we DO care about punctuation\n",
    "                                          stop_words='english')\n",
    "        \n",
    "        #we use the transform_tag function to transform the sentence in a sentence of pos tag        \n",
    "        #we use bow_transformer to fit and transform our training set\n",
    "        messages_bow = bow_transformer.fit_transform(df_train['text'].apply(transform_tag))\n",
    "        #we use bow_transformer to transform our test set\n",
    "        #We do not need to train if first because the fitting would recompute the idf, we don't want that\n",
    "        messages_bow_test = bow_transformer.transform(df_test['text'].apply(transform_tag))\n",
    "\n",
    "        \n",
    "    #this is the DataFrame Concerning the regular counting of words\n",
    "    \n",
    "    ##What does this do?\n",
    "    \"\"\"\n",
    "    messages_tfidf = TfidfTransformer().fit_transform(messages_bow)\n",
    "    messages_tfidf_test = TfidfTransformer().transform(messages_bow_test)\n",
    "    names = bow_transformer.get_feature_names()\n",
    "    \n",
    "    \"\"\"\n",
    "    tfidf_transformer = TfidfTransformer().fit(messages_bow)\n",
    "    messages_tfidf = tfidf_transformer.transform(messages_bow)\n",
    "    messages_tfidf_test = tfidf_transformer.transform(messages_bow_test)\n",
    "    \n",
    "    names = bow_transformer.get_feature_names()\n",
    "     \n",
    "    \n",
    "    \n",
    "    \n",
    "    return (messages_tfidf, names, messages_tfidf_test)\n"
   ]
  },
  {
   "cell_type": "code",
   "execution_count": null,
   "metadata": {
    "collapsed": true
   },
   "outputs": [],
   "source": [
    "def build_bag_a_final(a,  analysis, top_n = 50):\n",
    "    df_bag = train.copy()\n",
    "    df_bag_test = test.copy()\n",
    "    \n",
    "    build = counting_a_final(a, analysis)\n",
    "    \n",
    "    alpha = top_feats_by_class(build[0], df_bag.author, build[1], top_n = top_n)\n",
    "\n",
    "    a = list(alpha[0].feature.values)\n",
    "    b = list(alpha[1].feature.values)\n",
    "    c = list(alpha[2].feature.values)\n",
    "    bag = set(a + b + c)\n",
    "\n",
    "\n",
    "    for w in bag:\n",
    "        vec = build[0][:, build[1].index(w)].toarray()\n",
    "        df_bag[w] = vec\n",
    "\n",
    "        vec_test = build[2][:, build[1].index(w)].toarray()\n",
    "        df_bag_test[w] = vec_test\n",
    "        \n",
    "    df_bag = df_bag.drop(labels = ['text','author'], axis = 1)\n",
    "    df_bag_test = df_bag_test.drop(labels = ['text'], axis = 1)\n",
    "\n",
    "        \n",
    "    return df_bag, df_bag_test"
   ]
  },
  {
   "cell_type": "code",
   "execution_count": null,
   "metadata": {
    "collapsed": true
   },
   "outputs": [],
   "source": [
    "#we build here the 2 feature datasets (one for train, one for test)\n",
    "#should be adapted when we'll add features\n",
    "\n",
    "def build_bunch_train(dataframe):\n",
    "    list_df_tr = [build_meta2(dataframe),\n",
    "                  build_meta1(dataframe),\n",
    "                  build_sensi(dataframe),\n",
    "                  build_bag_a_final(1,'word')[0],\n",
    "                  build_bag_a_final(2,'word')[0],\n",
    "                  build_bag_a_final(3,'word')[0],\n",
    "                  build_bag_a_final(1,'char')[0],\n",
    "                  build_bag_a_final(2,'char')[0],\n",
    "                  build_bag_a_final(3,'char')[0],\n",
    "                  build_bag_a_final(4,'char')[0],\n",
    "                  build_bag_a_final(5,'char')[0],\n",
    "                  build_bag_a_final(6,'char')[0],\n",
    "                  build_bag_a_final(7,'char')[0],\n",
    "                  build_bag_a_final(1, 'token_pos')[0],\n",
    "                  build_bag_a_final(2, 'token_pos')[0],\n",
    "                  build_bag_a_final(3, 'token_pos')[0],\n",
    "                  build_bag_a_final(4, 'token_pos')[0],\n",
    "                  build_bag_a_final(5, 'token_pos')[0],\n",
    "                  build_bag_a_final(6, 'token_pos')[0],\n",
    "                  first_word(dataframe),\n",
    "#                   twofirst_word(dataframe),\n",
    "                  last_word(dataframe),\n",
    "#                   twolast_word(dataframe),\n",
    "                  language(dataframe),\n",
    "                  emotions(dataframe)\n",
    "              ]\n",
    "    bunch = pd.merge(list_df_tr[0], list_df_tr[1])\n",
    "    \n",
    "    for i in range(2, len(list_df_tr)):\n",
    "        alpha = bunch\n",
    "        bunch = pd.merge(alpha, list_df_tr[i], on = 'id')\n",
    "    \n",
    "    return bunch\n",
    "\n",
    "#build_bunch_train(train)"
   ]
  },
  {
   "cell_type": "code",
   "execution_count": null,
   "metadata": {
    "collapsed": true
   },
   "outputs": [],
   "source": [
    "def build_bunch_test(dataframe):\n",
    "    list_df_ts = [build_meta2(dataframe),\n",
    "                  build_meta1(dataframe),\n",
    "                  build_sensi(dataframe),\n",
    "                  build_bag_a_final(1,'word')[1],\n",
    "                  build_bag_a_final(2,'word')[1],\n",
    "                  build_bag_a_final(3,'word')[1],\n",
    "\n",
    "                  build_bag_a_final(1,'char')[1],\n",
    "                  build_bag_a_final(2,'char')[1],\n",
    "                  build_bag_a_final(3,'char')[1],\n",
    "                  build_bag_a_final(4,'char')[1],\n",
    "                  build_bag_a_final(5,'char')[1],\n",
    "                  build_bag_a_final(6,'char')[1],\n",
    "                  build_bag_a_final(7,'char')[1],\n",
    "               \n",
    "                  build_bag_a_final(1, 'token_pos')[1],\n",
    "                  build_bag_a_final(2, 'token_pos')[1],\n",
    "                  build_bag_a_final(3, 'token_pos')[1],\n",
    "                  build_bag_a_final(4, 'token_pos')[1],\n",
    "                  build_bag_a_final(5, 'token_pos')[1],\n",
    "                  build_bag_a_final(6, 'token_pos')[1],\n",
    "                  first_word(dataframe),\n",
    "#                   twofirst_word(dataframe),\n",
    "                  last_word(dataframe),\n",
    "#                   twolast_word(dataframe),\n",
    "                  language(dataframe),\n",
    "                  emotions(dataframe)\n",
    "                 ]\n",
    "\n",
    "\n",
    "    bunch = pd.merge(list_df_ts[0], list_df_ts[1])\n",
    "    \n",
    "    for i in range(2, len(list_df_ts)):\n",
    "        bunch = pd.merge(bunch, list_df_ts[i], on = 'id')\n",
    "    \n",
    "    return bunch\n",
    "\n",
    "#build_bunch_test(test)"
   ]
  },
  {
   "cell_type": "markdown",
   "metadata": {},
   "source": [
    "<h3>Training over all the Training Dataset</h3>"
   ]
  },
  {
   "cell_type": "code",
   "execution_count": null,
   "metadata": {
    "collapsed": true
   },
   "outputs": [],
   "source": [
    "# load dataset\n",
    "\n",
    "names = author_list\n",
    "dataframe_train = build_normalization(build_bunch_train(train))\n",
    "dataframe_train.to_csv('final_dataframe_train')\n",
    "array = dataframe_train.values\n",
    "X_train = array[:,3:]\n",
    "Y_train = array[:,2]\n",
    "\n",
    "names = author_list\n",
    "dataframe_test = build_normalization(build_bunch_test(test))\n",
    "dataframe_test.to_csv('final_dataframe_train')\n",
    "array = dataframe_test.values\n",
    "X_test = array[:,2:]\n",
    "Y_test = array[:,2]"
   ]
  },
  {
   "cell_type": "code",
   "execution_count": null,
   "metadata": {
    "collapsed": true
   },
   "outputs": [],
   "source": [
    "print(np.shape(X_train))\n",
    "print(np.shape(X_test))"
   ]
  },
  {
   "cell_type": "code",
   "execution_count": null,
   "metadata": {
    "collapsed": true
   },
   "outputs": [],
   "source": [
    "#training\n",
    "pipeline = winner[2]\n",
    "pipeline.fit(X_train, Y_train)"
   ]
  },
  {
   "cell_type": "markdown",
   "metadata": {},
   "source": [
    "<h3>Generating the probabilities</h3>"
   ]
  },
  {
   "cell_type": "code",
   "execution_count": null,
   "metadata": {
    "collapsed": true
   },
   "outputs": [],
   "source": [
    "Y_pred = pipeline.predict(X_test)\n",
    "y_prob_output = pipeline.predict_proba(X_test)"
   ]
  },
  {
   "cell_type": "code",
   "execution_count": null,
   "metadata": {
    "collapsed": true
   },
   "outputs": [],
   "source": [
    "print(y_prob_output)"
   ]
  },
  {
   "cell_type": "markdown",
   "metadata": {},
   "source": [
    "<h3>CSV File</h3>"
   ]
  },
  {
   "cell_type": "code",
   "execution_count": null,
   "metadata": {
    "collapsed": true
   },
   "outputs": [],
   "source": [
    "y_prob_output[:,0]"
   ]
  },
  {
   "cell_type": "code",
   "execution_count": null,
   "metadata": {
    "collapsed": true
   },
   "outputs": [],
   "source": [
    "df_submit = pd.DataFrame(columns = ['id',\"EAP\",\"HPL\",\"MWS\"])\n",
    "df_submit['id'] = test['id']\n",
    "df_submit['EAP'] = y_prob_output[:,0]\n",
    "df_submit['HPL'] = y_prob_output[:,1]\n",
    "df_submit['MWS'] = y_prob_output[:,2]\n",
    "df_submit"
   ]
  },
  {
   "cell_type": "code",
   "execution_count": null,
   "metadata": {
    "collapsed": true
   },
   "outputs": [],
   "source": [
    "df_submit.to_csv('submission.csv', index=False)"
   ]
  },
  {
   "cell_type": "code",
   "execution_count": null,
   "metadata": {
    "collapsed": true
   },
   "outputs": [],
   "source": [
    "end_time = datetime.now()\n",
    "\n",
    "print('Congratulations, the project is done! It took: ' + str(end_time - start_time))"
   ]
  }
 ],
 "metadata": {
  "kernelspec": {
   "display_name": "Python 3",
   "language": "python",
   "name": "python3"
  },
  "language_info": {
   "codemirror_mode": {
    "name": "ipython",
    "version": 3
   },
   "file_extension": ".py",
   "mimetype": "text/x-python",
   "name": "python",
   "nbconvert_exporter": "python",
   "pygments_lexer": "ipython3",
   "version": "3.6.3"
  }
 },
 "nbformat": 4,
 "nbformat_minor": 2
}
