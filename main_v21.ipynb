{
 "cells": [
  {
   "cell_type": "markdown",
   "metadata": {},
   "source": [
    "<h1>Pre-work</h1>\n",
    "\n",
    "On my laptop I can't run the code for the entire dataframe, so it's going to be on the half and we'll have to run it at the library over more powerful laptop. Unless one of us has a powerful enough laptop.\n",
    "Other options:\n",
    "- run on Google Cloud\n",
    "- use Columbia's Cluster"
   ]
  },
  {
   "cell_type": "code",
   "execution_count": 332,
   "metadata": {},
   "outputs": [],
   "source": [
    "#!pip3 install nltk\n",
    "#!pip3 install seaborn\n",
    "#!pip3 install langdetect\n",
    "#!pip3 install wordcloud\n",
    "#!pip3 install vaderSentiment"
   ]
  },
  {
   "cell_type": "code",
   "execution_count": 333,
   "metadata": {},
   "outputs": [],
   "source": [
    "import nltk\n",
    "#nltk.download()\n",
    "\n",
    "import numpy as np\n",
    "import pandas as pd\n",
    "import requests\n",
    "import seaborn as sns\n",
    "#import matplotlib.pyplot as plt\n",
    "#from wordcloud import wordcloud, STOPWORDS\n",
    "import os\n",
    "import itertools\n",
    "\n",
    "from nltk import sent_tokenize, word_tokenize, FreqDist\n",
    "from nltk.data import load\n",
    "\n",
    "from langdetect import detect\n",
    "\n",
    "from math import ceil\n",
    "\n",
    "from pandas import read_csv\n",
    "\n",
    "from datetime import datetime\n",
    "\n",
    "from collections import Counter\n",
    "\n",
    "from vaderSentiment.vaderSentiment import SentimentIntensityAnalyzer\n",
    "\n",
    "from sklearn import metrics, model_selection, svm\n",
    "from sklearn.model_selection import train_test_split\n",
    "from sklearn.feature_extraction.text import CountVectorizer, TfidfTransformer, TfidfVectorizer\n",
    "from sklearn.feature_selection import SelectKBest, chi2, RFE, SelectFromModel\n",
    "from sklearn.decomposition import PCA\n",
    "from sklearn.svm import LinearSVC\n",
    "from sklearn.pipeline import Pipeline\n",
    "from sklearn.linear_model import SGDClassifier, LogisticRegression\n",
    "from sklearn.tree import DecisionTreeClassifier\n",
    "from sklearn.neighbors import KNeighborsClassifier\n",
    "from sklearn.discriminant_analysis import LinearDiscriminantAnalysis\n",
    "from sklearn.naive_bayes import GaussianNB, BernoulliNB, MultinomialNB\n",
    "from sklearn.svm import SVC\n",
    "from sklearn.ensemble import (RandomTreesEmbedding, RandomForestClassifier,\n",
    "                              GradientBoostingClassifier, AdaBoostClassifier, ExtraTreesClassifier, VotingClassifier)\n",
    "from sklearn.metrics import log_loss, fbeta_score, make_scorer, confusion_matrix, roc_curve\n",
    "from sklearn.calibration import CalibratedClassifierCV\n",
    "\n",
    "from os import path\n",
    "from PIL import Image\n",
    "from multiprocessing.dummy import Pool as ThreadPool \n",
    "\n",
    "from sklearn import datasets # toy datasets\n",
    "\n",
    "start_time = datetime.now()"
   ]
  },
  {
   "cell_type": "code",
   "execution_count": 334,
   "metadata": {},
   "outputs": [],
   "source": [
    "from wordcloud import STOPWORDS"
   ]
  },
  {
   "cell_type": "markdown",
   "metadata": {},
   "source": [
    "<h2>Processing functions</h2>"
   ]
  },
  {
   "cell_type": "markdown",
   "metadata": {},
   "source": [
    "<h3>Normalization Function</h3>"
   ]
  },
  {
   "cell_type": "markdown",
   "metadata": {},
   "source": [
    "<h4>Normalization over number of words"
   ]
  },
  {
   "cell_type": "code",
   "execution_count": 335,
   "metadata": {},
   "outputs": [],
   "source": [
    "def normalization_word(var):\n",
    "    \"\"\"Returns number of words.\"\"\"\n",
    "    words = nltk.Text(word_tokenize(((var))))\n",
    "    return len(words)"
   ]
  },
  {
   "cell_type": "markdown",
   "metadata": {},
   "source": [
    "<h4>Normalization by number of Sentences</h4>"
   ]
  },
  {
   "cell_type": "code",
   "execution_count": 336,
   "metadata": {},
   "outputs": [],
   "source": [
    "def normalization_sentence(var):\n",
    "    \"\"\"Returns number of sentences.\"\"\"\n",
    "    sentences = nltk.Text(sent_tokenize(var))\n",
    "    return len(sentences)"
   ]
  },
  {
   "cell_type": "markdown",
   "metadata": {},
   "source": [
    "<h4>Normalization by number of Characters</h4>\n"
   ]
  },
  {
   "cell_type": "code",
   "execution_count": 337,
   "metadata": {},
   "outputs": [],
   "source": [
    "def normalization_character(var):\n",
    "    \"\"\"Returns number of characters.\"\"\"\n",
    "    return len(var)"
   ]
  },
  {
   "cell_type": "markdown",
   "metadata": {},
   "source": [
    "<h3>Cleaning Function</h3>"
   ]
  },
  {
   "cell_type": "code",
   "execution_count": 338,
   "metadata": {},
   "outputs": [],
   "source": [
    "def cleaning(var):\n",
    "    \"\"\"Take a string. Returns a string with only lowercase letters and the space between words.\"\"\"\n",
    "    plain_string = \"\"\n",
    "    for x in var:\n",
    "        x = x.lower()\n",
    "        if (('a' <= x and x <= 'z') or x == ' '):\n",
    "            plain_string += x\n",
    "        elif x == '\\'': # any apostrophes(') are replaced by a space \n",
    "            plain_string += ' '\n",
    "    while '  ' in plain_string: # any multiple spaces are replaced by a single space\n",
    "        plain_string = plain_string.replace('  ', ' ')\n",
    "    return plain_string"
   ]
  },
  {
   "cell_type": "markdown",
   "metadata": {},
   "source": [
    "<h3>Creation of the dataframes</h3>"
   ]
  },
  {
   "cell_type": "code",
   "execution_count": 339,
   "metadata": {},
   "outputs": [],
   "source": [
    "train = pd.read_csv(\"train.csv\")\n",
    "# data must be in same folder\n",
    "\n",
    "author_list = ['EAP', 'HPL', 'MWS']\n",
    "train.text= train.text.astype(str) # casts the type of the text column to str\n",
    "train.author = pd.Categorical(train.author)\n",
    "\n",
    "train = train[0:200]  # size reduction for coding\n",
    "\n",
    "train_back_up = train.copy() # back-up used to define future dataframes"
   ]
  },
  {
   "cell_type": "code",
   "execution_count": 340,
   "metadata": {},
   "outputs": [
    {
     "data": {
      "text/plain": [
       "'This process, however, afforded me no means of ascertaining the dimensions of my dungeon; as I might make its circuit, and return to the point whence I set out, without being aware of the fact; so perfectly uniform seemed the wall.'"
      ]
     },
     "execution_count": 340,
     "metadata": {},
     "output_type": "execute_result"
    }
   ],
   "source": [
    "# just a test cell\n",
    "test = train['text'][0]\n",
    "test"
   ]
  },
  {
   "cell_type": "markdown",
   "metadata": {},
   "source": [
    "<h1>Word Clouds</h1>"
   ]
  },
  {
   "cell_type": "code",
   "execution_count": 341,
   "metadata": {},
   "outputs": [],
   "source": [
    "# full text from the authors as an array\n",
    "eap = train[train.author==\"EAP\"][\"text\"].values\n",
    "hpl = train[train.author==\"HPL\"][\"text\"].values\n",
    "mws = train[train.author==\"MWS\"][\"text\"].values\n",
    "\n",
    "# full text from the authors as a string\n",
    "eap_s = \" \".join(eap)\n",
    "hpl_s = \" \".join(hpl)\n",
    "mws_s = \" \".join(mws)\n",
    "\n",
    "# full PLAIN text (i.e. no capital and punctuation) from the authors as a string\n",
    "eap_s_c = cleaning(eap_s)\n",
    "hpl_s_c = cleaning(hpl_s)\n",
    "mws_s_c = cleaning(mws_s)"
   ]
  },
  {
   "cell_type": "code",
   "execution_count": 342,
   "metadata": {},
   "outputs": [
    {
     "data": {
      "text/plain": [
       "'\\n# Read the whole text\\nlist_text = [eap_s_c, hpl_s_c, mws_s_c]\\n\\n# read the mask image\\n# taken from http://www.stencilry.org/\\neap_mask = np.array(Image.open(\"eap_mask.jpg\"))\\nhpl_mask = np.array(Image.open(\"hpl_mask.jpg\"))\\nmws_mask = np.array(Image.open(\"mws_mask.jpg\"))\\nlist_mask = [eap_mask, hpl_mask, mws_mask]\\n\\nstopwords = set(STOPWORDS)\\n\\nfor i in range(3):\\n    wc = WordCloud(background_color=\"white\", max_words=2000, mask=list_mask[i],\\n                   stopwords=stopwords)\\n    # generate word cloud\\n    wc.generate(list_text[i])\\n    # show\\n    plt.imshow(wc, interpolation=\\'bilinear\\')\\n    plt.title(\\'Wordcloud of author \\' + author_list[i])\\n    plt.axis(\"off\")\\n    plt.figure()\\n    # store to file\\n    wc.to_file(\"{}_wordcloud.png\".format(author_list[i]))\\n    \\nplt.show()\\n'"
      ]
     },
     "execution_count": 342,
     "metadata": {},
     "output_type": "execute_result"
    }
   ],
   "source": [
    "'''\n",
    "# Read the whole text\n",
    "list_text = [eap_s_c, hpl_s_c, mws_s_c]\n",
    "\n",
    "# read the mask image\n",
    "# taken from http://www.stencilry.org/\n",
    "eap_mask = np.array(Image.open(\"eap_mask.jpg\"))\n",
    "hpl_mask = np.array(Image.open(\"hpl_mask.jpg\"))\n",
    "mws_mask = np.array(Image.open(\"mws_mask.jpg\"))\n",
    "list_mask = [eap_mask, hpl_mask, mws_mask]\n",
    "\n",
    "stopwords = set(STOPWORDS)\n",
    "\n",
    "for i in range(3):\n",
    "    wc = WordCloud(background_color=\"white\", max_words=2000, mask=list_mask[i],\n",
    "                   stopwords=stopwords)\n",
    "    # generate word cloud\n",
    "    wc.generate(list_text[i])\n",
    "    # show\n",
    "    plt.imshow(wc, interpolation='bilinear')\n",
    "    plt.title('Wordcloud of author ' + author_list[i])\n",
    "    plt.axis(\"off\")\n",
    "    plt.figure()\n",
    "    # store to file\n",
    "    wc.to_file(\"{}_wordcloud.png\".format(author_list[i]))\n",
    "    \n",
    "plt.show()\n",
    "'''"
   ]
  },
  {
   "cell_type": "markdown",
   "metadata": {},
   "source": [
    "<h1>Splitting the training set.</h1>\n",
    "<br>\n",
    "Because we have only two dataset, one for training and the other for the Kaggle test. We need to split our 'Kaggle training' set (called t0) into training (called tr1) (in the sense of the training of our predictive model) and testing set (called ts1) (in the sense of testing our models, and not be tested by Kaggle !).<br>\n",
    "<br>\n",
    "We shall notice we will choose the best classifier only with the tr1 DataSet. Then, we will test this classifier with ts1 to see if we over-fitted over tr1.<br>\n",
    "<br>\n",
    "\n",
    "Once we havechosen the classifier and checked for over-fitting, we will train the chosen classifier over tr1 and ts1. We will use this to predict over the \"Kaggle Test Dataset\" and create our submission. "
   ]
  },
  {
   "cell_type": "code",
   "execution_count": 343,
   "metadata": {},
   "outputs": [],
   "source": [
    "t0 = train.copy()"
   ]
  },
  {
   "cell_type": "code",
   "execution_count": 344,
   "metadata": {},
   "outputs": [
    {
     "name": "stdout",
     "output_type": "stream",
     "text": [
      "200\n",
      "150\n",
      "50\n",
      "0.75\n",
      "0.25\n",
      "1.0\n"
     ]
    }
   ],
   "source": [
    "tr1, ts1 = train_test_split(t0, test_size=20/80)\n",
    "# 20% to tr1 and 80% to ts1\n",
    "\n",
    "print(len(t0))\n",
    "print(len(tr1))\n",
    "print(len(ts1))\n",
    "print(len(tr1) / len(t0))\n",
    "print(len(ts1) / len(t0))\n",
    "print((len(tr1) / len(t0)) + (len(ts1) / len(t0)))"
   ]
  },
  {
   "cell_type": "code",
   "execution_count": 345,
   "metadata": {},
   "outputs": [
    {
     "data": {
      "text/html": [
       "<div>\n",
       "<style scoped>\n",
       "    .dataframe tbody tr th:only-of-type {\n",
       "        vertical-align: middle;\n",
       "    }\n",
       "\n",
       "    .dataframe tbody tr th {\n",
       "        vertical-align: top;\n",
       "    }\n",
       "\n",
       "    .dataframe thead th {\n",
       "        text-align: right;\n",
       "    }\n",
       "</style>\n",
       "<table border=\"1\" class=\"dataframe\">\n",
       "  <thead>\n",
       "    <tr style=\"text-align: right;\">\n",
       "      <th></th>\n",
       "      <th>id</th>\n",
       "      <th>text</th>\n",
       "      <th>author</th>\n",
       "    </tr>\n",
       "  </thead>\n",
       "  <tbody>\n",
       "    <tr>\n",
       "      <th>30</th>\n",
       "      <td>id15222</td>\n",
       "      <td>Meantime the whole Paradise of Arnheim bursts ...</td>\n",
       "      <td>EAP</td>\n",
       "    </tr>\n",
       "    <tr>\n",
       "      <th>13</th>\n",
       "      <td>id18886</td>\n",
       "      <td>The farm like grounds extended back very deepl...</td>\n",
       "      <td>HPL</td>\n",
       "    </tr>\n",
       "    <tr>\n",
       "      <th>122</th>\n",
       "      <td>id15580</td>\n",
       "      <td>Baffled, the excavators sought a conference wi...</td>\n",
       "      <td>HPL</td>\n",
       "    </tr>\n",
       "    <tr>\n",
       "      <th>17</th>\n",
       "      <td>id13117</td>\n",
       "      <td>Her native sprightliness needed no undue excit...</td>\n",
       "      <td>MWS</td>\n",
       "    </tr>\n",
       "    <tr>\n",
       "      <th>192</th>\n",
       "      <td>id04949</td>\n",
       "      <td>The lower portion of the other is hidden from ...</td>\n",
       "      <td>EAP</td>\n",
       "    </tr>\n",
       "  </tbody>\n",
       "</table>\n",
       "</div>"
      ],
      "text/plain": [
       "          id                                               text author\n",
       "30   id15222  Meantime the whole Paradise of Arnheim bursts ...    EAP\n",
       "13   id18886  The farm like grounds extended back very deepl...    HPL\n",
       "122  id15580  Baffled, the excavators sought a conference wi...    HPL\n",
       "17   id13117  Her native sprightliness needed no undue excit...    MWS\n",
       "192  id04949  The lower portion of the other is hidden from ...    EAP"
      ]
     },
     "execution_count": 345,
     "metadata": {},
     "output_type": "execute_result"
    }
   ],
   "source": [
    "tr1.head()"
   ]
  },
  {
   "cell_type": "code",
   "execution_count": 346,
   "metadata": {},
   "outputs": [
    {
     "data": {
      "text/html": [
       "<div>\n",
       "<style scoped>\n",
       "    .dataframe tbody tr th:only-of-type {\n",
       "        vertical-align: middle;\n",
       "    }\n",
       "\n",
       "    .dataframe tbody tr th {\n",
       "        vertical-align: top;\n",
       "    }\n",
       "\n",
       "    .dataframe thead th {\n",
       "        text-align: right;\n",
       "    }\n",
       "</style>\n",
       "<table border=\"1\" class=\"dataframe\">\n",
       "  <thead>\n",
       "    <tr style=\"text-align: right;\">\n",
       "      <th></th>\n",
       "      <th>id</th>\n",
       "      <th>text</th>\n",
       "      <th>author</th>\n",
       "    </tr>\n",
       "  </thead>\n",
       "  <tbody>\n",
       "    <tr>\n",
       "      <th>20</th>\n",
       "      <td>id11411</td>\n",
       "      <td>Now the net work was not permanently fastened ...</td>\n",
       "      <td>EAP</td>\n",
       "    </tr>\n",
       "    <tr>\n",
       "      <th>135</th>\n",
       "      <td>id18911</td>\n",
       "      <td>His engagement broken, Galpin moved east to be...</td>\n",
       "      <td>HPL</td>\n",
       "    </tr>\n",
       "    <tr>\n",
       "      <th>194</th>\n",
       "      <td>id01172</td>\n",
       "      <td>\"At a quarter past eight, being no longer able...</td>\n",
       "      <td>EAP</td>\n",
       "    </tr>\n",
       "    <tr>\n",
       "      <th>99</th>\n",
       "      <td>id04451</td>\n",
       "      <td>Everyone seemed inclined to be silent now, as ...</td>\n",
       "      <td>HPL</td>\n",
       "    </tr>\n",
       "    <tr>\n",
       "      <th>24</th>\n",
       "      <td>id01704</td>\n",
       "      <td>These bizarre attempts at explanation were fol...</td>\n",
       "      <td>EAP</td>\n",
       "    </tr>\n",
       "  </tbody>\n",
       "</table>\n",
       "</div>"
      ],
      "text/plain": [
       "          id                                               text author\n",
       "20   id11411  Now the net work was not permanently fastened ...    EAP\n",
       "135  id18911  His engagement broken, Galpin moved east to be...    HPL\n",
       "194  id01172  \"At a quarter past eight, being no longer able...    EAP\n",
       "99   id04451  Everyone seemed inclined to be silent now, as ...    HPL\n",
       "24   id01704  These bizarre attempts at explanation were fol...    EAP"
      ]
     },
     "execution_count": 346,
     "metadata": {},
     "output_type": "execute_result"
    }
   ],
   "source": [
    "ts1.head()"
   ]
  },
  {
   "cell_type": "markdown",
   "metadata": {},
   "source": [
    "<h1>Feature Engineering</h1>"
   ]
  },
  {
   "cell_type": "markdown",
   "metadata": {},
   "source": [
    "<h2>Meta Features</h2>"
   ]
  },
  {
   "cell_type": "markdown",
   "metadata": {},
   "source": [
    "<h3>Average sentence length (in characters)</h3>"
   ]
  },
  {
   "cell_type": "code",
   "execution_count": 347,
   "metadata": {},
   "outputs": [],
   "source": [
    "def length_character(var):\n",
    "    \"\"\"Takes a string returns an int (average sentence length in characters).\"\"\"\n",
    "    return len(var) / normalization_sentence(var)"
   ]
  },
  {
   "cell_type": "markdown",
   "metadata": {},
   "source": [
    "<h3>Average sentence length (in words)</h3>"
   ]
  },
  {
   "cell_type": "code",
   "execution_count": 348,
   "metadata": {},
   "outputs": [],
   "source": [
    "def length_sentence(var):\n",
    "    \"\"\"Takes a string and returns an int (average sentence length in words).\"\"\"\n",
    "    return len(var.split()) / normalization_sentence(var)"
   ]
  },
  {
   "cell_type": "markdown",
   "metadata": {
    "collapsed": true
   },
   "source": [
    "<h3>Average characters per word</h3>"
   ]
  },
  {
   "cell_type": "code",
   "execution_count": 349,
   "metadata": {},
   "outputs": [],
   "source": [
    "def length_word(var):\n",
    "    \"\"\"Takes a string and returns an int (average characters per word). Excludes punctuations.\"\"\"\n",
    "    return len(var.split()) / normalization_word(var)"
   ]
  },
  {
   "cell_type": "markdown",
   "metadata": {
    "collapsed": true
   },
   "source": [
    "<h3>Punctuation density</h3>\n",
    "Now we take into consideration differences in punctuation."
   ]
  },
  {
   "cell_type": "code",
   "execution_count": 350,
   "metadata": {},
   "outputs": [],
   "source": [
    "def density_coma(var):\n",
    "    \"\"\"Takes a string and returns the ratio of punctuations to characters.\"\"\"\n",
    "    cpunc = 0\n",
    "    for x in var:\n",
    "        if x == ',':\n",
    "            cpunc += 1\n",
    "    return cpunc / normalization_character(var)"
   ]
  },
  {
   "cell_type": "code",
   "execution_count": 351,
   "metadata": {},
   "outputs": [],
   "source": [
    "def density_point(var):\n",
    "    \"\"\"Takes a string and returns the ratio of periods(.) to characters.\"\"\"\n",
    "    cpunc = 0\n",
    "    for x in var:\n",
    "        if x == '.':\n",
    "            cpunc += 1\n",
    "    return cpunc / normalization_character(var)"
   ]
  },
  {
   "cell_type": "code",
   "execution_count": 352,
   "metadata": {},
   "outputs": [],
   "source": [
    "def density_colon(var):\n",
    "    \"\"\"Takes a string and returns the ratio of colons(:) to characters.\"\"\"\n",
    "    cpunc = 0\n",
    "    for x in var:\n",
    "        if x == ':':\n",
    "            cpunc += 1\n",
    "    return cpunc / normalization_character(var)"
   ]
  },
  {
   "cell_type": "code",
   "execution_count": 353,
   "metadata": {},
   "outputs": [],
   "source": [
    "def density_semicolon(var):\n",
    "    \"\"\"Takes a string and returns the ratio of semicolons(;) to characters.\"\"\"\n",
    "    cpunc = 0\n",
    "    for x in var:\n",
    "        if x == ';':\n",
    "            cpunc += 1\n",
    "    return cpunc / normalization_character(var)"
   ]
  },
  {
   "cell_type": "code",
   "execution_count": 354,
   "metadata": {},
   "outputs": [],
   "source": [
    "def density_interro(var):\n",
    "    \"\"\"Takes a string and returns the ratio of question marks(?) to characters.\"\"\"\n",
    "    cpunc = 0\n",
    "    for x in var:\n",
    "        if x == '?':\n",
    "            cpunc += 1\n",
    "    return cpunc / normalization_character(var)"
   ]
  },
  {
   "cell_type": "code",
   "execution_count": 355,
   "metadata": {},
   "outputs": [],
   "source": [
    "def density_expl(var):\n",
    "    \"\"\"Takes a string and returns the ratio of exclamation points(!) to characters.\"\"\"\n",
    "    cpunc = 0\n",
    "    for x in var:\n",
    "        if x == '!':\n",
    "            cpunc += 1\n",
    "    return cpunc / normalization_character(var)"
   ]
  },
  {
   "cell_type": "markdown",
   "metadata": {
    "collapsed": true
   },
   "source": [
    "<h3>Percentage of unique words per sentence</h3>"
   ]
  },
  {
   "cell_type": "code",
   "execution_count": 356,
   "metadata": {},
   "outputs": [],
   "source": [
    "def vocabulary_sentence(var):\n",
    "    \"\"\"Takes a string and returns the ratio of different words to all words.\"\"\"\n",
    "    var = nltk.Text(sent_tokenize(var))\n",
    "    vocabulary_list = []\n",
    "    for c in var:\n",
    "        if normalization_word(c) != 0:\n",
    "            vacabulary_count_sentence = len({x.lower() for x in word_tokenize(cleaning(c))})\n",
    "            vocabulary_list.append(vacabulary_count_sentence / normalization_word(c))\n",
    "    return np.mean(vocabulary_list)"
   ]
  },
  {
   "cell_type": "code",
   "execution_count": 357,
   "metadata": {},
   "outputs": [
    {
     "data": {
      "text/plain": [
       "0.79527972027972038"
      ]
     },
     "execution_count": 357,
     "metadata": {},
     "output_type": "execute_result"
    }
   ],
   "source": [
    "# just a test cell\n",
    "\n",
    "vocabulary_sentence(\"Wow, this is a bad one. On Macs running the latest version of High Sierra (10.13.1 (17B48)), it appears that anyone can log in just by putting “root” in the user name field in a certain place. This is a huge, huge problem. Apple will fix it probably within hours but holy moly. Do not leave your Mac unattended\")"
   ]
  },
  {
   "cell_type": "markdown",
   "metadata": {
    "collapsed": true
   },
   "source": [
    "<h3>Stopword percentage</h3>"
   ]
  },
  {
   "cell_type": "code",
   "execution_count": 358,
   "metadata": {},
   "outputs": [],
   "source": [
    "def density_stopword(var):\n",
    "    \"\"\"Takes a string and returns the ratio of stopwords to all words.\"\"\"\n",
    "    cs = 0\n",
    "    for x in nltk.Text(word_tokenize(var)):\n",
    "        if x in STOPWORDS:\n",
    "            cs += 1\n",
    "    return cs/normalization_word(var)"
   ]
  },
  {
   "cell_type": "markdown",
   "metadata": {
    "collapsed": true
   },
   "source": [
    "<h3>Noun Density</h3>"
   ]
  },
  {
   "cell_type": "code",
   "execution_count": 359,
   "metadata": {},
   "outputs": [],
   "source": [
    "def density_noun(var):\n",
    "    \"\"\"Takes a string and returns the ratio of nouns to all words.\"\"\"\n",
    "    l = []\n",
    "    for x in nltk.pos_tag(word_tokenize(var)):\n",
    "        if x[1][0:2] == 'NN': # all noun tags start with NN\n",
    "            l.append(x)\n",
    "    return len(l)/normalization_word(var)"
   ]
  },
  {
   "cell_type": "markdown",
   "metadata": {
    "collapsed": true
   },
   "source": [
    "<h3>Verb Density</h3>"
   ]
  },
  {
   "cell_type": "code",
   "execution_count": 360,
   "metadata": {},
   "outputs": [],
   "source": [
    "def density_verb(var):\n",
    "    \"\"\"Takes a string and returns the ratio of verbs to all words.\"\"\"\n",
    "    l = []\n",
    "    for x in nltk.pos_tag(word_tokenize(var)):\n",
    "        if x[1][0:2] == 'VB': # all verb tags start with VB\n",
    "            l.append(x)\n",
    "    return len(l)/normalization_word(var)"
   ]
  },
  {
   "cell_type": "markdown",
   "metadata": {
    "collapsed": true
   },
   "source": [
    "<h3>Adjective Density</h3>"
   ]
  },
  {
   "cell_type": "code",
   "execution_count": 361,
   "metadata": {},
   "outputs": [],
   "source": [
    "def density_adjective(var):\n",
    "    \"\"\"Takes a string and returns the ratio of adjectives to all words.\"\"\"\n",
    "    l = []\n",
    "    for x in nltk.pos_tag(word_tokenize(var)):\n",
    "        if x[1][0:2] == 'JJ': # all adjective tags start with JJ\n",
    "            l.append(x)\n",
    "    return len(l) / normalization_word(var)"
   ]
  },
  {
   "cell_type": "markdown",
   "metadata": {
    "collapsed": true
   },
   "source": [
    "<h3>Adjective to noun ratio</h3>"
   ]
  },
  {
   "cell_type": "code",
   "execution_count": 362,
   "metadata": {},
   "outputs": [],
   "source": [
    "def adjective_to_noun(var):\n",
    "    \"\"\"Takes a string and returns the ratio of adjectives to nouns.\"\"\"\n",
    "    return density_adjective(var) / (density_noun(var) + 0.5) # add 0.5 to avoid division by 0 error"
   ]
  },
  {
   "cell_type": "markdown",
   "metadata": {},
   "source": [
    "<h3>Emphases on Words or Phrases</h3>"
   ]
  },
  {
   "cell_type": "code",
   "execution_count": 363,
   "metadata": {},
   "outputs": [],
   "source": [
    "def count_emph(var):\n",
    "    \"\"\"Takes a string and returns the usage count of emphases using double quotes.\"\"\"\n",
    "    emph_trig_words = 'word called the a their my his her for that those like of words'.split() \n",
    "    emph_count = 0\n",
    "    var = var.lower()\n",
    "    for word in emph_trig_words:\n",
    "        emph_count += var.count('{} \"'.format(word))\n",
    "    return emph_count"
   ]
  },
  {
   "cell_type": "markdown",
   "metadata": {},
   "source": [
    "<h3>Dialogues Breaks</h3>"
   ]
  },
  {
   "cell_type": "code",
   "execution_count": 364,
   "metadata": {},
   "outputs": [],
   "source": [
    "def count_dial_break(var):\n",
    "    \"\"\"\n",
    "    Takes a string and returns the count of dialogue breaks used.\n",
    "    Example of a dialogue break: (\"D ,\" replied Dupin, \"is a desperate man, and a man of nerve.)\n",
    "    \"\"\"\n",
    "    return var.count(\", \\\"\")"
   ]
  },
  {
   "cell_type": "markdown",
   "metadata": {},
   "source": [
    "<h3>Dialogues</h3>"
   ]
  },
  {
   "cell_type": "code",
   "execution_count": 365,
   "metadata": {},
   "outputs": [],
   "source": [
    "def count_dblqt(var):\n",
    "    \"\"\"Takes a string and returns the count of sets of double quotes\"\"\"\n",
    "    return ceil(var.count('\"')/2) # ceil function rounds up"
   ]
  },
  {
   "cell_type": "code",
   "execution_count": 366,
   "metadata": {},
   "outputs": [],
   "source": [
    "def count_dial(var):\n",
    "    \"\"\"\n",
    "    Takes a string and returns the count of dialogues used. Assumption is that if in double quotes but not an\n",
    "    emphasis, then it is a dialogue.\n",
    "    \"\"\"\n",
    "    return count_dblqt(var) - count_emph(var) - count_dial_break(var)"
   ]
  },
  {
   "cell_type": "code",
   "execution_count": 367,
   "metadata": {},
   "outputs": [],
   "source": [
    "def break_to_dial_ratio(var):\n",
    "    \"\"\"Take sa string and returns the ratio of dialogue breaks to dialogues.\"\"\"\n",
    "    if not count_dial(var):\n",
    "        return 0\n",
    "    return count_dial_break(var) / count_dial(var)"
   ]
  },
  {
   "cell_type": "markdown",
   "metadata": {},
   "source": [
    "<h3>Feminine and Masculine Words</h3>"
   ]
  },
  {
   "cell_type": "code",
   "execution_count": 368,
   "metadata": {},
   "outputs": [],
   "source": [
    "def count_fem(var):\n",
    "    \"\"\"Takes a string and returns the count of feminine words.\"\"\"\n",
    "    fem_words = 'she her woman herself girl women lady queen princess daughter madam madame wife'.split()\n",
    "    fem_count = 0\n",
    "    var = cleaning(var)\n",
    "    for word in var.split():\n",
    "        if word in fem_words:\n",
    "            fem_count += 1\n",
    "    return fem_count"
   ]
  },
  {
   "cell_type": "code",
   "execution_count": 369,
   "metadata": {},
   "outputs": [],
   "source": [
    "def count_mas(var):\n",
    "    \"\"\"Takes a string and returns the count of masculine words.\"\"\"\n",
    "    mas_words = 'he his man mr himself boy men gentleman gentlemen king prince son sir husband'.split()\n",
    "    mas_count = 0\n",
    "    var = cleaning(var)\n",
    "    for word in var.split():\n",
    "        if word in mas_words:\n",
    "            mas_count += 1\n",
    "    return mas_count"
   ]
  },
  {
   "cell_type": "code",
   "execution_count": 370,
   "metadata": {},
   "outputs": [],
   "source": [
    "def fem_to_mas_ratio(var):\n",
    "    \"\"\"Takes a string and returns the ratio of feminine words to masculine words.\"\"\"\n",
    "    fem_count = count_fem(var)\n",
    "    mas_count = count_mas(var)\n",
    "    if fem_count and not mas_count:\n",
    "        fem_mas_ratio = 1\n",
    "    elif not fem_count and not mas_count:\n",
    "        fem_mas_ratio = 0\n",
    "    else:\n",
    "        fem_mas_ratio = fem_count / mas_count\n",
    "    return fem_mas_ratio"
   ]
  },
  {
   "cell_type": "code",
   "execution_count": 371,
   "metadata": {},
   "outputs": [
    {
     "data": {
      "text/html": [
       "<div>\n",
       "<style scoped>\n",
       "    .dataframe tbody tr th:only-of-type {\n",
       "        vertical-align: middle;\n",
       "    }\n",
       "\n",
       "    .dataframe tbody tr th {\n",
       "        vertical-align: top;\n",
       "    }\n",
       "\n",
       "    .dataframe thead th {\n",
       "        text-align: right;\n",
       "    }\n",
       "</style>\n",
       "<table border=\"1\" class=\"dataframe\">\n",
       "  <thead>\n",
       "    <tr style=\"text-align: right;\">\n",
       "      <th></th>\n",
       "      <th>author</th>\n",
       "      <th>text</th>\n",
       "      <th>norm_count_emph</th>\n",
       "      <th>norm_count_dial</th>\n",
       "      <th>norm_count_dial_break</th>\n",
       "      <th>norm_break_to_dial_ratio</th>\n",
       "      <th>norm_count_fem</th>\n",
       "      <th>norm_count_mas</th>\n",
       "      <th>norm_fem_to_mas_ratio</th>\n",
       "    </tr>\n",
       "  </thead>\n",
       "  <tbody>\n",
       "    <tr>\n",
       "      <th>0</th>\n",
       "      <td>EAP</td>\n",
       "      <td>This process, however, afforded me no means of...</td>\n",
       "      <td>0.042857</td>\n",
       "      <td>0.185714</td>\n",
       "      <td>0.028571</td>\n",
       "      <td>0.153846</td>\n",
       "      <td>0.057143</td>\n",
       "      <td>0.428571</td>\n",
       "      <td>0.133333</td>\n",
       "    </tr>\n",
       "    <tr>\n",
       "      <th>1</th>\n",
       "      <td>HPL</td>\n",
       "      <td>It never once occurred to me that the fumbling...</td>\n",
       "      <td>0.015625</td>\n",
       "      <td>0.062500</td>\n",
       "      <td>0.000000</td>\n",
       "      <td>0.000000</td>\n",
       "      <td>0.031250</td>\n",
       "      <td>0.781250</td>\n",
       "      <td>0.040000</td>\n",
       "    </tr>\n",
       "    <tr>\n",
       "      <th>2</th>\n",
       "      <td>MWS</td>\n",
       "      <td>How lovely is spring As we looked from Windsor...</td>\n",
       "      <td>0.000000</td>\n",
       "      <td>0.060606</td>\n",
       "      <td>0.045455</td>\n",
       "      <td>0.750000</td>\n",
       "      <td>0.439394</td>\n",
       "      <td>0.727273</td>\n",
       "      <td>0.604167</td>\n",
       "    </tr>\n",
       "  </tbody>\n",
       "</table>\n",
       "</div>"
      ],
      "text/plain": [
       "  author                                               text  norm_count_emph  \\\n",
       "0    EAP  This process, however, afforded me no means of...         0.042857   \n",
       "1    HPL  It never once occurred to me that the fumbling...         0.015625   \n",
       "2    MWS  How lovely is spring As we looked from Windsor...         0.000000   \n",
       "\n",
       "   norm_count_dial  norm_count_dial_break  norm_break_to_dial_ratio  \\\n",
       "0         0.185714               0.028571                  0.153846   \n",
       "1         0.062500               0.000000                  0.000000   \n",
       "2         0.060606               0.045455                  0.750000   \n",
       "\n",
       "   norm_count_fem  norm_count_mas  norm_fem_to_mas_ratio  \n",
       "0        0.057143        0.428571               0.133333  \n",
       "1        0.031250        0.781250               0.040000  \n",
       "2        0.439394        0.727273               0.604167  "
      ]
     },
     "execution_count": 371,
     "metadata": {},
     "output_type": "execute_result"
    }
   ],
   "source": [
    "df = pd.DataFrame([['EAP', eap_s], ['HPL', hpl_s], ['MWS', mws_s]])\n",
    "df.columns = ['author', 'text']\n",
    "\n",
    "for f in [count_emph, count_dial, count_dial_break, break_to_dial_ratio, count_fem, count_mas, fem_to_mas_ratio]:\n",
    "    df['norm_' + f.__name__] = df.text.apply(f)\n",
    "    \n",
    "for f in [count_emph, count_dial, count_dial_break, count_fem, count_mas]: # normalization of count_emph, count_dial, and count_dial_break\n",
    "    df['norm_' + f.__name__] = df['norm_' + f.__name__] / df.author.apply(lambda x: len(train[train.author == x]))\n",
    "    \n",
    "df"
   ]
  },
  {
   "cell_type": "code",
   "execution_count": 372,
   "metadata": {},
   "outputs": [
    {
     "data": {
      "text/plain": [
       "\"\\nfor c in df.columns[2:]:\\n    plt.style.use('seaborn')\\n    sns.barplot(x='author', y=c, data=df)\\n    plt.title('Meta {}'.format(c))\\n    plt.savefig('Meta {}'.format(c))\\n    plt.show()\\n\""
      ]
     },
     "execution_count": 372,
     "metadata": {},
     "output_type": "execute_result"
    }
   ],
   "source": [
    "'''\n",
    "for c in df.columns[2:]:\n",
    "    plt.style.use('seaborn')\n",
    "    sns.barplot(x='author', y=c, data=df)\n",
    "    plt.title('Meta {}'.format(c))\n",
    "    plt.savefig('Meta {}'.format(c))\n",
    "    plt.show()\n",
    "'''"
   ]
  },
  {
   "cell_type": "code",
   "execution_count": 373,
   "metadata": {},
   "outputs": [
    {
     "data": {
      "text/plain": [
       "\"\\nfig, (ax1, ax2, ax3) = plt.subplots(1, 3, sharey=True)\\nfem_words = 'her she herself girl woman lady queen daughter madam madame wife women princess'.split()\\n\\nplt.suptitle('Normalized Feminine Word Count', y=1.02)\\n\\nxlmt = 0\\nfor auth in [(eap_s_c, 'EAP'), (hpl_s_c, 'HPL'), (mws_s_c, 'MWS')]:\\n    for word in fem_words:\\n        norm_count = auth[0].count(word) / len(train[train.author == auth[1]])\\n        if norm_count > xlmt:\\n            xlmt = norm_count\\n\\nfor ax in ((ax1, eap_s_c, 'darkblue', 'EAP'), (ax2, hpl_s_c, 'darkgreen', 'HPL'), (ax3, mws_s_c, 'darkred', 'MWS')):\\n    y = np.arange(len(fem_words))\\n    x = [ax[1].count(word) / len(train[train.author == ax[3]]) for word in fem_words]\\n    ax[0].barh(y, x, align='center',\\n            color=ax[2], ecolor='black')\\n    ax[0].set_yticks(y)\\n    ax[0].set_yticklabels(fem_words)\\n    ax[0].invert_yaxis()\\n    ax[0].set_title(ax[3])\\n    ax[0].set_xlim([0, xlmt])\\n    \\nplt.tight_layout()\\nplt.savefig('Meta feminine word count')\\nplt.show()\\n\""
      ]
     },
     "execution_count": 373,
     "metadata": {},
     "output_type": "execute_result"
    }
   ],
   "source": [
    "'''\n",
    "fig, (ax1, ax2, ax3) = plt.subplots(1, 3, sharey=True)\n",
    "fem_words = 'her she herself girl woman lady queen daughter madam madame wife women princess'.split()\n",
    "\n",
    "plt.suptitle('Normalized Feminine Word Count', y=1.02)\n",
    "\n",
    "xlmt = 0\n",
    "for auth in [(eap_s_c, 'EAP'), (hpl_s_c, 'HPL'), (mws_s_c, 'MWS')]:\n",
    "    for word in fem_words:\n",
    "        norm_count = auth[0].count(word) / len(train[train.author == auth[1]])\n",
    "        if norm_count > xlmt:\n",
    "            xlmt = norm_count\n",
    "\n",
    "for ax in ((ax1, eap_s_c, 'darkblue', 'EAP'), (ax2, hpl_s_c, 'darkgreen', 'HPL'), (ax3, mws_s_c, 'darkred', 'MWS')):\n",
    "    y = np.arange(len(fem_words))\n",
    "    x = [ax[1].count(word) / len(train[train.author == ax[3]]) for word in fem_words]\n",
    "    ax[0].barh(y, x, align='center',\n",
    "            color=ax[2], ecolor='black')\n",
    "    ax[0].set_yticks(y)\n",
    "    ax[0].set_yticklabels(fem_words)\n",
    "    ax[0].invert_yaxis()\n",
    "    ax[0].set_title(ax[3])\n",
    "    ax[0].set_xlim([0, xlmt])\n",
    "    \n",
    "plt.tight_layout()\n",
    "plt.savefig('Meta feminine word count')\n",
    "plt.show()\n",
    "'''"
   ]
  },
  {
   "cell_type": "code",
   "execution_count": 374,
   "metadata": {},
   "outputs": [
    {
     "data": {
      "text/plain": [
       "\"\\nfig, (ax1, ax2, ax3) = plt.subplots(1, 3, sharey=True)\\nmas_words = 'he his men man king son himself mr boy gentleman prince sir gentlemen husband mister'.split()\\n\\nplt.suptitle('Normalized Masculine Word Count', y=1.02)\\n\\nxlmt = 0\\nfor auth in [(eap_s_c, 'EAP'), (hpl_s_c, 'HPL'), (mws_s_c, 'MWS')]:\\n    for word in mas_words:\\n        norm_count = auth[0].count(word) / len(train[train.author == auth[1]])\\n        if norm_count > xlmt:\\n            xlmt = norm_count\\n            \\nfor ax in ((ax1, eap_s_c, 'darkblue', 'EAP'), (ax2, hpl_s_c, 'darkgreen', 'HPL'), (ax3, mws_s_c, 'darkred', 'MWS')):\\n    y = np.arange(len(mas_words))\\n    x = [ax[1].count(word) / len(train[train.author == ax[3]]) for word in mas_words]\\n    ax[0].barh(y, x, align='center',\\n            color=ax[2], ecolor='black')\\n    ax[0].set_yticks(y)\\n    ax[0].set_yticklabels(mas_words)\\n    ax[0].invert_yaxis()\\n    ax[0].set_title(ax[3])\\n    ax[0].set_xlim([0, xlmt])\\n    \\nplt.tight_layout()\\nplt.savefig('Meta masculine word count')\\nplt.show()\\n\""
      ]
     },
     "execution_count": 374,
     "metadata": {},
     "output_type": "execute_result"
    }
   ],
   "source": [
    "'''\n",
    "fig, (ax1, ax2, ax3) = plt.subplots(1, 3, sharey=True)\n",
    "mas_words = 'he his men man king son himself mr boy gentleman prince sir gentlemen husband mister'.split()\n",
    "\n",
    "plt.suptitle('Normalized Masculine Word Count', y=1.02)\n",
    "\n",
    "xlmt = 0\n",
    "for auth in [(eap_s_c, 'EAP'), (hpl_s_c, 'HPL'), (mws_s_c, 'MWS')]:\n",
    "    for word in mas_words:\n",
    "        norm_count = auth[0].count(word) / len(train[train.author == auth[1]])\n",
    "        if norm_count > xlmt:\n",
    "            xlmt = norm_count\n",
    "            \n",
    "for ax in ((ax1, eap_s_c, 'darkblue', 'EAP'), (ax2, hpl_s_c, 'darkgreen', 'HPL'), (ax3, mws_s_c, 'darkred', 'MWS')):\n",
    "    y = np.arange(len(mas_words))\n",
    "    x = [ax[1].count(word) / len(train[train.author == ax[3]]) for word in mas_words]\n",
    "    ax[0].barh(y, x, align='center',\n",
    "            color=ax[2], ecolor='black')\n",
    "    ax[0].set_yticks(y)\n",
    "    ax[0].set_yticklabels(mas_words)\n",
    "    ax[0].invert_yaxis()\n",
    "    ax[0].set_title(ax[3])\n",
    "    ax[0].set_xlim([0, xlmt])\n",
    "    \n",
    "plt.tight_layout()\n",
    "plt.savefig('Meta masculine word count')\n",
    "plt.show()\n",
    "'''"
   ]
  },
  {
   "cell_type": "markdown",
   "metadata": {
    "collapsed": true
   },
   "source": [
    "<h3>Building of the Dataframe of Metadata</h3>\n",
    "\n",
    "This is the list of all the meta data we are going to use to train our classifiers. We are also going to use bag of words. This could be modified if we add meta data."
   ]
  },
  {
   "cell_type": "code",
   "execution_count": 375,
   "metadata": {},
   "outputs": [],
   "source": [
    "def build_meta1(dataframe):\n",
    "    \"\"\"Builds a dataframe that shows the author and the first set of meta-data related to the sentence.\"\"\"\n",
    "    df_meta = dataframe.copy()\n",
    "    for f in [count_emph, count_dial, count_dial_break, break_to_dial_ratio, count_fem, count_mas, fem_to_mas_ratio]:\n",
    "        df_meta[f.__name__] = df_meta.text.apply(f)\n",
    "    \n",
    "    del df_meta['text']\n",
    "    if 'author' in df_meta.columns:\n",
    "        del df_meta['author']\n",
    "    \n",
    "    return df_meta"
   ]
  },
  {
   "cell_type": "code",
   "execution_count": 376,
   "metadata": {},
   "outputs": [
    {
     "data": {
      "text/html": [
       "<div>\n",
       "<style scoped>\n",
       "    .dataframe tbody tr th:only-of-type {\n",
       "        vertical-align: middle;\n",
       "    }\n",
       "\n",
       "    .dataframe tbody tr th {\n",
       "        vertical-align: top;\n",
       "    }\n",
       "\n",
       "    .dataframe thead th {\n",
       "        text-align: right;\n",
       "    }\n",
       "</style>\n",
       "<table border=\"1\" class=\"dataframe\">\n",
       "  <thead>\n",
       "    <tr style=\"text-align: right;\">\n",
       "      <th></th>\n",
       "      <th>id</th>\n",
       "      <th>count_emph</th>\n",
       "      <th>count_dial</th>\n",
       "      <th>count_dial_break</th>\n",
       "      <th>break_to_dial_ratio</th>\n",
       "      <th>count_fem</th>\n",
       "      <th>count_mas</th>\n",
       "      <th>fem_to_mas_ratio</th>\n",
       "    </tr>\n",
       "  </thead>\n",
       "  <tbody>\n",
       "    <tr>\n",
       "      <th>30</th>\n",
       "      <td>id15222</td>\n",
       "      <td>0</td>\n",
       "      <td>0</td>\n",
       "      <td>0</td>\n",
       "      <td>0.0</td>\n",
       "      <td>0</td>\n",
       "      <td>0</td>\n",
       "      <td>0.0</td>\n",
       "    </tr>\n",
       "    <tr>\n",
       "      <th>13</th>\n",
       "      <td>id18886</td>\n",
       "      <td>0</td>\n",
       "      <td>0</td>\n",
       "      <td>0</td>\n",
       "      <td>0.0</td>\n",
       "      <td>0</td>\n",
       "      <td>0</td>\n",
       "      <td>0.0</td>\n",
       "    </tr>\n",
       "    <tr>\n",
       "      <th>122</th>\n",
       "      <td>id15580</td>\n",
       "      <td>0</td>\n",
       "      <td>0</td>\n",
       "      <td>0</td>\n",
       "      <td>0.0</td>\n",
       "      <td>0</td>\n",
       "      <td>0</td>\n",
       "      <td>0.0</td>\n",
       "    </tr>\n",
       "    <tr>\n",
       "      <th>17</th>\n",
       "      <td>id13117</td>\n",
       "      <td>0</td>\n",
       "      <td>0</td>\n",
       "      <td>0</td>\n",
       "      <td>0.0</td>\n",
       "      <td>3</td>\n",
       "      <td>0</td>\n",
       "      <td>1.0</td>\n",
       "    </tr>\n",
       "    <tr>\n",
       "      <th>192</th>\n",
       "      <td>id04949</td>\n",
       "      <td>0</td>\n",
       "      <td>0</td>\n",
       "      <td>0</td>\n",
       "      <td>0.0</td>\n",
       "      <td>0</td>\n",
       "      <td>0</td>\n",
       "      <td>0.0</td>\n",
       "    </tr>\n",
       "    <tr>\n",
       "      <th>188</th>\n",
       "      <td>id19728</td>\n",
       "      <td>0</td>\n",
       "      <td>0</td>\n",
       "      <td>0</td>\n",
       "      <td>0.0</td>\n",
       "      <td>0</td>\n",
       "      <td>0</td>\n",
       "      <td>0.0</td>\n",
       "    </tr>\n",
       "    <tr>\n",
       "      <th>141</th>\n",
       "      <td>id05582</td>\n",
       "      <td>0</td>\n",
       "      <td>0</td>\n",
       "      <td>0</td>\n",
       "      <td>0.0</td>\n",
       "      <td>0</td>\n",
       "      <td>2</td>\n",
       "      <td>0.0</td>\n",
       "    </tr>\n",
       "    <tr>\n",
       "      <th>109</th>\n",
       "      <td>id09114</td>\n",
       "      <td>0</td>\n",
       "      <td>0</td>\n",
       "      <td>0</td>\n",
       "      <td>0.0</td>\n",
       "      <td>0</td>\n",
       "      <td>0</td>\n",
       "      <td>0.0</td>\n",
       "    </tr>\n",
       "    <tr>\n",
       "      <th>66</th>\n",
       "      <td>id06312</td>\n",
       "      <td>0</td>\n",
       "      <td>1</td>\n",
       "      <td>0</td>\n",
       "      <td>0.0</td>\n",
       "      <td>5</td>\n",
       "      <td>0</td>\n",
       "      <td>1.0</td>\n",
       "    </tr>\n",
       "    <tr>\n",
       "      <th>34</th>\n",
       "      <td>id03205</td>\n",
       "      <td>0</td>\n",
       "      <td>0</td>\n",
       "      <td>0</td>\n",
       "      <td>0.0</td>\n",
       "      <td>0</td>\n",
       "      <td>0</td>\n",
       "      <td>0.0</td>\n",
       "    </tr>\n",
       "    <tr>\n",
       "      <th>158</th>\n",
       "      <td>id03570</td>\n",
       "      <td>0</td>\n",
       "      <td>0</td>\n",
       "      <td>0</td>\n",
       "      <td>0.0</td>\n",
       "      <td>0</td>\n",
       "      <td>0</td>\n",
       "      <td>0.0</td>\n",
       "    </tr>\n",
       "    <tr>\n",
       "      <th>121</th>\n",
       "      <td>id01306</td>\n",
       "      <td>0</td>\n",
       "      <td>0</td>\n",
       "      <td>0</td>\n",
       "      <td>0.0</td>\n",
       "      <td>0</td>\n",
       "      <td>0</td>\n",
       "      <td>0.0</td>\n",
       "    </tr>\n",
       "    <tr>\n",
       "      <th>8</th>\n",
       "      <td>id19322</td>\n",
       "      <td>0</td>\n",
       "      <td>0</td>\n",
       "      <td>0</td>\n",
       "      <td>0.0</td>\n",
       "      <td>0</td>\n",
       "      <td>0</td>\n",
       "      <td>0.0</td>\n",
       "    </tr>\n",
       "    <tr>\n",
       "      <th>185</th>\n",
       "      <td>id20597</td>\n",
       "      <td>0</td>\n",
       "      <td>0</td>\n",
       "      <td>0</td>\n",
       "      <td>0.0</td>\n",
       "      <td>0</td>\n",
       "      <td>0</td>\n",
       "      <td>0.0</td>\n",
       "    </tr>\n",
       "    <tr>\n",
       "      <th>174</th>\n",
       "      <td>id21056</td>\n",
       "      <td>0</td>\n",
       "      <td>0</td>\n",
       "      <td>0</td>\n",
       "      <td>0.0</td>\n",
       "      <td>0</td>\n",
       "      <td>0</td>\n",
       "      <td>0.0</td>\n",
       "    </tr>\n",
       "    <tr>\n",
       "      <th>75</th>\n",
       "      <td>id10155</td>\n",
       "      <td>0</td>\n",
       "      <td>0</td>\n",
       "      <td>0</td>\n",
       "      <td>0.0</td>\n",
       "      <td>0</td>\n",
       "      <td>0</td>\n",
       "      <td>0.0</td>\n",
       "    </tr>\n",
       "    <tr>\n",
       "      <th>45</th>\n",
       "      <td>id10279</td>\n",
       "      <td>0</td>\n",
       "      <td>0</td>\n",
       "      <td>0</td>\n",
       "      <td>0.0</td>\n",
       "      <td>0</td>\n",
       "      <td>0</td>\n",
       "      <td>0.0</td>\n",
       "    </tr>\n",
       "    <tr>\n",
       "      <th>126</th>\n",
       "      <td>id19806</td>\n",
       "      <td>0</td>\n",
       "      <td>1</td>\n",
       "      <td>0</td>\n",
       "      <td>0.0</td>\n",
       "      <td>0</td>\n",
       "      <td>0</td>\n",
       "      <td>0.0</td>\n",
       "    </tr>\n",
       "    <tr>\n",
       "      <th>64</th>\n",
       "      <td>id03555</td>\n",
       "      <td>0</td>\n",
       "      <td>0</td>\n",
       "      <td>0</td>\n",
       "      <td>0.0</td>\n",
       "      <td>0</td>\n",
       "      <td>0</td>\n",
       "      <td>0.0</td>\n",
       "    </tr>\n",
       "    <tr>\n",
       "      <th>113</th>\n",
       "      <td>id14878</td>\n",
       "      <td>0</td>\n",
       "      <td>0</td>\n",
       "      <td>0</td>\n",
       "      <td>0.0</td>\n",
       "      <td>0</td>\n",
       "      <td>2</td>\n",
       "      <td>0.0</td>\n",
       "    </tr>\n",
       "    <tr>\n",
       "      <th>184</th>\n",
       "      <td>id05317</td>\n",
       "      <td>1</td>\n",
       "      <td>0</td>\n",
       "      <td>0</td>\n",
       "      <td>0.0</td>\n",
       "      <td>0</td>\n",
       "      <td>4</td>\n",
       "      <td>0.0</td>\n",
       "    </tr>\n",
       "    <tr>\n",
       "      <th>106</th>\n",
       "      <td>id11321</td>\n",
       "      <td>0</td>\n",
       "      <td>0</td>\n",
       "      <td>0</td>\n",
       "      <td>0.0</td>\n",
       "      <td>0</td>\n",
       "      <td>1</td>\n",
       "      <td>0.0</td>\n",
       "    </tr>\n",
       "    <tr>\n",
       "      <th>47</th>\n",
       "      <td>id19180</td>\n",
       "      <td>0</td>\n",
       "      <td>0</td>\n",
       "      <td>0</td>\n",
       "      <td>0.0</td>\n",
       "      <td>0</td>\n",
       "      <td>0</td>\n",
       "      <td>0.0</td>\n",
       "    </tr>\n",
       "    <tr>\n",
       "      <th>19</th>\n",
       "      <td>id20836</td>\n",
       "      <td>0</td>\n",
       "      <td>0</td>\n",
       "      <td>0</td>\n",
       "      <td>0.0</td>\n",
       "      <td>0</td>\n",
       "      <td>5</td>\n",
       "      <td>0.0</td>\n",
       "    </tr>\n",
       "    <tr>\n",
       "      <th>189</th>\n",
       "      <td>id25281</td>\n",
       "      <td>0</td>\n",
       "      <td>0</td>\n",
       "      <td>0</td>\n",
       "      <td>0.0</td>\n",
       "      <td>0</td>\n",
       "      <td>0</td>\n",
       "      <td>0.0</td>\n",
       "    </tr>\n",
       "    <tr>\n",
       "      <th>148</th>\n",
       "      <td>id22987</td>\n",
       "      <td>0</td>\n",
       "      <td>0</td>\n",
       "      <td>0</td>\n",
       "      <td>0.0</td>\n",
       "      <td>0</td>\n",
       "      <td>0</td>\n",
       "      <td>0.0</td>\n",
       "    </tr>\n",
       "    <tr>\n",
       "      <th>133</th>\n",
       "      <td>id24125</td>\n",
       "      <td>0</td>\n",
       "      <td>0</td>\n",
       "      <td>0</td>\n",
       "      <td>0.0</td>\n",
       "      <td>0</td>\n",
       "      <td>1</td>\n",
       "      <td>0.0</td>\n",
       "    </tr>\n",
       "    <tr>\n",
       "      <th>127</th>\n",
       "      <td>id05293</td>\n",
       "      <td>0</td>\n",
       "      <td>0</td>\n",
       "      <td>0</td>\n",
       "      <td>0.0</td>\n",
       "      <td>0</td>\n",
       "      <td>0</td>\n",
       "      <td>0.0</td>\n",
       "    </tr>\n",
       "    <tr>\n",
       "      <th>116</th>\n",
       "      <td>id20087</td>\n",
       "      <td>0</td>\n",
       "      <td>0</td>\n",
       "      <td>0</td>\n",
       "      <td>0.0</td>\n",
       "      <td>0</td>\n",
       "      <td>0</td>\n",
       "      <td>0.0</td>\n",
       "    </tr>\n",
       "    <tr>\n",
       "      <th>159</th>\n",
       "      <td>id09713</td>\n",
       "      <td>0</td>\n",
       "      <td>0</td>\n",
       "      <td>0</td>\n",
       "      <td>0.0</td>\n",
       "      <td>0</td>\n",
       "      <td>1</td>\n",
       "      <td>0.0</td>\n",
       "    </tr>\n",
       "    <tr>\n",
       "      <th>...</th>\n",
       "      <td>...</td>\n",
       "      <td>...</td>\n",
       "      <td>...</td>\n",
       "      <td>...</td>\n",
       "      <td>...</td>\n",
       "      <td>...</td>\n",
       "      <td>...</td>\n",
       "      <td>...</td>\n",
       "    </tr>\n",
       "    <tr>\n",
       "      <th>196</th>\n",
       "      <td>id01830</td>\n",
       "      <td>0</td>\n",
       "      <td>0</td>\n",
       "      <td>0</td>\n",
       "      <td>0.0</td>\n",
       "      <td>0</td>\n",
       "      <td>2</td>\n",
       "      <td>0.0</td>\n",
       "    </tr>\n",
       "    <tr>\n",
       "      <th>16</th>\n",
       "      <td>id08441</td>\n",
       "      <td>0</td>\n",
       "      <td>0</td>\n",
       "      <td>0</td>\n",
       "      <td>0.0</td>\n",
       "      <td>0</td>\n",
       "      <td>0</td>\n",
       "      <td>0.0</td>\n",
       "    </tr>\n",
       "    <tr>\n",
       "      <th>134</th>\n",
       "      <td>id02655</td>\n",
       "      <td>0</td>\n",
       "      <td>0</td>\n",
       "      <td>0</td>\n",
       "      <td>0.0</td>\n",
       "      <td>1</td>\n",
       "      <td>0</td>\n",
       "      <td>1.0</td>\n",
       "    </tr>\n",
       "    <tr>\n",
       "      <th>41</th>\n",
       "      <td>id01651</td>\n",
       "      <td>0</td>\n",
       "      <td>0</td>\n",
       "      <td>0</td>\n",
       "      <td>0.0</td>\n",
       "      <td>0</td>\n",
       "      <td>0</td>\n",
       "      <td>0.0</td>\n",
       "    </tr>\n",
       "    <tr>\n",
       "      <th>83</th>\n",
       "      <td>id22877</td>\n",
       "      <td>0</td>\n",
       "      <td>0</td>\n",
       "      <td>0</td>\n",
       "      <td>0.0</td>\n",
       "      <td>0</td>\n",
       "      <td>0</td>\n",
       "      <td>0.0</td>\n",
       "    </tr>\n",
       "    <tr>\n",
       "      <th>10</th>\n",
       "      <td>id16737</td>\n",
       "      <td>0</td>\n",
       "      <td>1</td>\n",
       "      <td>0</td>\n",
       "      <td>0.0</td>\n",
       "      <td>0</td>\n",
       "      <td>3</td>\n",
       "      <td>0.0</td>\n",
       "    </tr>\n",
       "    <tr>\n",
       "      <th>107</th>\n",
       "      <td>id06564</td>\n",
       "      <td>0</td>\n",
       "      <td>0</td>\n",
       "      <td>0</td>\n",
       "      <td>0.0</td>\n",
       "      <td>0</td>\n",
       "      <td>2</td>\n",
       "      <td>0.0</td>\n",
       "    </tr>\n",
       "    <tr>\n",
       "      <th>38</th>\n",
       "      <td>id00144</td>\n",
       "      <td>0</td>\n",
       "      <td>0</td>\n",
       "      <td>0</td>\n",
       "      <td>0.0</td>\n",
       "      <td>0</td>\n",
       "      <td>1</td>\n",
       "      <td>0.0</td>\n",
       "    </tr>\n",
       "    <tr>\n",
       "      <th>136</th>\n",
       "      <td>id26487</td>\n",
       "      <td>0</td>\n",
       "      <td>0</td>\n",
       "      <td>0</td>\n",
       "      <td>0.0</td>\n",
       "      <td>0</td>\n",
       "      <td>1</td>\n",
       "      <td>0.0</td>\n",
       "    </tr>\n",
       "    <tr>\n",
       "      <th>84</th>\n",
       "      <td>id02647</td>\n",
       "      <td>0</td>\n",
       "      <td>1</td>\n",
       "      <td>0</td>\n",
       "      <td>0.0</td>\n",
       "      <td>0</td>\n",
       "      <td>0</td>\n",
       "      <td>0.0</td>\n",
       "    </tr>\n",
       "    <tr>\n",
       "      <th>150</th>\n",
       "      <td>id24399</td>\n",
       "      <td>0</td>\n",
       "      <td>1</td>\n",
       "      <td>0</td>\n",
       "      <td>0.0</td>\n",
       "      <td>1</td>\n",
       "      <td>1</td>\n",
       "      <td>1.0</td>\n",
       "    </tr>\n",
       "    <tr>\n",
       "      <th>164</th>\n",
       "      <td>id11826</td>\n",
       "      <td>0</td>\n",
       "      <td>0</td>\n",
       "      <td>1</td>\n",
       "      <td>0.0</td>\n",
       "      <td>0</td>\n",
       "      <td>2</td>\n",
       "      <td>0.0</td>\n",
       "    </tr>\n",
       "    <tr>\n",
       "      <th>128</th>\n",
       "      <td>id17840</td>\n",
       "      <td>0</td>\n",
       "      <td>0</td>\n",
       "      <td>0</td>\n",
       "      <td>0.0</td>\n",
       "      <td>0</td>\n",
       "      <td>0</td>\n",
       "      <td>0.0</td>\n",
       "    </tr>\n",
       "    <tr>\n",
       "      <th>22</th>\n",
       "      <td>id18925</td>\n",
       "      <td>0</td>\n",
       "      <td>0</td>\n",
       "      <td>0</td>\n",
       "      <td>0.0</td>\n",
       "      <td>0</td>\n",
       "      <td>0</td>\n",
       "      <td>0.0</td>\n",
       "    </tr>\n",
       "    <tr>\n",
       "      <th>28</th>\n",
       "      <td>id27907</td>\n",
       "      <td>0</td>\n",
       "      <td>0</td>\n",
       "      <td>0</td>\n",
       "      <td>0.0</td>\n",
       "      <td>0</td>\n",
       "      <td>0</td>\n",
       "      <td>0.0</td>\n",
       "    </tr>\n",
       "    <tr>\n",
       "      <th>94</th>\n",
       "      <td>id18067</td>\n",
       "      <td>0</td>\n",
       "      <td>0</td>\n",
       "      <td>0</td>\n",
       "      <td>0.0</td>\n",
       "      <td>2</td>\n",
       "      <td>0</td>\n",
       "      <td>1.0</td>\n",
       "    </tr>\n",
       "    <tr>\n",
       "      <th>98</th>\n",
       "      <td>id02547</td>\n",
       "      <td>0</td>\n",
       "      <td>0</td>\n",
       "      <td>0</td>\n",
       "      <td>0.0</td>\n",
       "      <td>0</td>\n",
       "      <td>0</td>\n",
       "      <td>0.0</td>\n",
       "    </tr>\n",
       "    <tr>\n",
       "      <th>61</th>\n",
       "      <td>id07779</td>\n",
       "      <td>0</td>\n",
       "      <td>0</td>\n",
       "      <td>0</td>\n",
       "      <td>0.0</td>\n",
       "      <td>0</td>\n",
       "      <td>0</td>\n",
       "      <td>0.0</td>\n",
       "    </tr>\n",
       "    <tr>\n",
       "      <th>100</th>\n",
       "      <td>id04853</td>\n",
       "      <td>0</td>\n",
       "      <td>0</td>\n",
       "      <td>0</td>\n",
       "      <td>0.0</td>\n",
       "      <td>0</td>\n",
       "      <td>0</td>\n",
       "      <td>0.0</td>\n",
       "    </tr>\n",
       "    <tr>\n",
       "      <th>70</th>\n",
       "      <td>id06749</td>\n",
       "      <td>0</td>\n",
       "      <td>2</td>\n",
       "      <td>0</td>\n",
       "      <td>0.0</td>\n",
       "      <td>0</td>\n",
       "      <td>0</td>\n",
       "      <td>0.0</td>\n",
       "    </tr>\n",
       "    <tr>\n",
       "      <th>48</th>\n",
       "      <td>id02236</td>\n",
       "      <td>0</td>\n",
       "      <td>0</td>\n",
       "      <td>0</td>\n",
       "      <td>0.0</td>\n",
       "      <td>0</td>\n",
       "      <td>1</td>\n",
       "      <td>0.0</td>\n",
       "    </tr>\n",
       "    <tr>\n",
       "      <th>149</th>\n",
       "      <td>id05449</td>\n",
       "      <td>0</td>\n",
       "      <td>0</td>\n",
       "      <td>0</td>\n",
       "      <td>0.0</td>\n",
       "      <td>0</td>\n",
       "      <td>3</td>\n",
       "      <td>0.0</td>\n",
       "    </tr>\n",
       "    <tr>\n",
       "      <th>179</th>\n",
       "      <td>id25905</td>\n",
       "      <td>0</td>\n",
       "      <td>0</td>\n",
       "      <td>0</td>\n",
       "      <td>0.0</td>\n",
       "      <td>0</td>\n",
       "      <td>0</td>\n",
       "      <td>0.0</td>\n",
       "    </tr>\n",
       "    <tr>\n",
       "      <th>9</th>\n",
       "      <td>id00912</td>\n",
       "      <td>0</td>\n",
       "      <td>0</td>\n",
       "      <td>0</td>\n",
       "      <td>0.0</td>\n",
       "      <td>0</td>\n",
       "      <td>0</td>\n",
       "      <td>0.0</td>\n",
       "    </tr>\n",
       "    <tr>\n",
       "      <th>108</th>\n",
       "      <td>id01004</td>\n",
       "      <td>0</td>\n",
       "      <td>0</td>\n",
       "      <td>0</td>\n",
       "      <td>0.0</td>\n",
       "      <td>4</td>\n",
       "      <td>5</td>\n",
       "      <td>0.8</td>\n",
       "    </tr>\n",
       "    <tr>\n",
       "      <th>27</th>\n",
       "      <td>id23451</td>\n",
       "      <td>0</td>\n",
       "      <td>0</td>\n",
       "      <td>0</td>\n",
       "      <td>0.0</td>\n",
       "      <td>0</td>\n",
       "      <td>1</td>\n",
       "      <td>0.0</td>\n",
       "    </tr>\n",
       "    <tr>\n",
       "      <th>195</th>\n",
       "      <td>id21956</td>\n",
       "      <td>0</td>\n",
       "      <td>0</td>\n",
       "      <td>0</td>\n",
       "      <td>0.0</td>\n",
       "      <td>0</td>\n",
       "      <td>0</td>\n",
       "      <td>0.0</td>\n",
       "    </tr>\n",
       "    <tr>\n",
       "      <th>2</th>\n",
       "      <td>id11008</td>\n",
       "      <td>0</td>\n",
       "      <td>0</td>\n",
       "      <td>0</td>\n",
       "      <td>0.0</td>\n",
       "      <td>0</td>\n",
       "      <td>3</td>\n",
       "      <td>0.0</td>\n",
       "    </tr>\n",
       "    <tr>\n",
       "      <th>176</th>\n",
       "      <td>id10888</td>\n",
       "      <td>0</td>\n",
       "      <td>0</td>\n",
       "      <td>0</td>\n",
       "      <td>0.0</td>\n",
       "      <td>0</td>\n",
       "      <td>3</td>\n",
       "      <td>0.0</td>\n",
       "    </tr>\n",
       "    <tr>\n",
       "      <th>69</th>\n",
       "      <td>id04459</td>\n",
       "      <td>0</td>\n",
       "      <td>0</td>\n",
       "      <td>0</td>\n",
       "      <td>0.0</td>\n",
       "      <td>2</td>\n",
       "      <td>0</td>\n",
       "      <td>1.0</td>\n",
       "    </tr>\n",
       "  </tbody>\n",
       "</table>\n",
       "<p>150 rows × 8 columns</p>\n",
       "</div>"
      ],
      "text/plain": [
       "          id  count_emph  count_dial  count_dial_break  break_to_dial_ratio  \\\n",
       "30   id15222           0           0                 0                  0.0   \n",
       "13   id18886           0           0                 0                  0.0   \n",
       "122  id15580           0           0                 0                  0.0   \n",
       "17   id13117           0           0                 0                  0.0   \n",
       "192  id04949           0           0                 0                  0.0   \n",
       "188  id19728           0           0                 0                  0.0   \n",
       "141  id05582           0           0                 0                  0.0   \n",
       "109  id09114           0           0                 0                  0.0   \n",
       "66   id06312           0           1                 0                  0.0   \n",
       "34   id03205           0           0                 0                  0.0   \n",
       "158  id03570           0           0                 0                  0.0   \n",
       "121  id01306           0           0                 0                  0.0   \n",
       "8    id19322           0           0                 0                  0.0   \n",
       "185  id20597           0           0                 0                  0.0   \n",
       "174  id21056           0           0                 0                  0.0   \n",
       "75   id10155           0           0                 0                  0.0   \n",
       "45   id10279           0           0                 0                  0.0   \n",
       "126  id19806           0           1                 0                  0.0   \n",
       "64   id03555           0           0                 0                  0.0   \n",
       "113  id14878           0           0                 0                  0.0   \n",
       "184  id05317           1           0                 0                  0.0   \n",
       "106  id11321           0           0                 0                  0.0   \n",
       "47   id19180           0           0                 0                  0.0   \n",
       "19   id20836           0           0                 0                  0.0   \n",
       "189  id25281           0           0                 0                  0.0   \n",
       "148  id22987           0           0                 0                  0.0   \n",
       "133  id24125           0           0                 0                  0.0   \n",
       "127  id05293           0           0                 0                  0.0   \n",
       "116  id20087           0           0                 0                  0.0   \n",
       "159  id09713           0           0                 0                  0.0   \n",
       "..       ...         ...         ...               ...                  ...   \n",
       "196  id01830           0           0                 0                  0.0   \n",
       "16   id08441           0           0                 0                  0.0   \n",
       "134  id02655           0           0                 0                  0.0   \n",
       "41   id01651           0           0                 0                  0.0   \n",
       "83   id22877           0           0                 0                  0.0   \n",
       "10   id16737           0           1                 0                  0.0   \n",
       "107  id06564           0           0                 0                  0.0   \n",
       "38   id00144           0           0                 0                  0.0   \n",
       "136  id26487           0           0                 0                  0.0   \n",
       "84   id02647           0           1                 0                  0.0   \n",
       "150  id24399           0           1                 0                  0.0   \n",
       "164  id11826           0           0                 1                  0.0   \n",
       "128  id17840           0           0                 0                  0.0   \n",
       "22   id18925           0           0                 0                  0.0   \n",
       "28   id27907           0           0                 0                  0.0   \n",
       "94   id18067           0           0                 0                  0.0   \n",
       "98   id02547           0           0                 0                  0.0   \n",
       "61   id07779           0           0                 0                  0.0   \n",
       "100  id04853           0           0                 0                  0.0   \n",
       "70   id06749           0           2                 0                  0.0   \n",
       "48   id02236           0           0                 0                  0.0   \n",
       "149  id05449           0           0                 0                  0.0   \n",
       "179  id25905           0           0                 0                  0.0   \n",
       "9    id00912           0           0                 0                  0.0   \n",
       "108  id01004           0           0                 0                  0.0   \n",
       "27   id23451           0           0                 0                  0.0   \n",
       "195  id21956           0           0                 0                  0.0   \n",
       "2    id11008           0           0                 0                  0.0   \n",
       "176  id10888           0           0                 0                  0.0   \n",
       "69   id04459           0           0                 0                  0.0   \n",
       "\n",
       "     count_fem  count_mas  fem_to_mas_ratio  \n",
       "30           0          0               0.0  \n",
       "13           0          0               0.0  \n",
       "122          0          0               0.0  \n",
       "17           3          0               1.0  \n",
       "192          0          0               0.0  \n",
       "188          0          0               0.0  \n",
       "141          0          2               0.0  \n",
       "109          0          0               0.0  \n",
       "66           5          0               1.0  \n",
       "34           0          0               0.0  \n",
       "158          0          0               0.0  \n",
       "121          0          0               0.0  \n",
       "8            0          0               0.0  \n",
       "185          0          0               0.0  \n",
       "174          0          0               0.0  \n",
       "75           0          0               0.0  \n",
       "45           0          0               0.0  \n",
       "126          0          0               0.0  \n",
       "64           0          0               0.0  \n",
       "113          0          2               0.0  \n",
       "184          0          4               0.0  \n",
       "106          0          1               0.0  \n",
       "47           0          0               0.0  \n",
       "19           0          5               0.0  \n",
       "189          0          0               0.0  \n",
       "148          0          0               0.0  \n",
       "133          0          1               0.0  \n",
       "127          0          0               0.0  \n",
       "116          0          0               0.0  \n",
       "159          0          1               0.0  \n",
       "..         ...        ...               ...  \n",
       "196          0          2               0.0  \n",
       "16           0          0               0.0  \n",
       "134          1          0               1.0  \n",
       "41           0          0               0.0  \n",
       "83           0          0               0.0  \n",
       "10           0          3               0.0  \n",
       "107          0          2               0.0  \n",
       "38           0          1               0.0  \n",
       "136          0          1               0.0  \n",
       "84           0          0               0.0  \n",
       "150          1          1               1.0  \n",
       "164          0          2               0.0  \n",
       "128          0          0               0.0  \n",
       "22           0          0               0.0  \n",
       "28           0          0               0.0  \n",
       "94           2          0               1.0  \n",
       "98           0          0               0.0  \n",
       "61           0          0               0.0  \n",
       "100          0          0               0.0  \n",
       "70           0          0               0.0  \n",
       "48           0          1               0.0  \n",
       "149          0          3               0.0  \n",
       "179          0          0               0.0  \n",
       "9            0          0               0.0  \n",
       "108          4          5               0.8  \n",
       "27           0          1               0.0  \n",
       "195          0          0               0.0  \n",
       "2            0          3               0.0  \n",
       "176          0          3               0.0  \n",
       "69           2          0               1.0  \n",
       "\n",
       "[150 rows x 8 columns]"
      ]
     },
     "execution_count": 376,
     "metadata": {},
     "output_type": "execute_result"
    }
   ],
   "source": [
    "datameta1 = build_meta1(tr1)\n",
    "datameta1"
   ]
  },
  {
   "cell_type": "code",
   "execution_count": 377,
   "metadata": {},
   "outputs": [],
   "source": [
    "def build_meta2(dataframe):\n",
    "    \"\"\"Builds a dataframe that shows the author and the other meta-data related to the sentence.\"\"\"\n",
    "    df_meta = dataframe.copy()\n",
    "    list_meta = [length_character,\n",
    "             length_sentence,\n",
    "             length_word,  \n",
    "             vocabulary_sentence,\n",
    "             density_stopword,\n",
    "             density_noun,\n",
    "             density_verb,\n",
    "             density_adjective,\n",
    "             adjective_to_noun,\n",
    "             density_coma,\n",
    "             density_point,\n",
    "             density_colon,\n",
    "             density_semicolon,\n",
    "             density_interro,\n",
    "             density_expl\n",
    "            ]\n",
    "    for f in list_meta:\n",
    "        df_meta[f.__name__] = df_meta.text.apply(f)\n",
    "    return df_meta "
   ]
  },
  {
   "cell_type": "code",
   "execution_count": 378,
   "metadata": {},
   "outputs": [
    {
     "data": {
      "text/plain": [
       "'\\ndatameta2 = build_meta2(tr1)\\ndatameta2\\n'"
      ]
     },
     "execution_count": 378,
     "metadata": {},
     "output_type": "execute_result"
    }
   ],
   "source": [
    "'''\n",
    "datameta2 = build_meta2(tr1)\n",
    "datameta2\n",
    "'''"
   ]
  },
  {
   "cell_type": "code",
   "execution_count": 379,
   "metadata": {},
   "outputs": [
    {
     "data": {
      "text/plain": [
       "\"\\nfor c in datameta2.columns[3:]:\\n    plt.style.use('seaborn')\\n    sns.boxplot(x='author', y=c, data=datameta2)\\n    plt.title('Meta {}'.format(c))\\n    plt.savefig('Meta {}'.format(c))\\n    plt.show()\\n    \\n\""
      ]
     },
     "execution_count": 379,
     "metadata": {},
     "output_type": "execute_result"
    }
   ],
   "source": [
    "'''\n",
    "for c in datameta2.columns[3:]:\n",
    "    plt.style.use('seaborn')\n",
    "    sns.boxplot(x='author', y=c, data=datameta2)\n",
    "    plt.title('Meta {}'.format(c))\n",
    "    plt.savefig('Meta {}'.format(c))\n",
    "    plt.show()\n",
    "    \n",
    "'''"
   ]
  },
  {
   "cell_type": "markdown",
   "metadata": {},
   "source": [
    "<h2>Text Features</h2>"
   ]
  },
  {
   "cell_type": "markdown",
   "metadata": {},
   "source": [
    "<h3>First Word</h3>"
   ]
  },
  {
   "cell_type": "code",
   "execution_count": 380,
   "metadata": {},
   "outputs": [],
   "source": [
    "def first_word_type(sents):\n",
    "    \"\"\"Takes a list of sentences and returns a list of the word type used to start each element.\"\"\"\n",
    "    res = list()\n",
    "    for sent in sents:\n",
    "        typ = nltk.pos_tag(sent.split())\n",
    "        i = 0\n",
    "        j = 0\n",
    "        word = typ[i][0].lower()\n",
    "        while i < len(sent.split()):\n",
    "            if j < len(word) and word[j] >= 'a' and word[j] <= 'z':\n",
    "                res.append(typ[i][1])\n",
    "                break\n",
    "            i += 1\n",
    "    return res"
   ]
  },
  {
   "cell_type": "code",
   "execution_count": 381,
   "metadata": {},
   "outputs": [],
   "source": [
    "def first_word(dataframe):\n",
    "    \"\"\"Takes a dataframe and creates a column per word type with a value of 1 on the word type used.\"\"\"\n",
    "    df = dataframe.copy()\n",
    "    elements = ['CC','CD','DT','EX','IN','JJ','JJR','JJS','LS','MD','NN','NNP','NNS','PDT','PRP','PRP$','RB','RBR','TO','UH','VB','VBD','VBG','VBN','VBP','VBZ','WDT','WP','WRB']\n",
    "    for element in elements:\n",
    "        column='first_word_'+element\n",
    "        df[column]=0\n",
    "        \n",
    "    for i in range(len(df)):\n",
    "        sents = nltk.Text(sent_tokenize(df['text'].iloc[i]))\n",
    "        first_words = first_word_type(sents)\n",
    "        for word in first_words:\n",
    "            column = 'first_word_' + str(word)\n",
    "            try:\n",
    "                df[column].iloc[i] += 1\n",
    "            except:\n",
    "                pass\n",
    "            \n",
    "    del df['text']\n",
    "    if 'author' in df.columns:\n",
    "        del df['author']\n",
    "        \n",
    "    return df"
   ]
  },
  {
   "cell_type": "code",
   "execution_count": 382,
   "metadata": {},
   "outputs": [
    {
     "data": {
      "text/plain": [
       "'\\ndatatext1 = first_word(tr1)\\ndatatext1\\n'"
      ]
     },
     "execution_count": 382,
     "metadata": {},
     "output_type": "execute_result"
    }
   ],
   "source": [
    "'''\n",
    "datatext1 = first_word(tr1)\n",
    "datatext1\n",
    "'''"
   ]
  },
  {
   "cell_type": "markdown",
   "metadata": {},
   "source": [
    "<h3>First Two Words</h3>"
   ]
  },
  {
   "cell_type": "code",
   "execution_count": 383,
   "metadata": {},
   "outputs": [],
   "source": [
    "def twofirst_words_type(sents):\n",
    "    \"\"\"Takes a list of sentences and returns a list of the 2 word types used to start each element.\"\"\"\n",
    "    res = list()\n",
    "    for sent in sents:\n",
    "        if len(sent.split()) > 1:\n",
    "            typ = nltk.pos_tag(sent.split())\n",
    "            res.append([typ[0][1],typ[1][1]])\n",
    "    return res"
   ]
  },
  {
   "cell_type": "code",
   "execution_count": 384,
   "metadata": {},
   "outputs": [
    {
     "data": {
      "text/plain": [
       "'\\n\\ndef twofirst_word(dataframe):\\n    \"\"\"Takes a dataframe and creates a column per word type pair with a value of 1 on the word type pair used.\"\"\"\\n    df = dataframe.copy()\\n    for i in range(len(df)):\\n        sents = nltk.Text(sent_tokenize(df[\\'text\\'].iloc[i]))\\n        twofirst_words = twofirst_words_type(sents)\\n        for twoword in twofirst_words:\\n            column = \\'first_two_\\' + str(twoword)\\n            try:\\n                df[column].iloc[i] += 1\\n            except:\\n                df[column] = 0\\n                df[column].iloc[i] = 1\\n                \\n    del df[\\'text\\']\\n    if \\'author\\' in df.columns:\\n        del df[\\'author\\']\\n        \\n    return df\\n\\n'"
      ]
     },
     "execution_count": 384,
     "metadata": {},
     "output_type": "execute_result"
    }
   ],
   "source": [
    "'''\n",
    "\n",
    "def twofirst_word(dataframe):\n",
    "    \"\"\"Takes a dataframe and creates a column per word type pair with a value of 1 on the word type pair used.\"\"\"\n",
    "    df = dataframe.copy()\n",
    "    for i in range(len(df)):\n",
    "        sents = nltk.Text(sent_tokenize(df['text'].iloc[i]))\n",
    "        twofirst_words = twofirst_words_type(sents)\n",
    "        for twoword in twofirst_words:\n",
    "            column = 'first_two_' + str(twoword)\n",
    "            try:\n",
    "                df[column].iloc[i] += 1\n",
    "            except:\n",
    "                df[column] = 0\n",
    "                df[column].iloc[i] = 1\n",
    "                \n",
    "    del df['text']\n",
    "    if 'author' in df.columns:\n",
    "        del df['author']\n",
    "        \n",
    "    return df\n",
    "\n",
    "'''\n"
   ]
  },
  {
   "cell_type": "code",
   "execution_count": 385,
   "metadata": {},
   "outputs": [],
   "source": [
    "#datatext2 = twofirst_word(tr1)\n",
    "#datatext2"
   ]
  },
  {
   "cell_type": "markdown",
   "metadata": {},
   "source": [
    "<h3>Last Word</h3>"
   ]
  },
  {
   "cell_type": "code",
   "execution_count": 386,
   "metadata": {},
   "outputs": [],
   "source": [
    "def last_word_type(sents):\n",
    "    \"\"\"Takes a list of sentences and returns a list of the word type used to end each element.\"\"\"\n",
    "    res= list()\n",
    "    for sent in sents:\n",
    "        typ = nltk.pos_tag(sent.split())\n",
    "        i = 0\n",
    "        j = 0\n",
    "        word = typ[-i][0].lower()\n",
    "        while i < len(sent.split()):\n",
    "            if j < len(word) and word[j] >= 'a' and word[j] <= 'z':\n",
    "                res.append(typ[-i][1])\n",
    "                break\n",
    "            i += 1\n",
    "    return res"
   ]
  },
  {
   "cell_type": "code",
   "execution_count": 387,
   "metadata": {},
   "outputs": [],
   "source": [
    "def last_word(dataframe):\n",
    "    \"\"\"Takes a dataframe and creates a column per word type with a value of 1 on the word type used.\"\"\"\n",
    "    df = dataframe.copy()\n",
    "    elements = ['FW','IN','JJ','NN','NNP','NNS','RB','RBS','RP','VB','VBD','VBN','VBP','VBZ']\n",
    "    for element in elements:\n",
    "        column='last_word_'+element\n",
    "        df[column]=0\n",
    "        \n",
    "    for i in range(len(df)):\n",
    "        sents = nltk.Text(sent_tokenize(df['text'].iloc[i]))\n",
    "        last_words = last_word_type(sents)\n",
    "        for word in last_words:\n",
    "            column = 'last_word_' + str(word)\n",
    "            try:\n",
    "                df[column].iloc[i] += 1\n",
    "            except:\n",
    "                pass\n",
    "            \n",
    "    del df['text']\n",
    "    if 'author' in df.columns:\n",
    "        del df['author']\n",
    "        \n",
    "    return df"
   ]
  },
  {
   "cell_type": "code",
   "execution_count": 388,
   "metadata": {},
   "outputs": [
    {
     "data": {
      "text/plain": [
       "'\\ndatatext3 = last_word(tr1)\\ndatatext3\\n'"
      ]
     },
     "execution_count": 388,
     "metadata": {},
     "output_type": "execute_result"
    }
   ],
   "source": [
    "'''\n",
    "datatext3 = last_word(tr1)\n",
    "datatext3\n",
    "'''"
   ]
  },
  {
   "cell_type": "markdown",
   "metadata": {},
   "source": [
    "<h3>Last Two Words</h3>"
   ]
  },
  {
   "cell_type": "code",
   "execution_count": 389,
   "metadata": {},
   "outputs": [],
   "source": [
    "def twolast_words_type(sents):\n",
    "    \"\"\"Takes a list of sentences and returns a list of the word types used to end each element.\"\"\"\n",
    "    res = list()\n",
    "    for sent in sents:\n",
    "        if len(sent.split()) > 1:\n",
    "            typ = nltk.pos_tag(sent.split())\n",
    "            res.append([typ[-2][1], typ[-1][1]])\n",
    "    return res"
   ]
  },
  {
   "cell_type": "code",
   "execution_count": 390,
   "metadata": {},
   "outputs": [
    {
     "data": {
      "text/plain": [
       "'\\ndef twolast_word(dataframe):\\n    \"\"\"Takes a dataframe and creates a column per word type pair with a value of 1 on the word type pairs used.\"\"\"\\n    df=dataframe.copy()\\n    for i in range(len(df)):\\n        sents=nltk.Text(sent_tokenize(df[\\'text\\'].iloc[i]))\\n        twolast_words = twolast_words_type(sents)\\n        for twoword in twolast_words:\\n            column=\\'last_two_\\' + str(twoword)\\n            try:\\n                df[column].iloc[i]=df[column].iloc[i]+1\\n            except:\\n                df[column]=0\\n                df[column].iloc[i]=1\\n                \\n    del df[\\'text\\']\\n    if \\'author\\' in df.columns:\\n        del df[\\'author\\']\\n        \\n    return df\\n'"
      ]
     },
     "execution_count": 390,
     "metadata": {},
     "output_type": "execute_result"
    }
   ],
   "source": [
    "'''\n",
    "def twolast_word(dataframe):\n",
    "    \"\"\"Takes a dataframe and creates a column per word type pair with a value of 1 on the word type pairs used.\"\"\"\n",
    "    df=dataframe.copy()\n",
    "    for i in range(len(df)):\n",
    "        sents=nltk.Text(sent_tokenize(df['text'].iloc[i]))\n",
    "        twolast_words = twolast_words_type(sents)\n",
    "        for twoword in twolast_words:\n",
    "            column='last_two_' + str(twoword)\n",
    "            try:\n",
    "                df[column].iloc[i]=df[column].iloc[i]+1\n",
    "            except:\n",
    "                df[column]=0\n",
    "                df[column].iloc[i]=1\n",
    "                \n",
    "    del df['text']\n",
    "    if 'author' in df.columns:\n",
    "        del df['author']\n",
    "        \n",
    "    return df\n",
    "'''\n"
   ]
  },
  {
   "cell_type": "code",
   "execution_count": 391,
   "metadata": {},
   "outputs": [],
   "source": [
    "#datatext4 = twolast_word(tr1)\n",
    "#datatext4"
   ]
  },
  {
   "cell_type": "markdown",
   "metadata": {},
   "source": [
    "<h1> Foreign Languages </h1>"
   ]
  },
  {
   "cell_type": "code",
   "execution_count": 392,
   "metadata": {},
   "outputs": [],
   "source": [
    "def language_sent(sents):\n",
    "    \"\"\"Takes a list of sentences and returns a list of the languages detected for each sentence.\"\"\"\n",
    "    res = list()\n",
    "    for sent in sents:\n",
    "        try:\n",
    "            res.append(detect(sent))\n",
    "        except:\n",
    "            pass        \n",
    "    return res"
   ]
  },
  {
   "cell_type": "code",
   "execution_count": 393,
   "metadata": {},
   "outputs": [],
   "source": [
    "def language(dataframe):\n",
    "    \"\"\"Takes a dataframe and creates a column per language with a value of 1 on the languages used.\"\"\"\n",
    "    df = dataframe.copy()\n",
    "    languages=['af','ca','cy','da','de','es','et','fi','fr','hu','ind','it','nl','no','pl','pt','ro','sk','sl','so','sv','tl','tr','vi']\n",
    "    for language in languages:\n",
    "        df[language]=0\n",
    "        \n",
    "    for i in range(len(df)):\n",
    "        sents = nltk.Text(sent_tokenize(df['text'].iloc[i]))\n",
    "        n = len(sents)\n",
    "        languages = language_sent(sents)\n",
    "        for language in languages:\n",
    "            if language != 'id':\n",
    "                column = language\n",
    "                try:\n",
    "                    df[column].iloc[i] = df[column].iloc[i] + 1 / n\n",
    "                except:\n",
    "                    pass\n",
    "            else:\n",
    "                column='ind'\n",
    "                try:\n",
    "                    df[column].iloc[i] = df[column].iloc[i] + 1 / n\n",
    "                except:\n",
    "                    pass\n",
    "                \n",
    "    del df['text']\n",
    "    if 'author' in df.columns:\n",
    "        del df['author']\n",
    "        \n",
    "    return df"
   ]
  },
  {
   "cell_type": "code",
   "execution_count": 394,
   "metadata": {},
   "outputs": [
    {
     "data": {
      "text/plain": [
       "'\\ndatatext5 = language(tr1)\\ndatatext5\\n'"
      ]
     },
     "execution_count": 394,
     "metadata": {},
     "output_type": "execute_result"
    }
   ],
   "source": [
    "'''\n",
    "datatext5 = language(tr1)\n",
    "datatext5\n",
    "'''"
   ]
  },
  {
   "cell_type": "markdown",
   "metadata": {},
   "source": [
    "<h1> Emotions </h1>"
   ]
  },
  {
   "cell_type": "markdown",
   "metadata": {},
   "source": [
    "The following function needs to have the file \"NRC-emotion-lexicon-wordlevel-alphabetized-v0.92.txt\" in the same folder.\n",
    "Based on NRC data: 8 emotions"
   ]
  },
  {
   "cell_type": "code",
   "execution_count": 395,
   "metadata": {},
   "outputs": [],
   "source": [
    "def get_nrc_data():\n",
    "    \"\"\"Builds an emotion dictionary from the NRC emotion lexicon.\"\"\"\n",
    "    nrc = \"NRC-emotion-lexicon-wordlevel-alphabetized-v0.92.txt\"\n",
    "    count = 0\n",
    "    emotion_dict = dict()\n",
    "    with open(nrc,'r') as f:\n",
    "        all_lines = list()\n",
    "        for line in f:\n",
    "            if count < 46:\n",
    "                count += 1\n",
    "                continue\n",
    "            line = line.strip().split('\\t')\n",
    "            if int(line[2]) == 1:\n",
    "                if emotion_dict.get(line[0]):\n",
    "                    emotion_dict[line[0]].append(line[1])\n",
    "                else:\n",
    "                    emotion_dict[line[0]] = [line[1]]\n",
    "    return emotion_dict"
   ]
  },
  {
   "cell_type": "code",
   "execution_count": 396,
   "metadata": {},
   "outputs": [],
   "source": [
    "def emotions(dataframe):\n",
    "    \"\"\"Takes a dataframe and creates a column per emotion with a count on the emotions used.\"\"\"\n",
    "    df = dataframe.copy()\n",
    "    emotions=['positive','anger','disgust','fear','negative','sadness','anticipation','joy','surprise','trust']\n",
    "    for emotion in emotions:\n",
    "        df[emotion]=0\n",
    "    \n",
    "    \n",
    "    emotion_dic = get_nrc_data()\n",
    "    for i in range(len(df)):\n",
    "        words = df['text'].iloc[i].split()\n",
    "        n = len(words)\n",
    "        for word in words:\n",
    "            if word in emotion_dic:\n",
    "                for emotion in emotion_dic[word]:\n",
    "                    column = emotion\n",
    "                    try:\n",
    "                        df[column].iloc[i] = df[column].iloc[i] + 1 / n\n",
    "                    except:\n",
    "                        pass\n",
    "                    \n",
    "    del df['text']\n",
    "    if 'author' in df.columns:\n",
    "        del df['author']\n",
    "    \n",
    "    return df"
   ]
  },
  {
   "cell_type": "code",
   "execution_count": 397,
   "metadata": {},
   "outputs": [
    {
     "data": {
      "text/plain": [
       "'\\ndatatext6 = emotions(tr1)\\ndatatext6\\n'"
      ]
     },
     "execution_count": 397,
     "metadata": {},
     "output_type": "execute_result"
    }
   ],
   "source": [
    "'''\n",
    "datatext6 = emotions(tr1)\n",
    "datatext6\n",
    "'''"
   ]
  },
  {
   "cell_type": "markdown",
   "metadata": {},
   "source": [
    "<h3>Counting of words (a.k.a bag of words)</h3>\n",
    "\n",
    "Instead of word/ n-grams frequencies, we are going to use tf_idf.\n",
    "\n",
    "Some information about tf_idf: https://buhrmann.github.io/tfidf-analysis.html\n",
    "\n",
    "Here, we don't detail for each N. Instead, we'll run the tf_idf for all the n-grams possible and the we'll take the best features. Our aim is to reduce the size/dimensions of our dataset's features."
   ]
  },
  {
   "cell_type": "code",
   "execution_count": 398,
   "metadata": {},
   "outputs": [],
   "source": [
    "def transform_tag(var):\n",
    "    \"\"\"Transforms a string to a string of pos_tag\"\"\"\n",
    "    inpt = nltk.pos_tag(word_tokenize(var))\n",
    "    unzipped = zip(*inpt )\n",
    "    return ' '.join([*list(unzipped)[1]])"
   ]
  },
  {
   "cell_type": "markdown",
   "metadata": {},
   "source": [
    "<h4>Generation of the tf_idf counting dataFrame</h4>"
   ]
  },
  {
   "cell_type": "code",
   "execution_count": 399,
   "metadata": {},
   "outputs": [],
   "source": [
    "def counting_a(a, analysis):\n",
    "    \"\"\"\n",
    "    Generates the tf-idf counting dataframe. First argument is the n of n-gram. Analysis type is 'word', 'char',\n",
    "    token_pos', etc.\n",
    "    \"\"\"\n",
    "    df_train = tr1.copy()\n",
    "    df_test  = ts1.copy()\n",
    "    \n",
    "    #if we are counting words:\n",
    "    if analysis == \"word\" or analysis == \"char\": \n",
    "        \n",
    "        #check the CountVectorizer doc\n",
    "        #we create a Countvectorizer, called bow_transformer\n",
    "        bow_transformer = CountVectorizer(analyzer = analysis,\n",
    "                                      lowercase = True, #we don't care about place in sentence\n",
    "                                      ngram_range = (a, a),\n",
    "                                      stop_words='english')\n",
    "\n",
    "        #we use bow_transformer to fit and transform our training set\n",
    "        messages_bow = bow_transformer.fit_transform(df_train['text'])\n",
    "        \n",
    "        #we use bow_transformer to transform our test set. \n",
    "        #We do not need to train if first because the fitting would recompute the idf, we don't want that\n",
    "        messages_bow_test = bow_transformer.transform(df_test['text'])\n",
    "    \n",
    "    #if we are counting POS:    \n",
    "    elif analysis == \"token_pos\":\n",
    "        \n",
    "        #this is the punctuation we want to keep\n",
    "        punctuation = r\"(?u)\\b\\w\\w+\\b|!|\\?|\\\"|\\'|\\.|\\,|\\;|\\:|\\$|\\(|\\)|\\--|\\&|\\``|\\'' + PRP$ + WP$\"\n",
    "        #we create a Countvectorizer, called bow_transformer\n",
    "        bow_transformer = CountVectorizer(analyzer = 'word',\n",
    "                                          lowercase = False, #we DO care about place in sentence\n",
    "                                          ngram_range = (a, a),\n",
    "                                          token_pattern =  punctuation, #we DO care about punctuation\n",
    "                                          stop_words='english')\n",
    "        \n",
    "        #we use the transform_tag function to transform the sentence in a sentence of pos tag        \n",
    "        #we use bow_transformer to fit and transform our training set\n",
    "        messages_bow = bow_transformer.fit_transform(df_train['text'].apply(transform_tag))\n",
    "        #we use bow_transformer to transform our test set\n",
    "        #We do not need to train if first because the fitting would recompute the idf, we don't want that\n",
    "        messages_bow_test = bow_transformer.transform(df_test['text'].apply(transform_tag))\n",
    "\n",
    "        \n",
    "    #this is the DataFrame Concerning the regular counting of words\n",
    "    \n",
    "    ##from regular counting to tf idf transformation coefficient\n",
    "\n",
    "    tfidf_transformer = TfidfTransformer().fit(messages_bow)\n",
    "    messages_tfidf = tfidf_transformer.transform(messages_bow)\n",
    "    messages_tfidf_test = tfidf_transformer.transform(messages_bow_test)\n",
    "    \n",
    "    names = bow_transformer.get_feature_names()\n",
    "    \n",
    "    return (messages_tfidf, names, messages_tfidf_test)"
   ]
  },
  {
   "cell_type": "code",
   "execution_count": 400,
   "metadata": {},
   "outputs": [
    {
     "name": "stdout",
     "output_type": "stream",
     "text": [
      "Shape of Sparse Matrix:  (150, 1631)\n",
      "Amount of Non-Zero occurences:  1634\n",
      "sparsity: 0.67%\n",
      " \n",
      "Shape of Sparse Matrix Test:  (50, 1631)\n",
      "Amount of Non-Zero occurences:  1\n",
      "sparsity: 0.00%\n"
     ]
    }
   ],
   "source": [
    "#mat_word, name_word, mat_word_test = counting_a(2,'word')\n",
    "mat_word, name_word, mat_word_test = counting_a(2,'word')\n",
    "\n",
    "print ('Shape of Sparse Matrix: ', mat_word.shape)\n",
    "print ('Amount of Non-Zero occurences: ', mat_word.nnz)\n",
    "print ('sparsity: %.2f%%' % (100.0 * mat_word.nnz /\n",
    "                             (mat_word.shape[0] * mat_word.shape[1])))\n",
    "       \n",
    "print(' ')\n",
    "print ('Shape of Sparse Matrix Test: ', mat_word_test.shape)\n",
    "print ('Amount of Non-Zero occurences: ', mat_word_test.nnz)\n",
    "print ('sparsity: %.2f%%' % (100.0 * mat_word_test.nnz /\n",
    "                             (mat_word_test.shape[0] * mat_word_test.shape[1])))\n",
    "                             "
   ]
  },
  {
   "cell_type": "markdown",
   "metadata": {},
   "source": [
    "As we can see, we get a matrix with <u>roughly a thousand </u>of  features. It's really heavy and we get a sparse matrix. Our goal is now to reduce the size of this matrix by getting the TOP-N features issued from the tf_idf.<br>\n",
    "<br>\n",
    "And we can create so both the matrix of training set. On which the TF_IDF is trained. <br>\n",
    "And the matrix test, which is created with no-fit on it."
   ]
  },
  {
   "cell_type": "markdown",
   "metadata": {},
   "source": [
    "<h4>Reduction of the number of features to N</h4>\n",
    "\n",
    "The next cell will be called in all the bag of words parts."
   ]
  },
  {
   "cell_type": "code",
   "execution_count": 401,
   "metadata": {},
   "outputs": [],
   "source": [
    "def top_tfidf_feats(row, features, top_n=25):\n",
    "    \"\"\"Gets top n tf-idf values in row and return them with their corresponding feature names.\"\"\"\n",
    "    topn_ids = np.argsort(row)[::-1][:top_n]\n",
    "    top_feats = [(features[i], row[i]) for i in topn_ids]\n",
    "    df = pd.DataFrame(top_feats)\n",
    "    df.columns = ['feature', 'tfidf']\n",
    "    return df"
   ]
  },
  {
   "cell_type": "code",
   "execution_count": 402,
   "metadata": {},
   "outputs": [],
   "source": [
    "def top_feats_in_doc(Xtr, features, row_id, top_n=25):\n",
    "    \"\"\"Returns the top n tf-df features in a specific document (i.e. matrix row)\"\"\"\n",
    "    row = np.squeeze(Xtr[row_id].toarray())\n",
    "    return top_tfidf_feats(row, features, top_n)"
   ]
  },
  {
   "cell_type": "code",
   "execution_count": 403,
   "metadata": {},
   "outputs": [],
   "source": [
    "def top_mean_feats(Xtr, features, grp_ids=None, min_tfidf=0.1, top_n=25):\n",
    "    \"\"\"\n",
    "    Returns the top n features that on average are most important amongst documents in rows.\n",
    "    Indentified by indices in grp_ids.\n",
    "    \"\"\"\n",
    "    if grp_ids:\n",
    "        D = Xtr[grp_ids].toarray()\n",
    "    else:\n",
    "        D = Xtr.toarray()\n",
    "\n",
    "    D[D < min_tfidf] = 0\n",
    "    tfidf_means = np.mean(D, axis=0)\n",
    "    return top_tfidf_feats(tfidf_means, features, top_n)"
   ]
  },
  {
   "cell_type": "code",
   "execution_count": 404,
   "metadata": {},
   "outputs": [],
   "source": [
    "def top_feats_by_class(Xtr, y, features, min_tfidf=0.1, top_n=25):\n",
    "    \"\"\"\n",
    "    Return a list of dfs, where each df holds top_n features and their mean tfidf value.\n",
    "    Calculated across documents with the same class label.\n",
    "    \"\"\"\n",
    "    dfs = []\n",
    "    labels = np.unique(y)\n",
    "    for label in labels:\n",
    "        ids = np.where(y==label)\n",
    "        feats_df = top_mean_feats(Xtr, features, ids, min_tfidf=min_tfidf, top_n=top_n)\n",
    "        feats_df.label = label\n",
    "        dfs.append(feats_df)\n",
    "    return dfs"
   ]
  },
  {
   "cell_type": "code",
   "execution_count": 405,
   "metadata": {},
   "outputs": [],
   "source": [
    "def plot_tfidf_classfeats_h(dfs, name = 'default'):\n",
    "    \"\"\"Plot the data frames returned by the function plot_tfidf_classfeats().\"\"\"\n",
    "    fig = plt.figure(figsize=(12, 9), facecolor=\"w\")\n",
    "    x = np.arange(len(dfs[0]))\n",
    "    for i, df in enumerate(dfs):\n",
    "        ax = fig.add_subplot(1, len(dfs), i+1)\n",
    "        ax.spines[\"top\"].set_visible(False)\n",
    "        ax.spines[\"right\"].set_visible(False)\n",
    "        ax.set_frame_on(False)\n",
    "        ax.get_xaxis().tick_bottom()\n",
    "        ax.get_yaxis().tick_left()\n",
    "        ax.set_xlabel(\"Mean Tf-Idf Score\", labelpad=16, fontsize=14)\n",
    "        ax.set_title(\"label = \" + str(df.label), fontsize=16)\n",
    "        ax.ticklabel_format(axis='x', style='sci', scilimits=(-2,2))\n",
    "        ax.barh(x, df.tfidf, align='center', color='#3F5D7D')\n",
    "        ax.set_yticks(x)\n",
    "        ax.set_ylim([-1, x[-1]+1])\n",
    "        yticks = ax.set_yticklabels(df.feature)\n",
    "        plt.subplots_adjust(bottom=0.09, right=0.97, left=0.15, top=0.95, wspace=0.52)\n",
    "    #this line is for saving as picture\n",
    "    plt.savefig(name)\n",
    "    #this line is for showing\n",
    "    plt.show()"
   ]
  },
  {
   "cell_type": "markdown",
   "metadata": {},
   "source": [
    "<h4>Dimensionality reduction for bag of words (example for 2-grams)</h4>\n",
    "We reduce by taking the TOP-N per author"
   ]
  },
  {
   "cell_type": "code",
   "execution_count": 406,
   "metadata": {},
   "outputs": [],
   "source": [
    "#alpha_word = top_feats_by_class(mat_word, tr1.author, name_word)"
   ]
  },
  {
   "cell_type": "code",
   "execution_count": 407,
   "metadata": {},
   "outputs": [],
   "source": [
    "#plot_tfidf_classfeats_h(alpha_word, 'bi_gram_word')"
   ]
  },
  {
   "cell_type": "markdown",
   "metadata": {},
   "source": [
    "<h3>Building of bag of word and feature vectors</h3>"
   ]
  },
  {
   "cell_type": "code",
   "execution_count": 408,
   "metadata": {},
   "outputs": [],
   "source": [
    "# counting_a(1,'word')"
   ]
  },
  {
   "cell_type": "code",
   "execution_count": 409,
   "metadata": {},
   "outputs": [],
   "source": [
    "def build_bag_a(a, analysis, top_n = 50):\n",
    "    df_bag = tr1.copy()\n",
    "    df_bag_test = ts1.copy()\n",
    "    \n",
    "    build = counting_a(a, analysis)\n",
    "    \n",
    "    alpha = top_feats_by_class(build[0], df_bag.author, build[1], top_n = top_n)\n",
    "\n",
    "    a = list(alpha[0].feature.values)\n",
    "    b = list(alpha[1].feature.values)\n",
    "    c = list(alpha[2].feature.values)\n",
    "    bag = set(a + b + c)\n",
    "\n",
    "\n",
    "    for w in bag:\n",
    "        vec = build[0][:, build[1].index(w)].toarray()\n",
    "        df_bag[w] = vec\n",
    "\n",
    "        vec_test = build[2][:, build[1].index(w)].toarray()\n",
    "        df_bag_test[w] = vec_test\n",
    "        \n",
    "    df_bag = df_bag.drop(labels = ['text','author'], axis = 1)\n",
    "    df_bag_test = df_bag_test.drop(labels = ['text','author'], axis = 1)\n",
    "\n",
    "        \n",
    "    return df_bag, df_bag_test"
   ]
  },
  {
   "cell_type": "code",
   "execution_count": 410,
   "metadata": {},
   "outputs": [],
   "source": [
    "#build_bag_a(4, 'token_pos')[0].shape"
   ]
  },
  {
   "cell_type": "code",
   "execution_count": 411,
   "metadata": {},
   "outputs": [],
   "source": [
    "#build_bag_a(2, 'word')[0].head()"
   ]
  },
  {
   "cell_type": "code",
   "execution_count": 412,
   "metadata": {},
   "outputs": [],
   "source": [
    "#build_bag_a(2, 'token_pos')[0]"
   ]
  },
  {
   "cell_type": "code",
   "execution_count": 413,
   "metadata": {},
   "outputs": [],
   "source": [
    "#print(set(list(build_bag_a(2, 'word')[1]))-set(list(build_bag_a(2, 'word')[0])))"
   ]
  },
  {
   "cell_type": "markdown",
   "metadata": {},
   "source": [
    "So, we get the top N-grams of words. Our problem is the depedency on the topic. We need to produce other features which are less dependant on the topic. There are sereveral possibility. Let's detail: <br>\n",
    "- Stemming<br>\n",
    "- Character Counting<br>\n",
    "- Pos_tagging"
   ]
  },
  {
   "cell_type": "markdown",
   "metadata": {},
   "source": [
    "<h2>Counting of Character (a.k.a bag of character)</h2>\n",
    "\n",
    "Here, we count the use of some caracter, and n-grams of caracter."
   ]
  },
  {
   "cell_type": "markdown",
   "metadata": {
    "collapsed": true
   },
   "source": [
    "<h3>Generation of the tf-idf counting dataFrame</h3>"
   ]
  },
  {
   "cell_type": "code",
   "execution_count": 414,
   "metadata": {},
   "outputs": [
    {
     "name": "stdout",
     "output_type": "stream",
     "text": [
      "Shape of Sparse Matrix:  (150, 3054)\n",
      "Amount of Non-Zero occurences:  19148\n",
      "sparsity: 4.18%\n",
      " \n",
      "Shape of Sparse Matrix Test:  (50, 3054)\n",
      "Amount of Non-Zero occurences:  7047\n",
      "sparsity: 4.61%\n"
     ]
    }
   ],
   "source": [
    "mat_char, name_char, mat_char_test = counting_a(3, 'char')\n",
    "\n",
    "print ('Shape of Sparse Matrix: ', mat_char.shape)\n",
    "print ('Amount of Non-Zero occurences: ', mat_char.nnz)\n",
    "print ('sparsity: %.2f%%' % (100.0 * mat_char.nnz /\n",
    "                             (mat_char.shape[0] * mat_char.shape[1])))\n",
    "print(' ')\n",
    "print ('Shape of Sparse Matrix Test: ', mat_char_test.shape)\n",
    "print ('Amount of Non-Zero occurences: ', mat_char_test.nnz)\n",
    "print ('sparsity: %.2f%%' % (100.0 * mat_char_test.nnz /\n",
    "                             (mat_char_test.shape[0] * mat_char_test.shape[1])))"
   ]
  },
  {
   "cell_type": "markdown",
   "metadata": {
    "collapsed": true
   },
   "source": [
    "<h3>Dimensionnality reduction for bag of characters example for 3 gram</h3>\n",
    "We reduce by taking the TOP-N per author"
   ]
  },
  {
   "cell_type": "code",
   "execution_count": 415,
   "metadata": {},
   "outputs": [],
   "source": [
    "#alpha_char = top_feats_by_class( mat_char, tr1.author, name_char)"
   ]
  },
  {
   "cell_type": "code",
   "execution_count": 416,
   "metadata": {
    "scrolled": true
   },
   "outputs": [],
   "source": [
    "#plot_tfidf_classfeats_h(alpha_char, 'tr_gram_char')"
   ]
  },
  {
   "cell_type": "markdown",
   "metadata": {},
   "source": [
    "<h3>Building of bag of character and feature vectors</h3>"
   ]
  },
  {
   "cell_type": "code",
   "execution_count": 417,
   "metadata": {},
   "outputs": [],
   "source": [
    "#build_bag_a(3, 'char')[0].shape"
   ]
  },
  {
   "cell_type": "markdown",
   "metadata": {
    "collapsed": true
   },
   "source": [
    "<h2>Counting of POS Tag (a.k.a bag of Tag)</h2>\n",
    "\n",
    "Here, we count the use of some caracter, and n-grams of caracter.<br>\n",
    "So we have, some non-topic sensitive features.<br>\n",
    "But we can produce an other type of feature based on the POS_tagging.\n",
    "\n",
    "POS tag features. \n",
    "\n",
    "We will check the occurence of the elements from the Upenn Tagset. <br>"
   ]
  },
  {
   "cell_type": "code",
   "execution_count": 418,
   "metadata": {},
   "outputs": [
    {
     "name": "stdout",
     "output_type": "stream",
     "text": [
      "RBR|\\WP|\\JJS|\\NNS|\\VBD|\\$|\\VBZ|\\''|\\DT|\\WP$|\\.|\\WDT|\\PDT|\\MD|\\RP|\\WRB|\\VBG|\\RB|\\CC|\\LS|\\UH|\\JJR|\\PRP$|\\CD|\\FW|\\VBP|\\VB|\\--|\\EX|\\NNP|\\PRP|\\TO|\\VBN|\\(|\\POS|\\SYM|\\)|\\JJ|\\NN|\\:|\\NNPS|\\``|\\IN|\\,|\\RBS\n"
     ]
    },
    {
     "data": {
      "text/plain": [
       "45"
      ]
     },
     "execution_count": 418,
     "metadata": {},
     "output_type": "execute_result"
    }
   ],
   "source": [
    "#nltk.download('tagsets')\n",
    "tagdict = load('help/tagsets/upenn_tagset.pickle')\n",
    "#list of all the possible tag names\n",
    "print(\"|\\\\\".join(list(tagdict)))\n",
    "\n",
    "#this is the list of the different tokens we will use.\n",
    "len(tagdict)"
   ]
  },
  {
   "cell_type": "markdown",
   "metadata": {
    "collapsed": true
   },
   "source": [
    "<h3>Generation of the tf-idf counting dataFrame</h3>\n",
    "We had to adapt the arguments passed in the CountVectorizer."
   ]
  },
  {
   "cell_type": "code",
   "execution_count": 419,
   "metadata": {},
   "outputs": [
    {
     "name": "stdout",
     "output_type": "stream",
     "text": [
      "Shape of Sparse Matrix:  (150, 2940)\n",
      "Amount of Non-Zero occurences:  4357\n",
      "sparsity: 0.99%\n",
      "Shape of Sparse Test Matrix:  (50, 2940)\n",
      "Amount of Non-Zero occurences:  803\n",
      "sparsity: 0.55%\n"
     ]
    }
   ],
   "source": [
    "mat_pos, name_pos, mat_pos_test = counting_a(4, 'token_pos')\n",
    "\n",
    "print ('Shape of Sparse Matrix: ', mat_pos.shape)\n",
    "print ('Amount of Non-Zero occurences: ', mat_pos.nnz)\n",
    "print ('sparsity: %.2f%%' % (100.0 * mat_pos.nnz /\n",
    "                             (mat_pos.shape[0] * mat_pos.shape[1])))\n",
    "\n",
    "print ('Shape of Sparse Test Matrix: ', mat_pos_test.shape)\n",
    "print ('Amount of Non-Zero occurences: ', mat_pos_test.nnz)\n",
    "print ('sparsity: %.2f%%' % (100.0 * mat_pos_test.nnz /\n",
    "                             (mat_pos_test.shape[0] * mat_pos_test.shape[1])))"
   ]
  },
  {
   "cell_type": "markdown",
   "metadata": {},
   "source": [
    "<h3>Dimensionnality reduction for bag of tags Example for 2 grams</h3>\n",
    "We reduce by taking the TOP-N per author"
   ]
  },
  {
   "cell_type": "code",
   "execution_count": 420,
   "metadata": {},
   "outputs": [],
   "source": [
    "#alpha_pos = top_feats_by_class(mat_pos, tr1.author, name_pos, top_n = 10)"
   ]
  },
  {
   "cell_type": "code",
   "execution_count": 421,
   "metadata": {},
   "outputs": [],
   "source": [
    "#plot_tfidf_classfeats_h(alpha_pos, \"four_gram_tag_pos\")"
   ]
  },
  {
   "cell_type": "markdown",
   "metadata": {},
   "source": [
    "<h3>Building of bag of tag and feature vectors</h3>"
   ]
  },
  {
   "cell_type": "code",
   "execution_count": 422,
   "metadata": {},
   "outputs": [],
   "source": [
    "#build_bag_a(2,'token_pos')[0].head()"
   ]
  },
  {
   "cell_type": "markdown",
   "metadata": {},
   "source": [
    "<h2>Positivity/Negativity</h2>"
   ]
  },
  {
   "cell_type": "markdown",
   "metadata": {},
   "source": [
    "<h4>Weighted sentiment analysis using Vader</h4>\n",
    "Vader contains a list of 7500 features weighted by how positive or negative they are</h4>\n",
    "<br>It uses these features to calculate stats on how positive, negative and neutral a passage is<br>\n",
    "<br>And combines these results to give a compound sentiment (higher = more positive) for the passage<br>\n",
    "<br>Human trained on twitter data and generally considered good for informal communication<br>\n",
    "<br>10 humans rated each feature in each tweet in context from -4 to +4</h4>\n",
    "<br>Calculates the sentiment in a sentence using word order analysis</h4>\n",
    "<br>\"marginally good\" will get a lower positive score than \"extremely good\"\n",
    "<br>Computes a \"compound\" score based on heuristics (between -1 and +1)</h4>\n",
    "<br>Includes sentiment of emoticons, punctuation, and other 'social media' lexicon elements<br>"
   ]
  },
  {
   "cell_type": "code",
   "execution_count": 423,
   "metadata": {},
   "outputs": [],
   "source": [
    "def vader_comparison(texts):\n",
    "    headers = ['pos','neg','neu','compound']\n",
    "    analyzer = SentimentIntensityAnalyzer()\n",
    "    sentences = sent_tokenize(texts)\n",
    "    pos = compound = neu = neg = 0\n",
    "    num_sentences = len(sentences)\n",
    "    for sentence in sentences:\n",
    "        vs = analyzer.polarity_scores(sentence)\n",
    "        pos += vs['pos'] / num_sentences\n",
    "        compound += vs['compound'] / num_sentences\n",
    "        neu += vs['neu'] / num_sentences\n",
    "        neg += vs['neg'] / num_sentences\n",
    "    return pos, neg, neu, compound\n",
    "\n",
    "def density_positive(var):\n",
    "    return vader_comparison(var)[0]\n",
    "\n",
    "def density_negative(var):\n",
    "    return vader_comparison(var)[1]\n",
    "\n",
    "def density_neutral(var):\n",
    "    return vader_comparison(var)[2]\n",
    "\n",
    "def density_compound(var):\n",
    "    return vader_comparison(var)[3]"
   ]
  },
  {
   "cell_type": "code",
   "execution_count": 424,
   "metadata": {},
   "outputs": [],
   "source": [
    "def build_sensi(dataframe):\n",
    "    df_sen = dataframe.copy() #change here to make sense\n",
    "    \n",
    "    df_sen[density_positive.__name__] = df_sen.text.apply(density_positive)\n",
    "    df_sen[density_negative.__name__] = df_sen.text.apply(density_negative)\n",
    "    df_sen[density_neutral.__name__] = df_sen.text.apply(density_neutral)\n",
    "    df_sen[density_compound.__name__] = df_sen.text.apply(density_compound)\n",
    "    \n",
    "    del df_sen['text']\n",
    "    if 'author' in df_sen.columns:\n",
    "        del df_sen['author']\n",
    "    return df_sen\n",
    "\n",
    "#build_sensi(ts1).shape"
   ]
  },
  {
   "cell_type": "code",
   "execution_count": 425,
   "metadata": {},
   "outputs": [
    {
     "data": {
      "text/plain": [
       "'\\ndatatext7 = build_sensi(tr1)\\ndatatext7\\n'"
      ]
     },
     "execution_count": 425,
     "metadata": {},
     "output_type": "execute_result"
    }
   ],
   "source": [
    "'''\n",
    "datatext7 = build_sensi(tr1)\n",
    "datatext7\n",
    "'''"
   ]
  },
  {
   "cell_type": "code",
   "execution_count": 426,
   "metadata": {},
   "outputs": [],
   "source": [
    "#see returns an error because referenced function used by datatext7 dropped the 'author' column\n",
    "\n",
    "# for c in datatext7.columns[3:]:\n",
    "#     plt.style.use('seaborn')\n",
    "#     sns.boxplot(x = 'author', y = c, data = datatext7)\n",
    "#     plt.title('Sensi {}'.format(c))\n",
    "#     plt.savefig('Sensi {}'.format(c))\n",
    "#     plt.show()"
   ]
  },
  {
   "cell_type": "markdown",
   "metadata": {
    "collapsed": true
   },
   "source": [
    "<h2>Fusion of the bunch of features.</h2>"
   ]
  },
  {
   "cell_type": "code",
   "execution_count": 427,
   "metadata": {
    "scrolled": false
   },
   "outputs": [],
   "source": [
    "#we build here the 2 feature datasets (one for TR1, one for TS1)\n",
    "#should be adapted when we'll add features\n",
    "\n",
    "def build_bunch_tr1(dataframe):\n",
    "    list_df_tr = [build_meta2(dataframe),\n",
    "                  build_meta1(dataframe),\n",
    "                  build_sensi(dataframe),\n",
    "                  build_bag_a(1, 'word')[0],\n",
    "                  build_bag_a(2, 'word')[0],\n",
    "                  build_bag_a(3, 'word')[0],\n",
    "                  build_bag_a(1, 'char')[0],\n",
    "                  build_bag_a(2, 'char')[0],\n",
    "                  build_bag_a(3, 'char')[0],\n",
    "                  build_bag_a(4, 'char')[0],\n",
    "                  build_bag_a(5, 'char')[0],\n",
    "                  build_bag_a(6, 'char')[0],\n",
    "                  build_bag_a(7, 'char')[0],\n",
    "                  build_bag_a(1, 'token_pos')[0],\n",
    "                  build_bag_a(2, 'token_pos')[0],\n",
    "                  build_bag_a(3, 'token_pos')[0],\n",
    "                  build_bag_a(4, 'token_pos')[0],\n",
    "                  build_bag_a(5, 'token_pos')[0],\n",
    "                  build_bag_a(6, 'token_pos')[0],\n",
    "                  first_word(dataframe),\n",
    "#                   twofirst_word(dataframe),\n",
    "                  last_word(dataframe),\n",
    "#                   twolast_word(dataframe),\n",
    "                  language(dataframe),\n",
    "                  emotions(dataframe)\n",
    "              ]\n",
    "    bunch = pd.merge(list_df_tr[0], list_df_tr[1])\n",
    "    \n",
    "    for i in range(2, len(list_df_tr)):\n",
    "        alpha = bunch\n",
    "        bunch = pd.merge(alpha, list_df_tr[i], on = 'id')\n",
    "    \n",
    "    return bunch\n",
    "\n",
    "#df_feat_tr1 = build_bunch_tr1(tr1)"
   ]
  },
  {
   "cell_type": "code",
   "execution_count": 428,
   "metadata": {},
   "outputs": [],
   "source": [
    "def build_bunch_ts1(dataframe):\n",
    "    list_df_ts = [build_meta2(dataframe),\n",
    "                  build_meta1(dataframe),\n",
    "                  build_sensi(dataframe),\n",
    "                  build_bag_a(1,'word')[1],\n",
    "                  build_bag_a(2,'word')[1],\n",
    "                  build_bag_a(3,'word')[1],\n",
    "               \n",
    "                  build_bag_a(1,'char')[1],\n",
    "                  build_bag_a(2,'char')[1],\n",
    "                  build_bag_a(3,'char')[1],\n",
    "                  build_bag_a(4,'char')[1],\n",
    "                  build_bag_a(5,'char')[1],\n",
    "                  build_bag_a(6,'char')[1],\n",
    "                  build_bag_a(7,'char')[1],\n",
    "               \n",
    "                  build_bag_a(1, 'token_pos')[1],\n",
    "                  build_bag_a(2, 'token_pos')[1],\n",
    "                  build_bag_a(3, 'token_pos')[1],\n",
    "                  build_bag_a(4, 'token_pos')[1],\n",
    "                  build_bag_a(5, 'token_pos')[1],\n",
    "                  build_bag_a(6, 'token_pos')[1],\n",
    "                  first_word(dataframe),\n",
    "#                   twofirst_word(dataframe),\n",
    "                  last_word(dataframe),\n",
    "#                   twolast_word(dataframe),\n",
    "                  language(dataframe),\n",
    "                  emotions(dataframe)\n",
    "                 ]\n",
    "\n",
    "    bunch = pd.merge(list_df_ts[0], list_df_ts[1])\n",
    "    \n",
    "    for i in range(2, len(list_df_ts)):\n",
    "        print(bunch.shape)\n",
    "        bunch = pd.merge(bunch, list_df_ts[i], on = 'id')\n",
    "    \n",
    "    return bunch\n",
    "#df_feat_ts1 = build_bunch_ts1(ts1)"
   ]
  },
  {
   "cell_type": "code",
   "execution_count": 429,
   "metadata": {},
   "outputs": [],
   "source": [
    "# print ('Shape of df_feat_tr1 Matrix: ', df_feat_tr1.shape)\n",
    "# print ('Amount of Non-Zero occurences: ', np.count_nonzero(df_feat_tr1.values))\n",
    "# print ('sparsity: %.2f%%' % (100.0 * np.count_nonzero(df_feat_tr1.values) /\n",
    "#                                  (df_feat_tr1.shape[0] * df_feat_tr1.shape[1])))\n",
    "# print('')\n",
    "\n",
    "# print ('Shape of df_feat_ts1 Matrix: ', df_feat_ts1.shape)\n",
    "# print ('Amount of Non-Zero occurences: ', np.count_nonzero(df_feat_ts1.values))\n",
    "# print ('sparsity: %.2f%%' % (100.0 * np.count_nonzero(df_feat_ts1.values) /\n",
    "#                                  (df_feat_ts1.shape[0] * df_feat_ts1.shape[1])))"
   ]
  },
  {
   "cell_type": "markdown",
   "metadata": {},
   "source": [
    "<h2>Quantitative parameters transformation</h2>\n",
    "Quantitative parameters were transferred into a numerical vector with min-max normalization\n",
    "from 0 to 1. <br>\n",
    "<br>\n",
    "It is necessary to have normalized vectors before training our dataset to avoid a disequilibrium among the coefficients.\n",
    "\n",
    "http://blog.josephmisiti.com/help-commands-for-doing-machine-learning-in-python"
   ]
  },
  {
   "cell_type": "code",
   "execution_count": 430,
   "metadata": {},
   "outputs": [],
   "source": [
    "def build_normalization(df):\n",
    "    result = df.copy()\n",
    "    for feature_name in list(df)[3:]:\n",
    "        max_value = df[feature_name].max()\n",
    "        min_value = df[feature_name].min()\n",
    "        if max_value != min_value:\n",
    "            result[feature_name] = (df[feature_name] - min_value) / (max_value - min_value)\n",
    "    return result\n",
    "#build_normalization(df_feat_ts1).head()\n",
    "\n",
    "#df_feat_ts1"
   ]
  },
  {
   "cell_type": "markdown",
   "metadata": {},
   "source": [
    "So now, we have the normalized features matrix. "
   ]
  },
  {
   "cell_type": "markdown",
   "metadata": {},
   "source": [
    "<h1>Prediction: Selection of best set of feature selection technique and prediction model </h1>"
   ]
  },
  {
   "cell_type": "markdown",
   "metadata": {},
   "source": [
    "<h2>Load and prepare data</h2>"
   ]
  },
  {
   "cell_type": "code",
   "execution_count": 431,
   "metadata": {},
   "outputs": [
    {
     "name": "stderr",
     "output_type": "stream",
     "text": [
      "/home/pcamizrahi/.local/lib/python3.5/site-packages/pandas/core/indexing.py:194: SettingWithCopyWarning: \n",
      "A value is trying to be set on a copy of a slice from a DataFrame\n",
      "\n",
      "See the caveats in the documentation: http://pandas.pydata.org/pandas-docs/stable/indexing.html#indexing-view-versus-copy\n",
      "  self._setitem_with_indexer(indexer, value)\n"
     ]
    },
    {
     "name": "stdout",
     "output_type": "stream",
     "text": [
      "(50, 25)\n",
      "(50, 29)\n",
      "(50, 173)\n",
      "(50, 323)\n",
      "(50, 473)\n",
      "(50, 508)\n",
      "(50, 593)\n",
      "(50, 728)\n",
      "(50, 872)\n",
      "(50, 1022)\n",
      "(50, 1172)\n",
      "(50, 1322)\n",
      "(50, 1359)\n",
      "(50, 1436)\n",
      "(50, 1546)\n",
      "(50, 1675)\n",
      "(50, 1813)\n",
      "(50, 1963)\n",
      "(50, 1992)\n",
      "(50, 2006)\n",
      "(50, 2030)\n"
     ]
    }
   ],
   "source": [
    "# load dataset\n",
    "\n",
    "names = author_list\n",
    "dataframe_train = build_normalization(build_bunch_tr1(tr1))\n",
    "dataframe_train.to_csv('dataframe_train')\n",
    "array = dataframe_train.values\n",
    "X_train = array[:,3:]\n",
    "Y_train = array[:,2]\n",
    "\n",
    "names = author_list\n",
    "dataframe_test = build_normalization(build_bunch_ts1(ts1))\n",
    "dataframe_test.to_csv('dataframe_test')\n",
    "array = dataframe_test.values\n",
    "X_test = array[:,3:]\n",
    "Y_test = array[:,2]"
   ]
  },
  {
   "cell_type": "code",
   "execution_count": 432,
   "metadata": {},
   "outputs": [
    {
     "data": {
      "text/plain": [
       "'\\nprint(np.shape(X_train))\\nprint(np.shape(X_test))\\n'"
      ]
     },
     "execution_count": 432,
     "metadata": {},
     "output_type": "execute_result"
    }
   ],
   "source": [
    "'''\n",
    "print(np.shape(X_train))\n",
    "print(np.shape(X_test))\n",
    "'''"
   ]
  },
  {
   "cell_type": "markdown",
   "metadata": {},
   "source": [
    "<h2>Feature Selection</h2><br>\n",
    "See:http://scikit-learn.org/stable/modules/feature_selection.html <br><br>\n",
    "Feature selection is a process where you automatically select those features in your data that contribute most to the prediction variable or output in which you are interested.<br>\n",
    "<br>\n",
    "Having irrelevant features in your data can decrease the accuracy of many models, especially linear algorithms like linear and logistic regression.<br>\n",
    "<br>\n",
    "Three benefits of performing feature selection before modeling your data are:<br>\n",
    "<br>\n",
    "- <b>Reduces Overfitting:</b> Less redundant data means less opportunity to make decisions based on noise.<br>\n",
    "    <br>\n",
    "- <b>Improves Accuracy:</b> Less misleading data means modeling accuracy improves.<br>\n",
    "    <br>\n",
    "- <b>Reduces Training Time:</b> Less data means that algorithms train faster.\n",
    "<br><br>I will not follow the paper here but rather I'll follow the following website: <br>\n",
    "\n",
    "https://machinelearningmastery.com/feature-selection-machine-learning-python/ <br>\n",
    "see also: https://www.analyticsvidhya.com/blog/2016/12/introduction-to-feature-selection-methods-with-an-example-or-how-to-select-the-right-variables/"
   ]
  },
  {
   "cell_type": "markdown",
   "metadata": {},
   "source": [
    "So, here we will try a bunch of different methods:<br>\n",
    "- Univariate feature selection\n",
    "- Recursive feature elimination\n",
    "- L1-based feature selection\n",
    "- Tree-based feature selection\n"
   ]
  },
  {
   "cell_type": "markdown",
   "metadata": {},
   "source": [
    "<h3>Number of selected features</h3>"
   ]
  },
  {
   "cell_type": "markdown",
   "metadata": {},
   "source": [
    "<h4>Current number of features</h4>"
   ]
  },
  {
   "cell_type": "code",
   "execution_count": 433,
   "metadata": {},
   "outputs": [
    {
     "name": "stdout",
     "output_type": "stream",
     "text": [
      "We have 2037 features in total.\n"
     ]
    }
   ],
   "source": [
    "print('We have ' + str(np.shape(X_train)[1]) + ' features in total.')"
   ]
  },
  {
   "cell_type": "markdown",
   "metadata": {},
   "source": [
    "<h4>Reduction of  number of feaures</h4>\n",
    "The common possibilities are 10,20, quarter and half of total number of samples. <br>\n",
    "<br>\n",
    "For now, we only explore with quarter, tbd for the others."
   ]
  },
  {
   "cell_type": "code",
   "execution_count": 434,
   "metadata": {},
   "outputs": [
    {
     "name": "stdout",
     "output_type": "stream",
     "text": [
      "We want to test our models with [10, 20, 509, 1018] features extracted from the 2037 previous features\n"
     ]
    }
   ],
   "source": [
    "list_N = [10, 20, int(np.shape(X_train)[1]/4), int(np.shape(X_train)[1]/2)]\n",
    "\n",
    "print('We want to test our models with ' + str(list_N) + ' features extracted from the ' + str(np.shape(X_train)[1]) + ' previous features')"
   ]
  },
  {
   "cell_type": "markdown",
   "metadata": {},
   "source": [
    "<h3>Univariate feature selection</h3>"
   ]
  },
  {
   "cell_type": "code",
   "execution_count": 435,
   "metadata": {},
   "outputs": [],
   "source": [
    "def sel_univ(N):\n",
    "    return SelectKBest(chi2, k=N)"
   ]
  },
  {
   "cell_type": "markdown",
   "metadata": {},
   "source": [
    "<h3>Recursive feature elimination</h3>"
   ]
  },
  {
   "cell_type": "code",
   "execution_count": 436,
   "metadata": {},
   "outputs": [],
   "source": [
    "def sel_rec(N):\n",
    "    model_rec = LogisticRegression()\n",
    "    return RFE(model_rec, N)"
   ]
  },
  {
   "cell_type": "markdown",
   "metadata": {},
   "source": [
    "<h3>Principal Component Analysis</h3>\n"
   ]
  },
  {
   "cell_type": "code",
   "execution_count": 437,
   "metadata": {},
   "outputs": [],
   "source": [
    "def sel_pca(N):\n",
    "    return PCA(n_components=N)"
   ]
  },
  {
   "cell_type": "markdown",
   "metadata": {},
   "source": [
    "<h3>Summary</h3>"
   ]
  },
  {
   "cell_type": "code",
   "execution_count": 438,
   "metadata": {},
   "outputs": [],
   "source": [
    "def build_selec(N):\n",
    "    selectioners = []  \n",
    "    selectioners.append(('S_UNIV_{}'.format(N), sel_univ(N)))\n",
    "    #selectioners.append(('S_REC_{}'.format(N), sel_rec(N)))\n",
    "    #selectioners.append(('S_PCA_{}'.format(N), sel_pca(N)))\n",
    "    return selectioners"
   ]
  },
  {
   "cell_type": "markdown",
   "metadata": {},
   "source": [
    "<h2>Predictive Models</h2><br>\n",
    "So here we will try this bunch of feature models:\n",
    "\n",
    "- LogisticRegression\n",
    "- LinearDiscriminantAnalysis\n",
    "- KNeighborsClassifier\n",
    "- DecisionTreeClassifier\n",
    "- GaussianNB\n",
    "- SVC\n",
    "- GradientBoostingClassifier\n",
    "- AdaBoostClassifier\n",
    "- ExtraTreesClassifier\n",
    "- RandomForestClassifier\n"
   ]
  },
  {
   "cell_type": "code",
   "execution_count": 439,
   "metadata": {},
   "outputs": [],
   "source": [
    "def build_models(N):\n",
    "    models = []\n",
    "    models.append(('LR', LogisticRegression()))\n",
    "    #models.append(('LDA', LinearDiscriminantAnalysis()))\n",
    "    models.append(('KNN', KNeighborsClassifier()))\n",
    "    models.append(('CART', DecisionTreeClassifier()))\n",
    "    models.append(('NB', GaussianNB()))\n",
    "    #models.append(('SVM', SVC()))\n",
    "    models.append(('GBC', GradientBoostingClassifier()))\n",
    "    models.append(('ABC', AdaBoostClassifier()))\n",
    "    models.append(('ETC', ExtraTreesClassifier()))\n",
    "    models.append(('RFC', RandomForestClassifier()))\n",
    "    models.append(('MultiNB', MultinomialNB(alpha=0.03)))\n",
    "    models.append(('Calibrated MultiNB', CalibratedClassifierCV( MultinomialNB(alpha=0.03), method='isotonic')))\n",
    "    models.append(('Calibrated BernoulliNB', CalibratedClassifierCV( BernoulliNB(alpha=0.03), method='isotonic')))\n",
    "    models.append(('Calibrated Huber', CalibratedClassifierCV(SGDClassifier(loss='modified_huber', alpha=1e-4, max_iter=10000, tol=1e-4), method='sigmoid')))\n",
    "    return models"
   ]
  },
  {
   "cell_type": "markdown",
   "metadata": {},
   "source": [
    "<h2>Pipeline</h2><br>"
   ]
  },
  {
   "cell_type": "markdown",
   "metadata": {},
   "source": [
    "Pipeline can be used to chain multiple estimators into one. This is useful as there is often a fixed sequence of steps in processing the data, for example feature selection, normalization and classification. Pipeline serves two purposes here:<br>\n",
    "- Convenience and Encapsulation<br>\n",
    "        You only have to call fit and predict once on your data to fit a whole sequence of estimators.\n",
    "- Joint parameter selection<br>\n",
    "        You can grid search over parameters of all estimators in the pipeline at once.\n",
    "- Safety<br>\n",
    "        Pipelines help avoid leaking statistics from your test data into the trained model in cross-validation, by ensuring that the same samples are used to train the transformers and predictors.\n",
    "All estimators in a pipeline, except the last one, must be transformers (i.e. must have a transform method). The last estimator may be any type (transformer, classifier, etc.)."
   ]
  },
  {
   "cell_type": "code",
   "execution_count": 440,
   "metadata": {},
   "outputs": [],
   "source": [
    "def build_pipes(N):\n",
    "    pipes = []\n",
    "    for sel in build_selec(N):\n",
    "        for mod in build_models(N):\n",
    "            pipes.append([sel, mod])\n",
    "    return pipes"
   ]
  },
  {
   "cell_type": "markdown",
   "metadata": {},
   "source": [
    "<h2>Compare set of selection and predictive models</h2>\n",
    "<br>\n"
   ]
  },
  {
   "cell_type": "markdown",
   "metadata": {
    "collapsed": true
   },
   "source": [
    "Here, we do ten times :<br>\n",
    "- First we train over 9/10 of the training set (TR1)\n",
    "- We test over the 1/10 remaining of the training set (TR1)<br>\n",
    "<br>\n",
    "But here we have a problem. Actually, the metric we need to mesure the models is 'neg_log_loss', because it is the one used by Kaggle. But it doesn't work and we don't know why. So, the metric used is accuracy. <br>\n",
    "<br>\n",
    "Then, we will take the 10 best models:<br>\n",
    "- We train over the whole train set(TR1)\n",
    "- We test over the whole test set (TS1)\n",
    "- we mesure the best with the neg_log_loss metric (here it's working)<br>\n",
    "Here the goal is to select the best with the Kaggle metric, but also we want to check if there is or not overfitting. "
   ]
  },
  {
   "cell_type": "code",
   "execution_count": 444,
   "metadata": {},
   "outputs": [
    {
     "data": {
      "text/plain": [
       "\"\\n    # boxplot algorithm comparison\\n    fig = plt.figure()\\n    fig.suptitle('Algorithm Comparison when N = {}'.format(n))\\n    ax = fig.add_subplot(111)\\n    plt.boxplot(results_plot)\\n    ax.set_xticklabels(names_model, rotation='vertical')\\n    plt.show()\\n    results_plot = []\\n    \\n\""
      ]
     },
     "execution_count": 444,
     "metadata": {},
     "output_type": "execute_result"
    }
   ],
   "source": [
    "def eval_N(n):\n",
    "    print('Go N')\n",
    "    \n",
    "    pipes = build_pipes(n)\n",
    "    \n",
    "    # evaluate each model in turn\n",
    "    results = []\n",
    "    names_model = []\n",
    "    results_mean_var = []\n",
    "    results_plot = []\n",
    "    seed = 7\n",
    "    count = 0\n",
    "\n",
    "    for feat, model in pipes:\n",
    "        intermediate_time = datetime.now()\n",
    "        count +=1\n",
    "        kfold = model_selection.KFold(n_splits=10, random_state=seed)\n",
    "        pipeline = Pipeline([feat, model])\n",
    "        #scorer = make_scorer((metrics.log_loss), labels = [0, 1 , 2])\n",
    "        scorer = 'neg_log_loss'\n",
    "        cv_results = model_selection.cross_val_score(pipeline,\n",
    "                                                     X_train,\n",
    "                                                     Y_train,\n",
    "                                                     cv=kfold,\n",
    "                                                     scoring = scorer)\n",
    "        results.append(cv_results)\n",
    "        results_mean_var.append((feat[0] + ' ' + model[0], cv_results.mean(), cv_results.var(), cv_results.mean()-0.5*cv_results.std()))\n",
    "        results_plot.append(cv_results)\n",
    "        names_model.append(feat[0] + ' ' + model[0])\n",
    "        msg = \"%s: Mean=%f Stand Dev=(%f)\" % ('Selector: ' + feat[0] + ' Predictive model: ' + model[0], cv_results.mean(), cv_results.std())\n",
    "        print(msg)\n",
    "        print('Running time: {}'.format(datetime.now() - start_time))\n",
    "        print('Intermediate time: {}'.format(datetime.now() - intermediate_time))\n",
    "    return (results, results_mean_var)\n",
    "\n",
    "'''\n",
    "    # boxplot algorithm comparison\n",
    "    fig = plt.figure()\n",
    "    fig.suptitle('Algorithm Comparison when N = {}'.format(n))\n",
    "    ax = fig.add_subplot(111)\n",
    "    plt.boxplot(results_plot)\n",
    "    ax.set_xticklabels(names_model, rotation='vertical')\n",
    "    plt.show()\n",
    "    results_plot = []\n",
    "    \n",
    "'''\n"
   ]
  },
  {
   "cell_type": "code",
   "execution_count": 445,
   "metadata": {},
   "outputs": [],
   "source": [
    "#eval_N(10)"
   ]
  },
  {
   "cell_type": "code",
   "execution_count": 446,
   "metadata": {
    "scrolled": false
   },
   "outputs": [
    {
     "name": "stdout",
     "output_type": "stream",
     "text": [
      "Go N\n",
      "Go N\n"
     ]
    },
    {
     "name": "stderr",
     "output_type": "stream",
     "text": [
      "/home/pcamizrahi/.local/lib/python3.5/site-packages/sklearn/externals/joblib/parallel.py:547: UserWarning: Multiprocessing-backed parallel loops cannot be nested below threads, setting n_jobs=1\n",
      "  **self._backend_args)\n",
      "/home/pcamizrahi/.local/lib/python3.5/site-packages/sklearn/externals/joblib/parallel.py:547: UserWarning: Multiprocessing-backed parallel loops cannot be nested below threads, setting n_jobs=1\n",
      "  **self._backend_args)\n"
     ]
    },
    {
     "name": "stdout",
     "output_type": "stream",
     "text": [
      "Selector: S_UNIV_10 Predictive model: LR: Mean=-1.111644 Stand Dev=(0.064983)\n",
      "Running time: 0:07:08.824121\n",
      "Intermediate time: 0:00:01.258172\n",
      "Selector: S_UNIV_20 Predictive model: LR: Mean=-1.096635 Stand Dev=(0.067123)\n",
      "Running time: 0:07:08.831680\n",
      "Intermediate time: 0:00:01.267381\n"
     ]
    },
    {
     "name": "stderr",
     "output_type": "stream",
     "text": [
      "/home/pcamizrahi/.local/lib/python3.5/site-packages/sklearn/externals/joblib/parallel.py:547: UserWarning: Multiprocessing-backed parallel loops cannot be nested below threads, setting n_jobs=1\n",
      "  **self._backend_args)\n",
      "/home/pcamizrahi/.local/lib/python3.5/site-packages/sklearn/externals/joblib/parallel.py:547: UserWarning: Multiprocessing-backed parallel loops cannot be nested below threads, setting n_jobs=1\n",
      "  **self._backend_args)\n"
     ]
    },
    {
     "name": "stdout",
     "output_type": "stream",
     "text": [
      "Selector: S_UNIV_10 Predictive model: KNN: Mean=-6.342905 Stand Dev=(3.996404)Selector: S_UNIV_20 Predictive model: KNN: Mean=-6.994092 Stand Dev=(4.898785)\n",
      "\n",
      "Running time: 0:07:10.228377\n",
      "Intermediate time: 0:00:01.396595\n",
      "Running time: 0:07:10.229429\n",
      "Intermediate time: 0:00:01.405208\n"
     ]
    },
    {
     "name": "stderr",
     "output_type": "stream",
     "text": [
      "/home/pcamizrahi/.local/lib/python3.5/site-packages/sklearn/externals/joblib/parallel.py:547: UserWarning: Multiprocessing-backed parallel loops cannot be nested below threads, setting n_jobs=1\n",
      "  **self._backend_args)\n",
      "/home/pcamizrahi/.local/lib/python3.5/site-packages/sklearn/externals/joblib/parallel.py:547: UserWarning: Multiprocessing-backed parallel loops cannot be nested below threads, setting n_jobs=1\n",
      "  **self._backend_args)\n"
     ]
    },
    {
     "name": "stdout",
     "output_type": "stream",
     "text": [
      "Selector: S_UNIV_10 Predictive model: CART: Mean=-7.444897 Stand Dev=(3.856138)\n",
      "Running time: 0:07:11.732260\n",
      "Intermediate time: 0:00:01.502791\n",
      "Selector: S_UNIV_20 Predictive model: CART: Mean=-9.628969 Stand Dev=(4.386814)\n",
      "Running time: 0:07:11.764969\n",
      "Intermediate time: 0:00:01.536533\n"
     ]
    },
    {
     "name": "stderr",
     "output_type": "stream",
     "text": [
      "/home/pcamizrahi/.local/lib/python3.5/site-packages/sklearn/externals/joblib/parallel.py:547: UserWarning: Multiprocessing-backed parallel loops cannot be nested below threads, setting n_jobs=1\n",
      "  **self._backend_args)\n",
      "/home/pcamizrahi/.local/lib/python3.5/site-packages/sklearn/externals/joblib/parallel.py:547: UserWarning: Multiprocessing-backed parallel loops cannot be nested below threads, setting n_jobs=1\n",
      "  **self._backend_args)\n"
     ]
    },
    {
     "name": "stdout",
     "output_type": "stream",
     "text": [
      "Selector: S_UNIV_20 Predictive model: NB: Mean=-16.562031 Stand Dev=(4.961608)\n",
      "Running time: 0:07:13.260064\n",
      "Intermediate time: 0:00:01.495021\n",
      "Selector: S_UNIV_10 Predictive model: NB: Mean=-13.371419 Stand Dev=(4.025391)\n",
      "Running time: 0:07:13.266319\n",
      "Intermediate time: 0:00:01.533995\n"
     ]
    },
    {
     "name": "stderr",
     "output_type": "stream",
     "text": [
      "/home/pcamizrahi/.local/lib/python3.5/site-packages/sklearn/externals/joblib/parallel.py:547: UserWarning: Multiprocessing-backed parallel loops cannot be nested below threads, setting n_jobs=1\n",
      "  **self._backend_args)\n",
      "/home/pcamizrahi/.local/lib/python3.5/site-packages/sklearn/externals/joblib/parallel.py:547: UserWarning: Multiprocessing-backed parallel loops cannot be nested below threads, setting n_jobs=1\n",
      "  **self._backend_args)\n"
     ]
    },
    {
     "name": "stdout",
     "output_type": "stream",
     "text": [
      "Selector: S_UNIV_10 Predictive model: GBC: Mean=-1.546439 Stand Dev=(0.282939)\n",
      "Running time: 0:07:18.911308\n",
      "Intermediate time: 0:00:05.644953\n"
     ]
    },
    {
     "name": "stderr",
     "output_type": "stream",
     "text": [
      "/home/pcamizrahi/.local/lib/python3.5/site-packages/sklearn/externals/joblib/parallel.py:547: UserWarning: Multiprocessing-backed parallel loops cannot be nested below threads, setting n_jobs=1\n",
      "  **self._backend_args)\n"
     ]
    },
    {
     "name": "stdout",
     "output_type": "stream",
     "text": [
      "Selector: S_UNIV_10 Predictive model: ABC: Mean=-1.115104 Stand Dev=(0.060491)\n",
      "Running time: 0:07:20.615503\n",
      "Intermediate time: 0:00:01.704183\n"
     ]
    },
    {
     "name": "stderr",
     "output_type": "stream",
     "text": [
      "/home/pcamizrahi/.local/lib/python3.5/site-packages/sklearn/externals/joblib/parallel.py:547: UserWarning: Multiprocessing-backed parallel loops cannot be nested below threads, setting n_jobs=1\n",
      "  **self._backend_args)\n"
     ]
    },
    {
     "name": "stdout",
     "output_type": "stream",
     "text": [
      "Selector: S_UNIV_20 Predictive model: GBC: Mean=-1.472082 Stand Dev=(0.200958)\n",
      "Running time: 0:07:21.481447\n",
      "Intermediate time: 0:00:08.221685\n",
      "Selector: S_UNIV_10 Predictive model: ETC: Mean=-4.655434 Stand Dev=(2.356219)\n",
      "Running time: 0:07:21.642356\n",
      "Intermediate time: 0:00:01.031247\n"
     ]
    },
    {
     "name": "stderr",
     "output_type": "stream",
     "text": [
      "/home/pcamizrahi/.local/lib/python3.5/site-packages/sklearn/externals/joblib/parallel.py:547: UserWarning: Multiprocessing-backed parallel loops cannot be nested below threads, setting n_jobs=1\n",
      "  **self._backend_args)\n",
      "/home/pcamizrahi/.local/lib/python3.5/site-packages/sklearn/externals/joblib/parallel.py:547: UserWarning: Multiprocessing-backed parallel loops cannot be nested below threads, setting n_jobs=1\n",
      "  **self._backend_args)\n"
     ]
    },
    {
     "name": "stdout",
     "output_type": "stream",
     "text": [
      "Selector: S_UNIV_10 Predictive model: RFC: Mean=-4.223216 Stand Dev=(2.744555)\n",
      "Running time: 0:07:23.135565\n",
      "Intermediate time: 0:00:01.488295\n"
     ]
    },
    {
     "name": "stderr",
     "output_type": "stream",
     "text": [
      "/home/pcamizrahi/.local/lib/python3.5/site-packages/sklearn/externals/joblib/parallel.py:547: UserWarning: Multiprocessing-backed parallel loops cannot be nested below threads, setting n_jobs=1\n",
      "  **self._backend_args)\n"
     ]
    },
    {
     "name": "stdout",
     "output_type": "stream",
     "text": [
      "Selector: S_UNIV_10 Predictive model: MultiNB: Mean=-1.264895 Stand Dev=(0.200783)\n",
      "Running time: 0:07:24.159967\n",
      "Intermediate time: 0:00:01.024406\n"
     ]
    },
    {
     "name": "stderr",
     "output_type": "stream",
     "text": [
      "/home/pcamizrahi/.local/lib/python3.5/site-packages/sklearn/externals/joblib/parallel.py:547: UserWarning: Multiprocessing-backed parallel loops cannot be nested below threads, setting n_jobs=1\n",
      "  **self._backend_args)\n"
     ]
    },
    {
     "name": "stdout",
     "output_type": "stream",
     "text": [
      "Selector: S_UNIV_20 Predictive model: ABC: Mean=-1.152598 Stand Dev=(0.156674)\n",
      "Running time: 0:07:24.667648\n",
      "Intermediate time: 0:00:03.185836\n"
     ]
    },
    {
     "name": "stderr",
     "output_type": "stream",
     "text": [
      "/home/pcamizrahi/.local/lib/python3.5/site-packages/sklearn/externals/joblib/parallel.py:547: UserWarning: Multiprocessing-backed parallel loops cannot be nested below threads, setting n_jobs=1\n",
      "  **self._backend_args)\n"
     ]
    },
    {
     "name": "stdout",
     "output_type": "stream",
     "text": [
      "Selector: S_UNIV_10 Predictive model: Calibrated MultiNB: Mean=-2.278628 Stand Dev=(1.367495)\n",
      "Running time: 0:07:25.565589\n",
      "Intermediate time: 0:00:01.405708\n"
     ]
    },
    {
     "name": "stderr",
     "output_type": "stream",
     "text": [
      "/home/pcamizrahi/.local/lib/python3.5/site-packages/sklearn/externals/joblib/parallel.py:547: UserWarning: Multiprocessing-backed parallel loops cannot be nested below threads, setting n_jobs=1\n",
      "  **self._backend_args)\n"
     ]
    },
    {
     "name": "stdout",
     "output_type": "stream",
     "text": [
      "Selector: S_UNIV_20 Predictive model: ETC: Mean=-5.293471 Stand Dev=(2.285012)\n",
      "Running time: 0:07:26.239478\n",
      "Intermediate time: 0:00:01.572087\n"
     ]
    },
    {
     "name": "stderr",
     "output_type": "stream",
     "text": [
      "/home/pcamizrahi/.local/lib/python3.5/site-packages/sklearn/externals/joblib/parallel.py:547: UserWarning: Multiprocessing-backed parallel loops cannot be nested below threads, setting n_jobs=1\n",
      "  **self._backend_args)\n"
     ]
    },
    {
     "name": "stdout",
     "output_type": "stream",
     "text": [
      "Selector: S_UNIV_10 Predictive model: Calibrated BernoulliNB: Mean=-2.121113 Stand Dev=(1.061894)\n",
      "Running time: 0:07:27.105994\n",
      "Intermediate time: 0:00:01.540243\n"
     ]
    },
    {
     "name": "stderr",
     "output_type": "stream",
     "text": [
      "/home/pcamizrahi/.local/lib/python3.5/site-packages/sklearn/externals/joblib/parallel.py:547: UserWarning: Multiprocessing-backed parallel loops cannot be nested below threads, setting n_jobs=1\n",
      "  **self._backend_args)\n"
     ]
    },
    {
     "name": "stdout",
     "output_type": "stream",
     "text": [
      "Selector: S_UNIV_20 Predictive model: RFC: Mean=-3.818490 Stand Dev=(1.280322)\n",
      "Running time: 0:07:27.832714\n",
      "Intermediate time: 0:00:01.592892\n"
     ]
    },
    {
     "name": "stderr",
     "output_type": "stream",
     "text": [
      "/home/pcamizrahi/.local/lib/python3.5/site-packages/sklearn/externals/joblib/parallel.py:547: UserWarning: Multiprocessing-backed parallel loops cannot be nested below threads, setting n_jobs=1\n",
      "  **self._backend_args)\n"
     ]
    },
    {
     "name": "stdout",
     "output_type": "stream",
     "text": [
      "Selector: S_UNIV_10 Predictive model: Calibrated Huber: Mean=-1.165312 Stand Dev=(0.102983)\n",
      "Running time: 0:07:28.939843\n",
      "Intermediate time: 0:00:01.833807\n",
      "Selector: S_UNIV_20 Predictive model: MultiNB: Mean=-1.320607 Stand Dev=(0.296704)\n",
      "Running time: 0:07:28.963253\n",
      "Intermediate time: 0:00:01.130460\n"
     ]
    },
    {
     "name": "stderr",
     "output_type": "stream",
     "text": [
      "/home/pcamizrahi/.local/lib/python3.5/site-packages/sklearn/externals/joblib/parallel.py:547: UserWarning: Multiprocessing-backed parallel loops cannot be nested below threads, setting n_jobs=1\n",
      "  **self._backend_args)\n"
     ]
    },
    {
     "name": "stdout",
     "output_type": "stream",
     "text": [
      "Selector: S_UNIV_20 Predictive model: Calibrated MultiNB: Mean=-2.890361 Stand Dev=(1.597913)\n",
      "Running time: 0:07:29.740932\n",
      "Intermediate time: 0:00:00.777654\n"
     ]
    },
    {
     "name": "stderr",
     "output_type": "stream",
     "text": [
      "/home/pcamizrahi/.local/lib/python3.5/site-packages/sklearn/externals/joblib/parallel.py:547: UserWarning: Multiprocessing-backed parallel loops cannot be nested below threads, setting n_jobs=1\n",
      "  **self._backend_args)\n"
     ]
    },
    {
     "name": "stdout",
     "output_type": "stream",
     "text": [
      "Selector: S_UNIV_20 Predictive model: Calibrated BernoulliNB: Mean=-2.140242 Stand Dev=(1.133985)\n",
      "Running time: 0:07:30.500431\n",
      "Intermediate time: 0:00:00.759490\n"
     ]
    },
    {
     "name": "stderr",
     "output_type": "stream",
     "text": [
      "/home/pcamizrahi/.local/lib/python3.5/site-packages/sklearn/externals/joblib/parallel.py:547: UserWarning: Multiprocessing-backed parallel loops cannot be nested below threads, setting n_jobs=1\n",
      "  **self._backend_args)\n"
     ]
    },
    {
     "name": "stdout",
     "output_type": "stream",
     "text": [
      "Selector: S_UNIV_20 Predictive model: Calibrated Huber: Mean=-1.159548 Stand Dev=(0.144300)\n",
      "Running time: 0:07:31.364415\n",
      "Intermediate time: 0:00:00.863952\n"
     ]
    }
   ],
   "source": [
    "pool = ThreadPool() \n",
    "training_results = pool.map(eval_N, list_N[:2])\n",
    "# x = pool.map_async( eval_N, list_N[0:2] )\n",
    "pool.close()\n",
    "pool.join()"
   ]
  },
  {
   "cell_type": "code",
   "execution_count": 456,
   "metadata": {},
   "outputs": [
    {
     "data": {
      "text/plain": [
       "[('S_UNIV_20 LR',\n",
       "  -1.0966352645296313,\n",
       "  0.0045055301596931404,\n",
       "  -1.1301968875524127),\n",
       " ('S_UNIV_20 KNN',\n",
       "  -6.9940923680398255,\n",
       "  23.998093169168342,\n",
       "  -9.4434848013367212),\n",
       " ('S_UNIV_20 CART',\n",
       "  -9.6289691061340044,\n",
       "  19.244133782920976,\n",
       "  -11.822375918772792),\n",
       " ('S_UNIV_20 NB',\n",
       "  -16.562030657817708,\n",
       "  24.617550878688469,\n",
       "  -19.042834503282343),\n",
       " ('S_UNIV_20 GBC',\n",
       "  -1.4720819580240918,\n",
       "  0.040384238036801433,\n",
       "  -1.5725611076482817),\n",
       " ('S_UNIV_20 ABC',\n",
       "  -1.152597887833839,\n",
       "  0.024546787225679316,\n",
       "  -1.2309349595586605),\n",
       " ('S_UNIV_20 ETC',\n",
       "  -5.293471080919061,\n",
       "  5.2212803926263955,\n",
       "  -6.4359771413653935),\n",
       " ('S_UNIV_20 RFC', -3.8184901103523075, 1.63922482106442, -4.4586511879461463),\n",
       " ('S_UNIV_20 MultiNB',\n",
       "  -1.3206068728433791,\n",
       "  0.088033433476188874,\n",
       "  -1.4689590159659076),\n",
       " ('S_UNIV_20 Calibrated MultiNB',\n",
       "  -2.8903612187942285,\n",
       "  2.5533244958523351,\n",
       "  -3.6893174904155757),\n",
       " ('S_UNIV_20 Calibrated BernoulliNB',\n",
       "  -2.1402416606849828,\n",
       "  1.285921769030776,\n",
       "  -2.707234114124792),\n",
       " ('S_UNIV_20 Calibrated Huber',\n",
       "  -1.1595484659249569,\n",
       "  0.020822507786628856,\n",
       "  -1.2316984967403155)]"
      ]
     },
     "execution_count": 456,
     "metadata": {},
     "output_type": "execute_result"
    }
   ],
   "source": [
    "training_results[1][1]"
   ]
  },
  {
   "cell_type": "markdown",
   "metadata": {},
   "source": [
    "<h2>Selection of selection and predictive models</h2>\n",
    "<br> We take the three best estimators in mean. These will be tested other the 'TS1' test dataset. <br>\n",
    "Really not sure about me for the criterion. Because, the variance is important too. We should think about it. "
   ]
  },
  {
   "cell_type": "code",
   "execution_count": 465,
   "metadata": {},
   "outputs": [
    {
     "name": "stdout",
     "output_type": "stream",
     "text": [
      "10\n"
     ]
    }
   ],
   "source": [
    "def get_and_select_results_mean_var():\n",
    "    list_res = [] #total list of results\n",
    "    selection = [] #top ten in term of average \n",
    "                   #subject to be in the criterion in term of mean\n",
    "    criterion = 0.1 #we reject if the mean is greater than 5%\n",
    "    \n",
    "    \n",
    "    for i in range(len(training_results)):\n",
    "        list_res.extend(training_results[i][1])\n",
    "        \n",
    "    list_res.sort(key=lambda tup: tup[3], reverse = True)\n",
    "    \n",
    "    selection = list_res[:10]\n",
    "\n",
    "    return selection\n",
    "\n",
    "selected_feat_model = get_and_select_results_mean_var()\n",
    "print(len(selected_feat_model))"
   ]
  },
  {
   "cell_type": "markdown",
   "metadata": {},
   "source": [
    "<h1>Testing over the Testing dataset</h1> <br>\n",
    "Now, we have to test the top-10 models over the remaining training set. Our aim is to see how are they are behaviouring over an un-known dataset and select the best. We will also, and it's the most import ensure there is no overfitting. "
   ]
  },
  {
   "cell_type": "markdown",
   "metadata": {},
   "source": [
    "<h2>List of selected</h2>"
   ]
  },
  {
   "cell_type": "code",
   "execution_count": 475,
   "metadata": {},
   "outputs": [],
   "source": [
    "best_pipes = []\n",
    "#print(build_pipes(10)[1][0][0])\n",
    "#print(selected_feat_model[2])\n",
    "for j in range(len(selected_feat_model)):\n",
    "    for n in list_N[:2]:    \n",
    "        for i in range(len(build_pipes(n))):\n",
    "            f = build_pipes(n)[i][0][0] + ' ' + build_pipes(n)[i][1][0]\n",
    "            if f == selected_feat_model[j][0]:\n",
    "                best_pipes.append((f, build_pipes(n)[i]))\n",
    "#print(len(best_pipes))         "
   ]
  },
  {
   "cell_type": "markdown",
   "metadata": {},
   "source": [
    "<h2>Confusion Matrix</h2>"
   ]
  },
  {
   "cell_type": "code",
   "execution_count": 477,
   "metadata": {},
   "outputs": [
    {
     "data": {
      "text/plain": [
       "'\\nclass_names = author_list\\n\\n\\n\\n\\ndef plot_confusion_matrix(cm, classes,\\n                          normalize=False,\\n                          title=\\'Confusion matrix\\',\\n                          cmap=plt.cm.Blues):\\n    \"\"\"\\n    This function prints and plots the confusion matrix.\\n    Normalization can be applied by setting `normalize=True`.\\n    \"\"\"\\n    if normalize:\\n        cm = cm.astype(\\'float\\') / cm.sum(axis=1)[:, np.newaxis]\\n        print(\"Normalized confusion matrix\")\\n    else:\\n        print(\\'Confusion matrix, without normalization\\')\\n\\n    print(cm)\\n\\n    plt.imshow(cm, interpolation=\\'nearest\\', cmap=cmap)\\n    plt.title(title)\\n    plt.colorbar()\\n    tick_marks = np.arange(len(classes))\\n    plt.xticks(tick_marks, classes, rotation=45)\\n    plt.yticks(tick_marks, classes)\\n\\n    fmt = \\'.2f\\' if normalize else \\'d\\'\\n    thresh = cm.max() / 2.\\n    for i, j in itertools.product(range(cm.shape[0]), range(cm.shape[1])):\\n        plt.text(j, i, format(cm[i, j], fmt),\\n                 horizontalalignment=\"center\",\\n                 color=\"white\" if cm[i, j] > thresh else \"black\")\\n\\n    plt.tight_layout()\\n    plt.ylabel(\\'True label\\')\\n    plt.xlabel(\\'Predicted label\\')\\n\\n'"
      ]
     },
     "execution_count": 477,
     "metadata": {},
     "output_type": "execute_result"
    }
   ],
   "source": [
    "# import some data to play with\n",
    "'''\n",
    "class_names = author_list\n",
    "\n",
    "\n",
    "\n",
    "\n",
    "def plot_confusion_matrix(cm, classes,\n",
    "                          normalize=False,\n",
    "                          title='Confusion matrix',\n",
    "                          cmap=plt.cm.Blues):\n",
    "    \"\"\"\n",
    "    This function prints and plots the confusion matrix.\n",
    "    Normalization can be applied by setting `normalize=True`.\n",
    "    \"\"\"\n",
    "    if normalize:\n",
    "        cm = cm.astype('float') / cm.sum(axis=1)[:, np.newaxis]\n",
    "        print(\"Normalized confusion matrix\")\n",
    "    else:\n",
    "        print('Confusion matrix, without normalization')\n",
    "\n",
    "    print(cm)\n",
    "\n",
    "    plt.imshow(cm, interpolation='nearest', cmap=cmap)\n",
    "    plt.title(title)\n",
    "    plt.colorbar()\n",
    "    tick_marks = np.arange(len(classes))\n",
    "    plt.xticks(tick_marks, classes, rotation=45)\n",
    "    plt.yticks(tick_marks, classes)\n",
    "\n",
    "    fmt = '.2f' if normalize else 'd'\n",
    "    thresh = cm.max() / 2.\n",
    "    for i, j in itertools.product(range(cm.shape[0]), range(cm.shape[1])):\n",
    "        plt.text(j, i, format(cm[i, j], fmt),\n",
    "                 horizontalalignment=\"center\",\n",
    "                 color=\"white\" if cm[i, j] > thresh else \"black\")\n",
    "\n",
    "    plt.tight_layout()\n",
    "    plt.ylabel('True label')\n",
    "    plt.xlabel('Predicted label')\n",
    "\n",
    "'''"
   ]
  },
  {
   "cell_type": "code",
   "execution_count": null,
   "metadata": {
    "collapsed": true
   },
   "outputs": [],
   "source": [
    "'''\n",
    "def final_plot_confusion(Y_test, Y_pred):\n",
    "\n",
    "    cm = confusion_matrix(Y_test, Y_pred)\n",
    "\n",
    "    # Plot non-normalized confusion matrix\n",
    "    plt.figure()\n",
    "    plot_confusion_matrix(cm, classes=class_names,\n",
    "                          title='Confusion matrix, without normalization')\n",
    "\n",
    "    # Plot normalized confusion matrix\n",
    "    plt.figure()\n",
    "    plot_confusion_matrix(cm, classes=class_names, normalize=True,\n",
    "                          title='Normalized confusion matrix')\n",
    "\n",
    "    plt.show()\n",
    "'''"
   ]
  },
  {
   "cell_type": "markdown",
   "metadata": {},
   "source": [
    "<h2>Test over Top Pipeline</h2>"
   ]
  },
  {
   "cell_type": "code",
   "execution_count": 478,
   "metadata": {},
   "outputs": [
    {
     "data": {
      "text/plain": [
       "[('S_UNIV_20 ABC', 0.9840140231522666, Pipeline(memory=None,\n",
       "       steps=[('S_UNIV_20', SelectKBest(k=20, score_func=<function chi2 at 0x7f0ca6f17950>)), ('ABC', AdaBoostClassifier(algorithm='SAMME.R', base_estimator=None,\n",
       "            learning_rate=1.0, n_estimators=50, random_state=None))])),\n",
       " ('S_UNIV_20 LR', 1.0044298593696197, Pipeline(memory=None,\n",
       "       steps=[('S_UNIV_20', SelectKBest(k=20, score_func=<function chi2 at 0x7f0ca6f17950>)), ('LR', LogisticRegression(C=1.0, class_weight=None, dual=False, fit_intercept=True,\n",
       "            intercept_scaling=1, max_iter=100, multi_class='ovr', n_jobs=1,\n",
       "            penalty='l2', random_state=None, solver='liblinear', tol=0.0001,\n",
       "            verbose=0, warm_start=False))])),\n",
       " ('S_UNIV_20 Calibrated Huber', 1.0302188663224596, Pipeline(memory=None,\n",
       "       steps=[('S_UNIV_20', SelectKBest(k=20, score_func=<function chi2 at 0x7f0ca6f17950>)), ('Calibrated Huber', CalibratedClassifierCV(base_estimator=SGDClassifier(alpha=0.0001, average=False, class_weight=None, epsilon=0.1,\n",
       "         eta0=0.0, fit_intercept=True, l1_ratio=0.15,\n",
       "         learning_rate='optim...       shuffle=True, tol=0.0001, verbose=0, warm_start=False),\n",
       "              cv=3, method='sigmoid'))])),\n",
       " ('S_UNIV_10 LR', 1.0586238315769065, Pipeline(memory=None,\n",
       "       steps=[('S_UNIV_10', SelectKBest(k=10, score_func=<function chi2 at 0x7f0ca6f17950>)), ('LR', LogisticRegression(C=1.0, class_weight=None, dual=False, fit_intercept=True,\n",
       "            intercept_scaling=1, max_iter=100, multi_class='ovr', n_jobs=1,\n",
       "            penalty='l2', random_state=None, solver='liblinear', tol=0.0001,\n",
       "            verbose=0, warm_start=False))])),\n",
       " ('S_UNIV_10 ABC', 1.0734302943941127, Pipeline(memory=None,\n",
       "       steps=[('S_UNIV_10', SelectKBest(k=10, score_func=<function chi2 at 0x7f0ca6f17950>)), ('ABC', AdaBoostClassifier(algorithm='SAMME.R', base_estimator=None,\n",
       "            learning_rate=1.0, n_estimators=50, random_state=None))])),\n",
       " ('S_UNIV_10 Calibrated Huber', 1.083292406042939, Pipeline(memory=None,\n",
       "       steps=[('S_UNIV_10', SelectKBest(k=10, score_func=<function chi2 at 0x7f0ca6f17950>)), ('Calibrated Huber', CalibratedClassifierCV(base_estimator=SGDClassifier(alpha=0.0001, average=False, class_weight=None, epsilon=0.1,\n",
       "         eta0=0.0, fit_intercept=True, l1_ratio=0.15,\n",
       "         learning_rate='optim...       shuffle=True, tol=0.0001, verbose=0, warm_start=False),\n",
       "              cv=3, method='sigmoid'))])),\n",
       " ('S_UNIV_20 GBC', 1.105240580115155, Pipeline(memory=None,\n",
       "       steps=[('S_UNIV_20', SelectKBest(k=20, score_func=<function chi2 at 0x7f0ca6f17950>)), ('GBC', GradientBoostingClassifier(criterion='friedman_mse', init=None,\n",
       "                learning_rate=0.1, loss='deviance', max_depth=3,\n",
       "                max_features=None, max_leaf_nodes=None,\n",
       "                min_impuri...      presort='auto', random_state=None, subsample=1.0, verbose=0,\n",
       "                warm_start=False))])),\n",
       " ('S_UNIV_10 GBC', 1.1510912789773795, Pipeline(memory=None,\n",
       "       steps=[('S_UNIV_10', SelectKBest(k=10, score_func=<function chi2 at 0x7f0ca6f17950>)), ('GBC', GradientBoostingClassifier(criterion='friedman_mse', init=None,\n",
       "                learning_rate=0.1, loss='deviance', max_depth=3,\n",
       "                max_features=None, max_leaf_nodes=None,\n",
       "                min_impuri...      presort='auto', random_state=None, subsample=1.0, verbose=0,\n",
       "                warm_start=False))])),\n",
       " ('S_UNIV_10 MultiNB', 1.1644247000857062, Pipeline(memory=None,\n",
       "       steps=[('S_UNIV_10', SelectKBest(k=10, score_func=<function chi2 at 0x7f0ca6f17950>)), ('MultiNB', MultinomialNB(alpha=0.03, class_prior=None, fit_prior=True))])),\n",
       " ('S_UNIV_20 MultiNB', 1.184765561890966, Pipeline(memory=None,\n",
       "       steps=[('S_UNIV_20', SelectKBest(k=20, score_func=<function chi2 at 0x7f0ca6f17950>)), ('MultiNB', MultinomialNB(alpha=0.03, class_prior=None, fit_prior=True))]))]"
      ]
     },
     "execution_count": 478,
     "metadata": {},
     "output_type": "execute_result"
    }
   ],
   "source": [
    "log_loss_list = []\n",
    "for i in range(len(best_pipes)):\n",
    "    name = best_pipes[i][0]\n",
    "    pipeline = Pipeline([best_pipes[i][1][0], best_pipes[i][1][1]])\n",
    "    pipeline.fit(X_train, Y_train)\n",
    "    Y_pred = pipeline.predict(X_test)\n",
    "    y_prob_output = pipeline.predict_proba(X_test) #this is what we send to kaggle.\n",
    "    result = log_loss(Y_test, y_prob_output)\n",
    "    log_loss_list.append((name, result, pipeline))\n",
    "\n",
    "    \n",
    "log_loss_list.sort(key=lambda tup: tup[1], reverse = False)\n",
    "#log_loss_list"
   ]
  },
  {
   "cell_type": "code",
   "execution_count": 479,
   "metadata": {
    "scrolled": true
   },
   "outputs": [
    {
     "name": "stdout",
     "output_type": "stream",
     "text": [
      "The best combination Number, Processing, Model is S_UNIV_20 ABC with a log_loss score of 0.984014023152\n"
     ]
    }
   ],
   "source": [
    "winner = log_loss_list[0]\n",
    "'''\n",
    "print('The best combination Number, Processing, Model is ' \n",
    "      + winner[0]\n",
    "     + ' with a log_loss score of '\n",
    "     + str(winner[1]))\n",
    "     \n",
    "'''"
   ]
  },
  {
   "cell_type": "code",
   "execution_count": 483,
   "metadata": {},
   "outputs": [],
   "source": [
    "file = open('selectedModel.txt','w') \n",
    " \n",
    "file.write('The best combination Number, Processing, Model is '\n",
    "           + winner[0]\n",
    "           + ' with a log_loss score of '\n",
    "           + str(winner[1]))\n",
    "\n",
    "file.close() "
   ]
  },
  {
   "cell_type": "markdown",
   "metadata": {},
   "source": [
    "<h2>Confusion Matrix</h2>"
   ]
  },
  {
   "cell_type": "code",
   "execution_count": 484,
   "metadata": {},
   "outputs": [
    {
     "data": {
      "text/plain": [
       "'\\npipeline = winner[2]\\npipeline.fit(X_train, Y_train)\\nY_pred = pipeline.predict(X_test)\\ny_prob_output = pipeline.predict_proba(X_test)  \\nfinal_plot_confusion(Y_test, Y_pred) \\n\\n'"
      ]
     },
     "execution_count": 484,
     "metadata": {},
     "output_type": "execute_result"
    }
   ],
   "source": [
    "'''\n",
    "pipeline = winner[2]\n",
    "pipeline.fit(X_train, Y_train)\n",
    "Y_pred = pipeline.predict(X_test)\n",
    "y_prob_output = pipeline.predict_proba(X_test)  \n",
    "final_plot_confusion(Y_test, Y_pred) \n",
    "\n",
    "'''"
   ]
  },
  {
   "cell_type": "markdown",
   "metadata": {},
   "source": [
    "<h2>Submission to Kaggle</h2>\n",
    "First, we must adapt the features building functions."
   ]
  },
  {
   "cell_type": "markdown",
   "metadata": {},
   "source": [
    "<h3>Loading Test Set</h3>"
   ]
  },
  {
   "cell_type": "code",
   "execution_count": 485,
   "metadata": {},
   "outputs": [],
   "source": [
    "#loading of test dataset\n",
    "test = pd.read_csv(\"test.csv\")\n",
    "\n",
    "test.text= test.text.astype(str)\n",
    "\n",
    "test = test[0:30] #for coding \n",
    "#construction of the feature vectors"
   ]
  },
  {
   "cell_type": "code",
   "execution_count": 486,
   "metadata": {},
   "outputs": [
    {
     "name": "stdout",
     "output_type": "stream",
     "text": [
      "<class 'pandas.core.frame.DataFrame'>\n",
      "RangeIndex: 30 entries, 0 to 29\n",
      "Data columns (total 2 columns):\n",
      "id      30 non-null object\n",
      "text    30 non-null object\n",
      "dtypes: object(2)\n",
      "memory usage: 560.0+ bytes\n"
     ]
    }
   ],
   "source": [
    "test.info()"
   ]
  },
  {
   "cell_type": "markdown",
   "metadata": {},
   "source": [
    "<h3>Adapting building functions</h3>"
   ]
  },
  {
   "cell_type": "code",
   "execution_count": 487,
   "metadata": {},
   "outputs": [],
   "source": [
    "#this function works for n-grams of characters, pos tokens or words\n",
    "\n",
    "#first argument is the n in n-gram\n",
    "#analysis type is 'word', 'char', token_pos', ...\n",
    "\n",
    "def counting_a_final(a, analysis):\n",
    "    \n",
    "    df_train = train.copy()\n",
    "    df_test  = test.copy()\n",
    "    \n",
    "    #if we are counting words:\n",
    "    if analysis == \"word\" or analysis == \"char\": \n",
    "        \n",
    "        #check the CountVectorizer doc\n",
    "        #we create a Countvectorizer, called bow_transformer\n",
    "        bow_transformer = CountVectorizer(analyzer = analysis,\n",
    "                                      lowercase = True, #we don't care about place in sentence\n",
    "                                      ngram_range = (a, a),\n",
    "                                      stop_words='english')\n",
    "\n",
    "        #we use bow_transformer to fit and transform our training set\n",
    "        messages_bow = bow_transformer.fit_transform(df_train['text'])\n",
    "        \n",
    "        #we use bow_transformer to transform our test set. \n",
    "        #We do not need to train if first because the fitting would recompute the idf, we don't want that\n",
    "        messages_bow_test = bow_transformer.transform(df_test['text'])\n",
    "    \n",
    "    #if we are counting POS:    \n",
    "    elif analysis == \"token_pos\":\n",
    "        \n",
    "        #this is the punctuation we want to keep\n",
    "        punctuation = r\"(?u)\\b\\w\\w+\\b|!|\\?|\\\"|\\'|\\.|\\,|\\;|\\:|\\$|\\(|\\)|\\--|\\&|\\``|\\'' + PRP$ + WP$\"\n",
    "        #we create a Countvectorizer, called bow_transformer\n",
    "        bow_transformer = CountVectorizer(analyzer = 'word',\n",
    "                                          lowercase = False, #we DO care about place in sentence\n",
    "                                          ngram_range = (a, a),\n",
    "                                          token_pattern =  punctuation, #we DO care about punctuation\n",
    "                                          stop_words='english')\n",
    "        \n",
    "        #we use the transform_tag function to transform the sentence in a sentence of pos tag        \n",
    "        #we use bow_transformer to fit and transform our training set\n",
    "        messages_bow = bow_transformer.fit_transform(df_train['text'].apply(transform_tag))\n",
    "        #we use bow_transformer to transform our test set\n",
    "        #We do not need to train if first because the fitting would recompute the idf, we don't want that\n",
    "        messages_bow_test = bow_transformer.transform(df_test['text'].apply(transform_tag))\n",
    "\n",
    "        \n",
    "    #this is the DataFrame Concerning the regular counting of words\n",
    "    \n",
    "    ##What does this do?\n",
    "    \"\"\"\n",
    "    messages_tfidf = TfidfTransformer().fit_transform(messages_bow)\n",
    "    messages_tfidf_test = TfidfTransformer().transform(messages_bow_test)\n",
    "    names = bow_transformer.get_feature_names()\n",
    "    \n",
    "    \"\"\"\n",
    "    tfidf_transformer = TfidfTransformer().fit(messages_bow)\n",
    "    messages_tfidf = tfidf_transformer.transform(messages_bow)\n",
    "    messages_tfidf_test = tfidf_transformer.transform(messages_bow_test)\n",
    "    \n",
    "    names = bow_transformer.get_feature_names()\n",
    "     \n",
    "    \n",
    "    \n",
    "    \n",
    "    return (messages_tfidf, names, messages_tfidf_test)\n"
   ]
  },
  {
   "cell_type": "code",
   "execution_count": 488,
   "metadata": {},
   "outputs": [],
   "source": [
    "def build_bag_a_final(a,  analysis, top_n = 50):\n",
    "    df_bag = train.copy()\n",
    "    df_bag_test = test.copy()\n",
    "    \n",
    "    build = counting_a_final(a, analysis)\n",
    "    \n",
    "    alpha = top_feats_by_class(build[0], df_bag.author, build[1], top_n = top_n)\n",
    "\n",
    "    a = list(alpha[0].feature.values)\n",
    "    b = list(alpha[1].feature.values)\n",
    "    c = list(alpha[2].feature.values)\n",
    "    bag = set(a + b + c)\n",
    "\n",
    "\n",
    "    for w in bag:\n",
    "        vec = build[0][:, build[1].index(w)].toarray()\n",
    "        df_bag[w] = vec\n",
    "\n",
    "        vec_test = build[2][:, build[1].index(w)].toarray()\n",
    "        df_bag_test[w] = vec_test\n",
    "        \n",
    "    df_bag = df_bag.drop(labels = ['text','author'], axis = 1)\n",
    "    df_bag_test = df_bag_test.drop(labels = ['text'], axis = 1)\n",
    "\n",
    "        \n",
    "    return df_bag, df_bag_test"
   ]
  },
  {
   "cell_type": "code",
   "execution_count": 489,
   "metadata": {},
   "outputs": [],
   "source": [
    "#we build here the 2 feature datasets (one for train, one for test)\n",
    "#should be adapted when we'll add features\n",
    "\n",
    "def build_bunch_train(dataframe):\n",
    "    list_df_tr = [build_meta2(dataframe),\n",
    "                  build_meta1(dataframe),\n",
    "                  build_sensi(dataframe),\n",
    "                  build_bag_a_final(1,'word')[0],\n",
    "                  build_bag_a_final(2,'word')[0],\n",
    "                  build_bag_a_final(3,'word')[0],\n",
    "                  build_bag_a_final(1,'char')[0],\n",
    "                  build_bag_a_final(2,'char')[0],\n",
    "                  build_bag_a_final(3,'char')[0],\n",
    "                  build_bag_a_final(4,'char')[0],\n",
    "                  build_bag_a_final(5,'char')[0],\n",
    "                  build_bag_a_final(6,'char')[0],\n",
    "                  build_bag_a_final(7,'char')[0],\n",
    "                  build_bag_a_final(1, 'token_pos')[0],\n",
    "                  build_bag_a_final(2, 'token_pos')[0],\n",
    "                  build_bag_a_final(3, 'token_pos')[0],\n",
    "                  build_bag_a_final(4, 'token_pos')[0],\n",
    "                  build_bag_a_final(5, 'token_pos')[0],\n",
    "                  build_bag_a_final(6, 'token_pos')[0],\n",
    "                  first_word(dataframe),\n",
    "#                   twofirst_word(dataframe),\n",
    "                  last_word(dataframe),\n",
    "#                   twolast_word(dataframe),\n",
    "                  language(dataframe),\n",
    "                  emotions(dataframe)\n",
    "              ]\n",
    "    bunch = pd.merge(list_df_tr[0], list_df_tr[1])\n",
    "    \n",
    "    for i in range(2, len(list_df_tr)):\n",
    "        alpha = bunch\n",
    "        bunch = pd.merge(alpha, list_df_tr[i], on = 'id')\n",
    "    \n",
    "    return bunch\n",
    "\n",
    "#build_bunch_train(train)"
   ]
  },
  {
   "cell_type": "code",
   "execution_count": 490,
   "metadata": {},
   "outputs": [],
   "source": [
    "def build_bunch_test(dataframe):\n",
    "    list_df_ts = [build_meta2(dataframe),\n",
    "                  build_meta1(dataframe),\n",
    "                  build_sensi(dataframe),\n",
    "                  build_bag_a_final(1,'word')[1],\n",
    "                  build_bag_a_final(2,'word')[1],\n",
    "                  build_bag_a_final(3,'word')[1],\n",
    "\n",
    "                  build_bag_a_final(1,'char')[1],\n",
    "                  build_bag_a_final(2,'char')[1],\n",
    "                  build_bag_a_final(3,'char')[1],\n",
    "                  build_bag_a_final(4,'char')[1],\n",
    "                  build_bag_a_final(5,'char')[1],\n",
    "                  build_bag_a_final(6,'char')[1],\n",
    "                  build_bag_a_final(7,'char')[1],\n",
    "               \n",
    "                  build_bag_a_final(1, 'token_pos')[1],\n",
    "                  build_bag_a_final(2, 'token_pos')[1],\n",
    "                  build_bag_a_final(3, 'token_pos')[1],\n",
    "                  build_bag_a_final(4, 'token_pos')[1],\n",
    "                  build_bag_a_final(5, 'token_pos')[1],\n",
    "                  build_bag_a_final(6, 'token_pos')[1],\n",
    "                  first_word(dataframe),\n",
    "#                   twofirst_word(dataframe),\n",
    "                  last_word(dataframe),\n",
    "#                   twolast_word(dataframe),\n",
    "                  language(dataframe),\n",
    "                  emotions(dataframe)\n",
    "                 ]\n",
    "\n",
    "\n",
    "    bunch = pd.merge(list_df_ts[0], list_df_ts[1])\n",
    "    \n",
    "    for i in range(2, len(list_df_ts)):\n",
    "        bunch = pd.merge(bunch, list_df_ts[i], on = 'id')\n",
    "    \n",
    "    return bunch\n",
    "\n",
    "#build_bunch_test(test)"
   ]
  },
  {
   "cell_type": "markdown",
   "metadata": {},
   "source": [
    "<h3>Training over all the Training Dataset</h3>"
   ]
  },
  {
   "cell_type": "code",
   "execution_count": 491,
   "metadata": {},
   "outputs": [
    {
     "name": "stderr",
     "output_type": "stream",
     "text": [
      "/home/pcamizrahi/.local/lib/python3.5/site-packages/pandas/core/indexing.py:194: SettingWithCopyWarning: \n",
      "A value is trying to be set on a copy of a slice from a DataFrame\n",
      "\n",
      "See the caveats in the documentation: http://pandas.pydata.org/pandas-docs/stable/indexing.html#indexing-view-versus-copy\n",
      "  self._setitem_with_indexer(indexer, value)\n"
     ]
    }
   ],
   "source": [
    "# load dataset\n",
    "\n",
    "names = author_list\n",
    "dataframe_train = build_normalization(build_bunch_train(train))\n",
    "dataframe_train.to_csv('final_dataframe_train')\n",
    "array = dataframe_train.values\n",
    "X_train = array[:,3:]\n",
    "Y_train = array[:,2]\n",
    "\n",
    "names = author_list\n",
    "dataframe_test = build_normalization(build_bunch_test(test))\n",
    "dataframe_test.to_csv('final_dataframe_train')\n",
    "array = dataframe_test.values\n",
    "X_test = array[:,2:]\n",
    "Y_test = array[:,2]"
   ]
  },
  {
   "cell_type": "code",
   "execution_count": 492,
   "metadata": {},
   "outputs": [
    {
     "name": "stdout",
     "output_type": "stream",
     "text": [
      "(200, 2022)\n",
      "(30, 2022)\n"
     ]
    }
   ],
   "source": [
    "print(np.shape(X_train))\n",
    "print(np.shape(X_test))"
   ]
  },
  {
   "cell_type": "code",
   "execution_count": 493,
   "metadata": {},
   "outputs": [
    {
     "data": {
      "text/plain": [
       "Pipeline(memory=None,\n",
       "     steps=[('S_UNIV_20', SelectKBest(k=20, score_func=<function chi2 at 0x7f0ca6f17950>)), ('ABC', AdaBoostClassifier(algorithm='SAMME.R', base_estimator=None,\n",
       "          learning_rate=1.0, n_estimators=50, random_state=None))])"
      ]
     },
     "execution_count": 493,
     "metadata": {},
     "output_type": "execute_result"
    }
   ],
   "source": [
    "#training\n",
    "pipeline = winner[2]\n",
    "pipeline.fit(X_train, Y_train)"
   ]
  },
  {
   "cell_type": "markdown",
   "metadata": {},
   "source": [
    "<h3>Generating the probabilities</h3>"
   ]
  },
  {
   "cell_type": "code",
   "execution_count": 494,
   "metadata": {},
   "outputs": [],
   "source": [
    "Y_pred = pipeline.predict(X_test)\n",
    "y_prob_output = pipeline.predict_proba(X_test)"
   ]
  },
  {
   "cell_type": "code",
   "execution_count": 495,
   "metadata": {},
   "outputs": [
    {
     "name": "stdout",
     "output_type": "stream",
     "text": [
      "[[ 0.33090334  0.26291219  0.40618447]\n",
      " [ 0.33443487  0.33916229  0.32640284]\n",
      " [ 0.39409565  0.40825635  0.197648  ]\n",
      " [ 0.4254146   0.37432301  0.20026239]\n",
      " [ 0.31367037  0.35367441  0.33265522]\n",
      " [ 0.23440897  0.4809139   0.28467714]\n",
      " [ 0.33504188  0.33329831  0.33165981]\n",
      " [ 0.34701893  0.1677875   0.48519357]\n",
      " [ 0.3965731   0.41613881  0.18728809]\n",
      " [ 0.33504188  0.33329831  0.33165981]\n",
      " [ 0.47137438  0.17685708  0.35176855]\n",
      " [ 0.36479772  0.27327526  0.36192702]\n",
      " [ 0.51569115  0.08503134  0.39927751]\n",
      " [ 0.33504188  0.33329831  0.33165981]\n",
      " [ 0.33504188  0.33329831  0.33165981]\n",
      " [ 0.34116798  0.29330385  0.36552817]\n",
      " [ 0.34110592  0.21562553  0.44326855]\n",
      " [ 0.33504188  0.33329831  0.33165981]\n",
      " [ 0.27567275  0.35709885  0.3672284 ]\n",
      " [ 0.37753757  0.4121849   0.21027753]\n",
      " [ 0.37465441  0.20069657  0.42464903]\n",
      " [ 0.33504188  0.33329831  0.33165981]\n",
      " [ 0.33504188  0.33329831  0.33165981]\n",
      " [ 0.33443487  0.33916229  0.32640284]\n",
      " [ 0.47552003  0.42321657  0.1012634 ]\n",
      " [ 0.34911237  0.2230298   0.42785784]\n",
      " [ 0.33504188  0.33329831  0.33165981]\n",
      " [ 0.3965731   0.41613881  0.18728809]\n",
      " [ 0.39001285  0.20745248  0.40253467]\n",
      " [ 0.39914428  0.11799813  0.48285758]]\n"
     ]
    }
   ],
   "source": [
    "print(y_prob_output)"
   ]
  },
  {
   "cell_type": "markdown",
   "metadata": {},
   "source": [
    "<h3>CSV File</h3>"
   ]
  },
  {
   "cell_type": "code",
   "execution_count": 496,
   "metadata": {},
   "outputs": [
    {
     "data": {
      "text/plain": [
       "array([ 0.33090334,  0.33443487,  0.39409565,  0.4254146 ,  0.31367037,\n",
       "        0.23440897,  0.33504188,  0.34701893,  0.3965731 ,  0.33504188,\n",
       "        0.47137438,  0.36479772,  0.51569115,  0.33504188,  0.33504188,\n",
       "        0.34116798,  0.34110592,  0.33504188,  0.27567275,  0.37753757,\n",
       "        0.37465441,  0.33504188,  0.33504188,  0.33443487,  0.47552003,\n",
       "        0.34911237,  0.33504188,  0.3965731 ,  0.39001285,  0.39914428])"
      ]
     },
     "execution_count": 496,
     "metadata": {},
     "output_type": "execute_result"
    }
   ],
   "source": [
    "y_prob_output[:,0]"
   ]
  },
  {
   "cell_type": "code",
   "execution_count": 497,
   "metadata": {},
   "outputs": [
    {
     "data": {
      "text/html": [
       "<div>\n",
       "<style scoped>\n",
       "    .dataframe tbody tr th:only-of-type {\n",
       "        vertical-align: middle;\n",
       "    }\n",
       "\n",
       "    .dataframe tbody tr th {\n",
       "        vertical-align: top;\n",
       "    }\n",
       "\n",
       "    .dataframe thead th {\n",
       "        text-align: right;\n",
       "    }\n",
       "</style>\n",
       "<table border=\"1\" class=\"dataframe\">\n",
       "  <thead>\n",
       "    <tr style=\"text-align: right;\">\n",
       "      <th></th>\n",
       "      <th>id</th>\n",
       "      <th>EAP</th>\n",
       "      <th>HPL</th>\n",
       "      <th>MWS</th>\n",
       "    </tr>\n",
       "  </thead>\n",
       "  <tbody>\n",
       "    <tr>\n",
       "      <th>0</th>\n",
       "      <td>id02310</td>\n",
       "      <td>0.330903</td>\n",
       "      <td>0.262912</td>\n",
       "      <td>0.406184</td>\n",
       "    </tr>\n",
       "    <tr>\n",
       "      <th>1</th>\n",
       "      <td>id24541</td>\n",
       "      <td>0.334435</td>\n",
       "      <td>0.339162</td>\n",
       "      <td>0.326403</td>\n",
       "    </tr>\n",
       "    <tr>\n",
       "      <th>2</th>\n",
       "      <td>id00134</td>\n",
       "      <td>0.394096</td>\n",
       "      <td>0.408256</td>\n",
       "      <td>0.197648</td>\n",
       "    </tr>\n",
       "    <tr>\n",
       "      <th>3</th>\n",
       "      <td>id27757</td>\n",
       "      <td>0.425415</td>\n",
       "      <td>0.374323</td>\n",
       "      <td>0.200262</td>\n",
       "    </tr>\n",
       "    <tr>\n",
       "      <th>4</th>\n",
       "      <td>id04081</td>\n",
       "      <td>0.313670</td>\n",
       "      <td>0.353674</td>\n",
       "      <td>0.332655</td>\n",
       "    </tr>\n",
       "    <tr>\n",
       "      <th>5</th>\n",
       "      <td>id27337</td>\n",
       "      <td>0.234409</td>\n",
       "      <td>0.480914</td>\n",
       "      <td>0.284677</td>\n",
       "    </tr>\n",
       "    <tr>\n",
       "      <th>6</th>\n",
       "      <td>id24265</td>\n",
       "      <td>0.335042</td>\n",
       "      <td>0.333298</td>\n",
       "      <td>0.331660</td>\n",
       "    </tr>\n",
       "    <tr>\n",
       "      <th>7</th>\n",
       "      <td>id25917</td>\n",
       "      <td>0.347019</td>\n",
       "      <td>0.167788</td>\n",
       "      <td>0.485194</td>\n",
       "    </tr>\n",
       "    <tr>\n",
       "      <th>8</th>\n",
       "      <td>id04951</td>\n",
       "      <td>0.396573</td>\n",
       "      <td>0.416139</td>\n",
       "      <td>0.187288</td>\n",
       "    </tr>\n",
       "    <tr>\n",
       "      <th>9</th>\n",
       "      <td>id14549</td>\n",
       "      <td>0.335042</td>\n",
       "      <td>0.333298</td>\n",
       "      <td>0.331660</td>\n",
       "    </tr>\n",
       "    <tr>\n",
       "      <th>10</th>\n",
       "      <td>id22505</td>\n",
       "      <td>0.471374</td>\n",
       "      <td>0.176857</td>\n",
       "      <td>0.351769</td>\n",
       "    </tr>\n",
       "    <tr>\n",
       "      <th>11</th>\n",
       "      <td>id24002</td>\n",
       "      <td>0.364798</td>\n",
       "      <td>0.273275</td>\n",
       "      <td>0.361927</td>\n",
       "    </tr>\n",
       "    <tr>\n",
       "      <th>12</th>\n",
       "      <td>id18982</td>\n",
       "      <td>0.515691</td>\n",
       "      <td>0.085031</td>\n",
       "      <td>0.399278</td>\n",
       "    </tr>\n",
       "    <tr>\n",
       "      <th>13</th>\n",
       "      <td>id15181</td>\n",
       "      <td>0.335042</td>\n",
       "      <td>0.333298</td>\n",
       "      <td>0.331660</td>\n",
       "    </tr>\n",
       "    <tr>\n",
       "      <th>14</th>\n",
       "      <td>id21888</td>\n",
       "      <td>0.335042</td>\n",
       "      <td>0.333298</td>\n",
       "      <td>0.331660</td>\n",
       "    </tr>\n",
       "    <tr>\n",
       "      <th>15</th>\n",
       "      <td>id12035</td>\n",
       "      <td>0.341168</td>\n",
       "      <td>0.293304</td>\n",
       "      <td>0.365528</td>\n",
       "    </tr>\n",
       "    <tr>\n",
       "      <th>16</th>\n",
       "      <td>id17991</td>\n",
       "      <td>0.341106</td>\n",
       "      <td>0.215626</td>\n",
       "      <td>0.443269</td>\n",
       "    </tr>\n",
       "    <tr>\n",
       "      <th>17</th>\n",
       "      <td>id10707</td>\n",
       "      <td>0.335042</td>\n",
       "      <td>0.333298</td>\n",
       "      <td>0.331660</td>\n",
       "    </tr>\n",
       "    <tr>\n",
       "      <th>18</th>\n",
       "      <td>id07101</td>\n",
       "      <td>0.275673</td>\n",
       "      <td>0.357099</td>\n",
       "      <td>0.367228</td>\n",
       "    </tr>\n",
       "    <tr>\n",
       "      <th>19</th>\n",
       "      <td>id00345</td>\n",
       "      <td>0.377538</td>\n",
       "      <td>0.412185</td>\n",
       "      <td>0.210278</td>\n",
       "    </tr>\n",
       "    <tr>\n",
       "      <th>20</th>\n",
       "      <td>id05912</td>\n",
       "      <td>0.374654</td>\n",
       "      <td>0.200697</td>\n",
       "      <td>0.424649</td>\n",
       "    </tr>\n",
       "    <tr>\n",
       "      <th>21</th>\n",
       "      <td>id13443</td>\n",
       "      <td>0.335042</td>\n",
       "      <td>0.333298</td>\n",
       "      <td>0.331660</td>\n",
       "    </tr>\n",
       "    <tr>\n",
       "      <th>22</th>\n",
       "      <td>id09248</td>\n",
       "      <td>0.335042</td>\n",
       "      <td>0.333298</td>\n",
       "      <td>0.331660</td>\n",
       "    </tr>\n",
       "    <tr>\n",
       "      <th>23</th>\n",
       "      <td>id17542</td>\n",
       "      <td>0.334435</td>\n",
       "      <td>0.339162</td>\n",
       "      <td>0.326403</td>\n",
       "    </tr>\n",
       "    <tr>\n",
       "      <th>24</th>\n",
       "      <td>id06995</td>\n",
       "      <td>0.475520</td>\n",
       "      <td>0.423217</td>\n",
       "      <td>0.101263</td>\n",
       "    </tr>\n",
       "    <tr>\n",
       "      <th>25</th>\n",
       "      <td>id25159</td>\n",
       "      <td>0.349112</td>\n",
       "      <td>0.223030</td>\n",
       "      <td>0.427858</td>\n",
       "    </tr>\n",
       "    <tr>\n",
       "      <th>26</th>\n",
       "      <td>id25729</td>\n",
       "      <td>0.335042</td>\n",
       "      <td>0.333298</td>\n",
       "      <td>0.331660</td>\n",
       "    </tr>\n",
       "    <tr>\n",
       "      <th>27</th>\n",
       "      <td>id26949</td>\n",
       "      <td>0.396573</td>\n",
       "      <td>0.416139</td>\n",
       "      <td>0.187288</td>\n",
       "    </tr>\n",
       "    <tr>\n",
       "      <th>28</th>\n",
       "      <td>id27191</td>\n",
       "      <td>0.390013</td>\n",
       "      <td>0.207452</td>\n",
       "      <td>0.402535</td>\n",
       "    </tr>\n",
       "    <tr>\n",
       "      <th>29</th>\n",
       "      <td>id07668</td>\n",
       "      <td>0.399144</td>\n",
       "      <td>0.117998</td>\n",
       "      <td>0.482858</td>\n",
       "    </tr>\n",
       "  </tbody>\n",
       "</table>\n",
       "</div>"
      ],
      "text/plain": [
       "         id       EAP       HPL       MWS\n",
       "0   id02310  0.330903  0.262912  0.406184\n",
       "1   id24541  0.334435  0.339162  0.326403\n",
       "2   id00134  0.394096  0.408256  0.197648\n",
       "3   id27757  0.425415  0.374323  0.200262\n",
       "4   id04081  0.313670  0.353674  0.332655\n",
       "5   id27337  0.234409  0.480914  0.284677\n",
       "6   id24265  0.335042  0.333298  0.331660\n",
       "7   id25917  0.347019  0.167788  0.485194\n",
       "8   id04951  0.396573  0.416139  0.187288\n",
       "9   id14549  0.335042  0.333298  0.331660\n",
       "10  id22505  0.471374  0.176857  0.351769\n",
       "11  id24002  0.364798  0.273275  0.361927\n",
       "12  id18982  0.515691  0.085031  0.399278\n",
       "13  id15181  0.335042  0.333298  0.331660\n",
       "14  id21888  0.335042  0.333298  0.331660\n",
       "15  id12035  0.341168  0.293304  0.365528\n",
       "16  id17991  0.341106  0.215626  0.443269\n",
       "17  id10707  0.335042  0.333298  0.331660\n",
       "18  id07101  0.275673  0.357099  0.367228\n",
       "19  id00345  0.377538  0.412185  0.210278\n",
       "20  id05912  0.374654  0.200697  0.424649\n",
       "21  id13443  0.335042  0.333298  0.331660\n",
       "22  id09248  0.335042  0.333298  0.331660\n",
       "23  id17542  0.334435  0.339162  0.326403\n",
       "24  id06995  0.475520  0.423217  0.101263\n",
       "25  id25159  0.349112  0.223030  0.427858\n",
       "26  id25729  0.335042  0.333298  0.331660\n",
       "27  id26949  0.396573  0.416139  0.187288\n",
       "28  id27191  0.390013  0.207452  0.402535\n",
       "29  id07668  0.399144  0.117998  0.482858"
      ]
     },
     "execution_count": 497,
     "metadata": {},
     "output_type": "execute_result"
    }
   ],
   "source": [
    "df_submit = pd.DataFrame(columns = ['id',\"EAP\",\"HPL\",\"MWS\"])\n",
    "df_submit['id'] = test['id']\n",
    "df_submit['EAP'] = y_prob_output[:,0]\n",
    "df_submit['HPL'] = y_prob_output[:,1]\n",
    "df_submit['MWS'] = y_prob_output[:,2]\n",
    "df_submit"
   ]
  },
  {
   "cell_type": "code",
   "execution_count": 498,
   "metadata": {},
   "outputs": [],
   "source": [
    "df_submit.to_csv('submission.csv', index=False)"
   ]
  },
  {
   "cell_type": "code",
   "execution_count": 500,
   "metadata": {},
   "outputs": [],
   "source": [
    "end_time = datetime.now()\n",
    "file = open('time.txt','w') \n",
    "file.write('Congratulations, the project is done! It took: ' + str(end_time - start_time))\n",
    " \n",
    "file.close() \n",
    "#print('Congratulations, the project is done! It took: ' + str(end_time - start_time))"
   ]
  },
  {
   "cell_type": "code",
   "execution_count": null,
   "metadata": {},
   "outputs": [],
   "source": []
  },
  {
   "cell_type": "code",
   "execution_count": null,
   "metadata": {},
   "outputs": [],
   "source": []
  },
  {
   "cell_type": "code",
   "execution_count": null,
   "metadata": {},
   "outputs": [],
   "source": []
  }
 ],
 "metadata": {
  "kernelspec": {
   "display_name": "Python 3",
   "language": "python",
   "name": "python3"
  },
  "language_info": {
   "codemirror_mode": {
    "name": "ipython",
    "version": 3
   },
   "file_extension": ".py",
   "mimetype": "text/x-python",
   "name": "python",
   "nbconvert_exporter": "python",
   "pygments_lexer": "ipython3",
   "version": "3.5.2"
  }
 },
 "nbformat": 4,
 "nbformat_minor": 2
}
