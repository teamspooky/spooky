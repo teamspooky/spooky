{
 "cells": [
  {
   "cell_type": "markdown",
   "metadata": {},
   "source": [
    "<h1>Pre-work</h1>\n",
    "\n",
    "On my laptop I can't run the code for the entire dataframe, so it's going to be on the half and we'll have to run it at th library over more powerfull laptop. Unless one of us has a powerful enough laptop. "
   ]
  },
  {
   "cell_type": "code",
   "execution_count": 3,
   "metadata": {},
   "outputs": [],
   "source": [
    "import nltk\n",
    "import numpy as np\n",
    "import pandas as pd\n",
    "import requests\n",
    "import seaborn as sns\n",
    "\n",
    "import matplotlib.pyplot as plt\n",
    "\n",
    "import string\n",
    "\n",
    "from nltk import sent_tokenize,word_tokenize\n",
    "\n",
    "from nltk import FreqDist\n",
    "\n",
    "from wordcloud import WordCloud, STOPWORDS\n",
    "\n",
    "from datetime import datetime\n",
    "\n",
    "from collections import Counter\n",
    "\n",
    "from sklearn.feature_extraction.text import CountVectorizer\n",
    "from sklearn.feature_extraction.text import TfidfTransformer, TfidfVectorizer\n",
    "\n",
    "from vaderSentiment.vaderSentiment import SentimentIntensityAnalyzer\n",
    "\n",
    "start_time = datetime.now()"
   ]
  },
  {
   "cell_type": "markdown",
   "metadata": {},
   "source": [
    "<h2>Processing functions</h2>"
   ]
  },
  {
   "cell_type": "markdown",
   "metadata": {},
   "source": [
    "<h3>Normalization Function</h3>"
   ]
  },
  {
   "cell_type": "markdown",
   "metadata": {},
   "source": [
    "<h4>Normalization over number of words"
   ]
  },
  {
   "cell_type": "code",
   "execution_count": 4,
   "metadata": {
    "collapsed": true
   },
   "outputs": [],
   "source": [
    "def normalization_word(var):\n",
    "    #returns the # of words\n",
    "    words = nltk.Text(word_tokenize(((var))))\n",
    "    return len(words)"
   ]
  },
  {
   "cell_type": "markdown",
   "metadata": {},
   "source": [
    "<h4>Normalization by number of Sentences</h4>"
   ]
  },
  {
   "cell_type": "code",
   "execution_count": 3,
   "metadata": {
    "collapsed": true
   },
   "outputs": [],
   "source": [
    "def normalization_sentence(var):\n",
    "    #returns the # of sentences\n",
    "    sentences = nltk.Text(sent_tokenize(var))\n",
    "    return len(sentences)"
   ]
  },
  {
   "cell_type": "markdown",
   "metadata": {},
   "source": [
    "<h4>Normalization by number of Characters</h4>\n"
   ]
  },
  {
   "cell_type": "code",
   "execution_count": 4,
   "metadata": {
    "collapsed": true
   },
   "outputs": [],
   "source": [
    "def normalization_character(var):\n",
    "    #returns the # of characters\n",
    "    return len(var)"
   ]
  },
  {
   "cell_type": "markdown",
   "metadata": {},
   "source": [
    "<h3>Cleaning Function</h3>"
   ]
  },
  {
   "cell_type": "code",
   "execution_count": 5,
   "metadata": {
    "collapsed": true
   },
   "outputs": [],
   "source": [
    "def cleaning(var): #takes a string, returns a string \n",
    "    plain_string = \"\"\n",
    "    for x in var:\n",
    "        x = x.lower()\n",
    "        if (( 'a' <= x and x <= 'z') or x == ' '):\n",
    "            plain_string += x\n",
    "        elif x == '\\'': #we replace the ' by a space \n",
    "            plain_string += ' '\n",
    "    return plain_string "
   ]
  },
  {
   "cell_type": "markdown",
   "metadata": {},
   "source": [
    "<h3>Creation of the dataframes</h3>"
   ]
  },
  {
   "cell_type": "code",
   "execution_count": 6,
   "metadata": {
    "collapsed": true
   },
   "outputs": [],
   "source": [
    "train = pd.read_csv(\"train.csv\")\n",
    "author_list = ['EAP', 'HPL', 'MWS']\n",
    "train.text= train.text.astype(str)\n",
    "train.author = pd.Categorical(train.author)\n",
    "\n",
    "start_time = datetime.now()\n",
    "\n",
    "train = train[0:100]  #size reduction for coding\n",
    "\n",
    "train_back_up = train.copy()     #back up is used to define the future dataframes"
   ]
  },
  {
   "cell_type": "code",
   "execution_count": 7,
   "metadata": {
    "collapsed": true
   },
   "outputs": [],
   "source": [
    "#this cell is just for coding and testing the functions\n",
    "\n",
    "test = train['text'][0]\n",
    "test2 = train['text'][39] #with \"blabla\"\n",
    "test3 = train['text'][70] #with 2 times \"blabla\"\n"
   ]
  },
  {
   "cell_type": "markdown",
   "metadata": {},
   "source": [
    "<h1>Splitting the training set.</h1>\n",
    "<br>\n",
    "Because we have only two dataset, one for training and the other for the Kaggle test. We need to split our 'Kaggle training' set (called t0) into training (called tr1) (in the sense of the training of our predictive model) and testing set (called ts1) ( in the sense of testing our models, and not be tested by Kaggle ! ). <br>\n",
    "<br>\n",
    "We shall notice we will choose the best classifier only with the TR1 DataSet. Then, we will test this classifier with TS1 to see if we over-fitted over TR1.<br>\n",
    "<br>\n",
    "\n",
    "Once we chose the classifier, checked the over-fitting, we will be able to train a the chosen classifier over TR1 and TS1. And so, we'll be able to predict over the \"Kaggle Test Dataset\" and submit the file. "
   ]
  },
  {
   "cell_type": "code",
   "execution_count": 8,
   "metadata": {
    "collapsed": true
   },
   "outputs": [],
   "source": [
    "t0 = train.copy()"
   ]
  },
  {
   "cell_type": "code",
   "execution_count": 9,
   "metadata": {},
   "outputs": [
    {
     "name": "stdout",
     "output_type": "stream",
     "text": [
      "100\n",
      "75\n",
      "25\n",
      "0.75\n",
      "0.25\n",
      "1.0\n"
     ]
    }
   ],
   "source": [
    "from sklearn.model_selection import train_test_split\n",
    "\n",
    "split_coef = 20/80 #80% for tr1, 20% for ts1   Maybe we'll have to change\n",
    "\n",
    "tr1, ts1 = train_test_split(t0, test_size = split_coef)\n",
    "\n",
    "#we must study further, it's possible to choose parameters... (TBD)\n",
    "\n",
    "print( len(t0))\n",
    "print(len(tr1))\n",
    "print(len(ts1))\n",
    "print(len(tr1)/len(t0))\n",
    "print(len(ts1)/len(t0))\n",
    "print(len(tr1)/len(t0) + len(ts1)/len(t0))"
   ]
  },
  {
   "cell_type": "markdown",
   "metadata": {},
   "source": [
    "<h1>Feature Engineering</h1>"
   ]
  },
  {
   "cell_type": "markdown",
   "metadata": {},
   "source": [
    "<h2>Meta-Data</h2>"
   ]
  },
  {
   "cell_type": "markdown",
   "metadata": {},
   "source": [
    "<h3>Average sentence length (in characters)</h3>"
   ]
  },
  {
   "cell_type": "code",
   "execution_count": 10,
   "metadata": {
    "collapsed": true
   },
   "outputs": [],
   "source": [
    "def length_character(var):#takes string, return int\n",
    "    return len(var)/normalization_sentence(var)"
   ]
  },
  {
   "cell_type": "markdown",
   "metadata": {},
   "source": [
    "<h3>Average sentence length (in words)</h3>"
   ]
  },
  {
   "cell_type": "code",
   "execution_count": 11,
   "metadata": {
    "collapsed": true
   },
   "outputs": [],
   "source": [
    "def length_sentence(var):#takes string, return int\n",
    "    return len(var.split())/normalization_sentence(var)"
   ]
  },
  {
   "cell_type": "markdown",
   "metadata": {
    "collapsed": true
   },
   "source": [
    "<h3>Average characters per word</h3>"
   ]
  },
  {
   "cell_type": "code",
   "execution_count": 12,
   "metadata": {
    "collapsed": true
   },
   "outputs": [],
   "source": [
    "def length_word(var):#takes string, return int\n",
    "    return len(var.split())/normalization_word(var) #only word and not punctuations"
   ]
  },
  {
   "cell_type": "markdown",
   "metadata": {
    "collapsed": true
   },
   "source": [
    "<h3>Punctuation density</h3>\n",
    "Maybe some punctuation of forgot. We should check it."
   ]
  },
  {
   "cell_type": "code",
   "execution_count": 13,
   "metadata": {
    "collapsed": true
   },
   "outputs": [],
   "source": [
    "def density_coma(var):#take a string, a punc, return a ratio\n",
    "    cpunc = 0\n",
    "    for x in var:\n",
    "        if x == ',':\n",
    "            cpunc +=1\n",
    "    return cpunc/normalization_character(var)"
   ]
  },
  {
   "cell_type": "code",
   "execution_count": 14,
   "metadata": {
    "collapsed": true
   },
   "outputs": [],
   "source": [
    "def density_point(var):#take a string, a punc, return a ratio\n",
    "    cpunc = 0\n",
    "    for x in var:\n",
    "        if x == '.':\n",
    "            cpunc +=1\n",
    "    return cpunc/normalization_character(var)"
   ]
  },
  {
   "cell_type": "code",
   "execution_count": 15,
   "metadata": {
    "collapsed": true
   },
   "outputs": [],
   "source": [
    "def density_double_point(var):#take a string, a punc, return a ratio\n",
    "    cpunc = 0\n",
    "    for x in var:\n",
    "        if x == ':':\n",
    "            cpunc +=1\n",
    "    return cpunc/normalization_character(var)"
   ]
  },
  {
   "cell_type": "code",
   "execution_count": 16,
   "metadata": {
    "collapsed": true
   },
   "outputs": [],
   "source": [
    "def density_semi_comma(var):#take a string, a punc, return a ratio\n",
    "    cpunc = 0\n",
    "    for x in var:\n",
    "        if x == ';':\n",
    "            cpunc +=1\n",
    "    return cpunc/normalization_character(var)"
   ]
  },
  {
   "cell_type": "code",
   "execution_count": 17,
   "metadata": {
    "collapsed": true
   },
   "outputs": [],
   "source": [
    "def density_interro(var):#take a string, a punc, return a ratio\n",
    "    cpunc = 0\n",
    "    for x in var:\n",
    "        if x == '?':\n",
    "            cpunc +=1\n",
    "    return cpunc/normalization_character(var)"
   ]
  },
  {
   "cell_type": "code",
   "execution_count": 18,
   "metadata": {
    "collapsed": true
   },
   "outputs": [],
   "source": [
    "def density_expl(var):#take a string, a punc, return a ratio\n",
    "    cpunc = 0\n",
    "    for x in var:\n",
    "        if x == '!':\n",
    "            cpunc +=1\n",
    "    return cpunc/normalization_character(var)"
   ]
  },
  {
   "cell_type": "markdown",
   "metadata": {
    "collapsed": true
   },
   "source": [
    "<h3>Percentage of unique words per sentence</h3>"
   ]
  },
  {
   "cell_type": "code",
   "execution_count": 19,
   "metadata": {
    "collapsed": true
   },
   "outputs": [],
   "source": [
    "def vocabulary_sentence(var):#take string, return int\n",
    "    var = nltk.Text(sent_tokenize(var))\n",
    "    vocabulary_list = []\n",
    "    for c in var:\n",
    "        if normalization_word(c)!= 0:\n",
    "            vacabulary_count_sentence = len({x.lower() for x in word_tokenize(cleaning(c))})\n",
    "            vocabulary_list.append(vacabulary_count_sentence/normalization_word(c))\n",
    "    return np.mean(vocabulary_list)"
   ]
  },
  {
   "cell_type": "markdown",
   "metadata": {
    "collapsed": true
   },
   "source": [
    "<h3>Stopword percentage</h3>"
   ]
  },
  {
   "cell_type": "code",
   "execution_count": 20,
   "metadata": {
    "collapsed": true
   },
   "outputs": [],
   "source": [
    "def density_stopword(var):#take a string, return an integer\n",
    "    cs = 0\n",
    "    for x in nltk.Text(word_tokenize(var)):\n",
    "        if x in STOPWORDS:\n",
    "            cs +=1\n",
    "    return cs/normalization_word(var)"
   ]
  },
  {
   "cell_type": "markdown",
   "metadata": {
    "collapsed": true
   },
   "source": [
    "<h3>Noun Density</h3>"
   ]
  },
  {
   "cell_type": "code",
   "execution_count": 21,
   "metadata": {
    "collapsed": true
   },
   "outputs": [],
   "source": [
    "def density_noun(var):\n",
    "    l = []\n",
    "    for x in nltk.pos_tag(word_tokenize(var)):\n",
    "        if x[1][0:2]=='NN': #all the noun tags start with NN\n",
    "            l.append(x)\n",
    "    return len(l)/normalization_word(var)"
   ]
  },
  {
   "cell_type": "markdown",
   "metadata": {
    "collapsed": true
   },
   "source": [
    "<h3>Verb Density</h3>"
   ]
  },
  {
   "cell_type": "code",
   "execution_count": 22,
   "metadata": {
    "collapsed": true
   },
   "outputs": [],
   "source": [
    "def density_verb(var):\n",
    "    l = []\n",
    "    for x in nltk.pos_tag(word_tokenize(var)):\n",
    "        if x[1][0:2]=='VB': #all the noun tags start with NN\n",
    "            l.append(x)\n",
    "    return len(l)/normalization_word(var)"
   ]
  },
  {
   "cell_type": "markdown",
   "metadata": {
    "collapsed": true
   },
   "source": [
    "<h3>Adjective Density</h3>"
   ]
  },
  {
   "cell_type": "code",
   "execution_count": 23,
   "metadata": {
    "collapsed": true
   },
   "outputs": [],
   "source": [
    "def density_adjective(var):\n",
    "    l = []\n",
    "    for x in nltk.pos_tag(word_tokenize(var)):\n",
    "        if x[1][0:2]=='JJ': #all the noun tags start with NN\n",
    "            l.append(x)\n",
    "    return len(l)/normalization_word(var)"
   ]
  },
  {
   "cell_type": "markdown",
   "metadata": {
    "collapsed": true
   },
   "source": [
    "<h3>Adjective to noun ratio</h3>"
   ]
  },
  {
   "cell_type": "code",
   "execution_count": 24,
   "metadata": {
    "collapsed": true
   },
   "outputs": [],
   "source": [
    " def adjective_to_noun(var):\n",
    "    return (density_adjective(var))/(density_noun(var)+ 0.5) #because of division by 0"
   ]
  },
  {
   "cell_type": "markdown",
   "metadata": {
    "collapsed": true
   },
   "source": [
    "<h3>Building of the Dataframe of Metadata</h3>"
   ]
  },
  {
   "cell_type": "code",
   "execution_count": 25,
   "metadata": {
    "collapsed": true
   },
   "outputs": [],
   "source": [
    "#could be modified if we add meta_data\n",
    "list_meta = [length_character,\n",
    "             length_sentence,\n",
    "             length_word,  \n",
    "             vocabulary_sentence,\n",
    "             density_stopword,\n",
    "             density_noun,\n",
    "             density_verb,\n",
    "             density_adjective,\n",
    "             adjective_to_noun,\n",
    "             density_coma,\n",
    "             density_point,\n",
    "             density_double_point,\n",
    "             density_semi_comma,\n",
    "             density_interro,\n",
    "             density_expl\n",
    "            ]"
   ]
  },
  {
   "cell_type": "code",
   "execution_count": 26,
   "metadata": {
    "collapsed": true
   },
   "outputs": [],
   "source": [
    "def build_meta(dataframe):\n",
    "    df_meta = dataframe.copy()\n",
    "    \n",
    "    for f in list_meta:\n",
    "        df_meta[f.__name__] = df_meta.text.apply(f)\n",
    "        \n",
    "    return df_meta\n",
    "\n",
    "\n",
    "#build_meta(tr1)\n",
    "        "
   ]
  },
  {
   "cell_type": "markdown",
   "metadata": {},
   "source": [
    "<h2>Counting of words (a.k.a bag of words)</h2>\n",
    "\n",
    "Some words about tf_idf: https://buhrmann.github.io/tfidf-analysis.html. <br>\n",
    "Here, we don't detail for each N. I mean we'll run the tf_idf for all the n-grams possible and the we'll take the best features. Our aim is to reduce the size of our dataset (it will be explained further why we should reduce the size. "
   ]
  },
  {
   "cell_type": "markdown",
   "metadata": {},
   "source": [
    "<h3>Generation of the tf_idf counting dataFrame</h3>"
   ]
  },
  {
   "cell_type": "code",
   "execution_count": 27,
   "metadata": {
    "collapsed": true
   },
   "outputs": [],
   "source": [
    "\n",
    "def counting_a(a, analyzer_type, process = None, lowercase = True, token_pattern = None):\n",
    "    \n",
    "    \n",
    "    if token_pattern == None:\n",
    "        bow_transformer = CountVectorizer(analyzer = analyzer_type,\n",
    "                                      lowercase = lowercase,\n",
    "                                      ngram_range = (a, a),\n",
    "                                      stop_words='english')\n",
    "    elif token_pattern == 'token_pos':\n",
    "        bow_transformer = CountVectorizer(analyzer = analyzer_type,\n",
    "                                          lowercase = lowercase,\n",
    "                                          ngram_range = (a, a),\n",
    "                                          token_pattern =  r\"(?u)\\b\\w\\w+\\b|!|\\?|\\\"|\\'|\\.|\\,|\\;|\\:|\\$|\\(|\\)|\\--|\\&|\\``|\\'' + PRP$ + WP$\",\n",
    "                                          stop_words='english')\n",
    "\n",
    "    if process == None: \n",
    "        bow_transformer.fit(tr1['text'])\n",
    "        messages_bow = bow_transformer.transform(tr1['text'])\n",
    "        messages_bow_test = bow_transformer.transform(ts1['text'])  \n",
    "    elif process == 'transform_tag':\n",
    "        bow_transformer.fit(tr1['text'].apply(transform_tag))\n",
    "        messages_bow = bow_transformer.transform(tr1['text'].apply(transform_tag))\n",
    "        messages_bow_test = bow_transformer.transform(ts1['text'].apply(transform_tag))\n",
    "        \n",
    "    #this is the DataFrame Concerning the regular counting of words\n",
    "    tfidf_transformer = TfidfTransformer().fit(messages_bow)\n",
    "    messages_tfidf = tfidf_transformer.transform(messages_bow)\n",
    "    messages_tfidf_test = tfidf_transformer.transform(messages_bow_test)\n",
    "    \n",
    "    names = bow_transformer.get_feature_names()\n",
    "    \n",
    "    return messages_tfidf, names, messages_tfidf_test\n",
    "   \n"
   ]
  },
  {
   "cell_type": "code",
   "execution_count": 28,
   "metadata": {},
   "outputs": [
    {
     "name": "stdout",
     "output_type": "stream",
     "text": [
      "Shape of Sparse Matrix:  (75, 851)\n",
      "Amount of Non-Zero occurences:  851\n",
      "sparsity: 1.33%\n",
      " \n",
      "Shape of Sparse Matrix Test:  (25, 851)\n",
      "Amount of Non-Zero occurences:  1\n",
      "sparsity: 0.00%\n"
     ]
    }
   ],
   "source": [
    "mat_word, name_word, mat_word_test = counting_a(2,'word')\n",
    "\n",
    "print ('Shape of Sparse Matrix: ', mat_word.shape)\n",
    "print ('Amount of Non-Zero occurences: ', mat_word.nnz)\n",
    "print ('sparsity: %.2f%%' % (100.0 * mat_word.nnz /\n",
    "                             (mat_word.shape[0] * mat_word.shape[1])))\n",
    "print(' ')\n",
    "print ('Shape of Sparse Matrix Test: ', mat_word_test.shape)\n",
    "print ('Amount of Non-Zero occurences: ', mat_word_test.nnz)\n",
    "print ('sparsity: %.2f%%' % (100.0 * mat_word_test.nnz /\n",
    "                             (mat_word_test.shape[0] * mat_word_test.shape[1])))"
   ]
  },
  {
   "cell_type": "markdown",
   "metadata": {},
   "source": [
    "As we can see, we get a matrix with <u>roughly a thousand </u>of  features. It's really heavy and we get a sparse matrix. Our goal is now to reduce the size of this matrix by getting the TOP-N features issued from the tf_idf.<br>\n",
    "<br>\n",
    "And we can create so both the matrix of training set. On which the TF_IDF is trained. <br>\n",
    "And the matrix test, which is created with no-fit on it."
   ]
  },
  {
   "cell_type": "markdown",
   "metadata": {},
   "source": [
    "<h3>Reduction of the number of features to N</h3>\n",
    "\n",
    "The next cell will be called all the bag of words part.``"
   ]
  },
  {
   "cell_type": "code",
   "execution_count": 29,
   "metadata": {
    "collapsed": true
   },
   "outputs": [],
   "source": [
    "def top_tfidf_feats(row, features, top_n=25):\n",
    "    ''' Get top n tfidf values in row and return them with their corresponding feature names.'''\n",
    "    topn_ids = np.argsort(row)[::-1][:top_n]\n",
    "    top_feats = [(features[i], row[i]) for i in topn_ids]\n",
    "    df = pd.DataFrame(top_feats)\n",
    "    df.columns = ['feature', 'tfidf']\n",
    "    return df"
   ]
  },
  {
   "cell_type": "code",
   "execution_count": 30,
   "metadata": {
    "collapsed": true
   },
   "outputs": [],
   "source": [
    "def top_feats_in_doc(Xtr, features, row_id, top_n=25):\n",
    "    ''' Top tfidf features in specific document (matrix row) '''\n",
    "    row = np.squeeze(Xtr[row_id].toarray())\n",
    "    return top_tfidf_feats(row, features, top_n)"
   ]
  },
  {
   "cell_type": "code",
   "execution_count": 31,
   "metadata": {
    "collapsed": true
   },
   "outputs": [],
   "source": [
    "def top_mean_feats(Xtr, features, grp_ids=None, min_tfidf=0.1, top_n=25):\n",
    "    ''' Return the top n features that on average are most important amongst documents in rows\n",
    "        indentified by indices in grp_ids. '''\n",
    "    if grp_ids:\n",
    "        D = Xtr[grp_ids].toarray()\n",
    "    else:\n",
    "        D = Xtr.toarray()\n",
    "\n",
    "    D[D < min_tfidf] = 0\n",
    "    tfidf_means = np.mean(D, axis=0)\n",
    "    return top_tfidf_feats(tfidf_means, features, top_n)"
   ]
  },
  {
   "cell_type": "code",
   "execution_count": 32,
   "metadata": {
    "collapsed": true
   },
   "outputs": [],
   "source": [
    "def top_feats_by_class(Xtr, y, features, min_tfidf=0.1, top_n=25):\n",
    "    ''' Return a list of dfs, where each df holds top_n features and their mean tfidf value\n",
    "        calculated across documents with the same class label. '''\n",
    "    dfs = []\n",
    "    labels = np.unique(y)\n",
    "    for label in labels:\n",
    "        ids = np.where(y==label)\n",
    "        feats_df = top_mean_feats(Xtr, features, ids, min_tfidf=min_tfidf, top_n=top_n)\n",
    "        feats_df.label = label\n",
    "        dfs.append(feats_df)\n",
    "    return dfs"
   ]
  },
  {
   "cell_type": "code",
   "execution_count": 33,
   "metadata": {
    "collapsed": true
   },
   "outputs": [],
   "source": [
    "def plot_tfidf_classfeats_h(dfs):\n",
    "    ''' Plot the data frames returned by the function plot_tfidf_classfeats(). '''\n",
    "    fig = plt.figure(figsize=(12, 9), facecolor=\"w\")\n",
    "    x = np.arange(len(dfs[0]))\n",
    "    for i, df in enumerate(dfs):\n",
    "        ax = fig.add_subplot(1, len(dfs), i+1)\n",
    "        ax.spines[\"top\"].set_visible(False)\n",
    "        ax.spines[\"right\"].set_visible(False)\n",
    "        ax.set_frame_on(False)\n",
    "        ax.get_xaxis().tick_bottom()\n",
    "        ax.get_yaxis().tick_left()\n",
    "        ax.set_xlabel(\"Mean Tf-Idf Score\", labelpad=16, fontsize=14)\n",
    "        ax.set_title(\"label = \" + str(df.label), fontsize=16)\n",
    "        ax.ticklabel_format(axis='x', style='sci', scilimits=(-2,2))\n",
    "        ax.barh(x, df.tfidf, align='center', color='#3F5D7D')\n",
    "        ax.set_yticks(x)\n",
    "        ax.set_ylim([-1, x[-1]+1])\n",
    "        yticks = ax.set_yticklabels(df.feature)\n",
    "        plt.subplots_adjust(bottom=0.09, right=0.97, left=0.15, top=0.95, wspace=0.52)\n",
    "    plt.show()"
   ]
  },
  {
   "cell_type": "markdown",
   "metadata": {},
   "source": [
    "<h3>Dimensionnality reduction for bag of words (example for 2-grams)</h3>\n",
    "We reduce by taking the TOP-N per author"
   ]
  },
  {
   "cell_type": "code",
   "execution_count": 34,
   "metadata": {
    "collapsed": true
   },
   "outputs": [],
   "source": [
    "alpha_word = top_feats_by_class(mat_word, tr1.author, name_word)"
   ]
  },
  {
   "cell_type": "code",
   "execution_count": 35,
   "metadata": {},
   "outputs": [
    {
     "data": {
      "image/png": "[encoded data removed]",
      "text/plain": [
       "<matplotlib.figure.Figure at 0x11b5a5940>"
      ]
     },
     "metadata": {},
     "output_type": "display_data"
    }
   ],
   "source": [
    "plot_tfidf_classfeats_h(alpha_word)"
   ]
  },
  {
   "cell_type": "markdown",
   "metadata": {},
   "source": [
    "<h3>Building of bag of word and feature vectors</h3>"
   ]
  },
  {
   "cell_type": "code",
   "execution_count": 36,
   "metadata": {
    "collapsed": true
   },
   "outputs": [],
   "source": [
    "#counting_a(1,'word', process = None, lowercase = True, token_pattern = None)[2]"
   ]
  },
  {
   "cell_type": "code",
   "execution_count": 37,
   "metadata": {
    "collapsed": true
   },
   "outputs": [],
   "source": [
    "def build_bag_a(a,  analyzer_type, process = None, lowercase = True, token_pattern = None):\n",
    "    build = counting_a(a, \n",
    "                     'word', \n",
    "                     process = process, \n",
    "                     lowercase = lowercase, \n",
    "                     token_pattern = token_pattern)\n",
    "    \n",
    "    alpha = top_feats_by_class(build[0], tr1.author, build[1])\n",
    "\n",
    "    a = list(alpha[0].feature.values)\n",
    "    b = list(alpha[1].feature.values)\n",
    "    c = list(alpha[2].feature.values)\n",
    "    bag = set(a + b + c)\n",
    "    df_bag = tr1.copy()\n",
    "    df_bag_test = ts1.copy()\n",
    "\n",
    "    for w in bag:\n",
    "        vec = build[0][:, build[1].index(w)].toarray()\n",
    "        df_bag[w] = vec\n",
    "\n",
    "        vec_test = build[2][:, build[1].index(w)].toarray()\n",
    "        df_bag_test[w] = vec_test\n",
    "        \n",
    "        \n",
    "    return df_bag, df_bag_test"
   ]
  },
  {
   "cell_type": "code",
   "execution_count": 38,
   "metadata": {},
   "outputs": [
    {
     "name": "stdout",
     "output_type": "stream",
     "text": [
      "set()\n"
     ]
    }
   ],
   "source": [
    "print(set(list(build_bag_a(2, 'word')[1]))-set(list(build_bag_a(2, 'word')[0])))\n"
   ]
  },
  {
   "cell_type": "markdown",
   "metadata": {},
   "source": [
    "So, we get the top N-gramms of words. Our problem is the depedency on the topic. We need to produce other features which are less dependant on the topic. There are sereveral possibility. Let's detail: <br>\n",
    "- Stemming<br>\n",
    "- Character Counting<br>\n",
    "- Pos_tagging"
   ]
  },
  {
   "cell_type": "markdown",
   "metadata": {},
   "source": [
    "<h2>Counting of Stem (TBD) (a.k.a bag of character)</h2>\n"
   ]
  },
  {
   "cell_type": "markdown",
   "metadata": {},
   "source": [
    "<h2>Counting of Character (a.k.a bag of character)</h2>\n",
    "\n",
    "Here, we count the use of some caracter, and n-grams of caracter."
   ]
  },
  {
   "cell_type": "markdown",
   "metadata": {
    "collapsed": true
   },
   "source": [
    "<h3>Generation of the tf_idf counting dataFrame</h3>"
   ]
  },
  {
   "cell_type": "code",
   "execution_count": 39,
   "metadata": {},
   "outputs": [
    {
     "name": "stdout",
     "output_type": "stream",
     "text": [
      "Shape of Sparse Matrix:  (75, 776)\n",
      "Amount of Non-Zero occurences:  776\n",
      "sparsity: 1.33%\n",
      " \n",
      "Shape of Sparse Matrix Test:  (25, 776)\n",
      "Amount of Non-Zero occurences:  0\n",
      "sparsity: 0.00%\n"
     ]
    }
   ],
   "source": [
    "mat_char, name_char, mat_char_test = counting_a(3, 'word')\n",
    "\n",
    "print ('Shape of Sparse Matrix: ', mat_char.shape)\n",
    "print ('Amount of Non-Zero occurences: ', mat_char.nnz)\n",
    "print ('sparsity: %.2f%%' % (100.0 * mat_char.nnz /\n",
    "                             (mat_char.shape[0] * mat_char.shape[1])))\n",
    "print(' ')\n",
    "print ('Shape of Sparse Matrix Test: ', mat_char_test.shape)\n",
    "print ('Amount of Non-Zero occurences: ', mat_char_test.nnz)\n",
    "print ('sparsity: %.2f%%' % (100.0 * mat_char_test.nnz /\n",
    "                             (mat_char_test.shape[0] * mat_char_test.shape[1])))"
   ]
  },
  {
   "cell_type": "markdown",
   "metadata": {
    "collapsed": true
   },
   "source": [
    "<h3>Dimensionnality reduction for bag of characters example for 3 gram</h3>\n",
    "We reduce by taking the TOP-N per author"
   ]
  },
  {
   "cell_type": "code",
   "execution_count": 40,
   "metadata": {
    "collapsed": true
   },
   "outputs": [],
   "source": [
    "alpha_char = top_feats_by_class( mat_char, tr1.author, name_char)"
   ]
  },
  {
   "cell_type": "code",
   "execution_count": 41,
   "metadata": {
    "scrolled": true
   },
   "outputs": [
    {
     "data": {
      "image/png": "[encoded data removed]",
      "text/plain": [
       "<matplotlib.figure.Figure at 0x11ae37ef0>"
      ]
     },
     "metadata": {},
     "output_type": "display_data"
    }
   ],
   "source": [
    "plot_tfidf_classfeats_h(alpha_char)"
   ]
  },
  {
   "cell_type": "markdown",
   "metadata": {},
   "source": [
    "Blablablablablabla"
   ]
  },
  {
   "cell_type": "markdown",
   "metadata": {},
   "source": [
    "<h3>Building of bag of character and feature vectors</h3>"
   ]
  },
  {
   "cell_type": "code",
   "execution_count": 42,
   "metadata": {},
   "outputs": [
    {
     "data": {
      "text/html": [
       "<div>\n",
       "<style>\n",
       "    .dataframe thead tr:only-child th {\n",
       "        text-align: right;\n",
       "    }\n",
       "\n",
       "    .dataframe thead th {\n",
       "        text-align: left;\n",
       "    }\n",
       "\n",
       "    .dataframe tbody tr th {\n",
       "        vertical-align: top;\n",
       "    }\n",
       "</style>\n",
       "<table border=\"1\" class=\"dataframe\">\n",
       "  <thead>\n",
       "    <tr style=\"text-align: right;\">\n",
       "      <th></th>\n",
       "      <th>id</th>\n",
       "      <th>text</th>\n",
       "      <th>author</th>\n",
       "      <th>fear jaundiced complexion</th>\n",
       "      <th>abundant provision town</th>\n",
       "      <th>introduction paid visit</th>\n",
       "      <th>rooms sufficiently roomy</th>\n",
       "      <th>fumbling mere mistake</th>\n",
       "      <th>glance fallacy idea</th>\n",
       "      <th>window panes gone</th>\n",
       "      <th>...</th>\n",
       "      <th>branch said legrand</th>\n",
       "      <th>explanation followed equally</th>\n",
       "      <th>lesson understood profited</th>\n",
       "      <th>merrival windsor frequent</th>\n",
       "      <th>silent holding secret</th>\n",
       "      <th>letters introduction paid</th>\n",
       "      <th>hung ribands body</th>\n",
       "      <th>continued plane elipse</th>\n",
       "      <th>stranger learned words</th>\n",
       "      <th>shield sordidness place</th>\n",
       "    </tr>\n",
       "  </thead>\n",
       "  <tbody>\n",
       "    <tr>\n",
       "      <th>10</th>\n",
       "      <td>id16737</td>\n",
       "      <td>He shall find that I can feel my injuries; he ...</td>\n",
       "      <td>MWS</td>\n",
       "      <td>0.0</td>\n",
       "      <td>0.0</td>\n",
       "      <td>0.0</td>\n",
       "      <td>0.0</td>\n",
       "      <td>0.0</td>\n",
       "      <td>0.0</td>\n",
       "      <td>0.0</td>\n",
       "      <td>...</td>\n",
       "      <td>0.0</td>\n",
       "      <td>0.0</td>\n",
       "      <td>0.0</td>\n",
       "      <td>0.0</td>\n",
       "      <td>0.0</td>\n",
       "      <td>0.0</td>\n",
       "      <td>0.0</td>\n",
       "      <td>0.0</td>\n",
       "      <td>0.0</td>\n",
       "      <td>0.0</td>\n",
       "    </tr>\n",
       "    <tr>\n",
       "      <th>39</th>\n",
       "      <td>id19576</td>\n",
       "      <td>\"The present peculiar condition of affairs at ...</td>\n",
       "      <td>EAP</td>\n",
       "      <td>0.0</td>\n",
       "      <td>0.0</td>\n",
       "      <td>0.0</td>\n",
       "      <td>0.0</td>\n",
       "      <td>0.0</td>\n",
       "      <td>0.0</td>\n",
       "      <td>0.0</td>\n",
       "      <td>...</td>\n",
       "      <td>0.0</td>\n",
       "      <td>0.0</td>\n",
       "      <td>0.0</td>\n",
       "      <td>0.0</td>\n",
       "      <td>0.0</td>\n",
       "      <td>0.0</td>\n",
       "      <td>0.0</td>\n",
       "      <td>0.0</td>\n",
       "      <td>0.0</td>\n",
       "      <td>0.0</td>\n",
       "    </tr>\n",
       "    <tr>\n",
       "      <th>88</th>\n",
       "      <td>id27266</td>\n",
       "      <td>I say \"thing\" be it observed for they tell me ...</td>\n",
       "      <td>EAP</td>\n",
       "      <td>0.0</td>\n",
       "      <td>0.0</td>\n",
       "      <td>0.0</td>\n",
       "      <td>0.0</td>\n",
       "      <td>0.0</td>\n",
       "      <td>0.0</td>\n",
       "      <td>0.0</td>\n",
       "      <td>...</td>\n",
       "      <td>0.0</td>\n",
       "      <td>0.0</td>\n",
       "      <td>0.0</td>\n",
       "      <td>0.0</td>\n",
       "      <td>0.0</td>\n",
       "      <td>0.0</td>\n",
       "      <td>0.0</td>\n",
       "      <td>0.0</td>\n",
       "      <td>0.0</td>\n",
       "      <td>0.0</td>\n",
       "    </tr>\n",
       "    <tr>\n",
       "      <th>54</th>\n",
       "      <td>id02164</td>\n",
       "      <td>I pointed to the spot where he had disappeared...</td>\n",
       "      <td>MWS</td>\n",
       "      <td>0.0</td>\n",
       "      <td>0.0</td>\n",
       "      <td>0.0</td>\n",
       "      <td>0.0</td>\n",
       "      <td>0.0</td>\n",
       "      <td>0.0</td>\n",
       "      <td>0.0</td>\n",
       "      <td>...</td>\n",
       "      <td>0.0</td>\n",
       "      <td>0.0</td>\n",
       "      <td>0.0</td>\n",
       "      <td>0.0</td>\n",
       "      <td>0.0</td>\n",
       "      <td>0.0</td>\n",
       "      <td>0.0</td>\n",
       "      <td>0.0</td>\n",
       "      <td>0.0</td>\n",
       "      <td>0.0</td>\n",
       "    </tr>\n",
       "    <tr>\n",
       "      <th>52</th>\n",
       "      <td>id24941</td>\n",
       "      <td>It was useless to provide many things, for we ...</td>\n",
       "      <td>MWS</td>\n",
       "      <td>0.0</td>\n",
       "      <td>0.5</td>\n",
       "      <td>0.0</td>\n",
       "      <td>0.0</td>\n",
       "      <td>0.0</td>\n",
       "      <td>0.0</td>\n",
       "      <td>0.0</td>\n",
       "      <td>...</td>\n",
       "      <td>0.0</td>\n",
       "      <td>0.0</td>\n",
       "      <td>0.0</td>\n",
       "      <td>0.0</td>\n",
       "      <td>0.0</td>\n",
       "      <td>0.0</td>\n",
       "      <td>0.0</td>\n",
       "      <td>0.0</td>\n",
       "      <td>0.0</td>\n",
       "      <td>0.0</td>\n",
       "    </tr>\n",
       "  </tbody>\n",
       "</table>\n",
       "<p>5 rows × 78 columns</p>\n",
       "</div>"
      ],
      "text/plain": [
       "         id                                               text author  \\\n",
       "10  id16737  He shall find that I can feel my injuries; he ...    MWS   \n",
       "39  id19576  \"The present peculiar condition of affairs at ...    EAP   \n",
       "88  id27266  I say \"thing\" be it observed for they tell me ...    EAP   \n",
       "54  id02164  I pointed to the spot where he had disappeared...    MWS   \n",
       "52  id24941  It was useless to provide many things, for we ...    MWS   \n",
       "\n",
       "    fear jaundiced complexion  abundant provision town  \\\n",
       "10                        0.0                      0.0   \n",
       "39                        0.0                      0.0   \n",
       "88                        0.0                      0.0   \n",
       "54                        0.0                      0.0   \n",
       "52                        0.0                      0.5   \n",
       "\n",
       "    introduction paid visit  rooms sufficiently roomy  fumbling mere mistake  \\\n",
       "10                      0.0                       0.0                    0.0   \n",
       "39                      0.0                       0.0                    0.0   \n",
       "88                      0.0                       0.0                    0.0   \n",
       "54                      0.0                       0.0                    0.0   \n",
       "52                      0.0                       0.0                    0.0   \n",
       "\n",
       "    glance fallacy idea  window panes gone           ...             \\\n",
       "10                  0.0                0.0           ...              \n",
       "39                  0.0                0.0           ...              \n",
       "88                  0.0                0.0           ...              \n",
       "54                  0.0                0.0           ...              \n",
       "52                  0.0                0.0           ...              \n",
       "\n",
       "    branch said legrand  explanation followed equally  \\\n",
       "10                  0.0                           0.0   \n",
       "39                  0.0                           0.0   \n",
       "88                  0.0                           0.0   \n",
       "54                  0.0                           0.0   \n",
       "52                  0.0                           0.0   \n",
       "\n",
       "    lesson understood profited  merrival windsor frequent  \\\n",
       "10                         0.0                        0.0   \n",
       "39                         0.0                        0.0   \n",
       "88                         0.0                        0.0   \n",
       "54                         0.0                        0.0   \n",
       "52                         0.0                        0.0   \n",
       "\n",
       "    silent holding secret  letters introduction paid  hung ribands body  \\\n",
       "10                    0.0                        0.0                0.0   \n",
       "39                    0.0                        0.0                0.0   \n",
       "88                    0.0                        0.0                0.0   \n",
       "54                    0.0                        0.0                0.0   \n",
       "52                    0.0                        0.0                0.0   \n",
       "\n",
       "    continued plane elipse  stranger learned words  shield sordidness place  \n",
       "10                     0.0                     0.0                      0.0  \n",
       "39                     0.0                     0.0                      0.0  \n",
       "88                     0.0                     0.0                      0.0  \n",
       "54                     0.0                     0.0                      0.0  \n",
       "52                     0.0                     0.0                      0.0  \n",
       "\n",
       "[5 rows x 78 columns]"
      ]
     },
     "execution_count": 42,
     "metadata": {},
     "output_type": "execute_result"
    }
   ],
   "source": [
    "build_bag_a(3, 'char')[0].head()\n"
   ]
  },
  {
   "cell_type": "markdown",
   "metadata": {
    "collapsed": true
   },
   "source": [
    "<h2>Counting of POS Tag (a.k.a bag of Tag)</h2>\n",
    "\n",
    "Here, we count the use of some caracter, and n-grams of caracter.<br>\n",
    "So we have, some non-topic sensitive features.<br>\n",
    "But we can produce an other type of feature based on the POS_tagging.\n",
    "\n",
    "POS tag features. \n",
    "\n",
    "We will check the occurence of the elements from the Upenn Tagset. <br>"
   ]
  },
  {
   "cell_type": "code",
   "execution_count": 43,
   "metadata": {},
   "outputs": [
    {
     "name": "stdout",
     "output_type": "stream",
     "text": [
      "LS|\\TO|\\VBN|\\''|\\WP|\\UH|\\VBG|\\JJ|\\VBZ|\\--|\\VBP|\\NN|\\DT|\\PRP|\\:|\\WP$|\\NNPS|\\PRP$|\\WDT|\\(|\\)|\\.|\\,|\\``|\\$|\\RB|\\RBR|\\RBS|\\VBD|\\IN|\\FW|\\RP|\\JJR|\\JJS|\\PDT|\\MD|\\VB|\\WRB|\\NNP|\\EX|\\NNS|\\SYM|\\CC|\\CD|\\POS\n"
     ]
    },
    {
     "data": {
      "text/plain": [
       "45"
      ]
     },
     "execution_count": 43,
     "metadata": {},
     "output_type": "execute_result"
    }
   ],
   "source": [
    "from nltk.data import load\n",
    "tagdict = load('help/tagsets/upenn_tagset.pickle')\n",
    "#list of all the possible tag names\n",
    "print(\"|\\\\\".join(list(tagdict)))\n",
    "\n",
    "#this is the list of the different tokens we will use.\n",
    "len(tagdict)"
   ]
  },
  {
   "cell_type": "markdown",
   "metadata": {},
   "source": [
    "<h3>Function to transform a string to a string of Pos_tag</h3>"
   ]
  },
  {
   "cell_type": "code",
   "execution_count": 44,
   "metadata": {},
   "outputs": [
    {
     "data": {
      "text/plain": [
       "'DT NN , RB , VBD PRP DT NNS IN VBG DT NNS IN PRP$ NN : IN PRP MD VB PRP$ NN , CC NN TO DT NN NN PRP VBP RP , IN VBG JJ IN DT NN : RB RB JJ VBD DT NN .'"
      ]
     },
     "execution_count": 44,
     "metadata": {},
     "output_type": "execute_result"
    }
   ],
   "source": [
    "def transform_tag(var):\n",
    "    inpt = nltk.pos_tag(word_tokenize(var))\n",
    "    unzipped = zip(*inpt )\n",
    "    return ' '.join([*list(unzipped)[1]])\n",
    "transform_tag(test)"
   ]
  },
  {
   "cell_type": "markdown",
   "metadata": {
    "collapsed": true
   },
   "source": [
    "<h3>Generation of the tf_idf counting dataFrame</h3>\n",
    "We had to adapt the arguments passed in the CountVectorizer."
   ]
  },
  {
   "cell_type": "code",
   "execution_count": 45,
   "metadata": {},
   "outputs": [
    {
     "name": "stdout",
     "output_type": "stream",
     "text": [
      "Shape of Sparse Matrix:  (75, 350)\n",
      "Amount of Non-Zero occurences:  1866\n",
      "sparsity: 7.11%\n",
      "Shape of Sparse Test Matrix:  (25, 350)\n",
      "Amount of Non-Zero occurences:  692\n",
      "sparsity: 7.91%\n"
     ]
    }
   ],
   "source": [
    "\n",
    "mat_pos, name_pos, mat_pos_test = counting_a(2, 'word', \n",
    "                             process = 'transform_tag',\n",
    "                             lowercase = False, \n",
    "                             token_pattern = 'token_pos')\n",
    "\n",
    "print ('Shape of Sparse Matrix: ', mat_pos.shape)\n",
    "print ('Amount of Non-Zero occurences: ', mat_pos.nnz)\n",
    "print ('sparsity: %.2f%%' % (100.0 * mat_pos.nnz /\n",
    "                             (mat_pos.shape[0] * mat_pos.shape[1])))\n",
    "\n",
    "print ('Shape of Sparse Test Matrix: ', mat_pos_test.shape)\n",
    "print ('Amount of Non-Zero occurences: ', mat_pos_test.nnz)\n",
    "print ('sparsity: %.2f%%' % (100.0 * mat_pos_test.nnz /\n",
    "                             (mat_pos_test.shape[0] * mat_pos_test.shape[1])))"
   ]
  },
  {
   "cell_type": "markdown",
   "metadata": {},
   "source": [
    "<h3>Dimensionnality reduction for bag of tags Example for 2 grams</h3>\n",
    "We reduce by taking the TOP-N per author"
   ]
  },
  {
   "cell_type": "code",
   "execution_count": 46,
   "metadata": {
    "collapsed": true
   },
   "outputs": [],
   "source": [
    "alpha_pos = top_feats_by_class(mat_pos, tr1.author, name_pos, top_n = 10)"
   ]
  },
  {
   "cell_type": "code",
   "execution_count": 47,
   "metadata": {},
   "outputs": [
    {
     "data": {
      "image/png": "[encoded data removed]",
      "text/plain": [
       "<matplotlib.figure.Figure at 0x11bc5ff60>"
      ]
     },
     "metadata": {},
     "output_type": "display_data"
    }
   ],
   "source": [
    "plot_tfidf_classfeats_h(alpha_pos)"
   ]
  },
  {
   "cell_type": "markdown",
   "metadata": {},
   "source": [
    "<h3>Building of bag of tag and feature vectors</h3>"
   ]
  },
  {
   "cell_type": "code",
   "execution_count": 48,
   "metadata": {
    "collapsed": true
   },
   "outputs": [],
   "source": [
    "#build_bag_a(2,'word', \n",
    "#          process = 'transform_tag',\n",
    "#          lowercase = False, \n",
    "#          token_pattern = 'token_pos')[0].head()\n"
   ]
  },
  {
   "cell_type": "markdown",
   "metadata": {},
   "source": [
    "<h2>Positivness/negativness</h2>"
   ]
  },
  {
   "cell_type": "markdown",
   "metadata": {},
   "source": [
    "<h4>Weighted sentiment analysis using Vader</h4>\n",
    "Vader contains a list of 7500 features weighted by how positive or negative they are</h4>\n",
    "<br>It uses these features to calculate stats on how positive, negative and neutral a passage is<br>\n",
    "<br>And combines these results to give a compound sentiment (higher = more positive) for the passage<br>\n",
    "<br>Human trained on twitter data and generally considered good for informal communication<br>\n",
    "<br>10 humans rated each feature in each tweet in context from -4 to +4</h4>\n",
    "<br>Calculates the sentiment in a sentence using word order analysis</h4>\n",
    "<br>\"marginally good\" will get a lower positive score than \"extremely good\"\n",
    "<br>Computes a \"compound\" score based on heuristics (between -1 and +1)</h4>\n",
    "<br>Includes sentiment of emoticons, punctuation, and other 'social media' lexicon elements<br>\n"
   ]
  },
  {
   "cell_type": "code",
   "execution_count": 49,
   "metadata": {
    "collapsed": true
   },
   "outputs": [],
   "source": [
    "def vader_comparison(texts):\n",
    "    from vaderSentiment.vaderSentiment import SentimentIntensityAnalyzer\n",
    "    headers = ['pos','neg','neu','compound']\n",
    "    analyzer = SentimentIntensityAnalyzer()\n",
    "    sentences = sent_tokenize(texts)\n",
    "    pos=compound=neu=neg=0\n",
    "    num_sentences = len(sentences)\n",
    "    for sentence in sentences:\n",
    "        vs = analyzer.polarity_scores(sentence)\n",
    "        pos+=vs['pos']/num_sentences\n",
    "        compound+=vs['compound']/num_sentences\n",
    "        neu+=vs['neu']/num_sentences\n",
    "        neg+=vs['neg']/num_sentences\n",
    "    return pos, neg, neu, compound\n",
    "\n",
    "def density_positive(var):\n",
    "    return vader_comparison(var)[0]\n",
    "\n",
    "def density_negative(var):\n",
    "    return vader_comparison(var)[1]\n",
    "\n",
    "def density_neutral(var):\n",
    "    return vader_comparison(var)[2]\n",
    "\n",
    "def density_compound(var):\n",
    "    return vader_comparison(var)[3]"
   ]
  },
  {
   "cell_type": "code",
   "execution_count": 50,
   "metadata": {
    "collapsed": true
   },
   "outputs": [],
   "source": [
    "def build_sensi(dataframe):\n",
    "    df_sen = dataframe.copy() #change here to make sense\n",
    "\n",
    "    df_sen[density_positive.__name__] = df_sen.text.apply(density_positive)\n",
    "    df_sen[density_negative.__name__] = df_sen.text.apply(density_negative)\n",
    "    df_sen[density_neutral.__name__] = df_sen.text.apply(density_neutral)\n",
    "    df_sen[density_compound.__name__] = df_sen.text.apply(density_compound)\n",
    "    return df_sen\n",
    "\n",
    "#build_sensi(tr1).head()"
   ]
  },
  {
   "cell_type": "markdown",
   "metadata": {
    "collapsed": true
   },
   "source": [
    "We have all the differents features to add but I'd like to focus on the predections..."
   ]
  },
  {
   "cell_type": "markdown",
   "metadata": {
    "collapsed": true
   },
   "source": [
    "<h2>Fusion of the bunch of features.</h2>"
   ]
  },
  {
   "cell_type": "code",
   "execution_count": 51,
   "metadata": {
    "collapsed": true,
    "scrolled": false
   },
   "outputs": [],
   "source": [
    "#we build here the 2 feature datasets (one for TR1, one for TS1)\n",
    "#should be adapted when we'll add features\n",
    "\n",
    "def build_bunch_tr1(dataframe):\n",
    "    list_df = [build_sensi(dataframe),\n",
    "               build_meta(dataframe),\n",
    "               build_bag_a(1,'word')[0],\n",
    "               build_bag_a(2,'word')[0],\n",
    "               build_bag_a(3,'word')[0],\n",
    "               build_bag_a(1,'char')[0],\n",
    "               build_bag_a(2,'char')[0],\n",
    "               build_bag_a(3,'char')[0],\n",
    "               build_bag_a(1,\n",
    "                         'word', \n",
    "                         process = 'transform_tag',\n",
    "                         lowercase = False, \n",
    "                         token_pattern = 'token_pos')[0],\n",
    "               build_bag_a(2,\n",
    "                         'word', \n",
    "                         process = 'transform_tag',\n",
    "                         lowercase = False, \n",
    "                         token_pattern = 'token_pos')[0],\n",
    "               build_bag_a(3,\n",
    "                         'word', \n",
    "                         process = 'transform_tag',\n",
    "                         lowercase = False, \n",
    "                         token_pattern = 'token_pos')[0]\n",
    "              ]\n",
    "\n",
    "    bunch = pd.merge(list_df[0], list_df[1])\n",
    "    \n",
    "    for i in range(2, len(list_df)):\n",
    "        bunch = pd.merge(bunch, list_df[i])\n",
    "    \n",
    "    return bunch\n",
    "\n",
    "def build_bunch_ts1(dataframe):\n",
    "    list_df = [build_sensi(dataframe),\n",
    "               build_meta(dataframe),\n",
    "               build_bag_a(1,'word')[1], \n",
    "               build_bag_a(2,'word')[1], \n",
    "               build_bag_a(3,'word')[1], \n",
    "               build_bag_a(1,'char')[1],\n",
    "               build_bag_a(2,'char')[1],\n",
    "               build_bag_a(3,'char')[1], \n",
    "               build_bag_a(1,'word', \n",
    "                     process = 'transform_tag',\n",
    "                     lowercase = False, \n",
    "                     token_pattern = 'token_pos')[1],\n",
    "               build_bag_a(2,'word', \n",
    "                     process = 'transform_tag',\n",
    "                     lowercase = False, \n",
    "                     token_pattern = 'token_pos')[1],\n",
    "               build_bag_a(3,'word', \n",
    "                     process = 'transform_tag',\n",
    "                     lowercase = False, \n",
    "                     token_pattern = 'token_pos')[1]\n",
    "              ]\n",
    "\n",
    "    bunch = pd.merge(list_df[0], list_df[1])\n",
    "    \n",
    "    for i in range(2, len(list_df)):\n",
    "        bunch = pd.merge(bunch, list_df[i])\n",
    "    \n",
    "    return bunch\n",
    "\n",
    "\n",
    "\n",
    "#df_feat_tr1 = build_bunch_tr1(tr1)\n",
    "#df_feat_ts1 = build_bunch_ts1(ts1)"
   ]
  },
  {
   "cell_type": "code",
   "execution_count": 52,
   "metadata": {},
   "outputs": [
    {
     "data": {
      "text/plain": [
       "\"\\nprint ('Shape of df_feat_tr1 Matrix: ', df_feat_tr1.shape)\\nprint ('Amount of Non-Zero occurences: ', np.count_nonzero(df_feat_tr1.values))\\nprint ('sparsity: %.2f%%' % (100.0 * np.count_nonzero(df_feat_tr1.values) /\\n                                 (df_feat_tr1.shape[0] * df_feat_tr1.shape[1])))\\nprint('')\\n\\nprint ('Shape of df_feat_ts1 Matrix: ', df_feat_ts1.shape)\\nprint ('Amount of Non-Zero occurences: ', np.count_nonzero(df_feat_ts1.values))\\nprint ('sparsity: %.2f%%' % (100.0 * np.count_nonzero(df_feat_ts1.values) /\\n                                 (df_feat_ts1.shape[0] * df_feat_ts1.shape[1])))\\n                                 \\n\""
      ]
     },
     "execution_count": 52,
     "metadata": {},
     "output_type": "execute_result"
    }
   ],
   "source": [
    "\"\"\"\n",
    "print ('Shape of df_feat_tr1 Matrix: ', df_feat_tr1.shape)\n",
    "print ('Amount of Non-Zero occurences: ', np.count_nonzero(df_feat_tr1.values))\n",
    "print ('sparsity: %.2f%%' % (100.0 * np.count_nonzero(df_feat_tr1.values) /\n",
    "                                 (df_feat_tr1.shape[0] * df_feat_tr1.shape[1])))\n",
    "print('')\n",
    "\n",
    "print ('Shape of df_feat_ts1 Matrix: ', df_feat_ts1.shape)\n",
    "print ('Amount of Non-Zero occurences: ', np.count_nonzero(df_feat_ts1.values))\n",
    "print ('sparsity: %.2f%%' % (100.0 * np.count_nonzero(df_feat_ts1.values) /\n",
    "                                 (df_feat_ts1.shape[0] * df_feat_ts1.shape[1])))\n",
    "                                 \n",
    "\"\"\""
   ]
  },
  {
   "cell_type": "markdown",
   "metadata": {},
   "source": [
    "<h2>Quantitative parameters transformation</h2>\n",
    "Quantitative parameters were transferred into a numerical vector with min-max normalization\n",
    "from 0 to 1. <br>\n",
    "<br>\n",
    "It is necessary to have normalized vectors before training our dataset to avoid a disequilibrium among the coefficients.\n",
    "\n",
    "http://blog.josephmisiti.com/help-commands-for-doing-machine-learning-in-python"
   ]
  },
  {
   "cell_type": "code",
   "execution_count": 53,
   "metadata": {
    "collapsed": true
   },
   "outputs": [],
   "source": [
    "def build_normalization(df):\n",
    "    result = df.copy()\n",
    "    for feature_name in list(df)[3:]:\n",
    "        max_value = df[feature_name].max()\n",
    "        min_value = df[feature_name].min()\n",
    "        if max_value != min_value:\n",
    "            result[feature_name] = (df[feature_name] - min_value) / (max_value - min_value)\n",
    "    return result\n",
    "#build_normalization(df_feat_ts1).head()"
   ]
  },
  {
   "cell_type": "markdown",
   "metadata": {},
   "source": [
    "So now, we have the normalized features matrix. "
   ]
  },
  {
   "cell_type": "markdown",
   "metadata": {},
   "source": [
    "<h1>Prediction: Selection of best set of feature selection technic and prediction model </h1>"
   ]
  },
  {
   "cell_type": "markdown",
   "metadata": {},
   "source": [
    "<h2>Load and prepare data</h2>"
   ]
  },
  {
   "cell_type": "code",
   "execution_count": 54,
   "metadata": {
    "collapsed": true
   },
   "outputs": [],
   "source": [
    "# load dataset\n",
    "\n",
    "names = author_list\n",
    "dataframe_train = build_normalization(build_bunch_tr1(tr1))\n",
    "array = dataframe_train.values\n",
    "X_train = array[:,3:]\n",
    "Y_train = array[:,2]\n",
    "\n",
    "\n",
    "names = author_list\n",
    "dataframe_test = build_normalization(build_bunch_ts1(ts1))\n",
    "array = dataframe_test.values\n",
    "X_test = array[:,3:]\n",
    "Y_test = array[:,2]"
   ]
  },
  {
   "cell_type": "code",
   "execution_count": 55,
   "metadata": {},
   "outputs": [
    {
     "name": "stdout",
     "output_type": "stream",
     "text": [
      "(75, 386)\n",
      "(25, 386)\n"
     ]
    }
   ],
   "source": [
    "print(np.shape(X_train))\n",
    "print(np.shape(X_test))"
   ]
  },
  {
   "cell_type": "markdown",
   "metadata": {},
   "source": [
    "<h2>Imports</h2>"
   ]
  },
  {
   "cell_type": "code",
   "execution_count": 56,
   "metadata": {
    "collapsed": true
   },
   "outputs": [],
   "source": [
    "from sklearn.feature_selection import SelectKBest\n",
    "from sklearn.feature_selection import chi2\n",
    "\n",
    "from pandas import read_csv\n",
    "from sklearn.feature_selection import RFE\n",
    "from sklearn.linear_model import LogisticRegression\n",
    "\n",
    "from pandas import read_csv\n",
    "from sklearn.decomposition import PCA\n",
    "\n",
    "from sklearn.ensemble import ExtraTreesClassifier\n",
    "\n",
    "from sklearn.svm import LinearSVC\n",
    "from sklearn.feature_selection import SelectFromModel\n",
    "\n",
    "from sklearn.ensemble import ExtraTreesClassifier\n",
    "from sklearn.datasets import load_iris\n",
    "from sklearn.feature_selection import SelectFromModel\n",
    "\n",
    "from sklearn.pipeline import Pipeline\n",
    "\n",
    "\n",
    "import pandas\n",
    "import matplotlib.pyplot as plt\n",
    "from sklearn import model_selection\n",
    "from sklearn.linear_model import LogisticRegression\n",
    "from sklearn.tree import DecisionTreeClassifier\n",
    "from sklearn.neighbors import KNeighborsClassifier\n",
    "from sklearn.discriminant_analysis import LinearDiscriminantAnalysis\n",
    "from sklearn.naive_bayes import GaussianNB\n",
    "from sklearn.svm import SVC\n",
    "from sklearn.ensemble import (RandomTreesEmbedding, RandomForestClassifier,\n",
    "                              GradientBoostingClassifier, AdaBoostClassifier, ExtraTreesClassifier)\n",
    "\n",
    "\n",
    "from sklearn import metrics\n",
    "\n",
    "from sklearn import model_selection\n",
    "from sklearn.metrics import log_loss\n",
    "\n",
    "from sklearn.metrics import fbeta_score, make_scorer"
   ]
  },
  {
   "cell_type": "markdown",
   "metadata": {},
   "source": [
    "<h2>Feature Selection</h2><br>\n",
    "See:http://scikit-learn.org/stable/modules/feature_selection.html <br><br>\n",
    "Feature selection is a process where you automatically select those features in your data that contribute most to the prediction variable or output in which you are interested.<br>\n",
    "<br>\n",
    "Having irrelevant features in your data can decrease the accuracy of many models, especially linear algorithms like linear and logistic regression.<br>\n",
    "<br>\n",
    "Three benefits of performing feature selection before modeling your data are:<br>\n",
    "<br>\n",
    "- <b>Reduces Overfitting:</b> Less redundant data means less opportunity to make decisions based on noise.<br>\n",
    "    <br>\n",
    "- <b>Improves Accuracy:</b> Less misleading data means modeling accuracy improves.<br>\n",
    "    <br>\n",
    "- <b>Reduces Training Time:</b> Less data means that algorithms train faster.\n",
    "<br><br>I will not follow the paper here but rather I'll follow the following website: <br>\n",
    "\n",
    "https://machinelearningmastery.com/feature-selection-machine-learning-python/ <br>\n",
    "see also: https://www.analyticsvidhya.com/blog/2016/12/introduction-to-feature-selection-methods-with-an-example-or-how-to-select-the-right-variables/"
   ]
  },
  {
   "cell_type": "markdown",
   "metadata": {},
   "source": [
    "So, here we will try a bunch of different methods:<br>\n",
    "- Univariate feature selection\n",
    "- Recursive feature elimination\n",
    "- L1-based feature selection\n",
    "- Tree-based feature selection\n"
   ]
  },
  {
   "cell_type": "markdown",
   "metadata": {},
   "source": [
    "<h3>Number of selected features</h3>"
   ]
  },
  {
   "cell_type": "markdown",
   "metadata": {},
   "source": [
    "<h4>Current number of features</h4>"
   ]
  },
  {
   "cell_type": "code",
   "execution_count": 57,
   "metadata": {},
   "outputs": [
    {
     "name": "stdout",
     "output_type": "stream",
     "text": [
      "We have 386 features in total.\n"
     ]
    }
   ],
   "source": [
    "print('We have ' + str(np.shape(X_train)[1]) + ' features in total.')"
   ]
  },
  {
   "cell_type": "markdown",
   "metadata": {},
   "source": [
    "<h4>Reduction of  number of feaures</h4>\n",
    "The common possibilities are 10,20, quarter and half of total number of samples. <br>\n",
    "<br>\n",
    "For now, we only explore with quarter, tbd for the others."
   ]
  },
  {
   "cell_type": "code",
   "execution_count": 58,
   "metadata": {},
   "outputs": [
    {
     "name": "stdout",
     "output_type": "stream",
     "text": [
      "We want to test our models with [10, 20, 96, 193] features extracted from the 386 previous features\n"
     ]
    }
   ],
   "source": [
    "list_N = [10, 20, int(np.shape(X_train)[1]/4), int(np.shape(X_train)[1]/2)]\n",
    "\n",
    "print('We want to test our models with ' + str(list_N) + ' features extracted from the ' + str(np.shape(X_train)[1]) + ' previous features')"
   ]
  },
  {
   "cell_type": "markdown",
   "metadata": {},
   "source": [
    "<h3>Univariate feature selection</h3>"
   ]
  },
  {
   "cell_type": "code",
   "execution_count": 59,
   "metadata": {
    "collapsed": true
   },
   "outputs": [],
   "source": [
    "def sel_univ(N):\n",
    "    return SelectKBest(chi2, k=N)"
   ]
  },
  {
   "cell_type": "markdown",
   "metadata": {},
   "source": [
    "<h3>Recursive feature elimination</h3>"
   ]
  },
  {
   "cell_type": "code",
   "execution_count": 60,
   "metadata": {
    "collapsed": true
   },
   "outputs": [],
   "source": [
    "def sel_rec(N):\n",
    "    model_rec = LogisticRegression()\n",
    "    return RFE(model_rec, N)"
   ]
  },
  {
   "cell_type": "markdown",
   "metadata": {},
   "source": [
    "<h3>Principal Component Analysis</h3>\n"
   ]
  },
  {
   "cell_type": "code",
   "execution_count": 61,
   "metadata": {
    "collapsed": true
   },
   "outputs": [],
   "source": [
    "def sel_pca(N):\n",
    "    return PCA(n_components=N)"
   ]
  },
  {
   "cell_type": "markdown",
   "metadata": {},
   "source": [
    "<h3>Summary</h3>"
   ]
  },
  {
   "cell_type": "code",
   "execution_count": 62,
   "metadata": {
    "collapsed": true
   },
   "outputs": [],
   "source": [
    "selectioners = []\n",
    "for N in list_N:\n",
    "    selectioners.append(('S_UNIV_{}'.format(N), sel_univ(N)))\n",
    "    selectioners.append(('S_REC_{}'.format(N), sel_rec(N)))\n",
    "    selectioners.append(('S_PCA_{}'.format(N), sel_pca(N)))"
   ]
  },
  {
   "cell_type": "markdown",
   "metadata": {},
   "source": [
    "<h2>Predictive Models</h2><br>\n",
    "So here we will try this bunch of feature models:\n",
    "\n",
    "- LogisticRegression\n",
    "- LinearDiscriminantAnalysis\n",
    "- KNeighborsClassifier\n",
    "- DecisionTreeClassifier\n",
    "- GaussianNB\n",
    "- SVC\n",
    "- GradientBoostingClassifier\n",
    "- AdaBoostClassifier\n",
    "- ExtraTreesClassifier\n",
    "- RandomForestClassifier\n"
   ]
  },
  {
   "cell_type": "code",
   "execution_count": 63,
   "metadata": {
    "collapsed": true
   },
   "outputs": [],
   "source": [
    "models = []\n",
    "models.append(('LR', LogisticRegression()))\n",
    "models.append(('LDA', LinearDiscriminantAnalysis()))\n",
    "models.append(('KNN', KNeighborsClassifier()))\n",
    "models.append(('CART', DecisionTreeClassifier()))\n",
    "models.append(('NB', GaussianNB()))\n",
    "models.append(('SVM', SVC()))\n",
    "models.append(('GBC', GradientBoostingClassifier()))\n",
    "models.append(('ABC', AdaBoostClassifier()))\n",
    "models.append(('ETC', ExtraTreesClassifier()))\n",
    "models.append(('RFC', RandomForestClassifier()))\n"
   ]
  },
  {
   "cell_type": "markdown",
   "metadata": {},
   "source": [
    "<h2>Pipeline</h2><br>"
   ]
  },
  {
   "cell_type": "markdown",
   "metadata": {},
   "source": [
    "Pipeline can be used to chain multiple estimators into one. This is useful as there is often a fixed sequence of steps in processing the data, for example feature selection, normalization and classification. Pipeline serves two purposes here:<br>\n",
    "- Convenience and Encapsulation<br>\n",
    "        You only have to call fit and predict once on your data to fit a whole sequence of estimators.\n",
    "- Joint parameter selection<br>\n",
    "        You can grid search over parameters of all estimators in the pipeline at once.\n",
    "- Safety<br>\n",
    "        Pipelines help avoid leaking statistics from your test data into the trained model in cross-validation, by ensuring that the same samples are used to train the transformers and predictors.\n",
    "All estimators in a pipeline, except the last one, must be transformers (i.e. must have a transform method). The last estimator may be any type (transformer, classifier, etc.)."
   ]
  },
  {
   "cell_type": "code",
   "execution_count": 64,
   "metadata": {
    "collapsed": true
   },
   "outputs": [],
   "source": [
    "pipes = []\n",
    "\n",
    "for sel in selectioners:\n",
    "    for mod in models:\n",
    "        pipes.append([sel, mod])"
   ]
  },
  {
   "cell_type": "markdown",
   "metadata": {},
   "source": [
    "<h2>Compare set of selection and predictive models</h2>\n",
    "<br>\n"
   ]
  },
  {
   "cell_type": "markdown",
   "metadata": {
    "collapsed": true
   },
   "source": [
    "Here, we do ten times :<br>\n",
    "- First we train over 9/10 of the training set (TR1)\n",
    "- We test over the 1/10 remaining of the training set (TR1)<br>\n",
    "<br>\n",
    "But here we have a problem. Actually, the metric we need to mesure the models is 'neg_log_loss', because it is the one used by Kaggle. But it doesn't work and we don't know why. So, the metric used is accuracy. <br>\n",
    "<br>\n",
    "Then, we will take the 10 best models:<br>\n",
    "- We train over the whole train set(TR1)\n",
    "- We test over the whole test set (TS1)\n",
    "- we mesure the best with the neg_log_loss metric (here it's working)<br>\n",
    "Here the goal is to select the best with the Kaggle metric, but also we want to check if there is or not overfitting. "
   ]
  },
  {
   "cell_type": "code",
   "execution_count": 65,
   "metadata": {},
   "outputs": [
    {
     "name": "stdout",
     "output_type": "stream",
     "text": [
      "Selector: S_UNIV_10 Predictive model: LR: Mean=0.333929 Stand Dev=(0.141523)\n",
      "Selector: S_UNIV_10 Predictive model: LDA: Mean=0.360714 Stand Dev=(0.083299)\n",
      "Selector: S_UNIV_10 Predictive model: KNN: Mean=0.376786 Stand Dev=(0.182711)\n",
      "Selector: S_UNIV_10 Predictive model: CART: Mean=0.375000 Stand Dev=(0.113502)\n",
      "Selector: S_UNIV_10 Predictive model: NB: Mean=0.389286 Stand Dev=(0.156247)\n",
      "Selector: S_UNIV_10 Predictive model: SVM: Mean=0.375000 Stand Dev=(0.137396)\n",
      "Selector: S_UNIV_10 Predictive model: GBC: Mean=0.387500 Stand Dev=(0.105659)\n",
      "Selector: S_UNIV_10 Predictive model: ABC: Mean=0.387500 Stand Dev=(0.105659)\n",
      "Selector: S_UNIV_10 Predictive model: ETC: Mean=0.387500 Stand Dev=(0.089660)\n",
      "Selector: S_UNIV_10 Predictive model: RFC: Mean=0.385714 Stand Dev=(0.083834)\n",
      "Selector: S_REC_10 Predictive model: LR: Mean=0.512500 Stand Dev=(0.245761)\n",
      "Selector: S_REC_10 Predictive model: LDA: Mean=0.551786 Stand Dev=(0.245034)\n",
      "Selector: S_REC_10 Predictive model: KNN: Mean=0.432143 Stand Dev=(0.254901)\n",
      "Selector: S_REC_10 Predictive model: CART: Mean=0.492857 Stand Dev=(0.190696)\n",
      "Selector: S_REC_10 Predictive model: NB: Mean=0.419643 Stand Dev=(0.184240)\n",
      "Selector: S_REC_10 Predictive model: SVM: Mean=0.387500 Stand Dev=(0.159129)\n",
      "Selector: S_REC_10 Predictive model: GBC: Mean=0.600000 Stand Dev=(0.207358)\n",
      "Selector: S_REC_10 Predictive model: ABC: Mean=0.505357 Stand Dev=(0.181415)\n",
      "Selector: S_REC_10 Predictive model: ETC: Mean=0.516071 Stand Dev=(0.199721)\n",
      "Selector: S_REC_10 Predictive model: RFC: Mean=0.516071 Stand Dev=(0.175410)\n",
      "Selector: S_PCA_10 Predictive model: LR: Mean=0.548214 Stand Dev=(0.189496)\n",
      "Selector: S_PCA_10 Predictive model: LDA: Mean=0.576786 Stand Dev=(0.220599)\n",
      "Selector: S_PCA_10 Predictive model: KNN: Mean=0.371429 Stand Dev=(0.165369)\n",
      "Selector: S_PCA_10 Predictive model: CART: Mean=0.403571 Stand Dev=(0.158758)\n",
      "Selector: S_PCA_10 Predictive model: NB: Mean=0.451786 Stand Dev=(0.183686)\n",
      "Selector: S_PCA_10 Predictive model: SVM: Mean=0.505357 Stand Dev=(0.132444)\n",
      "Selector: S_PCA_10 Predictive model: GBC: Mean=0.451786 Stand Dev=(0.199976)\n",
      "Selector: S_PCA_10 Predictive model: ABC: Mean=0.480357 Stand Dev=(0.162970)\n",
      "Selector: S_PCA_10 Predictive model: ETC: Mean=0.405357 Stand Dev=(0.165417)\n",
      "Selector: S_PCA_10 Predictive model: RFC: Mean=0.453571 Stand Dev=(0.145116)\n"
     ]
    },
    {
     "data": {
      "image/png": "[encoded data removed]",
      "text/plain": [
       "<matplotlib.figure.Figure at 0x10c7eec50>"
      ]
     },
     "metadata": {},
     "output_type": "display_data"
    },
    {
     "name": "stdout",
     "output_type": "stream",
     "text": [
      "Selector: S_UNIV_20 Predictive model: LR: Mean=0.403571 Stand Dev=(0.165446)\n",
      "Selector: S_UNIV_20 Predictive model: LDA: Mean=0.346429 Stand Dev=(0.138136)\n",
      "Selector: S_UNIV_20 Predictive model: KNN: Mean=0.373214 Stand Dev=(0.129867)\n",
      "Selector: S_UNIV_20 Predictive model: CART: Mean=0.421429 Stand Dev=(0.199681)\n"
     ]
    },
    {
     "name": "stderr",
     "output_type": "stream",
     "text": [
      "/Users/Selim/anaconda/lib/python3.6/site-packages/sklearn/discriminant_analysis.py:388: UserWarning: Variables are collinear.\n",
      "  warnings.warn(\"Variables are collinear.\")\n",
      "/Users/Selim/anaconda/lib/python3.6/site-packages/sklearn/discriminant_analysis.py:388: UserWarning: Variables are collinear.\n",
      "  warnings.warn(\"Variables are collinear.\")\n"
     ]
    },
    {
     "name": "stdout",
     "output_type": "stream",
     "text": [
      "Selector: S_UNIV_20 Predictive model: NB: Mean=0.375000 Stand Dev=(0.151523)\n",
      "Selector: S_UNIV_20 Predictive model: SVM: Mean=0.319643 Stand Dev=(0.167410)\n",
      "Selector: S_UNIV_20 Predictive model: GBC: Mean=0.417857 Stand Dev=(0.136511)\n",
      "Selector: S_UNIV_20 Predictive model: ABC: Mean=0.403571 Stand Dev=(0.142006)\n",
      "Selector: S_UNIV_20 Predictive model: ETC: Mean=0.471429 Stand Dev=(0.127075)\n",
      "Selector: S_UNIV_20 Predictive model: RFC: Mean=0.373214 Stand Dev=(0.173398)\n",
      "Selector: S_REC_20 Predictive model: LR: Mean=0.483929 Stand Dev=(0.184102)\n",
      "Selector: S_REC_20 Predictive model: LDA: Mean=0.398214 Stand Dev=(0.147048)\n",
      "Selector: S_REC_20 Predictive model: KNN: Mean=0.416071 Stand Dev=(0.102597)\n",
      "Selector: S_REC_20 Predictive model: CART: Mean=0.496429 Stand Dev=(0.253521)\n",
      "Selector: S_REC_20 Predictive model: NB: Mean=0.373214 Stand Dev=(0.180251)\n",
      "Selector: S_REC_20 Predictive model: SVM: Mean=0.391071 Stand Dev=(0.155562)\n",
      "Selector: S_REC_20 Predictive model: GBC: Mean=0.555357 Stand Dev=(0.186853)\n",
      "Selector: S_REC_20 Predictive model: ABC: Mean=0.525000 Stand Dev=(0.127825)\n",
      "Selector: S_REC_20 Predictive model: ETC: Mean=0.426786 Stand Dev=(0.186511)\n",
      "Selector: S_REC_20 Predictive model: RFC: Mean=0.439286 Stand Dev=(0.214910)\n",
      "Selector: S_PCA_20 Predictive model: LR: Mean=0.510714 Stand Dev=(0.225764)\n",
      "Selector: S_PCA_20 Predictive model: LDA: Mean=0.525000 Stand Dev=(0.233540)\n",
      "Selector: S_PCA_20 Predictive model: KNN: Mean=0.410714 Stand Dev=(0.196266)\n",
      "Selector: S_PCA_20 Predictive model: CART: Mean=0.423214 Stand Dev=(0.079880)\n",
      "Selector: S_PCA_20 Predictive model: NB: Mean=0.455357 Stand Dev=(0.189698)\n",
      "Selector: S_PCA_20 Predictive model: SVM: Mean=0.505357 Stand Dev=(0.172587)\n",
      "Selector: S_PCA_20 Predictive model: GBC: Mean=0.510714 Stand Dev=(0.155100)\n",
      "Selector: S_PCA_20 Predictive model: ABC: Mean=0.457143 Stand Dev=(0.216977)\n",
      "Selector: S_PCA_20 Predictive model: ETC: Mean=0.346429 Stand Dev=(0.228013)\n",
      "Selector: S_PCA_20 Predictive model: RFC: Mean=0.532143 Stand Dev=(0.230045)\n"
     ]
    },
    {
     "data": {
      "image/png": "[encoded data removed]",
      "text/plain": [
       "<matplotlib.figure.Figure at 0x11bd42438>"
      ]
     },
     "metadata": {},
     "output_type": "display_data"
    },
    {
     "name": "stdout",
     "output_type": "stream",
     "text": [
      "Selector: S_UNIV_96 Predictive model: LR: Mean=0.471429 Stand Dev=(0.178250)\n",
      "Selector: S_UNIV_96 Predictive model: LDA: Mean=0.323214 Stand Dev=(0.146265)\n",
      "Selector: S_UNIV_96 Predictive model: KNN: Mean=0.373214 Stand Dev=(0.129867)\n"
     ]
    },
    {
     "name": "stderr",
     "output_type": "stream",
     "text": [
      "/Users/Selim/anaconda/lib/python3.6/site-packages/sklearn/discriminant_analysis.py:388: UserWarning: Variables are collinear.\n",
      "  warnings.warn(\"Variables are collinear.\")\n",
      "/Users/Selim/anaconda/lib/python3.6/site-packages/sklearn/discriminant_analysis.py:388: UserWarning: Variables are collinear.\n",
      "  warnings.warn(\"Variables are collinear.\")\n",
      "/Users/Selim/anaconda/lib/python3.6/site-packages/sklearn/discriminant_analysis.py:388: UserWarning: Variables are collinear.\n",
      "  warnings.warn(\"Variables are collinear.\")\n",
      "/Users/Selim/anaconda/lib/python3.6/site-packages/sklearn/discriminant_analysis.py:388: UserWarning: Variables are collinear.\n",
      "  warnings.warn(\"Variables are collinear.\")\n",
      "/Users/Selim/anaconda/lib/python3.6/site-packages/sklearn/discriminant_analysis.py:388: UserWarning: Variables are collinear.\n",
      "  warnings.warn(\"Variables are collinear.\")\n",
      "/Users/Selim/anaconda/lib/python3.6/site-packages/sklearn/discriminant_analysis.py:388: UserWarning: Variables are collinear.\n",
      "  warnings.warn(\"Variables are collinear.\")\n",
      "/Users/Selim/anaconda/lib/python3.6/site-packages/sklearn/discriminant_analysis.py:388: UserWarning: Variables are collinear.\n",
      "  warnings.warn(\"Variables are collinear.\")\n",
      "/Users/Selim/anaconda/lib/python3.6/site-packages/sklearn/discriminant_analysis.py:388: UserWarning: Variables are collinear.\n",
      "  warnings.warn(\"Variables are collinear.\")\n",
      "/Users/Selim/anaconda/lib/python3.6/site-packages/sklearn/discriminant_analysis.py:388: UserWarning: Variables are collinear.\n",
      "  warnings.warn(\"Variables are collinear.\")\n",
      "/Users/Selim/anaconda/lib/python3.6/site-packages/sklearn/discriminant_analysis.py:388: UserWarning: Variables are collinear.\n",
      "  warnings.warn(\"Variables are collinear.\")\n"
     ]
    },
    {
     "name": "stdout",
     "output_type": "stream",
     "text": [
      "Selector: S_UNIV_96 Predictive model: CART: Mean=0.430357 Stand Dev=(0.206163)\n",
      "Selector: S_UNIV_96 Predictive model: NB: Mean=0.430357 Stand Dev=(0.182012)\n",
      "Selector: S_UNIV_96 Predictive model: SVM: Mean=0.319643 Stand Dev=(0.167410)\n",
      "Selector: S_UNIV_96 Predictive model: GBC: Mean=0.523214 Stand Dev=(0.211296)\n",
      "Selector: S_UNIV_96 Predictive model: ABC: Mean=0.455357 Stand Dev=(0.192865)\n",
      "Selector: S_UNIV_96 Predictive model: ETC: Mean=0.389286 Stand Dev=(0.168804)\n",
      "Selector: S_UNIV_96 Predictive model: RFC: Mean=0.398214 Stand Dev=(0.189832)\n",
      "Selector: S_REC_96 Predictive model: LR: Mean=0.483929 Stand Dev=(0.169116)\n"
     ]
    },
    {
     "name": "stderr",
     "output_type": "stream",
     "text": [
      "/Users/Selim/anaconda/lib/python3.6/site-packages/sklearn/discriminant_analysis.py:388: UserWarning: Variables are collinear.\n",
      "  warnings.warn(\"Variables are collinear.\")\n",
      "/Users/Selim/anaconda/lib/python3.6/site-packages/sklearn/discriminant_analysis.py:388: UserWarning: Variables are collinear.\n",
      "  warnings.warn(\"Variables are collinear.\")\n",
      "/Users/Selim/anaconda/lib/python3.6/site-packages/sklearn/discriminant_analysis.py:388: UserWarning: Variables are collinear.\n",
      "  warnings.warn(\"Variables are collinear.\")\n",
      "/Users/Selim/anaconda/lib/python3.6/site-packages/sklearn/discriminant_analysis.py:388: UserWarning: Variables are collinear.\n",
      "  warnings.warn(\"Variables are collinear.\")\n",
      "/Users/Selim/anaconda/lib/python3.6/site-packages/sklearn/discriminant_analysis.py:388: UserWarning: Variables are collinear.\n",
      "  warnings.warn(\"Variables are collinear.\")\n",
      "/Users/Selim/anaconda/lib/python3.6/site-packages/sklearn/discriminant_analysis.py:388: UserWarning: Variables are collinear.\n",
      "  warnings.warn(\"Variables are collinear.\")\n",
      "/Users/Selim/anaconda/lib/python3.6/site-packages/sklearn/discriminant_analysis.py:388: UserWarning: Variables are collinear.\n",
      "  warnings.warn(\"Variables are collinear.\")\n",
      "/Users/Selim/anaconda/lib/python3.6/site-packages/sklearn/discriminant_analysis.py:388: UserWarning: Variables are collinear.\n",
      "  warnings.warn(\"Variables are collinear.\")\n",
      "/Users/Selim/anaconda/lib/python3.6/site-packages/sklearn/discriminant_analysis.py:388: UserWarning: Variables are collinear.\n",
      "  warnings.warn(\"Variables are collinear.\")\n",
      "/Users/Selim/anaconda/lib/python3.6/site-packages/sklearn/discriminant_analysis.py:388: UserWarning: Variables are collinear.\n",
      "  warnings.warn(\"Variables are collinear.\")\n"
     ]
    },
    {
     "name": "stdout",
     "output_type": "stream",
     "text": [
      "Selector: S_REC_96 Predictive model: LDA: Mean=0.457143 Stand Dev=(0.209652)\n",
      "Selector: S_REC_96 Predictive model: KNN: Mean=0.467857 Stand Dev=(0.122370)\n",
      "Selector: S_REC_96 Predictive model: CART: Mean=0.401786 Stand Dev=(0.239079)\n",
      "Selector: S_REC_96 Predictive model: NB: Mean=0.455357 Stand Dev=(0.195330)\n",
      "Selector: S_REC_96 Predictive model: SVM: Mean=0.319643 Stand Dev=(0.167410)\n",
      "Selector: S_REC_96 Predictive model: GBC: Mean=0.571429 Stand Dev=(0.138090)\n",
      "Selector: S_REC_96 Predictive model: ABC: Mean=0.476786 Stand Dev=(0.193493)\n",
      "Selector: S_REC_96 Predictive model: ETC: Mean=0.442857 Stand Dev=(0.218091)\n",
      "Selector: S_REC_96 Predictive model: RFC: Mean=0.348214 Stand Dev=(0.209203)\n",
      "Selector: S_PCA_96 Predictive model: LR: Mean=0.564286 Stand Dev=(0.193188)\n",
      "Selector: S_PCA_96 Predictive model: LDA: Mean=0.337500 Stand Dev=(0.118303)\n"
     ]
    },
    {
     "name": "stderr",
     "output_type": "stream",
     "text": [
      "/Users/Selim/anaconda/lib/python3.6/site-packages/sklearn/discriminant_analysis.py:388: UserWarning: Variables are collinear.\n",
      "  warnings.warn(\"Variables are collinear.\")\n",
      "/Users/Selim/anaconda/lib/python3.6/site-packages/sklearn/discriminant_analysis.py:388: UserWarning: Variables are collinear.\n",
      "  warnings.warn(\"Variables are collinear.\")\n",
      "/Users/Selim/anaconda/lib/python3.6/site-packages/sklearn/discriminant_analysis.py:388: UserWarning: Variables are collinear.\n",
      "  warnings.warn(\"Variables are collinear.\")\n",
      "/Users/Selim/anaconda/lib/python3.6/site-packages/sklearn/discriminant_analysis.py:388: UserWarning: Variables are collinear.\n",
      "  warnings.warn(\"Variables are collinear.\")\n",
      "/Users/Selim/anaconda/lib/python3.6/site-packages/sklearn/discriminant_analysis.py:388: UserWarning: Variables are collinear.\n",
      "  warnings.warn(\"Variables are collinear.\")\n",
      "/Users/Selim/anaconda/lib/python3.6/site-packages/sklearn/discriminant_analysis.py:388: UserWarning: Variables are collinear.\n",
      "  warnings.warn(\"Variables are collinear.\")\n",
      "/Users/Selim/anaconda/lib/python3.6/site-packages/sklearn/discriminant_analysis.py:388: UserWarning: Variables are collinear.\n",
      "  warnings.warn(\"Variables are collinear.\")\n",
      "/Users/Selim/anaconda/lib/python3.6/site-packages/sklearn/discriminant_analysis.py:388: UserWarning: Variables are collinear.\n",
      "  warnings.warn(\"Variables are collinear.\")\n",
      "/Users/Selim/anaconda/lib/python3.6/site-packages/sklearn/discriminant_analysis.py:388: UserWarning: Variables are collinear.\n",
      "  warnings.warn(\"Variables are collinear.\")\n",
      "/Users/Selim/anaconda/lib/python3.6/site-packages/sklearn/discriminant_analysis.py:388: UserWarning: Variables are collinear.\n",
      "  warnings.warn(\"Variables are collinear.\")\n"
     ]
    },
    {
     "name": "stdout",
     "output_type": "stream",
     "text": [
      "Selector: S_PCA_96 Predictive model: KNN: Mean=0.362500 Stand Dev=(0.193822)\n",
      "Selector: S_PCA_96 Predictive model: CART: Mean=0.453571 Stand Dev=(0.168123)\n",
      "Selector: S_PCA_96 Predictive model: NB: Mean=0.323214 Stand Dev=(0.183408)\n",
      "Selector: S_PCA_96 Predictive model: SVM: Mean=0.360714 Stand Dev=(0.152530)\n",
      "Selector: S_PCA_96 Predictive model: GBC: Mean=0.464286 Stand Dev=(0.189992)\n",
      "Selector: S_PCA_96 Predictive model: ABC: Mean=0.362500 Stand Dev=(0.135538)\n",
      "Selector: S_PCA_96 Predictive model: ETC: Mean=0.453571 Stand Dev=(0.167362)\n",
      "Selector: S_PCA_96 Predictive model: RFC: Mean=0.439286 Stand Dev=(0.183538)\n"
     ]
    },
    {
     "data": {
      "image/png": "[encoded data removed]",
      "text/plain": [
       "<matplotlib.figure.Figure at 0x11bc11fd0>"
      ]
     },
     "metadata": {},
     "output_type": "display_data"
    },
    {
     "name": "stdout",
     "output_type": "stream",
     "text": [
      "Selector: S_UNIV_193 Predictive model: LR: Mean=0.521429 Stand Dev=(0.163819)\n",
      "Selector: S_UNIV_193 Predictive model: LDA: Mean=0.501786 Stand Dev=(0.175410)\n",
      "Selector: S_UNIV_193 Predictive model: KNN: Mean=0.441071 Stand Dev=(0.196437)\n",
      "Selector: S_UNIV_193 Predictive model: CART: Mean=0.539286 Stand Dev=(0.197368)"
     ]
    },
    {
     "name": "stderr",
     "output_type": "stream",
     "text": [
      "/Users/Selim/anaconda/lib/python3.6/site-packages/sklearn/discriminant_analysis.py:388: UserWarning: Variables are collinear.\n",
      "  warnings.warn(\"Variables are collinear.\")\n",
      "/Users/Selim/anaconda/lib/python3.6/site-packages/sklearn/discriminant_analysis.py:388: UserWarning: Variables are collinear.\n",
      "  warnings.warn(\"Variables are collinear.\")\n",
      "/Users/Selim/anaconda/lib/python3.6/site-packages/sklearn/discriminant_analysis.py:388: UserWarning: Variables are collinear.\n",
      "  warnings.warn(\"Variables are collinear.\")\n",
      "/Users/Selim/anaconda/lib/python3.6/site-packages/sklearn/discriminant_analysis.py:388: UserWarning: Variables are collinear.\n",
      "  warnings.warn(\"Variables are collinear.\")\n",
      "/Users/Selim/anaconda/lib/python3.6/site-packages/sklearn/discriminant_analysis.py:388: UserWarning: Variables are collinear.\n",
      "  warnings.warn(\"Variables are collinear.\")\n",
      "/Users/Selim/anaconda/lib/python3.6/site-packages/sklearn/discriminant_analysis.py:388: UserWarning: Variables are collinear.\n",
      "  warnings.warn(\"Variables are collinear.\")\n",
      "/Users/Selim/anaconda/lib/python3.6/site-packages/sklearn/discriminant_analysis.py:388: UserWarning: Variables are collinear.\n",
      "  warnings.warn(\"Variables are collinear.\")\n",
      "/Users/Selim/anaconda/lib/python3.6/site-packages/sklearn/discriminant_analysis.py:388: UserWarning: Variables are collinear.\n",
      "  warnings.warn(\"Variables are collinear.\")\n",
      "/Users/Selim/anaconda/lib/python3.6/site-packages/sklearn/discriminant_analysis.py:388: UserWarning: Variables are collinear.\n",
      "  warnings.warn(\"Variables are collinear.\")\n",
      "/Users/Selim/anaconda/lib/python3.6/site-packages/sklearn/discriminant_analysis.py:388: UserWarning: Variables are collinear.\n",
      "  warnings.warn(\"Variables are collinear.\")\n"
     ]
    },
    {
     "name": "stdout",
     "output_type": "stream",
     "text": [
      "\n",
      "Selector: S_UNIV_193 Predictive model: NB: Mean=0.542857 Stand Dev=(0.180737)\n",
      "Selector: S_UNIV_193 Predictive model: SVM: Mean=0.319643 Stand Dev=(0.167410)\n",
      "Selector: S_UNIV_193 Predictive model: GBC: Mean=0.564286 Stand Dev=(0.148160)\n",
      "Selector: S_UNIV_193 Predictive model: ABC: Mean=0.498214 Stand Dev=(0.150350)\n",
      "Selector: S_UNIV_193 Predictive model: ETC: Mean=0.469643 Stand Dev=(0.143980)\n",
      "Selector: S_UNIV_193 Predictive model: RFC: Mean=0.442857 Stand Dev=(0.112882)\n",
      "Selector: S_REC_193 Predictive model: LR: Mean=0.550000 Stand Dev=(0.175473)\n"
     ]
    },
    {
     "name": "stderr",
     "output_type": "stream",
     "text": [
      "/Users/Selim/anaconda/lib/python3.6/site-packages/sklearn/discriminant_analysis.py:388: UserWarning: Variables are collinear.\n",
      "  warnings.warn(\"Variables are collinear.\")\n",
      "/Users/Selim/anaconda/lib/python3.6/site-packages/sklearn/discriminant_analysis.py:388: UserWarning: Variables are collinear.\n",
      "  warnings.warn(\"Variables are collinear.\")\n",
      "/Users/Selim/anaconda/lib/python3.6/site-packages/sklearn/discriminant_analysis.py:388: UserWarning: Variables are collinear.\n",
      "  warnings.warn(\"Variables are collinear.\")\n",
      "/Users/Selim/anaconda/lib/python3.6/site-packages/sklearn/discriminant_analysis.py:388: UserWarning: Variables are collinear.\n",
      "  warnings.warn(\"Variables are collinear.\")\n",
      "/Users/Selim/anaconda/lib/python3.6/site-packages/sklearn/discriminant_analysis.py:388: UserWarning: Variables are collinear.\n",
      "  warnings.warn(\"Variables are collinear.\")\n",
      "/Users/Selim/anaconda/lib/python3.6/site-packages/sklearn/discriminant_analysis.py:388: UserWarning: Variables are collinear.\n",
      "  warnings.warn(\"Variables are collinear.\")\n",
      "/Users/Selim/anaconda/lib/python3.6/site-packages/sklearn/discriminant_analysis.py:388: UserWarning: Variables are collinear.\n",
      "  warnings.warn(\"Variables are collinear.\")\n",
      "/Users/Selim/anaconda/lib/python3.6/site-packages/sklearn/discriminant_analysis.py:388: UserWarning: Variables are collinear.\n",
      "  warnings.warn(\"Variables are collinear.\")\n",
      "/Users/Selim/anaconda/lib/python3.6/site-packages/sklearn/discriminant_analysis.py:388: UserWarning: Variables are collinear.\n",
      "  warnings.warn(\"Variables are collinear.\")\n",
      "/Users/Selim/anaconda/lib/python3.6/site-packages/sklearn/discriminant_analysis.py:388: UserWarning: Variables are collinear.\n",
      "  warnings.warn(\"Variables are collinear.\")\n"
     ]
    },
    {
     "name": "stdout",
     "output_type": "stream",
     "text": [
      "Selector: S_REC_193 Predictive model: LDA: Mean=0.494643 Stand Dev=(0.123988)\n",
      "Selector: S_REC_193 Predictive model: KNN: Mean=0.401786 Stand Dev=(0.174644)\n",
      "Selector: S_REC_193 Predictive model: CART: Mean=0.405357 Stand Dev=(0.201406)\n",
      "Selector: S_REC_193 Predictive model: NB: Mean=0.532143 Stand Dev=(0.204041)\n",
      "Selector: S_REC_193 Predictive model: SVM: Mean=0.319643 Stand Dev=(0.167410)\n",
      "Selector: S_REC_193 Predictive model: GBC: Mean=0.614286 Stand Dev=(0.142231)\n",
      "Selector: S_REC_193 Predictive model: ABC: Mean=0.453571 Stand Dev=(0.087190)\n",
      "Selector: S_REC_193 Predictive model: ETC: Mean=0.446429 Stand Dev=(0.193978)\n",
      "Selector: S_REC_193 Predictive model: RFC: Mean=0.387500 Stand Dev=(0.189496)\n",
      "Selector: S_PCA_193 Predictive model: LR: Mean=0.564286 Stand Dev=(0.193188)\n",
      "Selector: S_PCA_193 Predictive model: LDA: Mean=0.337500 Stand Dev=(0.118303)\n"
     ]
    },
    {
     "name": "stderr",
     "output_type": "stream",
     "text": [
      "/Users/Selim/anaconda/lib/python3.6/site-packages/sklearn/discriminant_analysis.py:388: UserWarning: Variables are collinear.\n",
      "  warnings.warn(\"Variables are collinear.\")\n",
      "/Users/Selim/anaconda/lib/python3.6/site-packages/sklearn/discriminant_analysis.py:388: UserWarning: Variables are collinear.\n",
      "  warnings.warn(\"Variables are collinear.\")\n",
      "/Users/Selim/anaconda/lib/python3.6/site-packages/sklearn/discriminant_analysis.py:388: UserWarning: Variables are collinear.\n",
      "  warnings.warn(\"Variables are collinear.\")\n",
      "/Users/Selim/anaconda/lib/python3.6/site-packages/sklearn/discriminant_analysis.py:388: UserWarning: Variables are collinear.\n",
      "  warnings.warn(\"Variables are collinear.\")\n",
      "/Users/Selim/anaconda/lib/python3.6/site-packages/sklearn/discriminant_analysis.py:388: UserWarning: Variables are collinear.\n",
      "  warnings.warn(\"Variables are collinear.\")\n",
      "/Users/Selim/anaconda/lib/python3.6/site-packages/sklearn/discriminant_analysis.py:388: UserWarning: Variables are collinear.\n",
      "  warnings.warn(\"Variables are collinear.\")\n",
      "/Users/Selim/anaconda/lib/python3.6/site-packages/sklearn/discriminant_analysis.py:388: UserWarning: Variables are collinear.\n",
      "  warnings.warn(\"Variables are collinear.\")\n",
      "/Users/Selim/anaconda/lib/python3.6/site-packages/sklearn/discriminant_analysis.py:388: UserWarning: Variables are collinear.\n",
      "  warnings.warn(\"Variables are collinear.\")\n",
      "/Users/Selim/anaconda/lib/python3.6/site-packages/sklearn/discriminant_analysis.py:388: UserWarning: Variables are collinear.\n",
      "  warnings.warn(\"Variables are collinear.\")\n",
      "/Users/Selim/anaconda/lib/python3.6/site-packages/sklearn/discriminant_analysis.py:388: UserWarning: Variables are collinear.\n",
      "  warnings.warn(\"Variables are collinear.\")\n"
     ]
    },
    {
     "name": "stdout",
     "output_type": "stream",
     "text": [
      "Selector: S_PCA_193 Predictive model: KNN: Mean=0.362500 Stand Dev=(0.193822)\n",
      "Selector: S_PCA_193 Predictive model: CART: Mean=0.373214 Stand Dev=(0.185482)\n",
      "Selector: S_PCA_193 Predictive model: NB: Mean=0.323214 Stand Dev=(0.183408)\n",
      "Selector: S_PCA_193 Predictive model: SVM: Mean=0.360714 Stand Dev=(0.152530)\n",
      "Selector: S_PCA_193 Predictive model: GBC: Mean=0.462500 Stand Dev=(0.243205)\n",
      "Selector: S_PCA_193 Predictive model: ABC: Mean=0.362500 Stand Dev=(0.135538)\n",
      "Selector: S_PCA_193 Predictive model: ETC: Mean=0.335714 Stand Dev=(0.194438)\n",
      "Selector: S_PCA_193 Predictive model: RFC: Mean=0.471429 Stand Dev=(0.168502)\n"
     ]
    },
    {
     "data": {
      "image/png": "[encoded data removed]",
      "text/plain": [
       "<matplotlib.figure.Figure at 0x11e4bafd0>"
      ]
     },
     "metadata": {},
     "output_type": "display_data"
    }
   ],
   "source": [
    "  \n",
    "# evaluate each model in turn\n",
    "results = []\n",
    "names_model = []\n",
    "\n",
    "results_plot = []\n",
    "seed = 7\n",
    "count = 0\n",
    "count_plot = 0\n",
    "\n",
    "\n",
    "for feat, model in pipes:\n",
    "    count +=1\n",
    "    kfold = model_selection.KFold(n_splits=10, random_state=seed)\n",
    "    pipeline = Pipeline([feat, model])\n",
    "    #scorer = make_scorer((metrics.log_loss), labels = [0, 1 , 2])\n",
    "    scorer = 'accuracy'\n",
    "    cv_results = model_selection.cross_val_score(pipeline,\n",
    "                                                 X_train,\n",
    "                                                 Y_train,\n",
    "                                                 cv=kfold,\n",
    "                                                 scoring = scorer )\n",
    "    results.append(cv_results)\n",
    "    results_plot.append(cv_results)\n",
    "    names_model.append(feat[0] + ' ' + model[0])\n",
    "    msg = \"%s: Mean=%f Stand Dev=(%f)\" % ('Selector: ' + feat[0] + ' Predictive model: ' + model[0], cv_results.mean(), cv_results.std())\n",
    "    print(msg)\n",
    "    \n",
    "    if count%(len(pipes)/(len(list_N)))==0:\n",
    "        # boxplot algorithm comparison\n",
    "        fig = plt.figure()\n",
    "        fig.suptitle('Algorithm Comparison when N = {}'.format(list_N[count_plot]))\n",
    "        ax = fig.add_subplot(111)\n",
    "        plt.boxplot(results_plot)\n",
    "        ax.set_xticklabels(names_model, rotation='vertical')\n",
    "        plt.show()\n",
    "        results_plot = []\n",
    "        count_plot +=1\n",
    "                "
   ]
  },
  {
   "cell_type": "markdown",
   "metadata": {},
   "source": [
    "<h2>Selection of selection and predictive models</h2>\n",
    "<br> We take the three best estimators in mean. These will be tested other the 'TS1' test dataset. <br>\n",
    "Really not sure about me for the criterion. Because, the variance is important too. We should think about it. "
   ]
  },
  {
   "cell_type": "code",
   "execution_count": 66,
   "metadata": {},
   "outputs": [
    {
     "data": {
      "text/plain": [
       "[('S_REC_193 GBC', 0.61428571428571421),\n",
       " ('S_REC_10 GBC', 0.59999999999999987),\n",
       " ('S_PCA_10 LDA', 0.57678571428571435),\n",
       " ('S_REC_96 GBC', 0.5714285714285714),\n",
       " ('S_PCA_96 LR', 0.56428571428571428),\n",
       " ('S_UNIV_193 GBC', 0.56428571428571428),\n",
       " ('S_PCA_193 LR', 0.56428571428571428),\n",
       " ('S_REC_20 GBC', 0.55535714285714277),\n",
       " ('S_REC_10 LDA', 0.55178571428571432),\n",
       " ('S_REC_193 LR', 0.54999999999999993),\n",
       " ('S_PCA_10 LR', 0.54821428571428565),\n",
       " ('S_UNIV_193 NB', 0.54285714285714293),\n",
       " ('S_UNIV_193 CART', 0.53928571428571426),\n",
       " ('S_PCA_20 RFC', 0.53214285714285714),\n",
       " ('S_REC_193 NB', 0.53214285714285714),\n",
       " ('S_REC_20 ABC', 0.52500000000000002),\n",
       " ('S_PCA_20 LDA', 0.52499999999999991),\n",
       " ('S_UNIV_96 GBC', 0.52321428571428563),\n",
       " ('S_UNIV_193 LR', 0.52142857142857146),\n",
       " ('S_REC_10 ETC', 0.51607142857142851),\n",
       " ('S_REC_10 RFC', 0.51607142857142851),\n",
       " ('S_REC_10 LR', 0.51249999999999996),\n",
       " ('S_PCA_20 LR', 0.51071428571428568),\n",
       " ('S_PCA_20 GBC', 0.51071428571428568),\n",
       " ('S_REC_10 ABC', 0.50535714285714284),\n",
       " ('S_PCA_10 SVM', 0.50535714285714284),\n",
       " ('S_PCA_20 SVM', 0.50535714285714284),\n",
       " ('S_UNIV_193 LDA', 0.50178571428571428),\n",
       " ('S_UNIV_193 ABC', 0.49821428571428567),\n",
       " ('S_REC_20 CART', 0.49642857142857133),\n",
       " ('S_REC_193 LDA', 0.49464285714285711),\n",
       " ('S_REC_10 CART', 0.49285714285714277),\n",
       " ('S_REC_20 LR', 0.48392857142857143),\n",
       " ('S_REC_96 LR', 0.48392857142857143),\n",
       " ('S_PCA_10 ABC', 0.48035714285714282),\n",
       " ('S_REC_96 ABC', 0.47678571428571426),\n",
       " ('S_UNIV_20 ETC', 0.47142857142857142),\n",
       " ('S_UNIV_96 LR', 0.47142857142857142),\n",
       " ('S_PCA_193 RFC', 0.47142857142857142),\n",
       " ('S_UNIV_193 ETC', 0.46964285714285714),\n",
       " ('S_REC_96 KNN', 0.4678571428571428),\n",
       " ('S_PCA_96 GBC', 0.46428571428571425),\n",
       " ('S_PCA_193 GBC', 0.46250000000000002),\n",
       " ('S_PCA_20 ABC', 0.45714285714285713),\n",
       " ('S_REC_96 LDA', 0.45714285714285713),\n",
       " ('S_PCA_20 NB', 0.45535714285714279),\n",
       " ('S_UNIV_96 ABC', 0.45535714285714279),\n",
       " ('S_REC_96 NB', 0.45535714285714279),\n",
       " ('S_PCA_10 RFC', 0.45357142857142857),\n",
       " ('S_PCA_96 CART', 0.45357142857142857),\n",
       " ('S_PCA_96 ETC', 0.45357142857142857),\n",
       " ('S_REC_193 ABC', 0.45357142857142857),\n",
       " ('S_PCA_10 NB', 0.45178571428571423),\n",
       " ('S_PCA_10 GBC', 0.45178571428571423),\n",
       " ('S_REC_193 ETC', 0.44642857142857145),\n",
       " ('S_REC_96 ETC', 0.44285714285714278),\n",
       " ('S_UNIV_193 RFC', 0.44285714285714278),\n",
       " ('S_UNIV_193 KNN', 0.44107142857142856),\n",
       " ('S_REC_20 RFC', 0.43928571428571422),\n",
       " ('S_PCA_96 RFC', 0.43928571428571422),\n",
       " ('S_REC_10 KNN', 0.43214285714285711),\n",
       " ('S_UNIV_96 NB', 0.43035714285714288),\n",
       " ('S_UNIV_96 CART', 0.43035714285714277),\n",
       " ('S_REC_20 ETC', 0.42678571428571432),\n",
       " ('S_PCA_20 CART', 0.42321428571428565),\n",
       " ('S_UNIV_20 CART', 0.42142857142857137),\n",
       " ('S_REC_10 NB', 0.4196428571428571),\n",
       " ('S_UNIV_20 GBC', 0.41785714285714282),\n",
       " ('S_REC_20 KNN', 0.41607142857142854),\n",
       " ('S_PCA_20 KNN', 0.4107142857142857),\n",
       " ('S_PCA_10 ETC', 0.4053571428571428),\n",
       " ('S_REC_193 CART', 0.4053571428571428),\n",
       " ('S_PCA_10 CART', 0.40357142857142858),\n",
       " ('S_UNIV_20 LR', 0.40357142857142858),\n",
       " ('S_UNIV_20 ABC', 0.40357142857142858),\n",
       " ('S_REC_193 KNN', 0.4017857142857143),\n",
       " ('S_REC_96 CART', 0.40178571428571425),\n",
       " ('S_REC_20 LDA', 0.39821428571428569),\n",
       " ('S_UNIV_96 RFC', 0.39821428571428569),\n",
       " ('S_REC_20 SVM', 0.39107142857142857),\n",
       " ('S_UNIV_10 NB', 0.38928571428571429),\n",
       " ('S_UNIV_96 ETC', 0.38928571428571429),\n",
       " ('S_REC_10 SVM', 0.38750000000000001),\n",
       " ('S_REC_193 RFC', 0.38750000000000001),\n",
       " ('S_UNIV_10 GBC', 0.38749999999999996),\n",
       " ('S_UNIV_10 ABC', 0.38749999999999996),\n",
       " ('S_UNIV_10 ETC', 0.38749999999999996),\n",
       " ('S_UNIV_10 RFC', 0.38571428571428568),\n",
       " ('S_UNIV_10 KNN', 0.37678571428571428),\n",
       " ('S_UNIV_10 SVM', 0.375),\n",
       " ('S_UNIV_10 CART', 0.37499999999999994),\n",
       " ('S_UNIV_20 NB', 0.37499999999999994),\n",
       " ('S_UNIV_20 RFC', 0.37321428571428572),\n",
       " ('S_UNIV_96 KNN', 0.37321428571428572),\n",
       " ('S_UNIV_20 KNN', 0.37321428571428567),\n",
       " ('S_REC_20 NB', 0.37321428571428567),\n",
       " ('S_PCA_193 CART', 0.37321428571428567),\n",
       " ('S_PCA_10 KNN', 0.37142857142857133),\n",
       " ('S_PCA_96 KNN', 0.36249999999999999),\n",
       " ('S_PCA_193 KNN', 0.36249999999999999),\n",
       " ('S_PCA_96 ABC', 0.36249999999999993),\n",
       " ('S_PCA_193 ABC', 0.36249999999999993),\n",
       " ('S_PCA_96 SVM', 0.36071428571428571),\n",
       " ('S_PCA_193 SVM', 0.36071428571428571),\n",
       " ('S_UNIV_10 LDA', 0.36071428571428565),\n",
       " ('S_REC_96 RFC', 0.3482142857142857),\n",
       " ('S_UNIV_20 LDA', 0.34642857142857142),\n",
       " ('S_PCA_20 ETC', 0.34642857142857142),\n",
       " ('S_PCA_96 LDA', 0.33749999999999997),\n",
       " ('S_PCA_193 LDA', 0.33749999999999997),\n",
       " ('S_PCA_193 ETC', 0.33571428571428569),\n",
       " ('S_UNIV_10 LR', 0.33392857142857141),\n",
       " ('S_PCA_96 NB', 0.32321428571428573),\n",
       " ('S_PCA_193 NB', 0.32321428571428573),\n",
       " ('S_UNIV_96 LDA', 0.32321428571428568),\n",
       " ('S_UNIV_20 SVM', 0.31964285714285712),\n",
       " ('S_UNIV_96 SVM', 0.31964285714285712),\n",
       " ('S_REC_96 SVM', 0.31964285714285712),\n",
       " ('S_UNIV_193 SVM', 0.31964285714285712),\n",
       " ('S_REC_193 SVM', 0.31964285714285712)]"
      ]
     },
     "execution_count": 66,
     "metadata": {},
     "output_type": "execute_result"
    }
   ],
   "source": [
    "list_results = []\n",
    "for i in range(len(results)):\n",
    "    list_results.append((names_model[i], results[i].mean()))\n",
    "list_results.sort(key=lambda tup: tup[1], reverse = True)\n",
    "list_results"
   ]
  },
  {
   "cell_type": "code",
   "execution_count": 67,
   "metadata": {},
   "outputs": [
    {
     "data": {
      "text/plain": [
       "('S_REC_193 GBC',\n",
       " 'S_REC_10 GBC',\n",
       " 'S_PCA_10 LDA',\n",
       " 'S_REC_96 GBC',\n",
       " 'S_PCA_96 LR',\n",
       " 'S_UNIV_193 GBC',\n",
       " 'S_PCA_193 LR',\n",
       " 'S_REC_20 GBC',\n",
       " 'S_REC_10 LDA',\n",
       " 'S_REC_193 LR')"
      ]
     },
     "execution_count": 67,
     "metadata": {},
     "output_type": "execute_result"
    }
   ],
   "source": [
    "selected_feat_model = list(zip(*list_results[0:10]))[0]\n",
    "selected_feat_model"
   ]
  },
  {
   "cell_type": "markdown",
   "metadata": {},
   "source": [
    "<h1>Testing over the Testing dataset</h1> <br>\n",
    "Now, we have to test the top-10 models over the remaining training set. Our aim is to see how are they are behaviouring over an un-known dataset and select the best. We will also, and it's the most import ensure there is no overfitting. "
   ]
  },
  {
   "cell_type": "markdown",
   "metadata": {},
   "source": [
    "<h2>List of selected</h2>"
   ]
  },
  {
   "cell_type": "code",
   "execution_count": 68,
   "metadata": {
    "collapsed": true
   },
   "outputs": [],
   "source": [
    "best_pipes = []\n",
    "\n",
    "for j in range(len(selected_feat_model)):\n",
    "    for i in range(len(pipes)):\n",
    "        f = pipes[i][0][0] + ' ' + pipes[i][1][0]\n",
    "        if f == selected_feat_model[j]:\n",
    "            best_pipes.append((f, pipes[i]))\n",
    "#print(best_pipes)            "
   ]
  },
  {
   "cell_type": "markdown",
   "metadata": {},
   "source": [
    "<h2>Confusion Matrix</h2>"
   ]
  },
  {
   "cell_type": "code",
   "execution_count": 69,
   "metadata": {
    "collapsed": true
   },
   "outputs": [],
   "source": [
    "import itertools\n",
    "import numpy as np\n",
    "import matplotlib.pyplot as plt\n",
    "\n",
    "from sklearn import svm, datasets\n",
    "from sklearn.model_selection import train_test_split\n",
    "from sklearn.metrics import confusion_matrix\n",
    "from sklearn.metrics import confusion_matrix, roc_curve\n",
    "\n",
    "\n",
    "# import some data to play with\n",
    "\n",
    "class_names = author_list\n",
    "\n",
    "\n",
    "\n",
    "\n",
    "def plot_confusion_matrix(cm, classes,\n",
    "                          normalize=False,\n",
    "                          title='Confusion matrix',\n",
    "                          cmap=plt.cm.Blues):\n",
    "    \"\"\"\n",
    "    This function prints and plots the confusion matrix.\n",
    "    Normalization can be applied by setting `normalize=True`.\n",
    "    \"\"\"\n",
    "    if normalize:\n",
    "        cm = cm.astype('float') / cm.sum(axis=1)[:, np.newaxis]\n",
    "        print(\"Normalized confusion matrix\")\n",
    "    else:\n",
    "        print('Confusion matrix, without normalization')\n",
    "\n",
    "    print(cm)\n",
    "\n",
    "    plt.imshow(cm, interpolation='nearest', cmap=cmap)\n",
    "    plt.title(title)\n",
    "    plt.colorbar()\n",
    "    tick_marks = np.arange(len(classes))\n",
    "    plt.xticks(tick_marks, classes, rotation=45)\n",
    "    plt.yticks(tick_marks, classes)\n",
    "\n",
    "    fmt = '.2f' if normalize else 'd'\n",
    "    thresh = cm.max() / 2.\n",
    "    for i, j in itertools.product(range(cm.shape[0]), range(cm.shape[1])):\n",
    "        plt.text(j, i, format(cm[i, j], fmt),\n",
    "                 horizontalalignment=\"center\",\n",
    "                 color=\"white\" if cm[i, j] > thresh else \"black\")\n",
    "\n",
    "    plt.tight_layout()\n",
    "    plt.ylabel('True label')\n",
    "    plt.xlabel('Predicted label')\n",
    "\n"
   ]
  },
  {
   "cell_type": "code",
   "execution_count": 70,
   "metadata": {
    "collapsed": true
   },
   "outputs": [],
   "source": [
    "\n",
    "def final_plot_confusion(Y_test, Y_pred):\n",
    "\n",
    "    cm = confusion_matrix(Y_test, Y_pred)\n",
    "\n",
    "    # Plot non-normalized confusion matrix\n",
    "    plt.figure()\n",
    "    plot_confusion_matrix(cm, classes=class_names,\n",
    "                          title='Confusion matrix, without normalization')\n",
    "\n",
    "    # Plot normalized confusion matrix\n",
    "    plt.figure()\n",
    "    plot_confusion_matrix(cm, classes=class_names, normalize=True,\n",
    "                          title='Normalized confusion matrix')\n",
    "\n",
    "    plt.show()"
   ]
  },
  {
   "cell_type": "markdown",
   "metadata": {},
   "source": [
    "<h2>Test over Top Pipeline</h2>"
   ]
  },
  {
   "cell_type": "code",
   "execution_count": 71,
   "metadata": {
    "collapsed": true
   },
   "outputs": [],
   "source": [
    "log_loss_list = []\n",
    "for i in range(len(best_pipes)):\n",
    "    name = best_pipes[i][0]\n",
    "    pipeline = Pipeline([best_pipes[i][1][0], best_pipes[i][1][1]])\n",
    "    pipeline.fit(X_train, Y_train)\n",
    "    Y_pred = pipeline.predict(X_test)\n",
    "    y_prob_output = pipeline.predict_proba(X_test) #this is what we send to kaggle.\n",
    "    result = log_loss(Y_test, y_prob_output)\n",
    "    log_loss_list.append((name, result, pipeline))\n",
    "\n",
    "    \n",
    "log_loss_list.sort(key=lambda tup: tup[1], reverse = False)\n",
    "#log_loss_list"
   ]
  },
  {
   "cell_type": "code",
   "execution_count": 72,
   "metadata": {
    "scrolled": true
   },
   "outputs": [
    {
     "name": "stdout",
     "output_type": "stream",
     "text": [
      "The best combination Number, Processing, Model is S_PCA_10 LDA with a log_loss score of 1.33171964493\n"
     ]
    }
   ],
   "source": [
    "winner = log_loss_list[0]\n",
    "print('The best combination Number, Processing, Model is ' \n",
    "      + winner[0]\n",
    "     + ' with a log_loss score of '\n",
    "     + str(winner[1]))"
   ]
  },
  {
   "cell_type": "markdown",
   "metadata": {},
   "source": [
    "<h2>Confusion Matrix</h2>"
   ]
  },
  {
   "cell_type": "code",
   "execution_count": 73,
   "metadata": {},
   "outputs": [
    {
     "name": "stdout",
     "output_type": "stream",
     "text": [
      "Confusion matrix, without normalization\n",
      "[[3 2 6]\n",
      " [5 1 2]\n",
      " [2 0 4]]\n",
      "Normalized confusion matrix\n",
      "[[ 0.27272727  0.18181818  0.54545455]\n",
      " [ 0.625       0.125       0.25      ]\n",
      " [ 0.33333333  0.          0.66666667]]\n"
     ]
    },
    {
     "data": {
      "image/png": "[encoded data removed]",
      "text/plain": [
       "<matplotlib.figure.Figure at 0x11ae3f7b8>"
      ]
     },
     "metadata": {},
     "output_type": "display_data"
    },
    {
     "data": {
      "image/png": "[encoded data removed]",
      "text/plain": [
       "<matplotlib.figure.Figure at 0x11bbea160>"
      ]
     },
     "metadata": {},
     "output_type": "display_data"
    }
   ],
   "source": [
    "pipeline = winner[2]\n",
    "pipeline.fit(X_train, Y_train)\n",
    "Y_pred = pipeline.predict(X_test)\n",
    "y_prob_output = pipeline.predict_proba(X_test)  \n",
    "final_plot_confusion(Y_test, Y_pred)  "
   ]
  },
  {
   "cell_type": "markdown",
   "metadata": {},
   "source": [
    "<h2>Submission to Kaggle</h2>\n",
    "First, we must adapt the features building functions."
   ]
  },
  {
   "cell_type": "markdown",
   "metadata": {},
   "source": [
    "<h3>Loading Test Set</h3>"
   ]
  },
  {
   "cell_type": "code",
   "execution_count": 74,
   "metadata": {
    "collapsed": true
   },
   "outputs": [],
   "source": [
    "#loading of test dataset\n",
    "test = pd.read_csv(\"test.csv\")\n",
    "\n",
    "test.text= test.text.astype(str)\n",
    "\n",
    "test = test[0:30] #for coding \n",
    "#construction of the feature vectors\n"
   ]
  },
  {
   "cell_type": "markdown",
   "metadata": {},
   "source": [
    "<h3>Adapting building functions</h3>"
   ]
  },
  {
   "cell_type": "code",
   "execution_count": 75,
   "metadata": {
    "collapsed": true
   },
   "outputs": [],
   "source": [
    "\n",
    "def counting_a_test(a, analyzer_type, process = None, lowercase = True, token_pattern = None):\n",
    "    \n",
    "    \n",
    "    if token_pattern == None:\n",
    "        bow_transformer = CountVectorizer(analyzer = analyzer_type,\n",
    "                                      lowercase = lowercase,\n",
    "                                      ngram_range = (a, a),\n",
    "                                      stop_words='english')\n",
    "    elif token_pattern == 'token_pos':\n",
    "        bow_transformer = CountVectorizer(analyzer = analyzer_type,\n",
    "                                          lowercase = lowercase,\n",
    "                                          ngram_range = (a, a),\n",
    "                                          token_pattern =  r\"(?u)\\b\\w\\w+\\b|!|\\?|\\\"|\\'|\\.|\\,|\\;|\\:|\\$|\\(|\\)|\\--|\\&|\\``|\\'' + PRP$ + WP$\",\n",
    "                                          stop_words='english')\n",
    "\n",
    "    if process == None: \n",
    "        bow_transformer.fit(train['text'])\n",
    "        messages_bow = bow_transformer.transform(train['text'])\n",
    "        messages_bow_test = bow_transformer.transform(test['text'])  \n",
    "    elif process == 'transform_tag':\n",
    "        bow_transformer.fit(train['text'].apply(transform_tag))\n",
    "        messages_bow = bow_transformer.transform(train['text'].apply(transform_tag))\n",
    "        messages_bow_test = bow_transformer.transform(test['text'].apply(transform_tag))\n",
    "        \n",
    "    #this is the DataFrame Concerning the regular counting of words\n",
    "    tfidf_transformer = TfidfTransformer().fit(messages_bow)\n",
    "    messages_tfidf = tfidf_transformer.transform(messages_bow)\n",
    "    messages_tfidf_test = tfidf_transformer.transform(messages_bow_test)\n",
    "    \n",
    "    names = bow_transformer.get_feature_names()\n",
    "    \n",
    "    return messages_tfidf, names, messages_tfidf_test\n",
    "   \n"
   ]
  },
  {
   "cell_type": "code",
   "execution_count": 76,
   "metadata": {
    "collapsed": true
   },
   "outputs": [],
   "source": [
    "#should be adapted when we'll add features\n",
    "\n",
    "def build_bag_a_test(a,  analyzer_type, process = None, lowercase = True, token_pattern = None):\n",
    "    build = counting_a_test(a, \n",
    "                     'word', \n",
    "                     process = process, \n",
    "                     lowercase = lowercase, \n",
    "                     token_pattern = token_pattern)\n",
    "    \n",
    "    alpha = top_feats_by_class(build[0], tr1.author, build[1])\n",
    "\n",
    "    a = list(alpha[0].feature.values)\n",
    "    b = list(alpha[1].feature.values)\n",
    "    c = list(alpha[2].feature.values)\n",
    "    bag = set(a + b + c)\n",
    "    df_bag = train.copy()\n",
    "    df_bag_test = test.copy()\n",
    "\n",
    "    for w in bag:\n",
    "        vec = build[0][:, build[1].index(w)].toarray()\n",
    "        df_bag[w] = vec\n",
    "\n",
    "        vec_test = build[2][:, build[1].index(w)].toarray()\n",
    "        df_bag_test[w] = vec_test\n",
    "        \n",
    "        \n",
    "    return df_bag, df_bag_test"
   ]
  },
  {
   "cell_type": "code",
   "execution_count": 77,
   "metadata": {
    "collapsed": true
   },
   "outputs": [],
   "source": [
    "#we build here the 2 feature datasets (one for TR1, one for TS1)\n",
    "def build_bunch_train(dataframe):\n",
    "    list_df = [build_sensi(dataframe),\n",
    "               build_meta(dataframe),\n",
    "               build_bag_a_test(1,'word')[0],\n",
    "               build_bag_a_test(2,'word')[0],\n",
    "               build_bag_a_test(3,'word')[0],\n",
    "               build_bag_a_test(1,'char')[0],\n",
    "               build_bag_a_test(2,'char')[0],\n",
    "               build_bag_a_test(3,'char')[0],\n",
    "               build_bag_a_test(1,\n",
    "                         'word', \n",
    "                         process = 'transform_tag',\n",
    "                         lowercase = False, \n",
    "                         token_pattern = 'token_pos')[0],\n",
    "               build_bag_a_test(2,\n",
    "                         'word', \n",
    "                         process = 'transform_tag',\n",
    "                         lowercase = False, \n",
    "                         token_pattern = 'token_pos')[0],\n",
    "               build_bag_a_test(3,\n",
    "                         'word', \n",
    "                         process = 'transform_tag',\n",
    "                         lowercase = False, \n",
    "                         token_pattern = 'token_pos')[0]\n",
    "              ]\n",
    "\n",
    "    bunch = pd.merge(list_df[0], list_df[1])\n",
    "    \n",
    "    for i in range(2, len(list_df)):\n",
    "        bunch = pd.merge(bunch, list_df[i])\n",
    "    \n",
    "    return bunch\n",
    "\n",
    "def build_bunch_test(dataframe):\n",
    "    list_df = [build_sensi(dataframe),\n",
    "               build_meta(dataframe),\n",
    "               build_bag_a_test(1,'word')[1], \n",
    "               build_bag_a_test(2,'word')[1], \n",
    "               build_bag_a_test(3,'word')[1], \n",
    "               build_bag_a_test(1,'char')[1],\n",
    "               build_bag_a_test(2,'char')[1],\n",
    "               build_bag_a_test(3,'char')[1], \n",
    "               build_bag_a_test(1,'word', \n",
    "                     process = 'transform_tag',\n",
    "                     lowercase = False, \n",
    "                     token_pattern = 'token_pos')[1],\n",
    "               build_bag_a_test(2,'word', \n",
    "                     process = 'transform_tag',\n",
    "                     lowercase = False, \n",
    "                     token_pattern = 'token_pos')[1],\n",
    "               build_bag_a_test(3,'word', \n",
    "                     process = 'transform_tag',\n",
    "                     lowercase = False, \n",
    "                     token_pattern = 'token_pos')[1]\n",
    "              ]\n",
    "\n",
    "    bunch = pd.merge(list_df[0], list_df[1])\n",
    "    \n",
    "    for i in range(2, len(list_df)):\n",
    "        bunch = pd.merge(bunch, list_df[i])\n",
    "    \n",
    "    return bunch\n",
    "\n",
    "#df_feat_train = build_bunch_train(train)\n",
    "df_feat_test = build_bunch_test(test)"
   ]
  },
  {
   "cell_type": "markdown",
   "metadata": {},
   "source": [
    "<h3>Training over all the Training Dataset</h3>"
   ]
  },
  {
   "cell_type": "code",
   "execution_count": 78,
   "metadata": {
    "collapsed": true
   },
   "outputs": [],
   "source": [
    "# load dataset\n",
    "\n",
    "names = author_list\n",
    "dataframe_train = build_normalization(build_bunch_train(train))\n",
    "array = dataframe_train.values\n",
    "X_train = array[:,3:]\n",
    "Y_train = array[:,2]\n",
    "\n",
    "names = author_list\n",
    "dataframe_test = build_normalization(build_bunch_test(test))\n",
    "array = dataframe_test.values\n",
    "X_test = array[:,2:]\n",
    "Y_test = array[:,2]"
   ]
  },
  {
   "cell_type": "code",
   "execution_count": 79,
   "metadata": {},
   "outputs": [
    {
     "data": {
      "text/plain": [
       "Pipeline(memory=None,\n",
       "     steps=[('S_PCA_10', PCA(copy=True, iterated_power='auto', n_components=10, random_state=None,\n",
       "  svd_solver='auto', tol=0.0, whiten=False)), ('LDA', LinearDiscriminantAnalysis(n_components=None, priors=None, shrinkage=None,\n",
       "              solver='svd', store_covariance=False, tol=0.0001))])"
      ]
     },
     "execution_count": 79,
     "metadata": {},
     "output_type": "execute_result"
    }
   ],
   "source": [
    "#training\n",
    "pipeline = winner[2]\n",
    "pipeline.fit(X_train, Y_train)\n"
   ]
  },
  {
   "cell_type": "markdown",
   "metadata": {},
   "source": [
    "<h3>Generating the probabilities</h3>"
   ]
  },
  {
   "cell_type": "code",
   "execution_count": 80,
   "metadata": {
    "collapsed": true
   },
   "outputs": [],
   "source": [
    "Y_pred = pipeline.predict(X_test)\n",
    "y_prob_output = pipeline.predict_proba(X_test)"
   ]
  },
  {
   "cell_type": "code",
   "execution_count": 81,
   "metadata": {},
   "outputs": [
    {
     "name": "stdout",
     "output_type": "stream",
     "text": [
      "[[ 0.19362778  0.12997378  0.67639844]\n",
      " [ 0.62645881  0.2063002   0.16724099]\n",
      " [ 0.30396078  0.32824069  0.36779853]\n",
      " [ 0.318928    0.24442425  0.43664775]\n",
      " [ 0.27057207  0.20677006  0.52265787]\n",
      " [ 0.4011338   0.29154299  0.3073232 ]\n",
      " [ 0.48200641  0.40033834  0.11765524]\n",
      " [ 0.16476152  0.24054137  0.5946971 ]\n",
      " [ 0.61384306  0.25344081  0.13271613]\n",
      " [ 0.46894088  0.44252599  0.08853313]\n",
      " [ 0.34190332  0.25716923  0.40092746]\n",
      " [ 0.27798312  0.33021552  0.39180136]\n",
      " [ 0.22147673  0.1355737   0.64294958]\n",
      " [ 0.38215189  0.37177762  0.24607049]\n",
      " [ 0.46469062  0.4338128   0.10149658]\n",
      " [ 0.42565334  0.24864531  0.32570136]\n",
      " [ 0.2812866   0.26901747  0.44969593]\n",
      " [ 0.52871207  0.33219385  0.13909408]\n",
      " [ 0.40842333  0.32871477  0.2628619 ]\n",
      " [ 0.3543366   0.2870998   0.3585636 ]\n",
      " [ 0.51598657  0.328315    0.15569843]\n",
      " [ 0.29090611  0.19855296  0.51054093]\n",
      " [ 0.47895623  0.41213013  0.10891364]\n",
      " [ 0.44033103  0.45655     0.10311897]\n",
      " [ 0.39668874  0.26357939  0.33973187]\n",
      " [ 0.28362641  0.23123132  0.48514227]\n",
      " [ 0.37921148  0.29681591  0.32397261]\n",
      " [ 0.57163341  0.33803001  0.09033657]\n",
      " [ 0.20227902  0.08925418  0.7084668 ]\n",
      " [ 0.28543773  0.09792671  0.61663556]]\n"
     ]
    }
   ],
   "source": [
    "print(y_prob_output)"
   ]
  },
  {
   "cell_type": "markdown",
   "metadata": {},
   "source": [
    "<h3>CSV File</h3>"
   ]
  },
  {
   "cell_type": "code",
   "execution_count": 82,
   "metadata": {},
   "outputs": [
    {
     "data": {
      "text/plain": [
       "array([ 0.19362778,  0.62645881,  0.30396078,  0.318928  ,  0.27057207,\n",
       "        0.4011338 ,  0.48200641,  0.16476152,  0.61384306,  0.46894088,\n",
       "        0.34190332,  0.27798312,  0.22147673,  0.38215189,  0.46469062,\n",
       "        0.42565334,  0.2812866 ,  0.52871207,  0.40842333,  0.3543366 ,\n",
       "        0.51598657,  0.29090611,  0.47895623,  0.44033103,  0.39668874,\n",
       "        0.28362641,  0.37921148,  0.57163341,  0.20227902,  0.28543773])"
      ]
     },
     "execution_count": 82,
     "metadata": {},
     "output_type": "execute_result"
    }
   ],
   "source": [
    "y_prob_output[:,0]"
   ]
  },
  {
   "cell_type": "code",
   "execution_count": 83,
   "metadata": {},
   "outputs": [
    {
     "data": {
      "text/html": [
       "<div>\n",
       "<style>\n",
       "    .dataframe thead tr:only-child th {\n",
       "        text-align: right;\n",
       "    }\n",
       "\n",
       "    .dataframe thead th {\n",
       "        text-align: left;\n",
       "    }\n",
       "\n",
       "    .dataframe tbody tr th {\n",
       "        vertical-align: top;\n",
       "    }\n",
       "</style>\n",
       "<table border=\"1\" class=\"dataframe\">\n",
       "  <thead>\n",
       "    <tr style=\"text-align: right;\">\n",
       "      <th></th>\n",
       "      <th>id</th>\n",
       "      <th>EAP</th>\n",
       "      <th>HPL</th>\n",
       "      <th>MWS</th>\n",
       "    </tr>\n",
       "  </thead>\n",
       "  <tbody>\n",
       "    <tr>\n",
       "      <th>0</th>\n",
       "      <td>id02310</td>\n",
       "      <td>0.193628</td>\n",
       "      <td>0.129974</td>\n",
       "      <td>0.676398</td>\n",
       "    </tr>\n",
       "    <tr>\n",
       "      <th>1</th>\n",
       "      <td>id24541</td>\n",
       "      <td>0.626459</td>\n",
       "      <td>0.206300</td>\n",
       "      <td>0.167241</td>\n",
       "    </tr>\n",
       "    <tr>\n",
       "      <th>2</th>\n",
       "      <td>id00134</td>\n",
       "      <td>0.303961</td>\n",
       "      <td>0.328241</td>\n",
       "      <td>0.367799</td>\n",
       "    </tr>\n",
       "    <tr>\n",
       "      <th>3</th>\n",
       "      <td>id27757</td>\n",
       "      <td>0.318928</td>\n",
       "      <td>0.244424</td>\n",
       "      <td>0.436648</td>\n",
       "    </tr>\n",
       "    <tr>\n",
       "      <th>4</th>\n",
       "      <td>id04081</td>\n",
       "      <td>0.270572</td>\n",
       "      <td>0.206770</td>\n",
       "      <td>0.522658</td>\n",
       "    </tr>\n",
       "    <tr>\n",
       "      <th>5</th>\n",
       "      <td>id27337</td>\n",
       "      <td>0.401134</td>\n",
       "      <td>0.291543</td>\n",
       "      <td>0.307323</td>\n",
       "    </tr>\n",
       "    <tr>\n",
       "      <th>6</th>\n",
       "      <td>id24265</td>\n",
       "      <td>0.482006</td>\n",
       "      <td>0.400338</td>\n",
       "      <td>0.117655</td>\n",
       "    </tr>\n",
       "    <tr>\n",
       "      <th>7</th>\n",
       "      <td>id25917</td>\n",
       "      <td>0.164762</td>\n",
       "      <td>0.240541</td>\n",
       "      <td>0.594697</td>\n",
       "    </tr>\n",
       "    <tr>\n",
       "      <th>8</th>\n",
       "      <td>id04951</td>\n",
       "      <td>0.613843</td>\n",
       "      <td>0.253441</td>\n",
       "      <td>0.132716</td>\n",
       "    </tr>\n",
       "    <tr>\n",
       "      <th>9</th>\n",
       "      <td>id14549</td>\n",
       "      <td>0.468941</td>\n",
       "      <td>0.442526</td>\n",
       "      <td>0.088533</td>\n",
       "    </tr>\n",
       "    <tr>\n",
       "      <th>10</th>\n",
       "      <td>id22505</td>\n",
       "      <td>0.341903</td>\n",
       "      <td>0.257169</td>\n",
       "      <td>0.400927</td>\n",
       "    </tr>\n",
       "    <tr>\n",
       "      <th>11</th>\n",
       "      <td>id24002</td>\n",
       "      <td>0.277983</td>\n",
       "      <td>0.330216</td>\n",
       "      <td>0.391801</td>\n",
       "    </tr>\n",
       "    <tr>\n",
       "      <th>12</th>\n",
       "      <td>id18982</td>\n",
       "      <td>0.221477</td>\n",
       "      <td>0.135574</td>\n",
       "      <td>0.642950</td>\n",
       "    </tr>\n",
       "    <tr>\n",
       "      <th>13</th>\n",
       "      <td>id15181</td>\n",
       "      <td>0.382152</td>\n",
       "      <td>0.371778</td>\n",
       "      <td>0.246070</td>\n",
       "    </tr>\n",
       "    <tr>\n",
       "      <th>14</th>\n",
       "      <td>id21888</td>\n",
       "      <td>0.464691</td>\n",
       "      <td>0.433813</td>\n",
       "      <td>0.101497</td>\n",
       "    </tr>\n",
       "    <tr>\n",
       "      <th>15</th>\n",
       "      <td>id12035</td>\n",
       "      <td>0.425653</td>\n",
       "      <td>0.248645</td>\n",
       "      <td>0.325701</td>\n",
       "    </tr>\n",
       "    <tr>\n",
       "      <th>16</th>\n",
       "      <td>id17991</td>\n",
       "      <td>0.281287</td>\n",
       "      <td>0.269017</td>\n",
       "      <td>0.449696</td>\n",
       "    </tr>\n",
       "    <tr>\n",
       "      <th>17</th>\n",
       "      <td>id10707</td>\n",
       "      <td>0.528712</td>\n",
       "      <td>0.332194</td>\n",
       "      <td>0.139094</td>\n",
       "    </tr>\n",
       "    <tr>\n",
       "      <th>18</th>\n",
       "      <td>id07101</td>\n",
       "      <td>0.408423</td>\n",
       "      <td>0.328715</td>\n",
       "      <td>0.262862</td>\n",
       "    </tr>\n",
       "    <tr>\n",
       "      <th>19</th>\n",
       "      <td>id00345</td>\n",
       "      <td>0.354337</td>\n",
       "      <td>0.287100</td>\n",
       "      <td>0.358564</td>\n",
       "    </tr>\n",
       "    <tr>\n",
       "      <th>20</th>\n",
       "      <td>id05912</td>\n",
       "      <td>0.515987</td>\n",
       "      <td>0.328315</td>\n",
       "      <td>0.155698</td>\n",
       "    </tr>\n",
       "    <tr>\n",
       "      <th>21</th>\n",
       "      <td>id13443</td>\n",
       "      <td>0.290906</td>\n",
       "      <td>0.198553</td>\n",
       "      <td>0.510541</td>\n",
       "    </tr>\n",
       "    <tr>\n",
       "      <th>22</th>\n",
       "      <td>id09248</td>\n",
       "      <td>0.478956</td>\n",
       "      <td>0.412130</td>\n",
       "      <td>0.108914</td>\n",
       "    </tr>\n",
       "    <tr>\n",
       "      <th>23</th>\n",
       "      <td>id17542</td>\n",
       "      <td>0.440331</td>\n",
       "      <td>0.456550</td>\n",
       "      <td>0.103119</td>\n",
       "    </tr>\n",
       "    <tr>\n",
       "      <th>24</th>\n",
       "      <td>id06995</td>\n",
       "      <td>0.396689</td>\n",
       "      <td>0.263579</td>\n",
       "      <td>0.339732</td>\n",
       "    </tr>\n",
       "    <tr>\n",
       "      <th>25</th>\n",
       "      <td>id25159</td>\n",
       "      <td>0.283626</td>\n",
       "      <td>0.231231</td>\n",
       "      <td>0.485142</td>\n",
       "    </tr>\n",
       "    <tr>\n",
       "      <th>26</th>\n",
       "      <td>id25729</td>\n",
       "      <td>0.379211</td>\n",
       "      <td>0.296816</td>\n",
       "      <td>0.323973</td>\n",
       "    </tr>\n",
       "    <tr>\n",
       "      <th>27</th>\n",
       "      <td>id26949</td>\n",
       "      <td>0.571633</td>\n",
       "      <td>0.338030</td>\n",
       "      <td>0.090337</td>\n",
       "    </tr>\n",
       "    <tr>\n",
       "      <th>28</th>\n",
       "      <td>id27191</td>\n",
       "      <td>0.202279</td>\n",
       "      <td>0.089254</td>\n",
       "      <td>0.708467</td>\n",
       "    </tr>\n",
       "    <tr>\n",
       "      <th>29</th>\n",
       "      <td>id07668</td>\n",
       "      <td>0.285438</td>\n",
       "      <td>0.097927</td>\n",
       "      <td>0.616636</td>\n",
       "    </tr>\n",
       "  </tbody>\n",
       "</table>\n",
       "</div>"
      ],
      "text/plain": [
       "         id       EAP       HPL       MWS\n",
       "0   id02310  0.193628  0.129974  0.676398\n",
       "1   id24541  0.626459  0.206300  0.167241\n",
       "2   id00134  0.303961  0.328241  0.367799\n",
       "3   id27757  0.318928  0.244424  0.436648\n",
       "4   id04081  0.270572  0.206770  0.522658\n",
       "5   id27337  0.401134  0.291543  0.307323\n",
       "6   id24265  0.482006  0.400338  0.117655\n",
       "7   id25917  0.164762  0.240541  0.594697\n",
       "8   id04951  0.613843  0.253441  0.132716\n",
       "9   id14549  0.468941  0.442526  0.088533\n",
       "10  id22505  0.341903  0.257169  0.400927\n",
       "11  id24002  0.277983  0.330216  0.391801\n",
       "12  id18982  0.221477  0.135574  0.642950\n",
       "13  id15181  0.382152  0.371778  0.246070\n",
       "14  id21888  0.464691  0.433813  0.101497\n",
       "15  id12035  0.425653  0.248645  0.325701\n",
       "16  id17991  0.281287  0.269017  0.449696\n",
       "17  id10707  0.528712  0.332194  0.139094\n",
       "18  id07101  0.408423  0.328715  0.262862\n",
       "19  id00345  0.354337  0.287100  0.358564\n",
       "20  id05912  0.515987  0.328315  0.155698\n",
       "21  id13443  0.290906  0.198553  0.510541\n",
       "22  id09248  0.478956  0.412130  0.108914\n",
       "23  id17542  0.440331  0.456550  0.103119\n",
       "24  id06995  0.396689  0.263579  0.339732\n",
       "25  id25159  0.283626  0.231231  0.485142\n",
       "26  id25729  0.379211  0.296816  0.323973\n",
       "27  id26949  0.571633  0.338030  0.090337\n",
       "28  id27191  0.202279  0.089254  0.708467\n",
       "29  id07668  0.285438  0.097927  0.616636"
      ]
     },
     "execution_count": 83,
     "metadata": {},
     "output_type": "execute_result"
    }
   ],
   "source": [
    "df_submit = pd.DataFrame(columns = ['id',\"EAP\",\"HPL\",\"MWS\"])\n",
    "df_submit['id'] = test['id']\n",
    "df_submit['EAP'] = y_prob_output[:,0]\n",
    "df_submit['HPL'] = y_prob_output[:,1]\n",
    "df_submit['MWS'] = y_prob_output[:,2]\n",
    "df_submit\n"
   ]
  },
  {
   "cell_type": "code",
   "execution_count": 84,
   "metadata": {
    "collapsed": true
   },
   "outputs": [],
   "source": [
    "df_submit.to_csv('submission.csv', index=False)"
   ]
  },
  {
   "cell_type": "code",
   "execution_count": 85,
   "metadata": {},
   "outputs": [
    {
     "name": "stdout",
     "output_type": "stream",
     "text": [
      "Congratulation, project is done ! It took: 0:04:28.094623\n"
     ]
    }
   ],
   "source": [
    "end_time = datetime.now()\n",
    "\n",
    "print('Congratulation, project is done ! It took: ' + str(end_time - start_time))"
   ]
  }
 ],
 "metadata": {
  "kernelspec": {
   "display_name": "Python 3",
   "language": "python",
   "name": "python3"
  },
  "language_info": {
   "codemirror_mode": {
    "name": "ipython",
    "version": 3
   },
   "file_extension": ".py",
   "mimetype": "text/x-python",
   "name": "python",
   "nbconvert_exporter": "python",
   "pygments_lexer": "ipython3",
   "version": "3.6.1"
  }
 },
 "nbformat": 4,
 "nbformat_minor": 2
}
